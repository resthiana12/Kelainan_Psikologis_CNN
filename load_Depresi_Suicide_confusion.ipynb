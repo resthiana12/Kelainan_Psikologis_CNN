{
  "nbformat": 4,
  "nbformat_minor": 0,
  "metadata": {
    "colab": {
      "name": "load_Depresi_Suicide.ipynb",
      "provenance": [],
      "collapsed_sections": [],
      "mount_file_id": "1teiwysdYhBwIwzj1wcEnkTFAUnqVOQg2",
      "authorship_tag": "ABX9TyPatX4J7Zp80/2D2ZBOi+bl",
      "include_colab_link": true
    },
    "kernelspec": {
      "name": "python3",
      "display_name": "Python 3"
    },
    "language_info": {
      "name": "python"
    },
    "widgets": {
      "application/vnd.jupyter.widget-state+json": {
        "ef8c53a5ce0d40b2a3eaef8bb138c25b": {
          "model_module": "@jupyter-widgets/controls",
          "model_name": "HBoxModel",
          "model_module_version": "1.5.0",
          "state": {
            "_view_name": "HBoxView",
            "_dom_classes": [],
            "_model_name": "HBoxModel",
            "_view_module": "@jupyter-widgets/controls",
            "_model_module_version": "1.5.0",
            "_view_count": null,
            "_view_module_version": "1.5.0",
            "box_style": "",
            "layout": "IPY_MODEL_c44228c42e104616a28893090093820e",
            "_model_module": "@jupyter-widgets/controls",
            "children": [
              "IPY_MODEL_2b3074fa6f6f47c49e7895e920c3519c",
              "IPY_MODEL_088f6f3934a14c80bc847f5e23da3f3e",
              "IPY_MODEL_cecc2ae8066544cfab97890488d627eb"
            ]
          }
        },
        "c44228c42e104616a28893090093820e": {
          "model_module": "@jupyter-widgets/base",
          "model_name": "LayoutModel",
          "model_module_version": "1.2.0",
          "state": {
            "_view_name": "LayoutView",
            "grid_template_rows": null,
            "right": null,
            "justify_content": null,
            "_view_module": "@jupyter-widgets/base",
            "overflow": null,
            "_model_module_version": "1.2.0",
            "_view_count": null,
            "flex_flow": null,
            "width": null,
            "min_width": null,
            "border": null,
            "align_items": null,
            "bottom": null,
            "_model_module": "@jupyter-widgets/base",
            "top": null,
            "grid_column": null,
            "overflow_y": null,
            "overflow_x": null,
            "grid_auto_flow": null,
            "grid_area": null,
            "grid_template_columns": null,
            "flex": null,
            "_model_name": "LayoutModel",
            "justify_items": null,
            "grid_row": null,
            "max_height": null,
            "align_content": null,
            "visibility": null,
            "align_self": null,
            "height": null,
            "min_height": null,
            "padding": null,
            "grid_auto_rows": null,
            "grid_gap": null,
            "max_width": null,
            "order": null,
            "_view_module_version": "1.2.0",
            "grid_template_areas": null,
            "object_position": null,
            "object_fit": null,
            "grid_auto_columns": null,
            "margin": null,
            "display": null,
            "left": null
          }
        },
        "2b3074fa6f6f47c49e7895e920c3519c": {
          "model_module": "@jupyter-widgets/controls",
          "model_name": "HTMLModel",
          "model_module_version": "1.5.0",
          "state": {
            "_view_name": "HTMLView",
            "style": "IPY_MODEL_8b369fdd465646a997df8c9215a9047b",
            "_dom_classes": [],
            "description": "",
            "_model_name": "HTMLModel",
            "placeholder": "​",
            "_view_module": "@jupyter-widgets/controls",
            "_model_module_version": "1.5.0",
            "value": "Pandas Apply: 100%",
            "_view_count": null,
            "_view_module_version": "1.5.0",
            "description_tooltip": null,
            "_model_module": "@jupyter-widgets/controls",
            "layout": "IPY_MODEL_8682c25b435049e98bd3e313e91d98bb"
          }
        },
        "088f6f3934a14c80bc847f5e23da3f3e": {
          "model_module": "@jupyter-widgets/controls",
          "model_name": "FloatProgressModel",
          "model_module_version": "1.5.0",
          "state": {
            "_view_name": "ProgressView",
            "style": "IPY_MODEL_f7fa4311d0ff4345b02b4b02c5606ed8",
            "_dom_classes": [],
            "description": "",
            "_model_name": "FloatProgressModel",
            "bar_style": "success",
            "max": 1,
            "_view_module": "@jupyter-widgets/controls",
            "_model_module_version": "1.5.0",
            "value": 1,
            "_view_count": null,
            "_view_module_version": "1.5.0",
            "orientation": "horizontal",
            "min": 0,
            "description_tooltip": null,
            "_model_module": "@jupyter-widgets/controls",
            "layout": "IPY_MODEL_3a511d91e5834a79a157599d14ad5b64"
          }
        },
        "cecc2ae8066544cfab97890488d627eb": {
          "model_module": "@jupyter-widgets/controls",
          "model_name": "HTMLModel",
          "model_module_version": "1.5.0",
          "state": {
            "_view_name": "HTMLView",
            "style": "IPY_MODEL_5e18d4a816e247b7a8c1935be46d302f",
            "_dom_classes": [],
            "description": "",
            "_model_name": "HTMLModel",
            "placeholder": "​",
            "_view_module": "@jupyter-widgets/controls",
            "_model_module_version": "1.5.0",
            "value": " 1/1 [00:00&lt;00:00, 29.04it/s]",
            "_view_count": null,
            "_view_module_version": "1.5.0",
            "description_tooltip": null,
            "_model_module": "@jupyter-widgets/controls",
            "layout": "IPY_MODEL_07d2f2ea2c8b4ecfa9ab1f28bf7ad079"
          }
        },
        "8b369fdd465646a997df8c9215a9047b": {
          "model_module": "@jupyter-widgets/controls",
          "model_name": "DescriptionStyleModel",
          "model_module_version": "1.5.0",
          "state": {
            "_view_name": "StyleView",
            "_model_name": "DescriptionStyleModel",
            "description_width": "",
            "_view_module": "@jupyter-widgets/base",
            "_model_module_version": "1.5.0",
            "_view_count": null,
            "_view_module_version": "1.2.0",
            "_model_module": "@jupyter-widgets/controls"
          }
        },
        "8682c25b435049e98bd3e313e91d98bb": {
          "model_module": "@jupyter-widgets/base",
          "model_name": "LayoutModel",
          "model_module_version": "1.2.0",
          "state": {
            "_view_name": "LayoutView",
            "grid_template_rows": null,
            "right": null,
            "justify_content": null,
            "_view_module": "@jupyter-widgets/base",
            "overflow": null,
            "_model_module_version": "1.2.0",
            "_view_count": null,
            "flex_flow": null,
            "width": null,
            "min_width": null,
            "border": null,
            "align_items": null,
            "bottom": null,
            "_model_module": "@jupyter-widgets/base",
            "top": null,
            "grid_column": null,
            "overflow_y": null,
            "overflow_x": null,
            "grid_auto_flow": null,
            "grid_area": null,
            "grid_template_columns": null,
            "flex": null,
            "_model_name": "LayoutModel",
            "justify_items": null,
            "grid_row": null,
            "max_height": null,
            "align_content": null,
            "visibility": null,
            "align_self": null,
            "height": null,
            "min_height": null,
            "padding": null,
            "grid_auto_rows": null,
            "grid_gap": null,
            "max_width": null,
            "order": null,
            "_view_module_version": "1.2.0",
            "grid_template_areas": null,
            "object_position": null,
            "object_fit": null,
            "grid_auto_columns": null,
            "margin": null,
            "display": null,
            "left": null
          }
        },
        "f7fa4311d0ff4345b02b4b02c5606ed8": {
          "model_module": "@jupyter-widgets/controls",
          "model_name": "ProgressStyleModel",
          "model_module_version": "1.5.0",
          "state": {
            "_view_name": "StyleView",
            "_model_name": "ProgressStyleModel",
            "description_width": "",
            "_view_module": "@jupyter-widgets/base",
            "_model_module_version": "1.5.0",
            "_view_count": null,
            "_view_module_version": "1.2.0",
            "bar_color": null,
            "_model_module": "@jupyter-widgets/controls"
          }
        },
        "3a511d91e5834a79a157599d14ad5b64": {
          "model_module": "@jupyter-widgets/base",
          "model_name": "LayoutModel",
          "model_module_version": "1.2.0",
          "state": {
            "_view_name": "LayoutView",
            "grid_template_rows": null,
            "right": null,
            "justify_content": null,
            "_view_module": "@jupyter-widgets/base",
            "overflow": null,
            "_model_module_version": "1.2.0",
            "_view_count": null,
            "flex_flow": null,
            "width": null,
            "min_width": null,
            "border": null,
            "align_items": null,
            "bottom": null,
            "_model_module": "@jupyter-widgets/base",
            "top": null,
            "grid_column": null,
            "overflow_y": null,
            "overflow_x": null,
            "grid_auto_flow": null,
            "grid_area": null,
            "grid_template_columns": null,
            "flex": null,
            "_model_name": "LayoutModel",
            "justify_items": null,
            "grid_row": null,
            "max_height": null,
            "align_content": null,
            "visibility": null,
            "align_self": null,
            "height": null,
            "min_height": null,
            "padding": null,
            "grid_auto_rows": null,
            "grid_gap": null,
            "max_width": null,
            "order": null,
            "_view_module_version": "1.2.0",
            "grid_template_areas": null,
            "object_position": null,
            "object_fit": null,
            "grid_auto_columns": null,
            "margin": null,
            "display": null,
            "left": null
          }
        },
        "5e18d4a816e247b7a8c1935be46d302f": {
          "model_module": "@jupyter-widgets/controls",
          "model_name": "DescriptionStyleModel",
          "model_module_version": "1.5.0",
          "state": {
            "_view_name": "StyleView",
            "_model_name": "DescriptionStyleModel",
            "description_width": "",
            "_view_module": "@jupyter-widgets/base",
            "_model_module_version": "1.5.0",
            "_view_count": null,
            "_view_module_version": "1.2.0",
            "_model_module": "@jupyter-widgets/controls"
          }
        },
        "07d2f2ea2c8b4ecfa9ab1f28bf7ad079": {
          "model_module": "@jupyter-widgets/base",
          "model_name": "LayoutModel",
          "model_module_version": "1.2.0",
          "state": {
            "_view_name": "LayoutView",
            "grid_template_rows": null,
            "right": null,
            "justify_content": null,
            "_view_module": "@jupyter-widgets/base",
            "overflow": null,
            "_model_module_version": "1.2.0",
            "_view_count": null,
            "flex_flow": null,
            "width": null,
            "min_width": null,
            "border": null,
            "align_items": null,
            "bottom": null,
            "_model_module": "@jupyter-widgets/base",
            "top": null,
            "grid_column": null,
            "overflow_y": null,
            "overflow_x": null,
            "grid_auto_flow": null,
            "grid_area": null,
            "grid_template_columns": null,
            "flex": null,
            "_model_name": "LayoutModel",
            "justify_items": null,
            "grid_row": null,
            "max_height": null,
            "align_content": null,
            "visibility": null,
            "align_self": null,
            "height": null,
            "min_height": null,
            "padding": null,
            "grid_auto_rows": null,
            "grid_gap": null,
            "max_width": null,
            "order": null,
            "_view_module_version": "1.2.0",
            "grid_template_areas": null,
            "object_position": null,
            "object_fit": null,
            "grid_auto_columns": null,
            "margin": null,
            "display": null,
            "left": null
          }
        }
      }
    }
  },
  "cells": [
    {
      "cell_type": "markdown",
      "metadata": {
        "id": "view-in-github",
        "colab_type": "text"
      },
      "source": [
        "<a href=\"https://colab.research.google.com/github/resthiana12/Kelainan_Psikologis_CNN/blob/main/load_Depresi_Suicide_confusion.ipynb\" target=\"_parent\"><img src=\"https://colab.research.google.com/assets/colab-badge.svg\" alt=\"Open In Colab\"/></a>"
      ]
    },
    {
      "cell_type": "markdown",
      "metadata": {
        "id": "6A_QnXzyGKfb"
      },
      "source": [
        "**#Install Package yang Dibutuhkan**"
      ]
    },
    {
      "cell_type": "code",
      "metadata": {
        "id": "jE7-3YxZFucC",
        "colab": {
          "base_uri": "https://localhost:8080/"
        },
        "outputId": "3f6cdefb-1edf-4500-9df7-e7830a8dd10e"
      },
      "source": [
        "pip install emot"
      ],
      "execution_count": 1,
      "outputs": [
        {
          "output_type": "stream",
          "name": "stdout",
          "text": [
            "Collecting emot\n",
            "  Downloading emot-3.1-py3-none-any.whl (61 kB)\n",
            "\u001b[?25l\r\u001b[K     |█████▎                          | 10 kB 25.2 MB/s eta 0:00:01\r\u001b[K     |██████████▋                     | 20 kB 29.9 MB/s eta 0:00:01\r\u001b[K     |████████████████                | 30 kB 17.7 MB/s eta 0:00:01\r\u001b[K     |█████████████████████▎          | 40 kB 15.2 MB/s eta 0:00:01\r\u001b[K     |██████████████████████████▋     | 51 kB 5.4 MB/s eta 0:00:01\r\u001b[K     |████████████████████████████████| 61 kB 5.8 MB/s eta 0:00:01\r\u001b[K     |████████████████████████████████| 61 kB 19 kB/s \n",
            "\u001b[?25hInstalling collected packages: emot\n",
            "Successfully installed emot-3.1\n"
          ]
        }
      ]
    },
    {
      "cell_type": "code",
      "metadata": {
        "id": "jc7IL70qGcn5",
        "colab": {
          "base_uri": "https://localhost:8080/"
        },
        "outputId": "1b8c42cf-7fa8-4024-e11f-1bbf1f4540c5"
      },
      "source": [
        "pip install emoji"
      ],
      "execution_count": 2,
      "outputs": [
        {
          "output_type": "stream",
          "name": "stdout",
          "text": [
            "Collecting emoji\n",
            "  Downloading emoji-1.4.2.tar.gz (184 kB)\n",
            "\u001b[?25l\r\u001b[K     |█▊                              | 10 kB 24.6 MB/s eta 0:00:01\r\u001b[K     |███▌                            | 20 kB 20.9 MB/s eta 0:00:01\r\u001b[K     |█████▎                          | 30 kB 12.2 MB/s eta 0:00:01\r\u001b[K     |███████                         | 40 kB 10.1 MB/s eta 0:00:01\r\u001b[K     |████████▉                       | 51 kB 5.3 MB/s eta 0:00:01\r\u001b[K     |██████████▋                     | 61 kB 5.8 MB/s eta 0:00:01\r\u001b[K     |████████████▍                   | 71 kB 5.4 MB/s eta 0:00:01\r\u001b[K     |██████████████▏                 | 81 kB 6.1 MB/s eta 0:00:01\r\u001b[K     |████████████████                | 92 kB 5.8 MB/s eta 0:00:01\r\u001b[K     |█████████████████▊              | 102 kB 5.1 MB/s eta 0:00:01\r\u001b[K     |███████████████████▌            | 112 kB 5.1 MB/s eta 0:00:01\r\u001b[K     |█████████████████████▎          | 122 kB 5.1 MB/s eta 0:00:01\r\u001b[K     |███████████████████████         | 133 kB 5.1 MB/s eta 0:00:01\r\u001b[K     |████████████████████████▉       | 143 kB 5.1 MB/s eta 0:00:01\r\u001b[K     |██████████████████████████▋     | 153 kB 5.1 MB/s eta 0:00:01\r\u001b[K     |████████████████████████████▍   | 163 kB 5.1 MB/s eta 0:00:01\r\u001b[K     |██████████████████████████████▏ | 174 kB 5.1 MB/s eta 0:00:01\r\u001b[K     |███████████████████████████████▉| 184 kB 5.1 MB/s eta 0:00:01\r\u001b[K     |████████████████████████████████| 184 kB 5.1 MB/s \n",
            "\u001b[?25hBuilding wheels for collected packages: emoji\n",
            "  Building wheel for emoji (setup.py) ... \u001b[?25l\u001b[?25hdone\n",
            "  Created wheel for emoji: filename=emoji-1.4.2-py3-none-any.whl size=186469 sha256=6f113416a53434e885fce5fbd8f8ac8b687f77e8b874c02079850281d4bbbc79\n",
            "  Stored in directory: /root/.cache/pip/wheels/e4/61/e7/2fc1ac8f306848fc66c6c013ab511f0a39ef4b1825b11363b2\n",
            "Successfully built emoji\n",
            "Installing collected packages: emoji\n",
            "Successfully installed emoji-1.4.2\n"
          ]
        }
      ]
    },
    {
      "cell_type": "code",
      "metadata": {
        "id": "QwaReWdEGjFP",
        "colab": {
          "base_uri": "https://localhost:8080/"
        },
        "outputId": "271e7068-bf04-45e2-a87d-fc56ef764e4a"
      },
      "source": [
        "pip install sastrawi"
      ],
      "execution_count": 3,
      "outputs": [
        {
          "output_type": "stream",
          "name": "stdout",
          "text": [
            "Collecting sastrawi\n",
            "  Downloading Sastrawi-1.0.1-py2.py3-none-any.whl (209 kB)\n",
            "\u001b[?25l\r\u001b[K     |█▋                              | 10 kB 24.8 MB/s eta 0:00:01\r\u001b[K     |███▏                            | 20 kB 12.0 MB/s eta 0:00:01\r\u001b[K     |████▊                           | 30 kB 10.0 MB/s eta 0:00:01\r\u001b[K     |██████▎                         | 40 kB 8.7 MB/s eta 0:00:01\r\u001b[K     |███████▉                        | 51 kB 5.1 MB/s eta 0:00:01\r\u001b[K     |█████████▍                      | 61 kB 5.2 MB/s eta 0:00:01\r\u001b[K     |███████████                     | 71 kB 5.2 MB/s eta 0:00:01\r\u001b[K     |████████████▌                   | 81 kB 5.9 MB/s eta 0:00:01\r\u001b[K     |██████████████                  | 92 kB 4.6 MB/s eta 0:00:01\r\u001b[K     |███████████████▋                | 102 kB 5.0 MB/s eta 0:00:01\r\u001b[K     |█████████████████▏              | 112 kB 5.0 MB/s eta 0:00:01\r\u001b[K     |██████████████████▊             | 122 kB 5.0 MB/s eta 0:00:01\r\u001b[K     |████████████████████▎           | 133 kB 5.0 MB/s eta 0:00:01\r\u001b[K     |█████████████████████▉          | 143 kB 5.0 MB/s eta 0:00:01\r\u001b[K     |███████████████████████▍        | 153 kB 5.0 MB/s eta 0:00:01\r\u001b[K     |█████████████████████████       | 163 kB 5.0 MB/s eta 0:00:01\r\u001b[K     |██████████████████████████▋     | 174 kB 5.0 MB/s eta 0:00:01\r\u001b[K     |████████████████████████████▏   | 184 kB 5.0 MB/s eta 0:00:01\r\u001b[K     |█████████████████████████████▊  | 194 kB 5.0 MB/s eta 0:00:01\r\u001b[K     |███████████████████████████████▎| 204 kB 5.0 MB/s eta 0:00:01\r\u001b[K     |████████████████████████████████| 209 kB 5.0 MB/s \n",
            "\u001b[?25hInstalling collected packages: sastrawi\n",
            "Successfully installed sastrawi-1.0.1\n"
          ]
        }
      ]
    },
    {
      "cell_type": "code",
      "metadata": {
        "id": "DctZrsGDGnnq",
        "colab": {
          "base_uri": "https://localhost:8080/",
          "height": 1000
        },
        "outputId": "5af02abc-adc3-46ca-cdf8-3f1fa3ae8d61"
      },
      "source": [
        "pip install swifter"
      ],
      "execution_count": 4,
      "outputs": [
        {
          "output_type": "stream",
          "name": "stdout",
          "text": [
            "Collecting swifter\n",
            "  Downloading swifter-1.0.9-py3-none-any.whl (14 kB)\n",
            "Requirement already satisfied: tqdm>=4.33.0 in /usr/local/lib/python3.7/dist-packages (from swifter) (4.62.0)\n",
            "Requirement already satisfied: dask[dataframe]>=2.10.0 in /usr/local/lib/python3.7/dist-packages (from swifter) (2.12.0)\n",
            "Requirement already satisfied: pandas>=1.0.0 in /usr/local/lib/python3.7/dist-packages (from swifter) (1.1.5)\n",
            "Requirement already satisfied: cloudpickle>=0.2.2 in /usr/local/lib/python3.7/dist-packages (from swifter) (1.3.0)\n",
            "Requirement already satisfied: bleach>=3.1.1 in /usr/local/lib/python3.7/dist-packages (from swifter) (4.0.0)\n",
            "Requirement already satisfied: parso>0.4.0 in /usr/local/lib/python3.7/dist-packages (from swifter) (0.8.2)\n",
            "Requirement already satisfied: ipywidgets>=7.0.0 in /usr/local/lib/python3.7/dist-packages (from swifter) (7.6.3)\n",
            "Collecting psutil>=5.6.6\n",
            "  Downloading psutil-5.8.0-cp37-cp37m-manylinux2010_x86_64.whl (296 kB)\n",
            "\u001b[K     |████████████████████████████████| 296 kB 6.0 MB/s \n",
            "\u001b[?25hRequirement already satisfied: six>=1.9.0 in /usr/local/lib/python3.7/dist-packages (from bleach>=3.1.1->swifter) (1.15.0)\n",
            "Requirement already satisfied: packaging in /usr/local/lib/python3.7/dist-packages (from bleach>=3.1.1->swifter) (21.0)\n",
            "Requirement already satisfied: webencodings in /usr/local/lib/python3.7/dist-packages (from bleach>=3.1.1->swifter) (0.5.1)\n",
            "Requirement already satisfied: toolz>=0.7.3 in /usr/local/lib/python3.7/dist-packages (from dask[dataframe]>=2.10.0->swifter) (0.11.1)\n",
            "Collecting partd>=0.3.10\n",
            "  Downloading partd-1.2.0-py3-none-any.whl (19 kB)\n",
            "Requirement already satisfied: numpy>=1.13.0 in /usr/local/lib/python3.7/dist-packages (from dask[dataframe]>=2.10.0->swifter) (1.19.5)\n",
            "Collecting fsspec>=0.6.0\n",
            "  Downloading fsspec-2021.8.1-py3-none-any.whl (119 kB)\n",
            "\u001b[K     |████████████████████████████████| 119 kB 51.5 MB/s \n",
            "\u001b[?25hRequirement already satisfied: traitlets>=4.3.1 in /usr/local/lib/python3.7/dist-packages (from ipywidgets>=7.0.0->swifter) (5.0.5)\n",
            "Requirement already satisfied: ipykernel>=4.5.1 in /usr/local/lib/python3.7/dist-packages (from ipywidgets>=7.0.0->swifter) (4.10.1)\n",
            "Requirement already satisfied: widgetsnbextension~=3.5.0 in /usr/local/lib/python3.7/dist-packages (from ipywidgets>=7.0.0->swifter) (3.5.1)\n",
            "Requirement already satisfied: ipython>=4.0.0 in /usr/local/lib/python3.7/dist-packages (from ipywidgets>=7.0.0->swifter) (5.5.0)\n",
            "Requirement already satisfied: jupyterlab-widgets>=1.0.0 in /usr/local/lib/python3.7/dist-packages (from ipywidgets>=7.0.0->swifter) (1.0.0)\n",
            "Requirement already satisfied: nbformat>=4.2.0 in /usr/local/lib/python3.7/dist-packages (from ipywidgets>=7.0.0->swifter) (5.1.3)\n",
            "Requirement already satisfied: jupyter-client in /usr/local/lib/python3.7/dist-packages (from ipykernel>=4.5.1->ipywidgets>=7.0.0->swifter) (5.3.5)\n",
            "Requirement already satisfied: tornado>=4.0 in /usr/local/lib/python3.7/dist-packages (from ipykernel>=4.5.1->ipywidgets>=7.0.0->swifter) (5.1.1)\n",
            "Requirement already satisfied: simplegeneric>0.8 in /usr/local/lib/python3.7/dist-packages (from ipython>=4.0.0->ipywidgets>=7.0.0->swifter) (0.8.1)\n",
            "Requirement already satisfied: setuptools>=18.5 in /usr/local/lib/python3.7/dist-packages (from ipython>=4.0.0->ipywidgets>=7.0.0->swifter) (57.4.0)\n",
            "Requirement already satisfied: pickleshare in /usr/local/lib/python3.7/dist-packages (from ipython>=4.0.0->ipywidgets>=7.0.0->swifter) (0.7.5)\n",
            "Requirement already satisfied: pygments in /usr/local/lib/python3.7/dist-packages (from ipython>=4.0.0->ipywidgets>=7.0.0->swifter) (2.6.1)\n",
            "Requirement already satisfied: decorator in /usr/local/lib/python3.7/dist-packages (from ipython>=4.0.0->ipywidgets>=7.0.0->swifter) (4.4.2)\n",
            "Requirement already satisfied: pexpect in /usr/local/lib/python3.7/dist-packages (from ipython>=4.0.0->ipywidgets>=7.0.0->swifter) (4.8.0)\n",
            "Requirement already satisfied: prompt-toolkit<2.0.0,>=1.0.4 in /usr/local/lib/python3.7/dist-packages (from ipython>=4.0.0->ipywidgets>=7.0.0->swifter) (1.0.18)\n",
            "Requirement already satisfied: jupyter-core in /usr/local/lib/python3.7/dist-packages (from nbformat>=4.2.0->ipywidgets>=7.0.0->swifter) (4.7.1)\n",
            "Requirement already satisfied: ipython-genutils in /usr/local/lib/python3.7/dist-packages (from nbformat>=4.2.0->ipywidgets>=7.0.0->swifter) (0.2.0)\n",
            "Requirement already satisfied: jsonschema!=2.5.0,>=2.4 in /usr/local/lib/python3.7/dist-packages (from nbformat>=4.2.0->ipywidgets>=7.0.0->swifter) (2.6.0)\n",
            "Requirement already satisfied: pytz>=2017.2 in /usr/local/lib/python3.7/dist-packages (from pandas>=1.0.0->swifter) (2018.9)\n",
            "Requirement already satisfied: python-dateutil>=2.7.3 in /usr/local/lib/python3.7/dist-packages (from pandas>=1.0.0->swifter) (2.8.2)\n",
            "Collecting locket\n",
            "  Downloading locket-0.2.1-py2.py3-none-any.whl (4.1 kB)\n",
            "Requirement already satisfied: wcwidth in /usr/local/lib/python3.7/dist-packages (from prompt-toolkit<2.0.0,>=1.0.4->ipython>=4.0.0->ipywidgets>=7.0.0->swifter) (0.2.5)\n",
            "Requirement already satisfied: notebook>=4.4.1 in /usr/local/lib/python3.7/dist-packages (from widgetsnbextension~=3.5.0->ipywidgets>=7.0.0->swifter) (5.3.1)\n",
            "Requirement already satisfied: Send2Trash in /usr/local/lib/python3.7/dist-packages (from notebook>=4.4.1->widgetsnbextension~=3.5.0->ipywidgets>=7.0.0->swifter) (1.8.0)\n",
            "Requirement already satisfied: jinja2 in /usr/local/lib/python3.7/dist-packages (from notebook>=4.4.1->widgetsnbextension~=3.5.0->ipywidgets>=7.0.0->swifter) (2.11.3)\n",
            "Requirement already satisfied: nbconvert in /usr/local/lib/python3.7/dist-packages (from notebook>=4.4.1->widgetsnbextension~=3.5.0->ipywidgets>=7.0.0->swifter) (5.6.1)\n",
            "Requirement already satisfied: terminado>=0.8.1 in /usr/local/lib/python3.7/dist-packages (from notebook>=4.4.1->widgetsnbextension~=3.5.0->ipywidgets>=7.0.0->swifter) (0.11.0)\n",
            "Requirement already satisfied: pyzmq>=13 in /usr/local/lib/python3.7/dist-packages (from jupyter-client->ipykernel>=4.5.1->ipywidgets>=7.0.0->swifter) (22.2.1)\n",
            "Requirement already satisfied: ptyprocess in /usr/local/lib/python3.7/dist-packages (from terminado>=0.8.1->notebook>=4.4.1->widgetsnbextension~=3.5.0->ipywidgets>=7.0.0->swifter) (0.7.0)\n",
            "Requirement already satisfied: MarkupSafe>=0.23 in /usr/local/lib/python3.7/dist-packages (from jinja2->notebook>=4.4.1->widgetsnbextension~=3.5.0->ipywidgets>=7.0.0->swifter) (2.0.1)\n",
            "Requirement already satisfied: testpath in /usr/local/lib/python3.7/dist-packages (from nbconvert->notebook>=4.4.1->widgetsnbextension~=3.5.0->ipywidgets>=7.0.0->swifter) (0.5.0)\n",
            "Requirement already satisfied: pandocfilters>=1.4.1 in /usr/local/lib/python3.7/dist-packages (from nbconvert->notebook>=4.4.1->widgetsnbextension~=3.5.0->ipywidgets>=7.0.0->swifter) (1.4.3)\n",
            "Requirement already satisfied: defusedxml in /usr/local/lib/python3.7/dist-packages (from nbconvert->notebook>=4.4.1->widgetsnbextension~=3.5.0->ipywidgets>=7.0.0->swifter) (0.7.1)\n",
            "Requirement already satisfied: entrypoints>=0.2.2 in /usr/local/lib/python3.7/dist-packages (from nbconvert->notebook>=4.4.1->widgetsnbextension~=3.5.0->ipywidgets>=7.0.0->swifter) (0.3)\n",
            "Requirement already satisfied: mistune<2,>=0.8.1 in /usr/local/lib/python3.7/dist-packages (from nbconvert->notebook>=4.4.1->widgetsnbextension~=3.5.0->ipywidgets>=7.0.0->swifter) (0.8.4)\n",
            "Requirement already satisfied: pyparsing>=2.0.2 in /usr/local/lib/python3.7/dist-packages (from packaging->bleach>=3.1.1->swifter) (2.4.7)\n",
            "Installing collected packages: locket, partd, fsspec, psutil, swifter\n",
            "  Attempting uninstall: psutil\n",
            "    Found existing installation: psutil 5.4.8\n",
            "    Uninstalling psutil-5.4.8:\n",
            "      Successfully uninstalled psutil-5.4.8\n",
            "Successfully installed fsspec-2021.8.1 locket-0.2.1 partd-1.2.0 psutil-5.8.0 swifter-1.0.9\n"
          ]
        },
        {
          "output_type": "display_data",
          "data": {
            "application/vnd.colab-display-data+json": {
              "pip_warning": {
                "packages": [
                  "psutil"
                ]
              }
            }
          },
          "metadata": {}
        }
      ]
    },
    {
      "cell_type": "markdown",
      "metadata": {
        "id": "gHNR4IAlHFAf"
      },
      "source": [
        "**#Load Library**"
      ]
    },
    {
      "cell_type": "code",
      "metadata": {
        "colab": {
          "base_uri": "https://localhost:8080/"
        },
        "id": "Tby6RCM4lZoZ",
        "outputId": "046ae544-8ba7-4fbb-9030-cfa1a1cdb62e"
      },
      "source": [
        "#load library\n",
        "import nltk                             \n",
        "import matplotlib.pyplot as plt           \n",
        "import random  \n",
        "nltk.download('stopwords')\n",
        "nltk.download('punkt')\n",
        "nltk.download('words')\n",
        "import numpy as np\n",
        "import pandas as pd\n",
        "import re                                  \n",
        "import string                             \n",
        "from nltk.corpus import stopwords \n",
        "from nltk.stem import PorterStemmer\n",
        "from nltk.tokenize import TweetTokenizer \n",
        "from nltk import pos_tag, word_tokenize\n",
        "from nltk.tokenize import word_tokenize\n",
        "from nltk.corpus import words\n",
        "import emoji\n",
        "#from emot.emo_unicode import UNICODE_EMO, EMOTICONS\n",
        "from Sastrawi.Stemmer.StemmerFactory import StemmerFactory\n",
        "import swifter\n",
        "from wordcloud import WordCloud "
      ],
      "execution_count": 5,
      "outputs": [
        {
          "output_type": "stream",
          "name": "stdout",
          "text": [
            "[nltk_data] Downloading package stopwords to /root/nltk_data...\n",
            "[nltk_data]   Unzipping corpora/stopwords.zip.\n",
            "[nltk_data] Downloading package punkt to /root/nltk_data...\n",
            "[nltk_data]   Unzipping tokenizers/punkt.zip.\n",
            "[nltk_data] Downloading package words to /root/nltk_data...\n",
            "[nltk_data]   Unzipping corpora/words.zip.\n"
          ]
        }
      ]
    },
    {
      "cell_type": "markdown",
      "metadata": {
        "id": "KCFWa0RfHL4d"
      },
      "source": [
        "**Preprocessing**"
      ]
    },
    {
      "cell_type": "code",
      "metadata": {
        "id": "6cO4NsaRHPUF"
      },
      "source": [
        "stop = pd.read_csv(\"drive/MyDrive/stopwords.txt\", names= [\"stopwords\"], header = None)\n",
        "stop['stopwords']\n",
        "# Defining my NLTK stop words and my user-defined stop words\n",
        "stop_words = list(stopwords.words('indonesian'))\n",
        "# ---------------------------- manualy add stopword  ------------------------------------\n",
        "# append additional stopword\n",
        "user_stopwords = ['yg', 'dg', 'rt', 'dgn', 'ny', 'd', 'klo', \n",
        "                       'kalo', 'amp', 'biar', 'bikin', 'bilang', \n",
        "                       'gak', 'ga', 'krn', 'nya', 'nih', 'sih', 'na',\n",
        "                       'si', 'tau', 'tdk', 'tuh', 'utk', 'ya', 'ber',\n",
        "                       'jd', 'jgn', 'sdh', 'aja', 'n', 't', 's','lhaa',\n",
        "                       'qrt', 'd', 'ayyy', 'eptember', 'tu', 'kat', 'd',\n",
        "                        'bdhshshhs', 'denngan','ba', 'ah', 'tuu', 'kaann', \n",
        "                       'nyg', 'hehe', 'pen', 'u', 'nan', 'loh', 'rt', 'je',\n",
        "                       '&amp', 'yah', 'x', 'xf', 'xe', 'first', 'second',\n",
        "                        'the', 'to', 'yaa', 'dirut', 'la', 'pon']\n",
        "alphabets = list(string.ascii_lowercase)\n",
        "stop_words_fix = stop_words + alphabets + stop['stopwords'].to_list()\n",
        "\n",
        "# Function to remove punctuations, links, emojis, and stop words\n",
        "def preprocessTweets(tweet):\n",
        "    tweet = tweet.lower()  #has to be in place\n",
        "    #Remove 'b\n",
        "    tweet = re.sub(r\"b'\", '', tweet)\n",
        "    # Remove urls dan trash\n",
        "    tweet = re.sub(r\"http\\S+|\\\\x\\S+|www\\S+|https\\S+|dot|com\", '', tweet, flags=re.MULTILINE)\n",
        "    # Remove user @ references and '#' from tweet\n",
        "    tweet = re.sub(r'\\@\\w+|\\#|\\d+', '', tweet)\n",
        "    # Remove stopwords\n",
        "    tweet_tokens = word_tokenize(tweet)  # convert string to tokens\n",
        "    filtered_words = [w for w in tweet_tokens if w not in stop_words_fix]\n",
        "    filtered_words = [w for w in tweet_tokens if w not in user_stopwords]\n",
        "\n",
        "    # Remove punctuations\n",
        "    unpunctuated_words = [char for char in filtered_words if char not in string.punctuation]\n",
        "    unpunctuated_words = ' '.join(unpunctuated_words)\n",
        "\n",
        "    return \"\".join(unpunctuated_words)  # join words with a space in between them\n",
        "\n",
        "def tokenkan(text):    \n",
        "  tokens = nltk.tokenize.word_tokenize(text)\n",
        "  return tokens\n",
        "\n",
        "normalizad_word = pd.read_excel(\"drive/MyDrive/normalisasi.xlsx\")\n",
        "normalizad_word_dict = {}\n",
        "for index, row in normalizad_word.iterrows():\n",
        "    if row[0] not in normalizad_word_dict:\n",
        "        normalizad_word_dict[row[0]] = row[1] \n",
        "\n",
        "def normalized_term(document):\n",
        "    return [normalizad_word_dict[term] if term in normalizad_word_dict else term for term in document]\n",
        "\n",
        "def stopwords_removal(words):\n",
        "    return [word for word in words if word not in stop_words]\n",
        "\n",
        "def remove_punct(text):\n",
        "  text_nopunct = ''\n",
        "  text_nopunct = re.sub('['+string.punctuation+']', '', text)\n",
        "  return text_nopunct"
      ],
      "execution_count": 6,
      "outputs": []
    },
    {
      "cell_type": "markdown",
      "metadata": {
        "id": "KqbBWRUErxjO"
      },
      "source": [
        "#Import Libraries"
      ]
    },
    {
      "cell_type": "code",
      "metadata": {
        "id": "a2JRA9A0rwui"
      },
      "source": [
        "import numpy as np\n",
        "import pandas as pd\n",
        "from gensim.models.word2vec import Word2Vec\n",
        "from sklearn.model_selection import train_test_split\n",
        "from tensorflow.keras.utils import to_categorical\n",
        "from keras.layers import Dense, Dropout, Conv1D, MaxPool1D, GlobalMaxPool1D, Embedding, Activation\n",
        "from keras.preprocessing.text import Tokenizer\n",
        "from keras.preprocessing.sequence import pad_sequences\n",
        "from keras.models import Sequential\n",
        "import re\n",
        "import nltk\n",
        "from nltk.corpus import stopwords\n",
        "from nltk.stem.snowball import PorterStemmer\n",
        "from sklearn import preprocessing"
      ],
      "execution_count": 7,
      "outputs": []
    },
    {
      "cell_type": "code",
      "metadata": {
        "id": "4EeZ-wfqEZlW",
        "colab": {
          "base_uri": "https://localhost:8080/",
          "height": 202
        },
        "outputId": "96bad64b-ff8d-4433-dcfd-f096a938a4df"
      },
      "source": [
        "df = pd.read_csv('drive/MyDrive/data_psyco/Text_Preprocessing_Depres_Suicide_Fix.csv').astype(str)\n",
        "#df.drop(['Unnamed: 0', 'Postingan', 'Postingan_Tokenkan', 'Postingan_Normalized'], axis=1, inplace=True)\n",
        "df.columns = ['Category', 'Message']\n",
        "df['Message'] = df['Message'].apply(remove_punct)\n",
        "df.head()"
      ],
      "execution_count": 8,
      "outputs": [
        {
          "output_type": "execute_result",
          "data": {
            "text/html": [
              "<div>\n",
              "<style scoped>\n",
              "    .dataframe tbody tr th:only-of-type {\n",
              "        vertical-align: middle;\n",
              "    }\n",
              "\n",
              "    .dataframe tbody tr th {\n",
              "        vertical-align: top;\n",
              "    }\n",
              "\n",
              "    .dataframe thead th {\n",
              "        text-align: right;\n",
              "    }\n",
              "</style>\n",
              "<table border=\"1\" class=\"dataframe\">\n",
              "  <thead>\n",
              "    <tr style=\"text-align: right;\">\n",
              "      <th></th>\n",
              "      <th>Category</th>\n",
              "      <th>Message</th>\n",
              "    </tr>\n",
              "  </thead>\n",
              "  <tbody>\n",
              "    <tr>\n",
              "      <th>0</th>\n",
              "      <td>1</td>\n",
              "      <td>persetan</td>\n",
              "    </tr>\n",
              "    <tr>\n",
              "      <th>1</th>\n",
              "      <td>1</td>\n",
              "      <td>maaf</td>\n",
              "    </tr>\n",
              "    <tr>\n",
              "      <th>2</th>\n",
              "      <td>1</td>\n",
              "      <td>juang keras hidup hapus tweet selesai sukses t...</td>\n",
              "    </tr>\n",
              "    <tr>\n",
              "      <th>3</th>\n",
              "      <td>1</td>\n",
              "      <td>pria sehat kondisi mental hidup pikir laku lel...</td>\n",
              "    </tr>\n",
              "    <tr>\n",
              "      <th>4</th>\n",
              "      <td>1</td>\n",
              "      <td>pergi orang coba komunikasi orang pegang pikir...</td>\n",
              "    </tr>\n",
              "  </tbody>\n",
              "</table>\n",
              "</div>"
            ],
            "text/plain": [
              "  Category                                            Message\n",
              "0        1                                           persetan\n",
              "1        1                                               maaf\n",
              "2        1  juang keras hidup hapus tweet selesai sukses t...\n",
              "3        1  pria sehat kondisi mental hidup pikir laku lel...\n",
              "4        1  pergi orang coba komunikasi orang pegang pikir..."
            ]
          },
          "metadata": {},
          "execution_count": 8
        }
      ]
    },
    {
      "cell_type": "code",
      "metadata": {
        "colab": {
          "base_uri": "https://localhost:8080/",
          "height": 315
        },
        "id": "ISu6vL3IuAhA",
        "outputId": "504b29f6-fd7e-4c90-b8b4-8a21f13dec70"
      },
      "source": [
        "#check the distribution of lebels\n",
        "labels = df['Category']\n",
        "labels_count = labels.value_counts()\n",
        "labels_count.plot(kind=\"bar\")\n",
        "print(labels.value_counts())"
      ],
      "execution_count": 9,
      "outputs": [
        {
          "output_type": "stream",
          "name": "stdout",
          "text": [
            "0    839\n",
            "1    837\n",
            "Name: Category, dtype: int64\n"
          ]
        },
        {
          "output_type": "display_data",
          "data": {
            "image/png": "[encoded data removed]",
            "text/plain": [
              "<Figure size 432x288 with 1 Axes>"
            ]
          },
          "metadata": {
            "needs_background": "light"
          }
        }
      ]
    },
    {
      "cell_type": "code",
      "metadata": {
        "colab": {
          "base_uri": "https://localhost:8080/"
        },
        "id": "1y7TKJFdrhiQ",
        "outputId": "3ec1fd52-2ab5-409f-c4cd-df33d9a8a1ea"
      },
      "source": [
        "mes = []\n",
        "for i in df['Message']:\n",
        "    mes.append(i.split())\n",
        "print(mes[:2])"
      ],
      "execution_count": 10,
      "outputs": [
        {
          "output_type": "stream",
          "name": "stdout",
          "text": [
            "[['persetan'], ['maaf']]\n"
          ]
        }
      ]
    },
    {
      "cell_type": "code",
      "metadata": {
        "colab": {
          "base_uri": "https://localhost:8080/"
        },
        "id": "_f6L44Cxrogw",
        "outputId": "2f63623a-4263-47b0-991e-3339c690c75a"
      },
      "source": [
        "word2vec_model = Word2Vec(mes, size=500, window=3, min_count=1, workers=15)\n",
        "print(word2vec_model)"
      ],
      "execution_count": 11,
      "outputs": [
        {
          "output_type": "stream",
          "name": "stdout",
          "text": [
            "Word2Vec(vocab=4205, size=500, alpha=0.025)\n"
          ]
        }
      ]
    },
    {
      "cell_type": "code",
      "metadata": {
        "colab": {
          "base_uri": "https://localhost:8080/"
        },
        "id": "kqOfRnIqsBkV",
        "outputId": "14225064-3395-4ed4-f0d5-4bf1e11e1a57"
      },
      "source": [
        "token = Tokenizer(4205)\n",
        "token.fit_on_texts(df['Message'])\n",
        "text = token.texts_to_sequences(df['Message'])\n",
        "text = pad_sequences(text, 75)\n",
        "print(text[:2])"
      ],
      "execution_count": 12,
      "outputs": [
        {
          "output_type": "stream",
          "name": "stdout",
          "text": [
            "[[  0   0   0   0   0   0   0   0   0   0   0   0   0   0   0   0   0   0\n",
            "    0   0   0   0   0   0   0   0   0   0   0   0   0   0   0   0   0   0\n",
            "    0   0   0   0   0   0   0   0   0   0   0   0   0   0   0   0   0   0\n",
            "    0   0   0   0   0   0   0   0   0   0   0   0   0   0   0   0   0   0\n",
            "    0   0 445]\n",
            " [  0   0   0   0   0   0   0   0   0   0   0   0   0   0   0   0   0   0\n",
            "    0   0   0   0   0   0   0   0   0   0   0   0   0   0   0   0   0   0\n",
            "    0   0   0   0   0   0   0   0   0   0   0   0   0   0   0   0   0   0\n",
            "    0   0   0   0   0   0   0   0   0   0   0   0   0   0   0   0   0   0\n",
            "    0   0 102]]\n"
          ]
        }
      ]
    },
    {
      "cell_type": "code",
      "metadata": {
        "colab": {
          "base_uri": "https://localhost:8080/"
        },
        "id": "-hAACB-esQxi",
        "outputId": "6137469f-edfd-4099-98f7-8acd60d7fcd4"
      },
      "source": [
        "le = preprocessing.LabelEncoder()\n",
        "y = le.fit_transform(df['Category'])\n",
        "y = to_categorical(y)\n",
        "y[:2]"
      ],
      "execution_count": 13,
      "outputs": [
        {
          "output_type": "execute_result",
          "data": {
            "text/plain": [
              "array([[0., 1.],\n",
              "       [0., 1.]], dtype=float32)"
            ]
          },
          "metadata": {},
          "execution_count": 13
        }
      ]
    },
    {
      "cell_type": "code",
      "metadata": {
        "id": "2sDBJsoKstc5"
      },
      "source": [
        "x_train, x_test, y_train, y_test = train_test_split(np.array(text), y, test_size=0.2, stratify=y)"
      ],
      "execution_count": 14,
      "outputs": []
    },
    {
      "cell_type": "code",
      "metadata": {
        "id": "61YcjstLsy6s"
      },
      "source": [
        "def creat_model():\n",
        "  keras_model = Sequential()\n",
        "  keras_model.add(word2vec_model.wv.get_keras_embedding(True))\n",
        "  keras_model.add(Dropout(0.2))\n",
        "  keras_model.add(Conv1D(50, 3, activation='relu', padding='same', strides=1))\n",
        "  keras_model.add(Conv1D(50, 3, activation='relu', padding='same', strides=1))\n",
        "  keras_model.add(MaxPool1D())\n",
        "  keras_model.add(Dropout(0.2))\n",
        "  keras_model.add(Conv1D(100, 3, activation='relu', padding='same', strides=1))\n",
        "  keras_model.add(Conv1D(100, 3, activation='relu', padding='same', strides=1))\n",
        "  keras_model.add(MaxPool1D())\n",
        "  keras_model.add(Dropout(0.2))\n",
        "  keras_model.add(Conv1D(200, 3, activation='relu', padding='same', strides=1))\n",
        "  keras_model.add(Conv1D(200, 3, activation='relu', padding='same', strides=1))\n",
        "  keras_model.add(GlobalMaxPool1D())\n",
        "  keras_model.add(Dropout(0.2))\n",
        "  keras_model.add(Dense(200))\n",
        "  keras_model.add(Activation('relu'))\n",
        "  keras_model.add(Dropout(0.2))\n",
        "  keras_model.add(Dense(2))\n",
        "  keras_model.add(Activation('sigmoid'))\n",
        "  keras_model.compile(loss='binary_crossentropy', metrics=['acc'], optimizer='adam')\n",
        "  return keras_model"
      ],
      "execution_count": 15,
      "outputs": []
    },
    {
      "cell_type": "code",
      "metadata": {
        "id": "cM2S7ThAtz6E"
      },
      "source": [
        "#history = keras_model.fit(x_train, y_train, batch_size=16, epochs=3, validation_data=(x_test, y_test))"
      ],
      "execution_count": 16,
      "outputs": []
    },
    {
      "cell_type": "code",
      "metadata": {
        "id": "f3NgDCz1Psia"
      },
      "source": [
        "import tensorflow as tf\n",
        "from tensorflow import keras\n",
        "model = tf.keras.models.load_model(\"drive/MyDrive/data_psyco/otw_sidang_sigmoid/98_depresi_1000_and_suicide_cnn_3.h5\")"
      ],
      "execution_count": 17,
      "outputs": []
    },
    {
      "cell_type": "code",
      "metadata": {
        "colab": {
          "base_uri": "https://localhost:8080/"
        },
        "id": "zPYLJ_RVvIUc",
        "outputId": "eb3ac9a6-06f5-406b-cfec-3aafecf35670"
      },
      "source": [
        "#analyze the results\n",
        "score, acc = model.evaluate(x_test, y_test, verbose = 2, batch_size=16)\n",
        "y_pred = model.predict(x_test)\n",
        "#print(y_pred)"
      ],
      "execution_count": 18,
      "outputs": [
        {
          "output_type": "stream",
          "name": "stdout",
          "text": [
            "21/21 - 1s - loss: 0.1347 - acc: 0.9583\n"
          ]
        }
      ]
    },
    {
      "cell_type": "code",
      "metadata": {
        "id": "VNkDDiqFvaWX"
      },
      "source": [
        "#Other accuracy metrices\n",
        "#y_pred = (y_pred > 0.5)"
      ],
      "execution_count": 19,
      "outputs": []
    },
    {
      "cell_type": "code",
      "metadata": {
        "colab": {
          "base_uri": "https://localhost:8080/",
          "height": 455
        },
        "id": "A_aUR_BqvdcN",
        "outputId": "7fd7d61f-b54d-4647-fdbd-49210efea3a4"
      },
      "source": [
        "from sklearn.metrics import confusion_matrix, classification_report\n",
        "import seaborn as sns\n",
        "\n",
        "cm=confusion_matrix(y_test.argmax(axis=1),y_pred.argmax(axis=1))\n",
        "ax=sns.heatmap(cm,annot=True,cmap='Blues',fmt='')\n",
        "ax.set_title('Confusion Matrix')\n",
        "ax.set_xlabel('y_test')\n",
        "ax.set_ylabel('y_pred')\n",
        "\n",
        "#F1 Score, Recall and Precision\n",
        "print(classification_report(y_test.argmax(axis=1), y_pred.argmax(axis=1), target_names=['mengidap', 'non']))"
      ],
      "execution_count": 20,
      "outputs": [
        {
          "output_type": "stream",
          "name": "stdout",
          "text": [
            "              precision    recall  f1-score   support\n",
            "\n",
            "    mengidap       0.94      0.98      0.96       168\n",
            "         non       0.98      0.94      0.96       168\n",
            "\n",
            "    accuracy                           0.96       336\n",
            "   macro avg       0.96      0.96      0.96       336\n",
            "weighted avg       0.96      0.96      0.96       336\n",
            "\n"
          ]
        },
        {
          "output_type": "display_data",
          "data": {
            "image/png": "[encoded data removed]",
            "text/plain": [
              "<Figure size 432x288 with 2 Axes>"
            ]
          },
          "metadata": {
            "needs_background": "light"
          }
        }
      ]
    },
    {
      "cell_type": "code",
      "metadata": {
        "id": "K3Y-pmHYwlaF"
      },
      "source": [
        "import matplotlib.pyplot as plt"
      ],
      "execution_count": 21,
      "outputs": []
    },
    {
      "cell_type": "code",
      "metadata": {
        "id": "bT21pR2Gw0mi"
      },
      "source": [
        "model.save('drive/MyDrive/data_psyco/otw_sidang_sigmoid/98_depresi_1000_and_suicide_cnn_4.h5')"
      ],
      "execution_count": 26,
      "outputs": []
    },
    {
      "cell_type": "markdown",
      "metadata": {
        "id": "JoBQ6DRp4QM8"
      },
      "source": [
        "# Import Libraries"
      ]
    },
    {
      "cell_type": "code",
      "metadata": {
        "id": "RB6JItCcrB8K"
      },
      "source": [
        "def text_preprocessing(text):\n",
        "  df['preprocess_awal'] = text.apply(preprocessTweets)\n",
        "  df['tokenkan'] = df['preprocess_awal'].apply(tokenkan)\n",
        "  df['normalized'] = df['tokenkan'].apply(normalized_term)\n",
        "  df['normalized'] = df['normalized'].apply(stopwords_removal)\n",
        "\n",
        "  # create stemmer\n",
        "  factory = StemmerFactory()\n",
        "  stemmer = factory.create_stemmer()\n",
        "\n",
        "  # stemmed\n",
        "  def stemmed_wrapper(term):\n",
        "      return stemmer.stem(term)\n",
        "\n",
        "  term_dict = {}\n",
        "\n",
        "  for document in df['normalized']:\n",
        "      for term in document:\n",
        "          if term not in term_dict:\n",
        "              term_dict[term] = ' '\n",
        "              \n",
        "  #print(len(term_dict))\n",
        "  print(\"------------------------\")\n",
        "\n",
        "  for term in term_dict:\n",
        "      term_dict[term] = stemmed_wrapper(term)\n",
        "      print(term,\":\" ,term_dict[term])\n",
        "      \n",
        "  #print(term_dict)\n",
        "  print(\"------------------------\")\n",
        "\n",
        "\n",
        "  # apply stemmed term to dataframe\n",
        "  def get_stemmed_term(document):\n",
        "      return [term_dict[term] for term in document]\n",
        "\n",
        "  df['stemmed'] = df['normalized'].swifter.apply(get_stemmed_term)\n",
        "  #print(df['stemmed'])\n",
        "\n",
        "  def remove_punct(text):\n",
        "    text_nopunct = ''\n",
        "    text_nopunct = re.sub('['+string.punctuation+']', '', text)\n",
        "    return text_nopunct\n",
        "\n",
        "  df['stemmed'] = df['stemmed'].astype(str)\n",
        "  df['stemmed'] = df['stemmed'].apply(remove_punct)"
      ],
      "execution_count": 23,
      "outputs": []
    },
    {
      "cell_type": "code",
      "metadata": {
        "colab": {
          "base_uri": "https://localhost:8080/",
          "height": 182,
          "referenced_widgets": [
            "ef8c53a5ce0d40b2a3eaef8bb138c25b",
            "c44228c42e104616a28893090093820e",
            "2b3074fa6f6f47c49e7895e920c3519c",
            "088f6f3934a14c80bc847f5e23da3f3e",
            "cecc2ae8066544cfab97890488d627eb",
            "8b369fdd465646a997df8c9215a9047b",
            "8682c25b435049e98bd3e313e91d98bb",
            "f7fa4311d0ff4345b02b4b02c5606ed8",
            "3a511d91e5834a79a157599d14ad5b64",
            "5e18d4a816e247b7a8c1935be46d302f",
            "07d2f2ea2c8b4ecfa9ab1f28bf7ad079"
          ]
        },
        "id": "nfaIMv6NLeRR",
        "outputId": "a53d51e7-a622-4da3-86b9-9a5b056c2b5f"
      },
      "source": [
        "Xo = 'Aku ingin ice cream'\n",
        "Yo = 'lelah dengan hidup ini. Nak mati aku dah penat #depresi'\n",
        "datax = {'Postingan':[Xo]}\n",
        "df = pd.DataFrame(datax)\n",
        "text_preprocessing(df['Postingan'])\n",
        "df.head()"
      ],
      "execution_count": 24,
      "outputs": [
        {
          "output_type": "stream",
          "name": "stdout",
          "text": [
            "------------------------\n",
            "ice : ice\n",
            "cream : cream\n",
            "------------------------\n"
          ]
        },
        {
          "output_type": "display_data",
          "data": {
            "application/vnd.jupyter.widget-view+json": {
              "model_id": "ef8c53a5ce0d40b2a3eaef8bb138c25b",
              "version_minor": 0,
              "version_major": 2
            },
            "text/plain": [
              "Pandas Apply:   0%|          | 0/1 [00:00<?, ?it/s]"
            ]
          },
          "metadata": {}
        },
        {
          "output_type": "execute_result",
          "data": {
            "text/html": [
              "<div>\n",
              "<style scoped>\n",
              "    .dataframe tbody tr th:only-of-type {\n",
              "        vertical-align: middle;\n",
              "    }\n",
              "\n",
              "    .dataframe tbody tr th {\n",
              "        vertical-align: top;\n",
              "    }\n",
              "\n",
              "    .dataframe thead th {\n",
              "        text-align: right;\n",
              "    }\n",
              "</style>\n",
              "<table border=\"1\" class=\"dataframe\">\n",
              "  <thead>\n",
              "    <tr style=\"text-align: right;\">\n",
              "      <th></th>\n",
              "      <th>Postingan</th>\n",
              "      <th>preprocess_awal</th>\n",
              "      <th>tokenkan</th>\n",
              "      <th>normalized</th>\n",
              "      <th>stemmed</th>\n",
              "    </tr>\n",
              "  </thead>\n",
              "  <tbody>\n",
              "    <tr>\n",
              "      <th>0</th>\n",
              "      <td>Aku ingin ice cream</td>\n",
              "      <td>aku ingin ice cream</td>\n",
              "      <td>[aku, ingin, ice, cream]</td>\n",
              "      <td>[ice, cream]</td>\n",
              "      <td>ice cream</td>\n",
              "    </tr>\n",
              "  </tbody>\n",
              "</table>\n",
              "</div>"
            ],
            "text/plain": [
              "             Postingan      preprocess_awal  ...    normalized    stemmed\n",
              "0  Aku ingin ice cream  aku ingin ice cream  ...  [ice, cream]  ice cream\n",
              "\n",
              "[1 rows x 5 columns]"
            ]
          },
          "metadata": {},
          "execution_count": 24
        }
      ]
    },
    {
      "cell_type": "code",
      "metadata": {
        "id": "gb56dTejLmNq",
        "colab": {
          "base_uri": "https://localhost:8080/"
        },
        "outputId": "7f6ce669-36e6-4d63-944a-cad10bc435ee"
      },
      "source": [
        "X_sample = token.texts_to_sequences(df['stemmed'])\n",
        "print(X_sample)\n",
        "X_sample = pad_sequences(X_sample, 75)\n",
        "print(X_sample)\n",
        "y_sample = model.predict(X_sample)\n",
        "print(y_sample)\n",
        "hasil = np.argmax(y_sample)\n",
        "\n",
        "print(hasil)\n",
        "if (hasil == 0) :\n",
        "  print('tidak mengidap gangguan psikologis')\n",
        "else:\n",
        "  print('mengidap gangguan psikologis')"
      ],
      "execution_count": 25,
      "outputs": [
        {
          "output_type": "stream",
          "name": "stdout",
          "text": [
            "[[810, 811]]\n",
            "[[  0   0   0   0   0   0   0   0   0   0   0   0   0   0   0   0   0   0\n",
            "    0   0   0   0   0   0   0   0   0   0   0   0   0   0   0   0   0   0\n",
            "    0   0   0   0   0   0   0   0   0   0   0   0   0   0   0   0   0   0\n",
            "    0   0   0   0   0   0   0   0   0   0   0   0   0   0   0   0   0   0\n",
            "    0 810 811]]\n",
            "[[0.97151756 0.02597278]]\n",
            "0\n",
            "tidak mengidap gangguan psikologis\n"
          ]
        }
      ]
    }
  ]
}