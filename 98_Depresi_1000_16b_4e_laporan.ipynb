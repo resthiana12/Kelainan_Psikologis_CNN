{
  "nbformat": 4,
  "nbformat_minor": 0,
  "metadata": {
    "colab": {
      "name": "98_Depresi_1000.ipynb",
      "provenance": [],
      "collapsed_sections": [],
      "mount_file_id": "1eXZYwpgYu90QOf8Zeuz8TfDw3cVdkzTh",
      "authorship_tag": "ABX9TyPwwjSUKSt7Lvp6RaZVla6e",
      "include_colab_link": true
    },
    "kernelspec": {
      "display_name": "Python 3",
      "name": "python3"
    },
    "language_info": {
      "name": "python"
    },
    "widgets": {
      "application/vnd.jupyter.widget-state+json": {
        "21b4cf720146484ebccd2f2fa3b3018b": {
          "model_module": "@jupyter-widgets/controls",
          "model_name": "HBoxModel",
          "model_module_version": "1.5.0",
          "state": {
            "_view_name": "HBoxView",
            "_dom_classes": [],
            "_model_name": "HBoxModel",
            "_view_module": "@jupyter-widgets/controls",
            "_model_module_version": "1.5.0",
            "_view_count": null,
            "_view_module_version": "1.5.0",
            "box_style": "",
            "layout": "IPY_MODEL_d247fac76d224287b2d7312612b4a99e",
            "_model_module": "@jupyter-widgets/controls",
            "children": [
              "IPY_MODEL_333a17fe5f27419ea06e1494259a4169",
              "IPY_MODEL_e8c79809ae564eba888398c6165a7788",
              "IPY_MODEL_34cad17f14d1435185112cd4f06a941b"
            ]
          }
        },
        "d247fac76d224287b2d7312612b4a99e": {
          "model_module": "@jupyter-widgets/base",
          "model_name": "LayoutModel",
          "model_module_version": "1.2.0",
          "state": {
            "_view_name": "LayoutView",
            "grid_template_rows": null,
            "right": null,
            "justify_content": null,
            "_view_module": "@jupyter-widgets/base",
            "overflow": null,
            "_model_module_version": "1.2.0",
            "_view_count": null,
            "flex_flow": null,
            "width": null,
            "min_width": null,
            "border": null,
            "align_items": null,
            "bottom": null,
            "_model_module": "@jupyter-widgets/base",
            "top": null,
            "grid_column": null,
            "overflow_y": null,
            "overflow_x": null,
            "grid_auto_flow": null,
            "grid_area": null,
            "grid_template_columns": null,
            "flex": null,
            "_model_name": "LayoutModel",
            "justify_items": null,
            "grid_row": null,
            "max_height": null,
            "align_content": null,
            "visibility": null,
            "align_self": null,
            "height": null,
            "min_height": null,
            "padding": null,
            "grid_auto_rows": null,
            "grid_gap": null,
            "max_width": null,
            "order": null,
            "_view_module_version": "1.2.0",
            "grid_template_areas": null,
            "object_position": null,
            "object_fit": null,
            "grid_auto_columns": null,
            "margin": null,
            "display": null,
            "left": null
          }
        },
        "333a17fe5f27419ea06e1494259a4169": {
          "model_module": "@jupyter-widgets/controls",
          "model_name": "HTMLModel",
          "model_module_version": "1.5.0",
          "state": {
            "_view_name": "HTMLView",
            "style": "IPY_MODEL_8bf76b7ba9654e1799c075c5b5fe2833",
            "_dom_classes": [],
            "description": "",
            "_model_name": "HTMLModel",
            "placeholder": "​",
            "_view_module": "@jupyter-widgets/controls",
            "_model_module_version": "1.5.0",
            "value": "Pandas Apply: 100%",
            "_view_count": null,
            "_view_module_version": "1.5.0",
            "description_tooltip": null,
            "_model_module": "@jupyter-widgets/controls",
            "layout": "IPY_MODEL_2919c6e015e64459be3ea171577cb9f8"
          }
        },
        "e8c79809ae564eba888398c6165a7788": {
          "model_module": "@jupyter-widgets/controls",
          "model_name": "FloatProgressModel",
          "model_module_version": "1.5.0",
          "state": {
            "_view_name": "ProgressView",
            "style": "IPY_MODEL_32968ca57a594a29ad0f566d5e85318d",
            "_dom_classes": [],
            "description": "",
            "_model_name": "FloatProgressModel",
            "bar_style": "success",
            "max": 1,
            "_view_module": "@jupyter-widgets/controls",
            "_model_module_version": "1.5.0",
            "value": 1,
            "_view_count": null,
            "_view_module_version": "1.5.0",
            "orientation": "horizontal",
            "min": 0,
            "description_tooltip": null,
            "_model_module": "@jupyter-widgets/controls",
            "layout": "IPY_MODEL_c82bb924e62147dca14dc2452b82e640"
          }
        },
        "34cad17f14d1435185112cd4f06a941b": {
          "model_module": "@jupyter-widgets/controls",
          "model_name": "HTMLModel",
          "model_module_version": "1.5.0",
          "state": {
            "_view_name": "HTMLView",
            "style": "IPY_MODEL_145936275e0147f1a3b9d603ce467282",
            "_dom_classes": [],
            "description": "",
            "_model_name": "HTMLModel",
            "placeholder": "​",
            "_view_module": "@jupyter-widgets/controls",
            "_model_module_version": "1.5.0",
            "value": " 1/1 [00:00&lt;00:00, 30.01it/s]",
            "_view_count": null,
            "_view_module_version": "1.5.0",
            "description_tooltip": null,
            "_model_module": "@jupyter-widgets/controls",
            "layout": "IPY_MODEL_6d0a8136c310440f8eb7a95b832a657d"
          }
        },
        "8bf76b7ba9654e1799c075c5b5fe2833": {
          "model_module": "@jupyter-widgets/controls",
          "model_name": "DescriptionStyleModel",
          "model_module_version": "1.5.0",
          "state": {
            "_view_name": "StyleView",
            "_model_name": "DescriptionStyleModel",
            "description_width": "",
            "_view_module": "@jupyter-widgets/base",
            "_model_module_version": "1.5.0",
            "_view_count": null,
            "_view_module_version": "1.2.0",
            "_model_module": "@jupyter-widgets/controls"
          }
        },
        "2919c6e015e64459be3ea171577cb9f8": {
          "model_module": "@jupyter-widgets/base",
          "model_name": "LayoutModel",
          "model_module_version": "1.2.0",
          "state": {
            "_view_name": "LayoutView",
            "grid_template_rows": null,
            "right": null,
            "justify_content": null,
            "_view_module": "@jupyter-widgets/base",
            "overflow": null,
            "_model_module_version": "1.2.0",
            "_view_count": null,
            "flex_flow": null,
            "width": null,
            "min_width": null,
            "border": null,
            "align_items": null,
            "bottom": null,
            "_model_module": "@jupyter-widgets/base",
            "top": null,
            "grid_column": null,
            "overflow_y": null,
            "overflow_x": null,
            "grid_auto_flow": null,
            "grid_area": null,
            "grid_template_columns": null,
            "flex": null,
            "_model_name": "LayoutModel",
            "justify_items": null,
            "grid_row": null,
            "max_height": null,
            "align_content": null,
            "visibility": null,
            "align_self": null,
            "height": null,
            "min_height": null,
            "padding": null,
            "grid_auto_rows": null,
            "grid_gap": null,
            "max_width": null,
            "order": null,
            "_view_module_version": "1.2.0",
            "grid_template_areas": null,
            "object_position": null,
            "object_fit": null,
            "grid_auto_columns": null,
            "margin": null,
            "display": null,
            "left": null
          }
        },
        "32968ca57a594a29ad0f566d5e85318d": {
          "model_module": "@jupyter-widgets/controls",
          "model_name": "ProgressStyleModel",
          "model_module_version": "1.5.0",
          "state": {
            "_view_name": "StyleView",
            "_model_name": "ProgressStyleModel",
            "description_width": "",
            "_view_module": "@jupyter-widgets/base",
            "_model_module_version": "1.5.0",
            "_view_count": null,
            "_view_module_version": "1.2.0",
            "bar_color": null,
            "_model_module": "@jupyter-widgets/controls"
          }
        },
        "c82bb924e62147dca14dc2452b82e640": {
          "model_module": "@jupyter-widgets/base",
          "model_name": "LayoutModel",
          "model_module_version": "1.2.0",
          "state": {
            "_view_name": "LayoutView",
            "grid_template_rows": null,
            "right": null,
            "justify_content": null,
            "_view_module": "@jupyter-widgets/base",
            "overflow": null,
            "_model_module_version": "1.2.0",
            "_view_count": null,
            "flex_flow": null,
            "width": null,
            "min_width": null,
            "border": null,
            "align_items": null,
            "bottom": null,
            "_model_module": "@jupyter-widgets/base",
            "top": null,
            "grid_column": null,
            "overflow_y": null,
            "overflow_x": null,
            "grid_auto_flow": null,
            "grid_area": null,
            "grid_template_columns": null,
            "flex": null,
            "_model_name": "LayoutModel",
            "justify_items": null,
            "grid_row": null,
            "max_height": null,
            "align_content": null,
            "visibility": null,
            "align_self": null,
            "height": null,
            "min_height": null,
            "padding": null,
            "grid_auto_rows": null,
            "grid_gap": null,
            "max_width": null,
            "order": null,
            "_view_module_version": "1.2.0",
            "grid_template_areas": null,
            "object_position": null,
            "object_fit": null,
            "grid_auto_columns": null,
            "margin": null,
            "display": null,
            "left": null
          }
        },
        "145936275e0147f1a3b9d603ce467282": {
          "model_module": "@jupyter-widgets/controls",
          "model_name": "DescriptionStyleModel",
          "model_module_version": "1.5.0",
          "state": {
            "_view_name": "StyleView",
            "_model_name": "DescriptionStyleModel",
            "description_width": "",
            "_view_module": "@jupyter-widgets/base",
            "_model_module_version": "1.5.0",
            "_view_count": null,
            "_view_module_version": "1.2.0",
            "_model_module": "@jupyter-widgets/controls"
          }
        },
        "6d0a8136c310440f8eb7a95b832a657d": {
          "model_module": "@jupyter-widgets/base",
          "model_name": "LayoutModel",
          "model_module_version": "1.2.0",
          "state": {
            "_view_name": "LayoutView",
            "grid_template_rows": null,
            "right": null,
            "justify_content": null,
            "_view_module": "@jupyter-widgets/base",
            "overflow": null,
            "_model_module_version": "1.2.0",
            "_view_count": null,
            "flex_flow": null,
            "width": null,
            "min_width": null,
            "border": null,
            "align_items": null,
            "bottom": null,
            "_model_module": "@jupyter-widgets/base",
            "top": null,
            "grid_column": null,
            "overflow_y": null,
            "overflow_x": null,
            "grid_auto_flow": null,
            "grid_area": null,
            "grid_template_columns": null,
            "flex": null,
            "_model_name": "LayoutModel",
            "justify_items": null,
            "grid_row": null,
            "max_height": null,
            "align_content": null,
            "visibility": null,
            "align_self": null,
            "height": null,
            "min_height": null,
            "padding": null,
            "grid_auto_rows": null,
            "grid_gap": null,
            "max_width": null,
            "order": null,
            "_view_module_version": "1.2.0",
            "grid_template_areas": null,
            "object_position": null,
            "object_fit": null,
            "grid_auto_columns": null,
            "margin": null,
            "display": null,
            "left": null
          }
        }
      }
    }
  },
  "cells": [
    {
      "cell_type": "markdown",
      "metadata": {
        "id": "view-in-github",
        "colab_type": "text"
      },
      "source": [
        "<a href=\"https://colab.research.google.com/github/resthiana12/Kelainan_Psikologis_CNN/blob/main/98_Depresi_1000_16b_4e_laporan.ipynb\" target=\"_parent\"><img src=\"https://colab.research.google.com/assets/colab-badge.svg\" alt=\"Open In Colab\"/></a>"
      ]
    },
    {
      "cell_type": "markdown",
      "metadata": {
        "id": "6A_QnXzyGKfb"
      },
      "source": [
        "**#Install Package yang Dibutuhkan**"
      ]
    },
    {
      "cell_type": "code",
      "metadata": {
        "colab": {
          "base_uri": "https://localhost:8080/"
        },
        "id": "jE7-3YxZFucC",
        "outputId": "963611a3-fde8-44d0-a434-f854558da9f5"
      },
      "source": [
        "pip install emot"
      ],
      "execution_count": 1,
      "outputs": [
        {
          "output_type": "stream",
          "name": "stdout",
          "text": [
            "Requirement already satisfied: emot in /usr/local/lib/python3.7/dist-packages (3.1)\n"
          ]
        }
      ]
    },
    {
      "cell_type": "code",
      "metadata": {
        "id": "jc7IL70qGcn5",
        "colab": {
          "base_uri": "https://localhost:8080/"
        },
        "outputId": "61025181-d155-4ddf-f5ea-ab94c27cd9f6"
      },
      "source": [
        "pip install emoji"
      ],
      "execution_count": 2,
      "outputs": [
        {
          "output_type": "stream",
          "name": "stdout",
          "text": [
            "Requirement already satisfied: emoji in /usr/local/lib/python3.7/dist-packages (1.6.0)\n"
          ]
        }
      ]
    },
    {
      "cell_type": "code",
      "metadata": {
        "colab": {
          "base_uri": "https://localhost:8080/"
        },
        "id": "QwaReWdEGjFP",
        "outputId": "204ace92-fd86-4616-ea8e-c115cd012b0f"
      },
      "source": [
        "pip install sastrawi"
      ],
      "execution_count": 3,
      "outputs": [
        {
          "output_type": "stream",
          "name": "stdout",
          "text": [
            "Requirement already satisfied: sastrawi in /usr/local/lib/python3.7/dist-packages (1.0.1)\n"
          ]
        }
      ]
    },
    {
      "cell_type": "code",
      "metadata": {
        "colab": {
          "base_uri": "https://localhost:8080/"
        },
        "id": "DctZrsGDGnnq",
        "outputId": "0fddaf7d-76bf-44e4-d9f8-be0649520615"
      },
      "source": [
        "pip install swifter"
      ],
      "execution_count": 4,
      "outputs": [
        {
          "output_type": "stream",
          "name": "stdout",
          "text": [
            "Requirement already satisfied: swifter in /usr/local/lib/python3.7/dist-packages (1.0.9)\n",
            "Requirement already satisfied: cloudpickle>=0.2.2 in /usr/local/lib/python3.7/dist-packages (from swifter) (1.3.0)\n",
            "Requirement already satisfied: ipywidgets>=7.0.0 in /usr/local/lib/python3.7/dist-packages (from swifter) (7.6.5)\n",
            "Requirement already satisfied: psutil>=5.6.6 in /usr/local/lib/python3.7/dist-packages (from swifter) (5.8.0)\n",
            "Requirement already satisfied: tqdm>=4.33.0 in /usr/local/lib/python3.7/dist-packages (from swifter) (4.62.3)\n",
            "Requirement already satisfied: parso>0.4.0 in /usr/local/lib/python3.7/dist-packages (from swifter) (0.8.2)\n",
            "Requirement already satisfied: dask[dataframe]>=2.10.0 in /usr/local/lib/python3.7/dist-packages (from swifter) (2.12.0)\n",
            "Requirement already satisfied: bleach>=3.1.1 in /usr/local/lib/python3.7/dist-packages (from swifter) (4.1.0)\n",
            "Requirement already satisfied: pandas>=1.0.0 in /usr/local/lib/python3.7/dist-packages (from swifter) (1.1.5)\n",
            "Requirement already satisfied: six>=1.9.0 in /usr/local/lib/python3.7/dist-packages (from bleach>=3.1.1->swifter) (1.15.0)\n",
            "Requirement already satisfied: webencodings in /usr/local/lib/python3.7/dist-packages (from bleach>=3.1.1->swifter) (0.5.1)\n",
            "Requirement already satisfied: packaging in /usr/local/lib/python3.7/dist-packages (from bleach>=3.1.1->swifter) (21.0)\n",
            "Requirement already satisfied: fsspec>=0.6.0 in /usr/local/lib/python3.7/dist-packages (from dask[dataframe]>=2.10.0->swifter) (2021.10.0)\n",
            "Requirement already satisfied: partd>=0.3.10 in /usr/local/lib/python3.7/dist-packages (from dask[dataframe]>=2.10.0->swifter) (1.2.0)\n",
            "Requirement already satisfied: numpy>=1.13.0 in /usr/local/lib/python3.7/dist-packages (from dask[dataframe]>=2.10.0->swifter) (1.19.5)\n",
            "Requirement already satisfied: toolz>=0.7.3 in /usr/local/lib/python3.7/dist-packages (from dask[dataframe]>=2.10.0->swifter) (0.11.1)\n",
            "Requirement already satisfied: ipykernel>=4.5.1 in /usr/local/lib/python3.7/dist-packages (from ipywidgets>=7.0.0->swifter) (4.10.1)\n",
            "Requirement already satisfied: ipython-genutils~=0.2.0 in /usr/local/lib/python3.7/dist-packages (from ipywidgets>=7.0.0->swifter) (0.2.0)\n",
            "Requirement already satisfied: ipython>=4.0.0 in /usr/local/lib/python3.7/dist-packages (from ipywidgets>=7.0.0->swifter) (5.5.0)\n",
            "Requirement already satisfied: jupyterlab-widgets>=1.0.0 in /usr/local/lib/python3.7/dist-packages (from ipywidgets>=7.0.0->swifter) (1.0.2)\n",
            "Requirement already satisfied: traitlets>=4.3.1 in /usr/local/lib/python3.7/dist-packages (from ipywidgets>=7.0.0->swifter) (5.1.0)\n",
            "Requirement already satisfied: widgetsnbextension~=3.5.0 in /usr/local/lib/python3.7/dist-packages (from ipywidgets>=7.0.0->swifter) (3.5.1)\n",
            "Requirement already satisfied: nbformat>=4.2.0 in /usr/local/lib/python3.7/dist-packages (from ipywidgets>=7.0.0->swifter) (5.1.3)\n",
            "Requirement already satisfied: jupyter-client in /usr/local/lib/python3.7/dist-packages (from ipykernel>=4.5.1->ipywidgets>=7.0.0->swifter) (5.3.5)\n",
            "Requirement already satisfied: tornado>=4.0 in /usr/local/lib/python3.7/dist-packages (from ipykernel>=4.5.1->ipywidgets>=7.0.0->swifter) (5.1.1)\n",
            "Requirement already satisfied: setuptools>=18.5 in /usr/local/lib/python3.7/dist-packages (from ipython>=4.0.0->ipywidgets>=7.0.0->swifter) (57.4.0)\n",
            "Requirement already satisfied: pickleshare in /usr/local/lib/python3.7/dist-packages (from ipython>=4.0.0->ipywidgets>=7.0.0->swifter) (0.7.5)\n",
            "Requirement already satisfied: prompt-toolkit<2.0.0,>=1.0.4 in /usr/local/lib/python3.7/dist-packages (from ipython>=4.0.0->ipywidgets>=7.0.0->swifter) (1.0.18)\n",
            "Requirement already satisfied: pexpect in /usr/local/lib/python3.7/dist-packages (from ipython>=4.0.0->ipywidgets>=7.0.0->swifter) (4.8.0)\n",
            "Requirement already satisfied: pygments in /usr/local/lib/python3.7/dist-packages (from ipython>=4.0.0->ipywidgets>=7.0.0->swifter) (2.6.1)\n",
            "Requirement already satisfied: simplegeneric>0.8 in /usr/local/lib/python3.7/dist-packages (from ipython>=4.0.0->ipywidgets>=7.0.0->swifter) (0.8.1)\n",
            "Requirement already satisfied: decorator in /usr/local/lib/python3.7/dist-packages (from ipython>=4.0.0->ipywidgets>=7.0.0->swifter) (4.4.2)\n",
            "Requirement already satisfied: jsonschema!=2.5.0,>=2.4 in /usr/local/lib/python3.7/dist-packages (from nbformat>=4.2.0->ipywidgets>=7.0.0->swifter) (2.6.0)\n",
            "Requirement already satisfied: jupyter-core in /usr/local/lib/python3.7/dist-packages (from nbformat>=4.2.0->ipywidgets>=7.0.0->swifter) (4.8.1)\n",
            "Requirement already satisfied: python-dateutil>=2.7.3 in /usr/local/lib/python3.7/dist-packages (from pandas>=1.0.0->swifter) (2.8.2)\n",
            "Requirement already satisfied: pytz>=2017.2 in /usr/local/lib/python3.7/dist-packages (from pandas>=1.0.0->swifter) (2018.9)\n",
            "Requirement already satisfied: locket in /usr/local/lib/python3.7/dist-packages (from partd>=0.3.10->dask[dataframe]>=2.10.0->swifter) (0.2.1)\n",
            "Requirement already satisfied: wcwidth in /usr/local/lib/python3.7/dist-packages (from prompt-toolkit<2.0.0,>=1.0.4->ipython>=4.0.0->ipywidgets>=7.0.0->swifter) (0.2.5)\n",
            "Requirement already satisfied: notebook>=4.4.1 in /usr/local/lib/python3.7/dist-packages (from widgetsnbextension~=3.5.0->ipywidgets>=7.0.0->swifter) (5.3.1)\n",
            "Requirement already satisfied: Send2Trash in /usr/local/lib/python3.7/dist-packages (from notebook>=4.4.1->widgetsnbextension~=3.5.0->ipywidgets>=7.0.0->swifter) (1.8.0)\n",
            "Requirement already satisfied: jinja2 in /usr/local/lib/python3.7/dist-packages (from notebook>=4.4.1->widgetsnbextension~=3.5.0->ipywidgets>=7.0.0->swifter) (2.11.3)\n",
            "Requirement already satisfied: nbconvert in /usr/local/lib/python3.7/dist-packages (from notebook>=4.4.1->widgetsnbextension~=3.5.0->ipywidgets>=7.0.0->swifter) (5.6.1)\n",
            "Requirement already satisfied: terminado>=0.8.1 in /usr/local/lib/python3.7/dist-packages (from notebook>=4.4.1->widgetsnbextension~=3.5.0->ipywidgets>=7.0.0->swifter) (0.12.1)\n",
            "Requirement already satisfied: pyzmq>=13 in /usr/local/lib/python3.7/dist-packages (from jupyter-client->ipykernel>=4.5.1->ipywidgets>=7.0.0->swifter) (22.3.0)\n",
            "Requirement already satisfied: ptyprocess in /usr/local/lib/python3.7/dist-packages (from terminado>=0.8.1->notebook>=4.4.1->widgetsnbextension~=3.5.0->ipywidgets>=7.0.0->swifter) (0.7.0)\n",
            "Requirement already satisfied: MarkupSafe>=0.23 in /usr/local/lib/python3.7/dist-packages (from jinja2->notebook>=4.4.1->widgetsnbextension~=3.5.0->ipywidgets>=7.0.0->swifter) (2.0.1)\n",
            "Requirement already satisfied: defusedxml in /usr/local/lib/python3.7/dist-packages (from nbconvert->notebook>=4.4.1->widgetsnbextension~=3.5.0->ipywidgets>=7.0.0->swifter) (0.7.1)\n",
            "Requirement already satisfied: entrypoints>=0.2.2 in /usr/local/lib/python3.7/dist-packages (from nbconvert->notebook>=4.4.1->widgetsnbextension~=3.5.0->ipywidgets>=7.0.0->swifter) (0.3)\n",
            "Requirement already satisfied: mistune<2,>=0.8.1 in /usr/local/lib/python3.7/dist-packages (from nbconvert->notebook>=4.4.1->widgetsnbextension~=3.5.0->ipywidgets>=7.0.0->swifter) (0.8.4)\n",
            "Requirement already satisfied: testpath in /usr/local/lib/python3.7/dist-packages (from nbconvert->notebook>=4.4.1->widgetsnbextension~=3.5.0->ipywidgets>=7.0.0->swifter) (0.5.0)\n",
            "Requirement already satisfied: pandocfilters>=1.4.1 in /usr/local/lib/python3.7/dist-packages (from nbconvert->notebook>=4.4.1->widgetsnbextension~=3.5.0->ipywidgets>=7.0.0->swifter) (1.5.0)\n",
            "Requirement already satisfied: pyparsing>=2.0.2 in /usr/local/lib/python3.7/dist-packages (from packaging->bleach>=3.1.1->swifter) (2.4.7)\n"
          ]
        }
      ]
    },
    {
      "cell_type": "markdown",
      "metadata": {
        "id": "gHNR4IAlHFAf"
      },
      "source": [
        "**#Load Library**"
      ]
    },
    {
      "cell_type": "code",
      "metadata": {
        "colab": {
          "base_uri": "https://localhost:8080/"
        },
        "id": "Tby6RCM4lZoZ",
        "outputId": "1f1c8bd0-e6cb-40ef-ed56-74b1ee7a010e"
      },
      "source": [
        "#load library\n",
        "import nltk                             \n",
        "import matplotlib.pyplot as plt           \n",
        "import random  \n",
        "nltk.download('stopwords')\n",
        "nltk.download('punkt')\n",
        "nltk.download('words')\n",
        "import numpy as np\n",
        "import pandas as pd\n",
        "import re                                  \n",
        "import string                             \n",
        "from nltk.corpus import stopwords \n",
        "from nltk.stem import PorterStemmer\n",
        "from nltk.tokenize import TweetTokenizer \n",
        "from nltk import pos_tag, word_tokenize\n",
        "from nltk.tokenize import word_tokenize\n",
        "from nltk.corpus import words\n",
        "import emoji\n",
        "#from emot.emo_unicode import UNICODE_EMO, EMOTICONS\n",
        "from Sastrawi.Stemmer.StemmerFactory import StemmerFactory\n",
        "import swifter\n",
        "from wordcloud import WordCloud "
      ],
      "execution_count": 5,
      "outputs": [
        {
          "output_type": "stream",
          "name": "stdout",
          "text": [
            "[nltk_data] Downloading package stopwords to /root/nltk_data...\n",
            "[nltk_data]   Package stopwords is already up-to-date!\n",
            "[nltk_data] Downloading package punkt to /root/nltk_data...\n",
            "[nltk_data]   Package punkt is already up-to-date!\n",
            "[nltk_data] Downloading package words to /root/nltk_data...\n",
            "[nltk_data]   Package words is already up-to-date!\n"
          ]
        }
      ]
    },
    {
      "cell_type": "markdown",
      "metadata": {
        "id": "KCFWa0RfHL4d"
      },
      "source": [
        "**Preprocessing**"
      ]
    },
    {
      "cell_type": "code",
      "metadata": {
        "id": "6cO4NsaRHPUF"
      },
      "source": [
        "stop = pd.read_csv(\"drive/MyDrive/stopwords.txt\", names= [\"stopwords\"], header = None)\n",
        "stop['stopwords']\n",
        "# Defining my NLTK stop words and my user-defined stop words\n",
        "stop_words = list(stopwords.words('indonesian'))\n",
        "# ---------------------------- manualy add stopword  ------------------------------------\n",
        "# append additional stopword\n",
        "user_stopwords = ['yg', 'dg', 'rt', 'dgn', 'ny', 'd', 'klo', \n",
        "                       'kalo', 'amp', 'biar', 'bikin', 'bilang', \n",
        "                       'gak', 'ga', 'krn', 'nya', 'nih', 'sih', 'na',\n",
        "                       'si', 'tau', 'tdk', 'tuh', 'utk', 'ya', 'ber',\n",
        "                       'jd', 'jgn', 'sdh', 'aja', 'n', 't', 's','lhaa',\n",
        "                       'qrt', 'd', 'ayyy', 'eptember', 'tu', 'kat', 'd',\n",
        "                        'bdhshshhs', 'denngan','ba', 'ah', 'tuu', 'kaann', \n",
        "                       'nyg', 'hehe', 'pen', 'u', 'nan', 'loh', 'rt', 'je',\n",
        "                       '&amp', 'yah', 'x', 'xf', 'xe', 'first', 'second',\n",
        "                        'the', 'to', 'yaa', 'dirut', 'la', 'pon']\n",
        "alphabets = list(string.ascii_lowercase)\n",
        "stop_words_fix = stop_words + alphabets + stop['stopwords'].to_list()\n",
        "\n",
        "# Function to remove punctuations, links, emojis, and stop words\n",
        "def preprocessTweets(tweet):\n",
        "    tweet = tweet.lower()  #has to be in place\n",
        "    #Remove 'b\n",
        "    tweet = re.sub(r\"b'\", '', tweet)\n",
        "    # Remove urls dan trash\n",
        "    tweet = re.sub(r\"http\\S+|\\\\x\\S+|www\\S+|https\\S+|dot|com\", '', tweet, flags=re.MULTILINE)\n",
        "    # Remove user @ references and '#' from tweet\n",
        "    tweet = re.sub(r'\\@\\w+|\\#|\\d+', '', tweet)\n",
        "    # Remove stopwords\n",
        "    tweet_tokens = word_tokenize(tweet)  # convert string to tokens\n",
        "    filtered_words = [w for w in tweet_tokens if w not in stop_words_fix]\n",
        "    filtered_words = [w for w in tweet_tokens if w not in user_stopwords]\n",
        "\n",
        "    # Remove punctuations\n",
        "    unpunctuated_words = [char for char in filtered_words if char not in string.punctuation]\n",
        "    unpunctuated_words = ' '.join(unpunctuated_words)\n",
        "\n",
        "    return \"\".join(unpunctuated_words)  # join words with a space in between them\n",
        "\n",
        "def tokenkan(text):    \n",
        "  tokens = nltk.tokenize.word_tokenize(text)\n",
        "  return tokens\n",
        "\n",
        "normalizad_word = pd.read_excel(\"drive/MyDrive/normalisasi.xlsx\")\n",
        "normalizad_word_dict = {}\n",
        "for index, row in normalizad_word.iterrows():\n",
        "    if row[0] not in normalizad_word_dict:\n",
        "        normalizad_word_dict[row[0]] = row[1] \n",
        "\n",
        "def normalized_term(document):\n",
        "    return [normalizad_word_dict[term] if term in normalizad_word_dict else term for term in document]\n",
        "\n",
        "def stopwords_removal(words):\n",
        "    return [word for word in words if word not in stop_words]\n",
        "\n",
        "def remove_punct(text):\n",
        "  text_nopunct = ''\n",
        "  text_nopunct = re.sub('['+string.punctuation+']', '', text)\n",
        "  return text_nopunct"
      ],
      "execution_count": 6,
      "outputs": []
    },
    {
      "cell_type": "markdown",
      "metadata": {
        "id": "KqbBWRUErxjO"
      },
      "source": [
        "#Import Libraries"
      ]
    },
    {
      "cell_type": "code",
      "metadata": {
        "id": "a2JRA9A0rwui"
      },
      "source": [
        "import numpy as np\n",
        "import pandas as pd\n",
        "from gensim.models.word2vec import Word2Vec\n",
        "from sklearn.model_selection import train_test_split\n",
        "from tensorflow.keras.utils import to_categorical\n",
        "from keras.layers import Dense, Dropout, Conv1D, MaxPool1D, GlobalMaxPool1D, Embedding, Activation\n",
        "from keras.preprocessing.text import Tokenizer\n",
        "from keras.preprocessing.sequence import pad_sequences\n",
        "from keras.models import Sequential\n",
        "import re\n",
        "import nltk\n",
        "from nltk.corpus import stopwords\n",
        "from nltk.stem.snowball import PorterStemmer\n",
        "from sklearn import preprocessing"
      ],
      "execution_count": 7,
      "outputs": []
    },
    {
      "cell_type": "code",
      "metadata": {
        "colab": {
          "base_uri": "https://localhost:8080/",
          "height": 202
        },
        "id": "4EeZ-wfqEZlW",
        "outputId": "42c958b9-56b3-4c7c-ed05-5c82d0be8cf7"
      },
      "source": [
        "df = pd.read_csv('drive/MyDrive/data_psyco/Text_Preprocessing_Depres_Suicide_990_Terbaru_Fix_3.csv').astype(str)\n",
        "#df = pd.read_csv('drive/MyDrive/data_psyco/Text_Preprocessing_Depres_Suicide_Fix.csv').astype(str)\n",
        "#df.drop(['Unnamed: 0', 'Postingan', 'Postingan_Tokenkan', 'Postingan_Normalized'], axis=1, inplace=True)\n",
        "#df.drop(['Unnamed: 0', 'Postingan'], axis=1, inplace=True)\n",
        "df.columns = ['Category', 'Message']\n",
        "#df['Message'] = df['Message'].apply(remove_punct)\n",
        "df.head()"
      ],
      "execution_count": 8,
      "outputs": [
        {
          "output_type": "execute_result",
          "data": {
            "text/html": [
              "<div>\n",
              "<style scoped>\n",
              "    .dataframe tbody tr th:only-of-type {\n",
              "        vertical-align: middle;\n",
              "    }\n",
              "\n",
              "    .dataframe tbody tr th {\n",
              "        vertical-align: top;\n",
              "    }\n",
              "\n",
              "    .dataframe thead th {\n",
              "        text-align: right;\n",
              "    }\n",
              "</style>\n",
              "<table border=\"1\" class=\"dataframe\">\n",
              "  <thead>\n",
              "    <tr style=\"text-align: right;\">\n",
              "      <th></th>\n",
              "      <th>Category</th>\n",
              "      <th>Message</th>\n",
              "    </tr>\n",
              "  </thead>\n",
              "  <tbody>\n",
              "    <tr>\n",
              "      <th>0</th>\n",
              "      <td>1</td>\n",
              "      <td>depresi cemas rayap</td>\n",
              "    </tr>\n",
              "    <tr>\n",
              "      <th>1</th>\n",
              "      <td>1</td>\n",
              "      <td>depresi buru</td>\n",
              "    </tr>\n",
              "    <tr>\n",
              "      <th>2</th>\n",
              "      <td>1</td>\n",
              "      <td>depresi terusmenerus</td>\n",
              "    </tr>\n",
              "    <tr>\n",
              "      <th>3</th>\n",
              "      <td>1</td>\n",
              "      <td>kali bicara depresi psikologi mata samping jal...</td>\n",
              "    </tr>\n",
              "    <tr>\n",
              "      <th>4</th>\n",
              "      <td>1</td>\n",
              "      <td>depresi lelucon marah</td>\n",
              "    </tr>\n",
              "  </tbody>\n",
              "</table>\n",
              "</div>"
            ],
            "text/plain": [
              "  Category                                            Message\n",
              "0        1                                depresi cemas rayap\n",
              "1        1                                       depresi buru\n",
              "2        1                               depresi terusmenerus\n",
              "3        1  kali bicara depresi psikologi mata samping jal...\n",
              "4        1                              depresi lelucon marah"
            ]
          },
          "metadata": {},
          "execution_count": 8
        }
      ]
    },
    {
      "cell_type": "code",
      "metadata": {
        "colab": {
          "base_uri": "https://localhost:8080/",
          "height": 315
        },
        "id": "ISu6vL3IuAhA",
        "outputId": "1a55e497-34d3-4e34-eaca-0ebaa63ea57a"
      },
      "source": [
        "#check the distribution of lebels\n",
        "labels = df['Category']\n",
        "labels_count = labels.value_counts()\n",
        "labels_count.plot(kind=\"bar\")\n",
        "print(labels.value_counts())"
      ],
      "execution_count": 9,
      "outputs": [
        {
          "output_type": "stream",
          "name": "stdout",
          "text": [
            "0    826\n",
            "1    824\n",
            "Name: Category, dtype: int64\n"
          ]
        },
        {
          "output_type": "display_data",
          "data": {
            "image/png": "[encoded data removed]",
            "text/plain": [
              "<Figure size 432x288 with 1 Axes>"
            ]
          },
          "metadata": {
            "needs_background": "light"
          }
        }
      ]
    },
    {
      "cell_type": "code",
      "metadata": {
        "colab": {
          "base_uri": "https://localhost:8080/"
        },
        "id": "1y7TKJFdrhiQ",
        "outputId": "62c18bfd-056a-498c-9bf4-cd1dcf6f6cd4"
      },
      "source": [
        "mes = []\n",
        "for i in df['Message']:\n",
        "    mes.append(i.split())\n",
        "print(mes[:2])"
      ],
      "execution_count": 10,
      "outputs": [
        {
          "output_type": "stream",
          "name": "stdout",
          "text": [
            "[['depresi', 'cemas', 'rayap'], ['depresi', 'buru']]\n"
          ]
        }
      ]
    },
    {
      "cell_type": "code",
      "metadata": {
        "colab": {
          "base_uri": "https://localhost:8080/"
        },
        "id": "_f6L44Cxrogw",
        "outputId": "3522af48-8051-435b-8b07-ab87541171f1"
      },
      "source": [
        "  word2vec_model = Word2Vec(mes, size=500, window=3, min_count=1, workers=15)\n",
        "print(word2vec_model)"
      ],
      "execution_count": 11,
      "outputs": [
        {
          "output_type": "stream",
          "name": "stdout",
          "text": [
            "Word2Vec(vocab=2772, size=500, alpha=0.025)\n"
          ]
        }
      ]
    },
    {
      "cell_type": "code",
      "metadata": {
        "colab": {
          "base_uri": "https://localhost:8080/"
        },
        "id": "kqOfRnIqsBkV",
        "outputId": "901beb43-868e-4e27-813f-885f105da0a6"
      },
      "source": [
        "token = Tokenizer(2772)\n",
        "token.fit_on_texts(df['Message'])\n",
        "text = token.texts_to_sequences(df['Message'])\n",
        "text = pad_sequences(text, 100)\n",
        "print(text[:2])"
      ],
      "execution_count": 12,
      "outputs": [
        {
          "output_type": "stream",
          "name": "stdout",
          "text": [
            "[[  0   0   0   0   0   0   0   0   0   0   0   0   0   0   0   0   0   0\n",
            "    0   0   0   0   0   0   0   0   0   0   0   0   0   0   0   0   0   0\n",
            "    0   0   0   0   0   0   0   0   0   0   0   0   0   0   0   0   0   0\n",
            "    0   0   0   0   0   0   0   0   0   0   0   0   0   0   0   0   0   0\n",
            "    0   0   0   0   0   0   0   0   0   0   0   0   0   0   0   0   0   0\n",
            "    0   0   0   0   0   0   0   1   7 342]\n",
            " [  0   0   0   0   0   0   0   0   0   0   0   0   0   0   0   0   0   0\n",
            "    0   0   0   0   0   0   0   0   0   0   0   0   0   0   0   0   0   0\n",
            "    0   0   0   0   0   0   0   0   0   0   0   0   0   0   0   0   0   0\n",
            "    0   0   0   0   0   0   0   0   0   0   0   0   0   0   0   0   0   0\n",
            "    0   0   0   0   0   0   0   0   0   0   0   0   0   0   0   0   0   0\n",
            "    0   0   0   0   0   0   0   0   1 477]]\n"
          ]
        }
      ]
    },
    {
      "cell_type": "code",
      "metadata": {
        "colab": {
          "base_uri": "https://localhost:8080/"
        },
        "id": "-hAACB-esQxi",
        "outputId": "809f4ac7-24ce-4d20-90a8-6e1e80577e04"
      },
      "source": [
        "le = preprocessing.LabelEncoder()\n",
        "y = le.fit_transform(df['Category'])\n",
        "y = to_categorical(y)\n",
        "y[:2]"
      ],
      "execution_count": 13,
      "outputs": [
        {
          "output_type": "execute_result",
          "data": {
            "text/plain": [
              "array([[0., 1.],\n",
              "       [0., 1.]], dtype=float32)"
            ]
          },
          "metadata": {},
          "execution_count": 13
        }
      ]
    },
    {
      "cell_type": "code",
      "metadata": {
        "id": "2sDBJsoKstc5"
      },
      "source": [
        "x_train, x_test, y_train, y_test = train_test_split(np.array(text), y, test_size=0.2, stratify=y)"
      ],
      "execution_count": 14,
      "outputs": []
    },
    {
      "cell_type": "code",
      "metadata": {
        "colab": {
          "base_uri": "https://localhost:8080/"
        },
        "id": "yEOuyXiDQMPe",
        "outputId": "2c02009e-868d-46bb-d4dd-466962f23277"
      },
      "source": [
        "print(word2vec_model.wv.get_keras_embedding(True))"
      ],
      "execution_count": 15,
      "outputs": [
        {
          "output_type": "stream",
          "name": "stdout",
          "text": [
            "<keras.layers.embeddings.Embedding object at 0x7f214bdd4fd0>\n"
          ]
        }
      ]
    },
    {
      "cell_type": "code",
      "metadata": {
        "colab": {
          "base_uri": "https://localhost:8080/"
        },
        "id": "61YcjstLsy6s",
        "outputId": "64b52158-d16d-44fa-c6b0-0bcc1f67fda4"
      },
      "source": [
        "keras_model = Sequential()\n",
        "keras_model.add(word2vec_model.wv.get_keras_embedding(True))\n",
        "keras_model.add(Dropout(0.2))\n",
        "keras_model.add(Conv1D(filters=50, kernel_size=3, activation='relu', padding='same', strides=1))\n",
        "keras_model.add(Conv1D(filters=50, kernel_size=3, activation='relu', padding='same', strides=1))\n",
        "keras_model.add(MaxPool1D())\n",
        "keras_model.add(Dropout(0.2))\n",
        "keras_model.add(Conv1D(filters=100, kernel_size=3, activation='relu', padding='same', strides=1))\n",
        "keras_model.add(Conv1D(filters=100, kernel_size=3, activation='relu', padding='same', strides=1))\n",
        "keras_model.add(MaxPool1D())\n",
        "keras_model.add(Dropout(0.2))\n",
        "keras_model.add(Conv1D(filters=200, kernel_size=3, activation='relu', padding='same', strides=1))\n",
        "keras_model.add(Conv1D(filters=200, kernel_size=3, activation='relu', padding='same', strides=1))\n",
        "keras_model.add(GlobalMaxPool1D())\n",
        "keras_model.add(Dropout(0.2))\n",
        "keras_model.add(Dense(200))\n",
        "keras_model.add(Activation('relu'))\n",
        "keras_model.add(Dropout(0.2))\n",
        "keras_model.add(Dense(2))\n",
        "keras_model.add(Activation('sigmoid'))\n",
        "keras_model.compile(loss='binary_crossentropy', metrics=['acc'], optimizer='adam')\n",
        "keras_model.summary()"
      ],
      "execution_count": 16,
      "outputs": [
        {
          "output_type": "stream",
          "name": "stdout",
          "text": [
            "Model: \"sequential\"\n",
            "_________________________________________________________________\n",
            "Layer (type)                 Output Shape              Param #   \n",
            "=================================================================\n",
            "embedding_1 (Embedding)      (None, None, 500)         1386000   \n",
            "_________________________________________________________________\n",
            "dropout (Dropout)            (None, None, 500)         0         \n",
            "_________________________________________________________________\n",
            "conv1d (Conv1D)              (None, None, 50)          75050     \n",
            "_________________________________________________________________\n",
            "conv1d_1 (Conv1D)            (None, None, 50)          7550      \n",
            "_________________________________________________________________\n",
            "max_pooling1d (MaxPooling1D) (None, None, 50)          0         \n",
            "_________________________________________________________________\n",
            "dropout_1 (Dropout)          (None, None, 50)          0         \n",
            "_________________________________________________________________\n",
            "conv1d_2 (Conv1D)            (None, None, 100)         15100     \n",
            "_________________________________________________________________\n",
            "conv1d_3 (Conv1D)            (None, None, 100)         30100     \n",
            "_________________________________________________________________\n",
            "max_pooling1d_1 (MaxPooling1 (None, None, 100)         0         \n",
            "_________________________________________________________________\n",
            "dropout_2 (Dropout)          (None, None, 100)         0         \n",
            "_________________________________________________________________\n",
            "conv1d_4 (Conv1D)            (None, None, 200)         60200     \n",
            "_________________________________________________________________\n",
            "conv1d_5 (Conv1D)            (None, None, 200)         120200    \n",
            "_________________________________________________________________\n",
            "global_max_pooling1d (Global (None, 200)               0         \n",
            "_________________________________________________________________\n",
            "dropout_3 (Dropout)          (None, 200)               0         \n",
            "_________________________________________________________________\n",
            "dense (Dense)                (None, 200)               40200     \n",
            "_________________________________________________________________\n",
            "activation (Activation)      (None, 200)               0         \n",
            "_________________________________________________________________\n",
            "dropout_4 (Dropout)          (None, 200)               0         \n",
            "_________________________________________________________________\n",
            "dense_1 (Dense)              (None, 2)                 402       \n",
            "_________________________________________________________________\n",
            "activation_1 (Activation)    (None, 2)                 0         \n",
            "=================================================================\n",
            "Total params: 1,734,802\n",
            "Trainable params: 1,734,802\n",
            "Non-trainable params: 0\n",
            "_________________________________________________________________\n"
          ]
        }
      ]
    },
    {
      "cell_type": "code",
      "metadata": {
        "id": "cM2S7ThAtz6E",
        "colab": {
          "base_uri": "https://localhost:8080/"
        },
        "outputId": "5aaa0ed3-20d8-4fd1-dfb9-7cff40922d6a"
      },
      "source": [
        "history = keras_model.fit(x_train, y_train, batch_size=16, epochs=4, validation_data=(x_test, y_test))"
      ],
      "execution_count": 17,
      "outputs": [
        {
          "output_type": "stream",
          "name": "stdout",
          "text": [
            "Epoch 1/4\n",
            "83/83 [==============================] - 9s 94ms/step - loss: 0.6863 - acc: 0.4924 - val_loss: 0.4748 - val_acc: 0.5000\n",
            "Epoch 2/4\n",
            "83/83 [==============================] - 8s 92ms/step - loss: 0.3612 - acc: 0.8667 - val_loss: 0.2971 - val_acc: 0.8939\n",
            "Epoch 3/4\n",
            "83/83 [==============================] - 7s 90ms/step - loss: 0.2464 - acc: 0.9136 - val_loss: 0.3216 - val_acc: 0.8455\n",
            "Epoch 4/4\n",
            "83/83 [==============================] - 8s 91ms/step - loss: 0.1334 - acc: 0.9561 - val_loss: 0.2659 - val_acc: 0.9091\n"
          ]
        }
      ]
    },
    {
      "cell_type": "code",
      "metadata": {
        "id": "zPYLJ_RVvIUc",
        "colab": {
          "base_uri": "https://localhost:8080/"
        },
        "outputId": "00a8d89f-1ce0-4136-8ca7-26d42f0fbb0c"
      },
      "source": [
        "#analyze the results\n",
        "score, acc = keras_model.evaluate(x_test, y_test, verbose = 2, batch_size=16)\n",
        "y_pred = keras_model.predict(x_test)\n",
        "#print(y_pred)"
      ],
      "execution_count": 18,
      "outputs": [
        {
          "output_type": "stream",
          "name": "stdout",
          "text": [
            "21/21 - 0s - loss: 0.2659 - acc: 0.9091\n"
          ]
        }
      ]
    },
    {
      "cell_type": "code",
      "metadata": {
        "id": "VNkDDiqFvaWX"
      },
      "source": [
        "#Other accuracy metrices\n",
        "#y_pred = (y_pred > 0.5)"
      ],
      "execution_count": 19,
      "outputs": []
    },
    {
      "cell_type": "code",
      "metadata": {
        "id": "A_aUR_BqvdcN",
        "colab": {
          "base_uri": "https://localhost:8080/",
          "height": 455
        },
        "outputId": "d8b90f7f-1035-4ca1-ff5f-f2bcb7500c5a"
      },
      "source": [
        "from sklearn.metrics import confusion_matrix, classification_report\n",
        "import seaborn as sns\n",
        "\n",
        "cm=confusion_matrix(y_test.argmax(axis=1),y_pred.argmax(axis=1))\n",
        "ax=sns.heatmap(cm,annot=True,cmap='Blues',fmt='')\n",
        "ax.set_title('Confusion Matrix')\n",
        "ax.set_xlabel('y_test')\n",
        "ax.set_ylabel('y_pred')\n",
        "\n",
        "#F1 Score, Recall and Precision\n",
        "print(classification_report(y_test.argmax(axis=1), y_pred.argmax(axis=1)))"
      ],
      "execution_count": 20,
      "outputs": [
        {
          "output_type": "stream",
          "name": "stdout",
          "text": [
            "              precision    recall  f1-score   support\n",
            "\n",
            "           0       0.89      0.93      0.91       165\n",
            "           1       0.93      0.88      0.91       165\n",
            "\n",
            "    accuracy                           0.91       330\n",
            "   macro avg       0.91      0.91      0.91       330\n",
            "weighted avg       0.91      0.91      0.91       330\n",
            "\n"
          ]
        },
        {
          "output_type": "display_data",
          "data": {
            "image/png": "[encoded data removed]",
            "text/plain": [
              "<Figure size 432x288 with 2 Axes>"
            ]
          },
          "metadata": {
            "needs_background": "light"
          }
        }
      ]
    },
    {
      "cell_type": "code",
      "metadata": {
        "id": "K3Y-pmHYwlaF"
      },
      "source": [
        "import matplotlib.pyplot as plt"
      ],
      "execution_count": 21,
      "outputs": []
    },
    {
      "cell_type": "code",
      "metadata": {
        "id": "N0z2R2VJwn9a",
        "colab": {
          "base_uri": "https://localhost:8080/",
          "height": 336
        },
        "outputId": "6928a09f-8d65-45ed-d42f-e47d7dc95ff1"
      },
      "source": [
        "plt.style.use('ggplot')\n",
        "\n",
        "def plot_history(history):\n",
        "    accuracy = history.history['acc']\n",
        "    val_accuracy = history.history['val_acc']\n",
        "    loss = history.history['loss']\n",
        "    val_loss = history.history['val_loss']\n",
        "    x = range(1, len(accuracy) + 1)\n",
        "\n",
        "    plt.figure(figsize=(12, 5))\n",
        "    plt.subplot(1, 2, 1)\n",
        "    plt.plot(x, accuracy, 'b', label='Training accuracy')\n",
        "    plt.plot(x, val_accuracy, 'r', label='Validation accuracy')\n",
        "    plt.title('Training and validation accuracy')\n",
        "    plt.legend()\n",
        "    plt.subplot(1, 2, 2)\n",
        "    plt.plot(x, loss, 'b', label='Training loss')\n",
        "    plt.plot(x, val_loss, 'r', label='Validation loss')\n",
        "    plt.title('Training and validation loss')\n",
        "    plt.legend()\n",
        "\n",
        "%matplotlib inline\n",
        "plot_history(history)"
      ],
      "execution_count": 22,
      "outputs": [
        {
          "output_type": "display_data",
          "data": {
            "image/png": "[encoded data removed]",
            "text/plain": [
              "<Figure size 864x360 with 2 Axes>"
            ]
          },
          "metadata": {
            "needs_background": "light"
          }
        }
      ]
    },
    {
      "cell_type": "code",
      "metadata": {
        "id": "bT21pR2Gw0mi"
      },
      "source": [
        "keras_model.save('drive/MyDrive/data_psyco/otw_sidang_sigmoid/98_depresi_1000_and_suicide_cnn_16b_4e_laporan.h5')"
      ],
      "execution_count": 27,
      "outputs": []
    },
    {
      "cell_type": "markdown",
      "metadata": {
        "id": "JoBQ6DRp4QM8"
      },
      "source": [
        "# Import Libraries"
      ]
    },
    {
      "cell_type": "code",
      "metadata": {
        "id": "RB6JItCcrB8K"
      },
      "source": [
        "def text_preprocessing(text):\n",
        "  df['preprocess_awal'] = text.apply(preprocessTweets)\n",
        "  df['tokenkan'] = df['preprocess_awal'].apply(tokenkan)\n",
        "  df['normalized'] = df['tokenkan'].apply(normalized_term)\n",
        "  df['normalized'] = df['normalized'].apply(stopwords_removal)\n",
        "\n",
        "  # create stemmer\n",
        "  factory = StemmerFactory()\n",
        "  stemmer = factory.create_stemmer()\n",
        "\n",
        "  # stemmed\n",
        "  def stemmed_wrapper(term):\n",
        "      return stemmer.stem(term)\n",
        "\n",
        "  term_dict = {}\n",
        "\n",
        "  for document in df['normalized']:\n",
        "      for term in document:\n",
        "          if term not in term_dict:\n",
        "              term_dict[term] = ' '\n",
        "              \n",
        "  #print(len(term_dict))\n",
        "  print(\"------------------------\")\n",
        "\n",
        "  for term in term_dict:\n",
        "      term_dict[term] = stemmed_wrapper(term)\n",
        "      print(term,\":\" ,term_dict[term])\n",
        "      \n",
        "  #print(term_dict)\n",
        "  print(\"------------------------\")\n",
        "\n",
        "\n",
        "  # apply stemmed term to dataframe\n",
        "  def get_stemmed_term(document):\n",
        "      return [term_dict[term] for term in document]\n",
        "\n",
        "  df['stemmed'] = df['normalized'].swifter.apply(get_stemmed_term)\n",
        "  #print(df['stemmed'])\n",
        "\n",
        "  def remove_punct(text):\n",
        "    text_nopunct = ''\n",
        "    text_nopunct = re.sub('['+string.punctuation+']', '', text)\n",
        "    return text_nopunct\n",
        "\n",
        "  df['stemmed'] = df['stemmed'].astype(str)\n",
        "  df['stemmed'] = df['stemmed'].apply(remove_punct)"
      ],
      "execution_count": 24,
      "outputs": []
    },
    {
      "cell_type": "code",
      "metadata": {
        "id": "nfaIMv6NLeRR",
        "colab": {
          "base_uri": "https://localhost:8080/",
          "height": 235,
          "referenced_widgets": [
            "21b4cf720146484ebccd2f2fa3b3018b",
            "d247fac76d224287b2d7312612b4a99e",
            "333a17fe5f27419ea06e1494259a4169",
            "e8c79809ae564eba888398c6165a7788",
            "34cad17f14d1435185112cd4f06a941b",
            "8bf76b7ba9654e1799c075c5b5fe2833",
            "2919c6e015e64459be3ea171577cb9f8",
            "32968ca57a594a29ad0f566d5e85318d",
            "c82bb924e62147dca14dc2452b82e640",
            "145936275e0147f1a3b9d603ce467282",
            "6d0a8136c310440f8eb7a95b832a657d"
          ]
        },
        "outputId": "8dbd8558-fe62-42aa-c7d5-9b32ea5433c5"
      },
      "source": [
        "Xo = 'Aku ingin ice cream'\n",
        "Yo = 'lelah dengan hidup ini. Nak mati aku dah penat #depresi'\n",
        "datax = {'Postingan':[Yo]}\n",
        "df = pd.DataFrame(datax)\n",
        "text_preprocessing(df['Postingan'])\n",
        "df.head()"
      ],
      "execution_count": 25,
      "outputs": [
        {
          "output_type": "stream",
          "name": "stdout",
          "text": [
            "------------------------\n",
            "lelah : lelah\n",
            "hidup : hidup\n",
            "mati : mati\n",
            "penat : penat\n",
            "depresi : depresi\n",
            "------------------------\n"
          ]
        },
        {
          "output_type": "display_data",
          "data": {
            "application/vnd.jupyter.widget-view+json": {
              "model_id": "21b4cf720146484ebccd2f2fa3b3018b",
              "version_minor": 0,
              "version_major": 2
            },
            "text/plain": [
              "Pandas Apply:   0%|          | 0/1 [00:00<?, ?it/s]"
            ]
          },
          "metadata": {}
        },
        {
          "output_type": "execute_result",
          "data": {
            "text/html": [
              "<div>\n",
              "<style scoped>\n",
              "    .dataframe tbody tr th:only-of-type {\n",
              "        vertical-align: middle;\n",
              "    }\n",
              "\n",
              "    .dataframe tbody tr th {\n",
              "        vertical-align: top;\n",
              "    }\n",
              "\n",
              "    .dataframe thead th {\n",
              "        text-align: right;\n",
              "    }\n",
              "</style>\n",
              "<table border=\"1\" class=\"dataframe\">\n",
              "  <thead>\n",
              "    <tr style=\"text-align: right;\">\n",
              "      <th></th>\n",
              "      <th>Postingan</th>\n",
              "      <th>preprocess_awal</th>\n",
              "      <th>tokenkan</th>\n",
              "      <th>normalized</th>\n",
              "      <th>stemmed</th>\n",
              "    </tr>\n",
              "  </thead>\n",
              "  <tbody>\n",
              "    <tr>\n",
              "      <th>0</th>\n",
              "      <td>lelah dengan hidup ini. Nak mati aku dah penat...</td>\n",
              "      <td>lelah dengan hidup ini nak mati aku dah penat ...</td>\n",
              "      <td>[lelah, dengan, hidup, ini, nak, mati, aku, da...</td>\n",
              "      <td>[lelah, hidup, mati, penat, depresi]</td>\n",
              "      <td>lelah hidup mati penat depresi</td>\n",
              "    </tr>\n",
              "  </tbody>\n",
              "</table>\n",
              "</div>"
            ],
            "text/plain": [
              "                                           Postingan  ...                         stemmed\n",
              "0  lelah dengan hidup ini. Nak mati aku dah penat...  ...  lelah hidup mati penat depresi\n",
              "\n",
              "[1 rows x 5 columns]"
            ]
          },
          "metadata": {},
          "execution_count": 25
        }
      ]
    },
    {
      "cell_type": "code",
      "metadata": {
        "id": "gb56dTejLmNq",
        "colab": {
          "base_uri": "https://localhost:8080/"
        },
        "outputId": "ca607beb-13df-4ff5-b453-d3e7279ddb2e"
      },
      "source": [
        "X_sample = token.texts_to_sequences(df['stemmed'])\n",
        "print(X_sample)\n",
        "X_sample = pad_sequences(X_sample, 100)\n",
        "print(X_sample)\n",
        "y_sample = keras_model.predict(X_sample)\n",
        "print(y_sample)\n",
        "hasil = np.argmax(y_sample)\n",
        "\n",
        "print(hasil)\n",
        "if (hasil == 0) :\n",
        "  print('tidak mengidap gangguan psikologis')\n",
        "else:\n",
        "  print('mengidap gangguan psikologis')"
      ],
      "execution_count": 26,
      "outputs": [
        {
          "output_type": "stream",
          "name": "stdout",
          "text": [
            "[[64, 4, 2, 843, 1]]\n",
            "[[  0   0   0   0   0   0   0   0   0   0   0   0   0   0   0   0   0   0\n",
            "    0   0   0   0   0   0   0   0   0   0   0   0   0   0   0   0   0   0\n",
            "    0   0   0   0   0   0   0   0   0   0   0   0   0   0   0   0   0   0\n",
            "    0   0   0   0   0   0   0   0   0   0   0   0   0   0   0   0   0   0\n",
            "    0   0   0   0   0   0   0   0   0   0   0   0   0   0   0   0   0   0\n",
            "    0   0   0   0   0  64   4   2 843   1]]\n",
            "[[4.3308735e-04 9.9937534e-01]]\n",
            "1\n",
            "mengidap gangguan psikologis\n"
          ]
        }
      ]
    }
  ]
}