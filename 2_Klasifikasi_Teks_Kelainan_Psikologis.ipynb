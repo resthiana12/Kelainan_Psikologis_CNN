{
  "nbformat": 4,
  "nbformat_minor": 0,
  "metadata": {
    "colab": {
      "name": "2_Klasifikasi_Teks_Kelainan_Psikologis.ipynb",
      "provenance": [],
      "collapsed_sections": [],
      "mount_file_id": "10gmwaDA2hGfH_l8quXei4Tb4Apa9fAgf",
      "authorship_tag": "ABX9TyNsxw7GOjcHYIdcNvZrXyo5",
      "include_colab_link": true
    },
    "kernelspec": {
      "name": "python3",
      "display_name": "Python 3"
    },
    "language_info": {
      "name": "python"
    },
    "widgets": {
      "application/vnd.jupyter.widget-state+json": {
        "ec1c190f18384502b9576e9b940492c0": {
          "model_module": "@jupyter-widgets/controls",
          "model_name": "HBoxModel",
          "model_module_version": "1.5.0",
          "state": {
            "_view_name": "HBoxView",
            "_dom_classes": [],
            "_model_name": "HBoxModel",
            "_view_module": "@jupyter-widgets/controls",
            "_model_module_version": "1.5.0",
            "_view_count": null,
            "_view_module_version": "1.5.0",
            "box_style": "",
            "layout": "IPY_MODEL_e7ab39dc43eb4ebc97d52357c14af652",
            "_model_module": "@jupyter-widgets/controls",
            "children": [
              "IPY_MODEL_5f50c1af8f824839be9610e450eedc80",
              "IPY_MODEL_10222c3208654bd68a4aaeaa45ee1886",
              "IPY_MODEL_007d677248164144b4ee48d86dc2ba33"
            ]
          }
        },
        "e7ab39dc43eb4ebc97d52357c14af652": {
          "model_module": "@jupyter-widgets/base",
          "model_name": "LayoutModel",
          "model_module_version": "1.2.0",
          "state": {
            "_view_name": "LayoutView",
            "grid_template_rows": null,
            "right": null,
            "justify_content": null,
            "_view_module": "@jupyter-widgets/base",
            "overflow": null,
            "_model_module_version": "1.2.0",
            "_view_count": null,
            "flex_flow": null,
            "width": null,
            "min_width": null,
            "border": null,
            "align_items": null,
            "bottom": null,
            "_model_module": "@jupyter-widgets/base",
            "top": null,
            "grid_column": null,
            "overflow_y": null,
            "overflow_x": null,
            "grid_auto_flow": null,
            "grid_area": null,
            "grid_template_columns": null,
            "flex": null,
            "_model_name": "LayoutModel",
            "justify_items": null,
            "grid_row": null,
            "max_height": null,
            "align_content": null,
            "visibility": null,
            "align_self": null,
            "height": null,
            "min_height": null,
            "padding": null,
            "grid_auto_rows": null,
            "grid_gap": null,
            "max_width": null,
            "order": null,
            "_view_module_version": "1.2.0",
            "grid_template_areas": null,
            "object_position": null,
            "object_fit": null,
            "grid_auto_columns": null,
            "margin": null,
            "display": null,
            "left": null
          }
        },
        "5f50c1af8f824839be9610e450eedc80": {
          "model_module": "@jupyter-widgets/controls",
          "model_name": "HTMLModel",
          "model_module_version": "1.5.0",
          "state": {
            "_view_name": "HTMLView",
            "style": "IPY_MODEL_0d6e6c6de90e4e8bbc32038183852edd",
            "_dom_classes": [],
            "description": "",
            "_model_name": "HTMLModel",
            "placeholder": "​",
            "_view_module": "@jupyter-widgets/controls",
            "_model_module_version": "1.5.0",
            "value": "Pandas Apply: 100%",
            "_view_count": null,
            "_view_module_version": "1.5.0",
            "description_tooltip": null,
            "_model_module": "@jupyter-widgets/controls",
            "layout": "IPY_MODEL_074fe3b313f54810b07ec2df70129cd6"
          }
        },
        "10222c3208654bd68a4aaeaa45ee1886": {
          "model_module": "@jupyter-widgets/controls",
          "model_name": "FloatProgressModel",
          "model_module_version": "1.5.0",
          "state": {
            "_view_name": "ProgressView",
            "style": "IPY_MODEL_8853b7edc6c7481d9560a0a93fdb76b7",
            "_dom_classes": [],
            "description": "",
            "_model_name": "FloatProgressModel",
            "bar_style": "success",
            "max": 1,
            "_view_module": "@jupyter-widgets/controls",
            "_model_module_version": "1.5.0",
            "value": 1,
            "_view_count": null,
            "_view_module_version": "1.5.0",
            "orientation": "horizontal",
            "min": 0,
            "description_tooltip": null,
            "_model_module": "@jupyter-widgets/controls",
            "layout": "IPY_MODEL_b69c2ecd07304bef91a8e4d6dbb2d8be"
          }
        },
        "007d677248164144b4ee48d86dc2ba33": {
          "model_module": "@jupyter-widgets/controls",
          "model_name": "HTMLModel",
          "model_module_version": "1.5.0",
          "state": {
            "_view_name": "HTMLView",
            "style": "IPY_MODEL_d9ce8ed30d06496b9279e45d43ce1531",
            "_dom_classes": [],
            "description": "",
            "_model_name": "HTMLModel",
            "placeholder": "​",
            "_view_module": "@jupyter-widgets/controls",
            "_model_module_version": "1.5.0",
            "value": " 1/1 [00:00&lt;00:00, 17.62it/s]",
            "_view_count": null,
            "_view_module_version": "1.5.0",
            "description_tooltip": null,
            "_model_module": "@jupyter-widgets/controls",
            "layout": "IPY_MODEL_4659227e11bf418591c2878f499915e1"
          }
        },
        "0d6e6c6de90e4e8bbc32038183852edd": {
          "model_module": "@jupyter-widgets/controls",
          "model_name": "DescriptionStyleModel",
          "model_module_version": "1.5.0",
          "state": {
            "_view_name": "StyleView",
            "_model_name": "DescriptionStyleModel",
            "description_width": "",
            "_view_module": "@jupyter-widgets/base",
            "_model_module_version": "1.5.0",
            "_view_count": null,
            "_view_module_version": "1.2.0",
            "_model_module": "@jupyter-widgets/controls"
          }
        },
        "074fe3b313f54810b07ec2df70129cd6": {
          "model_module": "@jupyter-widgets/base",
          "model_name": "LayoutModel",
          "model_module_version": "1.2.0",
          "state": {
            "_view_name": "LayoutView",
            "grid_template_rows": null,
            "right": null,
            "justify_content": null,
            "_view_module": "@jupyter-widgets/base",
            "overflow": null,
            "_model_module_version": "1.2.0",
            "_view_count": null,
            "flex_flow": null,
            "width": null,
            "min_width": null,
            "border": null,
            "align_items": null,
            "bottom": null,
            "_model_module": "@jupyter-widgets/base",
            "top": null,
            "grid_column": null,
            "overflow_y": null,
            "overflow_x": null,
            "grid_auto_flow": null,
            "grid_area": null,
            "grid_template_columns": null,
            "flex": null,
            "_model_name": "LayoutModel",
            "justify_items": null,
            "grid_row": null,
            "max_height": null,
            "align_content": null,
            "visibility": null,
            "align_self": null,
            "height": null,
            "min_height": null,
            "padding": null,
            "grid_auto_rows": null,
            "grid_gap": null,
            "max_width": null,
            "order": null,
            "_view_module_version": "1.2.0",
            "grid_template_areas": null,
            "object_position": null,
            "object_fit": null,
            "grid_auto_columns": null,
            "margin": null,
            "display": null,
            "left": null
          }
        },
        "8853b7edc6c7481d9560a0a93fdb76b7": {
          "model_module": "@jupyter-widgets/controls",
          "model_name": "ProgressStyleModel",
          "model_module_version": "1.5.0",
          "state": {
            "_view_name": "StyleView",
            "_model_name": "ProgressStyleModel",
            "description_width": "",
            "_view_module": "@jupyter-widgets/base",
            "_model_module_version": "1.5.0",
            "_view_count": null,
            "_view_module_version": "1.2.0",
            "bar_color": null,
            "_model_module": "@jupyter-widgets/controls"
          }
        },
        "b69c2ecd07304bef91a8e4d6dbb2d8be": {
          "model_module": "@jupyter-widgets/base",
          "model_name": "LayoutModel",
          "model_module_version": "1.2.0",
          "state": {
            "_view_name": "LayoutView",
            "grid_template_rows": null,
            "right": null,
            "justify_content": null,
            "_view_module": "@jupyter-widgets/base",
            "overflow": null,
            "_model_module_version": "1.2.0",
            "_view_count": null,
            "flex_flow": null,
            "width": null,
            "min_width": null,
            "border": null,
            "align_items": null,
            "bottom": null,
            "_model_module": "@jupyter-widgets/base",
            "top": null,
            "grid_column": null,
            "overflow_y": null,
            "overflow_x": null,
            "grid_auto_flow": null,
            "grid_area": null,
            "grid_template_columns": null,
            "flex": null,
            "_model_name": "LayoutModel",
            "justify_items": null,
            "grid_row": null,
            "max_height": null,
            "align_content": null,
            "visibility": null,
            "align_self": null,
            "height": null,
            "min_height": null,
            "padding": null,
            "grid_auto_rows": null,
            "grid_gap": null,
            "max_width": null,
            "order": null,
            "_view_module_version": "1.2.0",
            "grid_template_areas": null,
            "object_position": null,
            "object_fit": null,
            "grid_auto_columns": null,
            "margin": null,
            "display": null,
            "left": null
          }
        },
        "d9ce8ed30d06496b9279e45d43ce1531": {
          "model_module": "@jupyter-widgets/controls",
          "model_name": "DescriptionStyleModel",
          "model_module_version": "1.5.0",
          "state": {
            "_view_name": "StyleView",
            "_model_name": "DescriptionStyleModel",
            "description_width": "",
            "_view_module": "@jupyter-widgets/base",
            "_model_module_version": "1.5.0",
            "_view_count": null,
            "_view_module_version": "1.2.0",
            "_model_module": "@jupyter-widgets/controls"
          }
        },
        "4659227e11bf418591c2878f499915e1": {
          "model_module": "@jupyter-widgets/base",
          "model_name": "LayoutModel",
          "model_module_version": "1.2.0",
          "state": {
            "_view_name": "LayoutView",
            "grid_template_rows": null,
            "right": null,
            "justify_content": null,
            "_view_module": "@jupyter-widgets/base",
            "overflow": null,
            "_model_module_version": "1.2.0",
            "_view_count": null,
            "flex_flow": null,
            "width": null,
            "min_width": null,
            "border": null,
            "align_items": null,
            "bottom": null,
            "_model_module": "@jupyter-widgets/base",
            "top": null,
            "grid_column": null,
            "overflow_y": null,
            "overflow_x": null,
            "grid_auto_flow": null,
            "grid_area": null,
            "grid_template_columns": null,
            "flex": null,
            "_model_name": "LayoutModel",
            "justify_items": null,
            "grid_row": null,
            "max_height": null,
            "align_content": null,
            "visibility": null,
            "align_self": null,
            "height": null,
            "min_height": null,
            "padding": null,
            "grid_auto_rows": null,
            "grid_gap": null,
            "max_width": null,
            "order": null,
            "_view_module_version": "1.2.0",
            "grid_template_areas": null,
            "object_position": null,
            "object_fit": null,
            "grid_auto_columns": null,
            "margin": null,
            "display": null,
            "left": null
          }
        },
        "f3de1c43a142497b958c8050ae5ec58b": {
          "model_module": "@jupyter-widgets/controls",
          "model_name": "HBoxModel",
          "model_module_version": "1.5.0",
          "state": {
            "_view_name": "HBoxView",
            "_dom_classes": [],
            "_model_name": "HBoxModel",
            "_view_module": "@jupyter-widgets/controls",
            "_model_module_version": "1.5.0",
            "_view_count": null,
            "_view_module_version": "1.5.0",
            "box_style": "",
            "layout": "IPY_MODEL_45ce6d0f7b494e05804aa160593ce63b",
            "_model_module": "@jupyter-widgets/controls",
            "children": [
              "IPY_MODEL_ddd4b5c2019646f3af6dc70b18b036cd",
              "IPY_MODEL_0b6267562cdc446aa1ea1ddb3d17d53f",
              "IPY_MODEL_dded0f999ca2492f8563b68e74c970ae"
            ]
          }
        },
        "45ce6d0f7b494e05804aa160593ce63b": {
          "model_module": "@jupyter-widgets/base",
          "model_name": "LayoutModel",
          "model_module_version": "1.2.0",
          "state": {
            "_view_name": "LayoutView",
            "grid_template_rows": null,
            "right": null,
            "justify_content": null,
            "_view_module": "@jupyter-widgets/base",
            "overflow": null,
            "_model_module_version": "1.2.0",
            "_view_count": null,
            "flex_flow": null,
            "width": null,
            "min_width": null,
            "border": null,
            "align_items": null,
            "bottom": null,
            "_model_module": "@jupyter-widgets/base",
            "top": null,
            "grid_column": null,
            "overflow_y": null,
            "overflow_x": null,
            "grid_auto_flow": null,
            "grid_area": null,
            "grid_template_columns": null,
            "flex": null,
            "_model_name": "LayoutModel",
            "justify_items": null,
            "grid_row": null,
            "max_height": null,
            "align_content": null,
            "visibility": null,
            "align_self": null,
            "height": null,
            "min_height": null,
            "padding": null,
            "grid_auto_rows": null,
            "grid_gap": null,
            "max_width": null,
            "order": null,
            "_view_module_version": "1.2.0",
            "grid_template_areas": null,
            "object_position": null,
            "object_fit": null,
            "grid_auto_columns": null,
            "margin": null,
            "display": null,
            "left": null
          }
        },
        "ddd4b5c2019646f3af6dc70b18b036cd": {
          "model_module": "@jupyter-widgets/controls",
          "model_name": "HTMLModel",
          "model_module_version": "1.5.0",
          "state": {
            "_view_name": "HTMLView",
            "style": "IPY_MODEL_9949523003384ccab8577c23701841b4",
            "_dom_classes": [],
            "description": "",
            "_model_name": "HTMLModel",
            "placeholder": "​",
            "_view_module": "@jupyter-widgets/controls",
            "_model_module_version": "1.5.0",
            "value": "Pandas Apply: 100%",
            "_view_count": null,
            "_view_module_version": "1.5.0",
            "description_tooltip": null,
            "_model_module": "@jupyter-widgets/controls",
            "layout": "IPY_MODEL_797dd4a001d74bd3a401a35e4d40bb4b"
          }
        },
        "0b6267562cdc446aa1ea1ddb3d17d53f": {
          "model_module": "@jupyter-widgets/controls",
          "model_name": "FloatProgressModel",
          "model_module_version": "1.5.0",
          "state": {
            "_view_name": "ProgressView",
            "style": "IPY_MODEL_b2de8c6b9ed54b07a90668a6439c973b",
            "_dom_classes": [],
            "description": "",
            "_model_name": "FloatProgressModel",
            "bar_style": "success",
            "max": 20,
            "_view_module": "@jupyter-widgets/controls",
            "_model_module_version": "1.5.0",
            "value": 20,
            "_view_count": null,
            "_view_module_version": "1.5.0",
            "orientation": "horizontal",
            "min": 0,
            "description_tooltip": null,
            "_model_module": "@jupyter-widgets/controls",
            "layout": "IPY_MODEL_9dee15e701a8496d863dc8b196a54d06"
          }
        },
        "dded0f999ca2492f8563b68e74c970ae": {
          "model_module": "@jupyter-widgets/controls",
          "model_name": "HTMLModel",
          "model_module_version": "1.5.0",
          "state": {
            "_view_name": "HTMLView",
            "style": "IPY_MODEL_f74d83eb4e7b44c7984a195eb76ca01d",
            "_dom_classes": [],
            "description": "",
            "_model_name": "HTMLModel",
            "placeholder": "​",
            "_view_module": "@jupyter-widgets/controls",
            "_model_module_version": "1.5.0",
            "value": " 20/20 [00:00&lt;00:00, 341.95it/s]",
            "_view_count": null,
            "_view_module_version": "1.5.0",
            "description_tooltip": null,
            "_model_module": "@jupyter-widgets/controls",
            "layout": "IPY_MODEL_1c5a76f8565d4138a2096856783d5656"
          }
        },
        "9949523003384ccab8577c23701841b4": {
          "model_module": "@jupyter-widgets/controls",
          "model_name": "DescriptionStyleModel",
          "model_module_version": "1.5.0",
          "state": {
            "_view_name": "StyleView",
            "_model_name": "DescriptionStyleModel",
            "description_width": "",
            "_view_module": "@jupyter-widgets/base",
            "_model_module_version": "1.5.0",
            "_view_count": null,
            "_view_module_version": "1.2.0",
            "_model_module": "@jupyter-widgets/controls"
          }
        },
        "797dd4a001d74bd3a401a35e4d40bb4b": {
          "model_module": "@jupyter-widgets/base",
          "model_name": "LayoutModel",
          "model_module_version": "1.2.0",
          "state": {
            "_view_name": "LayoutView",
            "grid_template_rows": null,
            "right": null,
            "justify_content": null,
            "_view_module": "@jupyter-widgets/base",
            "overflow": null,
            "_model_module_version": "1.2.0",
            "_view_count": null,
            "flex_flow": null,
            "width": null,
            "min_width": null,
            "border": null,
            "align_items": null,
            "bottom": null,
            "_model_module": "@jupyter-widgets/base",
            "top": null,
            "grid_column": null,
            "overflow_y": null,
            "overflow_x": null,
            "grid_auto_flow": null,
            "grid_area": null,
            "grid_template_columns": null,
            "flex": null,
            "_model_name": "LayoutModel",
            "justify_items": null,
            "grid_row": null,
            "max_height": null,
            "align_content": null,
            "visibility": null,
            "align_self": null,
            "height": null,
            "min_height": null,
            "padding": null,
            "grid_auto_rows": null,
            "grid_gap": null,
            "max_width": null,
            "order": null,
            "_view_module_version": "1.2.0",
            "grid_template_areas": null,
            "object_position": null,
            "object_fit": null,
            "grid_auto_columns": null,
            "margin": null,
            "display": null,
            "left": null
          }
        },
        "b2de8c6b9ed54b07a90668a6439c973b": {
          "model_module": "@jupyter-widgets/controls",
          "model_name": "ProgressStyleModel",
          "model_module_version": "1.5.0",
          "state": {
            "_view_name": "StyleView",
            "_model_name": "ProgressStyleModel",
            "description_width": "",
            "_view_module": "@jupyter-widgets/base",
            "_model_module_version": "1.5.0",
            "_view_count": null,
            "_view_module_version": "1.2.0",
            "bar_color": null,
            "_model_module": "@jupyter-widgets/controls"
          }
        },
        "9dee15e701a8496d863dc8b196a54d06": {
          "model_module": "@jupyter-widgets/base",
          "model_name": "LayoutModel",
          "model_module_version": "1.2.0",
          "state": {
            "_view_name": "LayoutView",
            "grid_template_rows": null,
            "right": null,
            "justify_content": null,
            "_view_module": "@jupyter-widgets/base",
            "overflow": null,
            "_model_module_version": "1.2.0",
            "_view_count": null,
            "flex_flow": null,
            "width": null,
            "min_width": null,
            "border": null,
            "align_items": null,
            "bottom": null,
            "_model_module": "@jupyter-widgets/base",
            "top": null,
            "grid_column": null,
            "overflow_y": null,
            "overflow_x": null,
            "grid_auto_flow": null,
            "grid_area": null,
            "grid_template_columns": null,
            "flex": null,
            "_model_name": "LayoutModel",
            "justify_items": null,
            "grid_row": null,
            "max_height": null,
            "align_content": null,
            "visibility": null,
            "align_self": null,
            "height": null,
            "min_height": null,
            "padding": null,
            "grid_auto_rows": null,
            "grid_gap": null,
            "max_width": null,
            "order": null,
            "_view_module_version": "1.2.0",
            "grid_template_areas": null,
            "object_position": null,
            "object_fit": null,
            "grid_auto_columns": null,
            "margin": null,
            "display": null,
            "left": null
          }
        },
        "f74d83eb4e7b44c7984a195eb76ca01d": {
          "model_module": "@jupyter-widgets/controls",
          "model_name": "DescriptionStyleModel",
          "model_module_version": "1.5.0",
          "state": {
            "_view_name": "StyleView",
            "_model_name": "DescriptionStyleModel",
            "description_width": "",
            "_view_module": "@jupyter-widgets/base",
            "_model_module_version": "1.5.0",
            "_view_count": null,
            "_view_module_version": "1.2.0",
            "_model_module": "@jupyter-widgets/controls"
          }
        },
        "1c5a76f8565d4138a2096856783d5656": {
          "model_module": "@jupyter-widgets/base",
          "model_name": "LayoutModel",
          "model_module_version": "1.2.0",
          "state": {
            "_view_name": "LayoutView",
            "grid_template_rows": null,
            "right": null,
            "justify_content": null,
            "_view_module": "@jupyter-widgets/base",
            "overflow": null,
            "_model_module_version": "1.2.0",
            "_view_count": null,
            "flex_flow": null,
            "width": null,
            "min_width": null,
            "border": null,
            "align_items": null,
            "bottom": null,
            "_model_module": "@jupyter-widgets/base",
            "top": null,
            "grid_column": null,
            "overflow_y": null,
            "overflow_x": null,
            "grid_auto_flow": null,
            "grid_area": null,
            "grid_template_columns": null,
            "flex": null,
            "_model_name": "LayoutModel",
            "justify_items": null,
            "grid_row": null,
            "max_height": null,
            "align_content": null,
            "visibility": null,
            "align_self": null,
            "height": null,
            "min_height": null,
            "padding": null,
            "grid_auto_rows": null,
            "grid_gap": null,
            "max_width": null,
            "order": null,
            "_view_module_version": "1.2.0",
            "grid_template_areas": null,
            "object_position": null,
            "object_fit": null,
            "grid_auto_columns": null,
            "margin": null,
            "display": null,
            "left": null
          }
        }
      }
    }
  },
  "cells": [
    {
      "cell_type": "markdown",
      "metadata": {
        "id": "view-in-github",
        "colab_type": "text"
      },
      "source": [
        "<a href=\"https://colab.research.google.com/github/resthiana12/Kelainan_Psikologis_CNN/blob/main/2_Klasifikasi_Teks_Kelainan_Psikologis.ipynb\" target=\"_parent\"><img src=\"https://colab.research.google.com/assets/colab-badge.svg\" alt=\"Open In Colab\"/></a>"
      ]
    },
    {
      "cell_type": "markdown",
      "metadata": {
        "id": "6A_QnXzyGKfb"
      },
      "source": [
        "**#Install Package yang Dibutuhkan**"
      ]
    },
    {
      "cell_type": "code",
      "metadata": {
        "id": "jE7-3YxZFucC",
        "colab": {
          "base_uri": "https://localhost:8080/"
        },
        "outputId": "b285db11-14e1-4d58-df38-afb175682bfb"
      },
      "source": [
        "pip install emot"
      ],
      "execution_count": null,
      "outputs": [
        {
          "output_type": "stream",
          "text": [
            "Collecting emot\n",
            "  Downloading emot-3.1-py3-none-any.whl (61 kB)\n",
            "\u001b[?25l\r\u001b[K     |█████▎                          | 10 kB 26.5 MB/s eta 0:00:01\r\u001b[K     |██████████▋                     | 20 kB 30.6 MB/s eta 0:00:01\r\u001b[K     |████████████████                | 30 kB 33.4 MB/s eta 0:00:01\r\u001b[K     |█████████████████████▎          | 40 kB 35.1 MB/s eta 0:00:01\r\u001b[K     |██████████████████████████▋     | 51 kB 35.7 MB/s eta 0:00:01\r\u001b[K     |████████████████████████████████| 61 kB 36.8 MB/s eta 0:00:01\r\u001b[K     |████████████████████████████████| 61 kB 22 kB/s \n",
            "\u001b[?25hInstalling collected packages: emot\n",
            "Successfully installed emot-3.1\n"
          ],
          "name": "stdout"
        }
      ]
    },
    {
      "cell_type": "code",
      "metadata": {
        "id": "jc7IL70qGcn5",
        "colab": {
          "base_uri": "https://localhost:8080/"
        },
        "outputId": "8ecfeef0-3e0b-46cd-baa2-0f6247d3bdfe"
      },
      "source": [
        "pip install emoji"
      ],
      "execution_count": null,
      "outputs": [
        {
          "output_type": "stream",
          "text": [
            "Collecting emoji\n",
            "  Downloading emoji-1.4.2.tar.gz (184 kB)\n",
            "\u001b[?25l\r\u001b[K     |█▊                              | 10 kB 28.0 MB/s eta 0:00:01\r\u001b[K     |███▌                            | 20 kB 30.4 MB/s eta 0:00:01\r\u001b[K     |█████▎                          | 30 kB 34.8 MB/s eta 0:00:01\r\u001b[K     |███████                         | 40 kB 39.2 MB/s eta 0:00:01\r\u001b[K     |████████▉                       | 51 kB 33.7 MB/s eta 0:00:01\r\u001b[K     |██████████▋                     | 61 kB 36.1 MB/s eta 0:00:01\r\u001b[K     |████████████▍                   | 71 kB 23.6 MB/s eta 0:00:01\r\u001b[K     |██████████████▏                 | 81 kB 25.5 MB/s eta 0:00:01\r\u001b[K     |████████████████                | 92 kB 27.6 MB/s eta 0:00:01\r\u001b[K     |█████████████████▊              | 102 kB 28.4 MB/s eta 0:00:01\r\u001b[K     |███████████████████▌            | 112 kB 28.4 MB/s eta 0:00:01\r\u001b[K     |█████████████████████▎          | 122 kB 28.4 MB/s eta 0:00:01\r\u001b[K     |███████████████████████         | 133 kB 28.4 MB/s eta 0:00:01\r\u001b[K     |████████████████████████▉       | 143 kB 28.4 MB/s eta 0:00:01\r\u001b[K     |██████████████████████████▋     | 153 kB 28.4 MB/s eta 0:00:01\r\u001b[K     |████████████████████████████▍   | 163 kB 28.4 MB/s eta 0:00:01\r\u001b[K     |██████████████████████████████▏ | 174 kB 28.4 MB/s eta 0:00:01\r\u001b[K     |███████████████████████████████▉| 184 kB 28.4 MB/s eta 0:00:01\r\u001b[K     |████████████████████████████████| 184 kB 28.4 MB/s \n",
            "\u001b[?25hBuilding wheels for collected packages: emoji\n",
            "  Building wheel for emoji (setup.py) ... \u001b[?25l\u001b[?25hdone\n",
            "  Created wheel for emoji: filename=emoji-1.4.2-py3-none-any.whl size=186469 sha256=1529c5bc5377bc3593a65a254ea919d088907952e355bdd1d650eb50134dfaf0\n",
            "  Stored in directory: /root/.cache/pip/wheels/e4/61/e7/2fc1ac8f306848fc66c6c013ab511f0a39ef4b1825b11363b2\n",
            "Successfully built emoji\n",
            "Installing collected packages: emoji\n",
            "Successfully installed emoji-1.4.2\n"
          ],
          "name": "stdout"
        }
      ]
    },
    {
      "cell_type": "code",
      "metadata": {
        "id": "QwaReWdEGjFP",
        "colab": {
          "base_uri": "https://localhost:8080/"
        },
        "outputId": "0603293e-1005-45bd-d971-7d1322cd8044"
      },
      "source": [
        "pip install sastrawi"
      ],
      "execution_count": null,
      "outputs": [
        {
          "output_type": "stream",
          "text": [
            "Collecting sastrawi\n",
            "  Downloading Sastrawi-1.0.1-py2.py3-none-any.whl (209 kB)\n",
            "\u001b[?25l\r\u001b[K     |█▋                              | 10 kB 26.1 MB/s eta 0:00:01\r\u001b[K     |███▏                            | 20 kB 32.3 MB/s eta 0:00:01\r\u001b[K     |████▊                           | 30 kB 37.0 MB/s eta 0:00:01\r\u001b[K     |██████▎                         | 40 kB 36.7 MB/s eta 0:00:01\r\u001b[K     |███████▉                        | 51 kB 34.6 MB/s eta 0:00:01\r\u001b[K     |█████████▍                      | 61 kB 36.1 MB/s eta 0:00:01\r\u001b[K     |███████████                     | 71 kB 29.3 MB/s eta 0:00:01\r\u001b[K     |████████████▌                   | 81 kB 30.8 MB/s eta 0:00:01\r\u001b[K     |██████████████                  | 92 kB 31.3 MB/s eta 0:00:01\r\u001b[K     |███████████████▋                | 102 kB 33.3 MB/s eta 0:00:01\r\u001b[K     |█████████████████▏              | 112 kB 33.3 MB/s eta 0:00:01\r\u001b[K     |██████████████████▊             | 122 kB 33.3 MB/s eta 0:00:01\r\u001b[K     |████████████████████▎           | 133 kB 33.3 MB/s eta 0:00:01\r\u001b[K     |█████████████████████▉          | 143 kB 33.3 MB/s eta 0:00:01\r\u001b[K     |███████████████████████▍        | 153 kB 33.3 MB/s eta 0:00:01\r\u001b[K     |█████████████████████████       | 163 kB 33.3 MB/s eta 0:00:01\r\u001b[K     |██████████████████████████▋     | 174 kB 33.3 MB/s eta 0:00:01\r\u001b[K     |████████████████████████████▏   | 184 kB 33.3 MB/s eta 0:00:01\r\u001b[K     |█████████████████████████████▊  | 194 kB 33.3 MB/s eta 0:00:01\r\u001b[K     |███████████████████████████████▎| 204 kB 33.3 MB/s eta 0:00:01\r\u001b[K     |████████████████████████████████| 209 kB 33.3 MB/s \n",
            "\u001b[?25hInstalling collected packages: sastrawi\n",
            "Successfully installed sastrawi-1.0.1\n"
          ],
          "name": "stdout"
        }
      ]
    },
    {
      "cell_type": "code",
      "metadata": {
        "id": "DctZrsGDGnnq",
        "colab": {
          "base_uri": "https://localhost:8080/",
          "height": 1000
        },
        "outputId": "9d707bb5-0ce4-4e95-c846-ee9aafa74710"
      },
      "source": [
        "pip install swifter"
      ],
      "execution_count": null,
      "outputs": [
        {
          "output_type": "stream",
          "text": [
            "Collecting swifter\n",
            "  Downloading swifter-1.0.9-py3-none-any.whl (14 kB)\n",
            "Collecting psutil>=5.6.6\n",
            "  Downloading psutil-5.8.0-cp37-cp37m-manylinux2010_x86_64.whl (296 kB)\n",
            "\u001b[K     |████████████████████████████████| 296 kB 38.9 MB/s \n",
            "\u001b[?25hRequirement already satisfied: parso>0.4.0 in /usr/local/lib/python3.7/dist-packages (from swifter) (0.8.2)\n",
            "Requirement already satisfied: tqdm>=4.33.0 in /usr/local/lib/python3.7/dist-packages (from swifter) (4.62.0)\n",
            "Requirement already satisfied: bleach>=3.1.1 in /usr/local/lib/python3.7/dist-packages (from swifter) (4.0.0)\n",
            "Requirement already satisfied: cloudpickle>=0.2.2 in /usr/local/lib/python3.7/dist-packages (from swifter) (1.3.0)\n",
            "Requirement already satisfied: dask[dataframe]>=2.10.0 in /usr/local/lib/python3.7/dist-packages (from swifter) (2.12.0)\n",
            "Requirement already satisfied: pandas>=1.0.0 in /usr/local/lib/python3.7/dist-packages (from swifter) (1.1.5)\n",
            "Requirement already satisfied: ipywidgets>=7.0.0 in /usr/local/lib/python3.7/dist-packages (from swifter) (7.6.3)\n",
            "Requirement already satisfied: webencodings in /usr/local/lib/python3.7/dist-packages (from bleach>=3.1.1->swifter) (0.5.1)\n",
            "Requirement already satisfied: six>=1.9.0 in /usr/local/lib/python3.7/dist-packages (from bleach>=3.1.1->swifter) (1.15.0)\n",
            "Requirement already satisfied: packaging in /usr/local/lib/python3.7/dist-packages (from bleach>=3.1.1->swifter) (21.0)\n",
            "Requirement already satisfied: toolz>=0.7.3 in /usr/local/lib/python3.7/dist-packages (from dask[dataframe]>=2.10.0->swifter) (0.11.1)\n",
            "Collecting partd>=0.3.10\n",
            "  Downloading partd-1.2.0-py3-none-any.whl (19 kB)\n",
            "Collecting fsspec>=0.6.0\n",
            "  Downloading fsspec-2021.7.0-py3-none-any.whl (118 kB)\n",
            "\u001b[K     |████████████████████████████████| 118 kB 75.0 MB/s \n",
            "\u001b[?25hRequirement already satisfied: numpy>=1.13.0 in /usr/local/lib/python3.7/dist-packages (from dask[dataframe]>=2.10.0->swifter) (1.19.5)\n",
            "Requirement already satisfied: nbformat>=4.2.0 in /usr/local/lib/python3.7/dist-packages (from ipywidgets>=7.0.0->swifter) (5.1.3)\n",
            "Requirement already satisfied: ipykernel>=4.5.1 in /usr/local/lib/python3.7/dist-packages (from ipywidgets>=7.0.0->swifter) (4.10.1)\n",
            "Requirement already satisfied: widgetsnbextension~=3.5.0 in /usr/local/lib/python3.7/dist-packages (from ipywidgets>=7.0.0->swifter) (3.5.1)\n",
            "Requirement already satisfied: jupyterlab-widgets>=1.0.0 in /usr/local/lib/python3.7/dist-packages (from ipywidgets>=7.0.0->swifter) (1.0.0)\n",
            "Requirement already satisfied: traitlets>=4.3.1 in /usr/local/lib/python3.7/dist-packages (from ipywidgets>=7.0.0->swifter) (5.0.5)\n",
            "Requirement already satisfied: ipython>=4.0.0 in /usr/local/lib/python3.7/dist-packages (from ipywidgets>=7.0.0->swifter) (5.5.0)\n",
            "Requirement already satisfied: jupyter-client in /usr/local/lib/python3.7/dist-packages (from ipykernel>=4.5.1->ipywidgets>=7.0.0->swifter) (5.3.5)\n",
            "Requirement already satisfied: tornado>=4.0 in /usr/local/lib/python3.7/dist-packages (from ipykernel>=4.5.1->ipywidgets>=7.0.0->swifter) (5.1.1)\n",
            "Requirement already satisfied: prompt-toolkit<2.0.0,>=1.0.4 in /usr/local/lib/python3.7/dist-packages (from ipython>=4.0.0->ipywidgets>=7.0.0->swifter) (1.0.18)\n",
            "Requirement already satisfied: pickleshare in /usr/local/lib/python3.7/dist-packages (from ipython>=4.0.0->ipywidgets>=7.0.0->swifter) (0.7.5)\n",
            "Requirement already satisfied: setuptools>=18.5 in /usr/local/lib/python3.7/dist-packages (from ipython>=4.0.0->ipywidgets>=7.0.0->swifter) (57.4.0)\n",
            "Requirement already satisfied: pygments in /usr/local/lib/python3.7/dist-packages (from ipython>=4.0.0->ipywidgets>=7.0.0->swifter) (2.6.1)\n",
            "Requirement already satisfied: pexpect in /usr/local/lib/python3.7/dist-packages (from ipython>=4.0.0->ipywidgets>=7.0.0->swifter) (4.8.0)\n",
            "Requirement already satisfied: decorator in /usr/local/lib/python3.7/dist-packages (from ipython>=4.0.0->ipywidgets>=7.0.0->swifter) (4.4.2)\n",
            "Requirement already satisfied: simplegeneric>0.8 in /usr/local/lib/python3.7/dist-packages (from ipython>=4.0.0->ipywidgets>=7.0.0->swifter) (0.8.1)\n",
            "Requirement already satisfied: jsonschema!=2.5.0,>=2.4 in /usr/local/lib/python3.7/dist-packages (from nbformat>=4.2.0->ipywidgets>=7.0.0->swifter) (2.6.0)\n",
            "Requirement already satisfied: ipython-genutils in /usr/local/lib/python3.7/dist-packages (from nbformat>=4.2.0->ipywidgets>=7.0.0->swifter) (0.2.0)\n",
            "Requirement already satisfied: jupyter-core in /usr/local/lib/python3.7/dist-packages (from nbformat>=4.2.0->ipywidgets>=7.0.0->swifter) (4.7.1)\n",
            "Requirement already satisfied: python-dateutil>=2.7.3 in /usr/local/lib/python3.7/dist-packages (from pandas>=1.0.0->swifter) (2.8.2)\n",
            "Requirement already satisfied: pytz>=2017.2 in /usr/local/lib/python3.7/dist-packages (from pandas>=1.0.0->swifter) (2018.9)\n",
            "Collecting locket\n",
            "  Downloading locket-0.2.1-py2.py3-none-any.whl (4.1 kB)\n",
            "Requirement already satisfied: wcwidth in /usr/local/lib/python3.7/dist-packages (from prompt-toolkit<2.0.0,>=1.0.4->ipython>=4.0.0->ipywidgets>=7.0.0->swifter) (0.2.5)\n",
            "Requirement already satisfied: notebook>=4.4.1 in /usr/local/lib/python3.7/dist-packages (from widgetsnbextension~=3.5.0->ipywidgets>=7.0.0->swifter) (5.3.1)\n",
            "Requirement already satisfied: nbconvert in /usr/local/lib/python3.7/dist-packages (from notebook>=4.4.1->widgetsnbextension~=3.5.0->ipywidgets>=7.0.0->swifter) (5.6.1)\n",
            "Requirement already satisfied: Send2Trash in /usr/local/lib/python3.7/dist-packages (from notebook>=4.4.1->widgetsnbextension~=3.5.0->ipywidgets>=7.0.0->swifter) (1.8.0)\n",
            "Requirement already satisfied: terminado>=0.8.1 in /usr/local/lib/python3.7/dist-packages (from notebook>=4.4.1->widgetsnbextension~=3.5.0->ipywidgets>=7.0.0->swifter) (0.11.0)\n",
            "Requirement already satisfied: jinja2 in /usr/local/lib/python3.7/dist-packages (from notebook>=4.4.1->widgetsnbextension~=3.5.0->ipywidgets>=7.0.0->swifter) (2.11.3)\n",
            "Requirement already satisfied: pyzmq>=13 in /usr/local/lib/python3.7/dist-packages (from jupyter-client->ipykernel>=4.5.1->ipywidgets>=7.0.0->swifter) (22.2.1)\n",
            "Requirement already satisfied: ptyprocess in /usr/local/lib/python3.7/dist-packages (from terminado>=0.8.1->notebook>=4.4.1->widgetsnbextension~=3.5.0->ipywidgets>=7.0.0->swifter) (0.7.0)\n",
            "Requirement already satisfied: MarkupSafe>=0.23 in /usr/local/lib/python3.7/dist-packages (from jinja2->notebook>=4.4.1->widgetsnbextension~=3.5.0->ipywidgets>=7.0.0->swifter) (2.0.1)\n",
            "Requirement already satisfied: pandocfilters>=1.4.1 in /usr/local/lib/python3.7/dist-packages (from nbconvert->notebook>=4.4.1->widgetsnbextension~=3.5.0->ipywidgets>=7.0.0->swifter) (1.4.3)\n",
            "Requirement already satisfied: mistune<2,>=0.8.1 in /usr/local/lib/python3.7/dist-packages (from nbconvert->notebook>=4.4.1->widgetsnbextension~=3.5.0->ipywidgets>=7.0.0->swifter) (0.8.4)\n",
            "Requirement already satisfied: entrypoints>=0.2.2 in /usr/local/lib/python3.7/dist-packages (from nbconvert->notebook>=4.4.1->widgetsnbextension~=3.5.0->ipywidgets>=7.0.0->swifter) (0.3)\n",
            "Requirement already satisfied: testpath in /usr/local/lib/python3.7/dist-packages (from nbconvert->notebook>=4.4.1->widgetsnbextension~=3.5.0->ipywidgets>=7.0.0->swifter) (0.5.0)\n",
            "Requirement already satisfied: defusedxml in /usr/local/lib/python3.7/dist-packages (from nbconvert->notebook>=4.4.1->widgetsnbextension~=3.5.0->ipywidgets>=7.0.0->swifter) (0.7.1)\n",
            "Requirement already satisfied: pyparsing>=2.0.2 in /usr/local/lib/python3.7/dist-packages (from packaging->bleach>=3.1.1->swifter) (2.4.7)\n",
            "Installing collected packages: locket, partd, fsspec, psutil, swifter\n",
            "  Attempting uninstall: psutil\n",
            "    Found existing installation: psutil 5.4.8\n",
            "    Uninstalling psutil-5.4.8:\n",
            "      Successfully uninstalled psutil-5.4.8\n",
            "Successfully installed fsspec-2021.7.0 locket-0.2.1 partd-1.2.0 psutil-5.8.0 swifter-1.0.9\n"
          ],
          "name": "stdout"
        },
        {
          "output_type": "display_data",
          "data": {
            "application/vnd.colab-display-data+json": {
              "pip_warning": {
                "packages": [
                  "psutil"
                ]
              }
            }
          },
          "metadata": {}
        }
      ]
    },
    {
      "cell_type": "markdown",
      "metadata": {
        "id": "gHNR4IAlHFAf"
      },
      "source": [
        "**#Load Library**"
      ]
    },
    {
      "cell_type": "code",
      "metadata": {
        "colab": {
          "base_uri": "https://localhost:8080/"
        },
        "id": "Tby6RCM4lZoZ",
        "outputId": "a3c7a0ac-90d0-425e-90d3-ef9f0d1776ea"
      },
      "source": [
        "#load library\n",
        "import nltk                             \n",
        "import matplotlib.pyplot as plt           \n",
        "import random  \n",
        "nltk.download('stopwords')\n",
        "nltk.download('punkt')\n",
        "nltk.download('words')\n",
        "import numpy as np\n",
        "import pandas as pd\n",
        "import re                                  \n",
        "import string                             \n",
        "from nltk.corpus import stopwords \n",
        "from nltk.stem import PorterStemmer\n",
        "from nltk.tokenize import TweetTokenizer \n",
        "from nltk import pos_tag, word_tokenize\n",
        "from nltk.tokenize import word_tokenize\n",
        "from nltk.corpus import words\n",
        "import emoji\n",
        "#from emot.emo_unicode import UNICODE_EMO, EMOTICONS\n",
        "from Sastrawi.Stemmer.StemmerFactory import StemmerFactory\n",
        "import swifter\n",
        "from wordcloud import WordCloud "
      ],
      "execution_count": null,
      "outputs": [
        {
          "output_type": "stream",
          "text": [
            "[nltk_data] Downloading package stopwords to /root/nltk_data...\n",
            "[nltk_data]   Unzipping corpora/stopwords.zip.\n",
            "[nltk_data] Downloading package punkt to /root/nltk_data...\n",
            "[nltk_data]   Unzipping tokenizers/punkt.zip.\n",
            "[nltk_data] Downloading package words to /root/nltk_data...\n",
            "[nltk_data]   Unzipping corpora/words.zip.\n"
          ],
          "name": "stdout"
        }
      ]
    },
    {
      "cell_type": "markdown",
      "metadata": {
        "id": "KCFWa0RfHL4d"
      },
      "source": [
        "**Preprocessing**"
      ]
    },
    {
      "cell_type": "code",
      "metadata": {
        "id": "6cO4NsaRHPUF"
      },
      "source": [
        "stop = pd.read_csv(\"drive/MyDrive/stopwords.txt\", names= [\"stopwords\"], header = None)\n",
        "stop['stopwords']\n",
        "# Defining my NLTK stop words and my user-defined stop words\n",
        "stop_words = list(stopwords.words('indonesian'))\n",
        "# ---------------------------- manualy add stopword  ------------------------------------\n",
        "# append additional stopword\n",
        "user_stopwords = ['yg', 'dg', 'rt', 'dgn', 'ny', 'd', 'klo', \n",
        "                       'kalo', 'amp', 'biar', 'bikin', 'bilang', \n",
        "                       'gak', 'ga', 'krn', 'nya', 'nih', 'sih', 'na',\n",
        "                       'si', 'tau', 'tdk', 'tuh', 'utk', 'ya', 'ber',\n",
        "                       'jd', 'jgn', 'sdh', 'aja', 'n', 't', 's','lhaa',\n",
        "                       'qrt', 'd', 'ayyy', 'eptember', 'tu', 'kat', 'd',\n",
        "                        'bdhshshhs', 'denngan','ba', 'ah', 'tuu', 'kaann', \n",
        "                       'nyg', 'hehe', 'pen', 'u', 'nan', 'loh', 'rt', 'je',\n",
        "                       '&amp', 'yah', 'x', 'xf', 'xe', 'first', 'second',\n",
        "                        'the', 'to', 'yaa', 'dirut', 'la', 'pon']\n",
        "alphabets = list(string.ascii_lowercase)\n",
        "stop_words_fix = stop_words + alphabets + stop['stopwords'].to_list()\n",
        "\n",
        "# Function to remove punctuations, links, emojis, and stop words\n",
        "def preprocessTweets(tweet):\n",
        "    tweet = tweet.lower()  #has to be in place\n",
        "    #Remove 'b\n",
        "    tweet = re.sub(r\"b'\", '', tweet)\n",
        "    # Remove urls dan trash\n",
        "    tweet = re.sub(r\"http\\S+|\\\\x\\S+|www\\S+|https\\S+|dot|com\", '', tweet, flags=re.MULTILINE)\n",
        "    # Remove user @ references and '#' from tweet\n",
        "    tweet = re.sub(r'\\@\\w+|\\#|\\d+', '', tweet)\n",
        "    # Remove stopwords\n",
        "    tweet_tokens = word_tokenize(tweet)  # convert string to tokens\n",
        "    filtered_words = [w for w in tweet_tokens if w not in stop_words_fix]\n",
        "    filtered_words = [w for w in tweet_tokens if w not in user_stopwords]\n",
        "\n",
        "    # Remove punctuations\n",
        "    unpunctuated_words = [char for char in filtered_words if char not in string.punctuation]\n",
        "    unpunctuated_words = ' '.join(unpunctuated_words)\n",
        "\n",
        "    return \"\".join(unpunctuated_words)  # join words with a space in between them\n",
        "\n",
        "def tokenkan(text):    \n",
        "  tokens = nltk.tokenize.word_tokenize(text)\n",
        "  return tokens\n",
        "\n",
        "normalizad_word = pd.read_excel(\"drive/MyDrive/normalisasi.xlsx\")\n",
        "normalizad_word_dict = {}\n",
        "for index, row in normalizad_word.iterrows():\n",
        "    if row[0] not in normalizad_word_dict:\n",
        "        normalizad_word_dict[row[0]] = row[1] \n",
        "\n",
        "def normalized_term(document):\n",
        "    return [normalizad_word_dict[term] if term in normalizad_word_dict else term for term in document]\n",
        "\n",
        "def stopwords_removal(words):\n",
        "    return [word for word in words if word not in stop_words]"
      ],
      "execution_count": null,
      "outputs": []
    },
    {
      "cell_type": "code",
      "metadata": {
        "colab": {
          "base_uri": "https://localhost:8080/"
        },
        "id": "4EeZ-wfqEZlW",
        "outputId": "a0f6576a-cc57-4620-8bb9-52480f3d4127"
      },
      "source": [
        "data = pd.read_csv('drive/MyDrive/data_psyco/Copy_of_Text_Preprocessing_10.csv')\n",
        "data.columns = ['Label', 'Text_Final']\n",
        "data.head()"
      ],
      "execution_count": null,
      "outputs": [
        {
          "output_type": "execute_result",
          "data": {
            "text/html": [
              "<div>\n",
              "<style scoped>\n",
              "    .dataframe tbody tr th:only-of-type {\n",
              "        vertical-align: middle;\n",
              "    }\n",
              "\n",
              "    .dataframe tbody tr th {\n",
              "        vertical-align: top;\n",
              "    }\n",
              "\n",
              "    .dataframe thead th {\n",
              "        text-align: right;\n",
              "    }\n",
              "</style>\n",
              "<table border=\"1\" class=\"dataframe\">\n",
              "  <thead>\n",
              "    <tr style=\"text-align: right;\">\n",
              "      <th></th>\n",
              "      <th>Label</th>\n",
              "      <th>Text_Final</th>\n",
              "    </tr>\n",
              "  </thead>\n",
              "  <tbody>\n",
              "    <tr>\n",
              "      <th>0</th>\n",
              "      <td>0</td>\n",
              "      <td>hubby bidang it upload bobol cloud ransom hack...</td>\n",
              "    </tr>\n",
              "    <tr>\n",
              "      <th>1</th>\n",
              "      <td>0</td>\n",
              "      <td>pas uang beli pas uang beli</td>\n",
              "    </tr>\n",
              "    <tr>\n",
              "      <th>2</th>\n",
              "      <td>0</td>\n",
              "      <td>tolong lelang acc foll k tweet k foll k twee k...</td>\n",
              "    </tr>\n",
              "    <tr>\n",
              "      <th>3</th>\n",
              "      <td>0</td>\n",
              "      <td>rakyat gaji uang uang game monopoli meureu</td>\n",
              "    </tr>\n",
              "    <tr>\n",
              "      <th>4</th>\n",
              "      <td>0</td>\n",
              "      <td>ketemu sebentar kangen uang gaji</td>\n",
              "    </tr>\n",
              "  </tbody>\n",
              "</table>\n",
              "</div>"
            ],
            "text/plain": [
              "   Label                                         Text_Final\n",
              "0      0  hubby bidang it upload bobol cloud ransom hack...\n",
              "1      0                        pas uang beli pas uang beli\n",
              "2      0  tolong lelang acc foll k tweet k foll k twee k...\n",
              "3      0         rakyat gaji uang uang game monopoli meureu\n",
              "4      0                   ketemu sebentar kangen uang gaji"
            ]
          },
          "metadata": {},
          "execution_count": 7
        }
      ]
    },
    {
      "cell_type": "code",
      "metadata": {
        "colab": {
          "base_uri": "https://localhost:8080/"
        },
        "id": "QTJSJ2jEJV5b",
        "outputId": "0b91f5ea-7d3c-490d-ffe2-eaa319e5c830"
      },
      "source": [
        "data.Label.unique()"
      ],
      "execution_count": null,
      "outputs": [
        {
          "output_type": "execute_result",
          "data": {
            "text/plain": [
              "array([0, 1])"
            ]
          },
          "metadata": {},
          "execution_count": 8
        }
      ]
    },
    {
      "cell_type": "code",
      "metadata": {
        "id": "fo7vZ79wI5QP"
      },
      "source": [
        "mengidap = []\n",
        "non = []\n",
        "for l in data.Label:\n",
        "    if l == 0:\n",
        "        mengidap.append(0)\n",
        "        non.append(1)\n",
        "    elif l == 1:\n",
        "        mengidap.append(1)\n",
        "        non.append(0)"
      ],
      "execution_count": null,
      "outputs": []
    },
    {
      "cell_type": "code",
      "metadata": {
        "id": "_OGR9EKbI-Lz"
      },
      "source": [
        "data['non']= non\n",
        "data['mengidap']= mengidap"
      ],
      "execution_count": null,
      "outputs": []
    },
    {
      "cell_type": "code",
      "metadata": {
        "id": "jSL9w9F-JgdX"
      },
      "source": [
        "data['tokens'] = data['Text_Final'].astype(str)\n",
        "data['tokens'] = data['tokens'].apply(tokenkan)"
      ],
      "execution_count": null,
      "outputs": []
    },
    {
      "cell_type": "code",
      "metadata": {
        "id": "Fp2F8YZ2IqSt"
      },
      "source": [
        "data = data[['Text_Final', 'tokens', 'Label', 'non', 'mengidap']]"
      ],
      "execution_count": null,
      "outputs": []
    },
    {
      "cell_type": "code",
      "metadata": {
        "colab": {
          "base_uri": "https://localhost:8080/",
          "height": 204
        },
        "id": "7HZ-F3jnJykO",
        "outputId": "01e720b2-5f0c-4412-84c7-dbb955a85c17"
      },
      "source": [
        "data.head()"
      ],
      "execution_count": null,
      "outputs": [
        {
          "output_type": "execute_result",
          "data": {
            "text/html": [
              "<div>\n",
              "<style scoped>\n",
              "    .dataframe tbody tr th:only-of-type {\n",
              "        vertical-align: middle;\n",
              "    }\n",
              "\n",
              "    .dataframe tbody tr th {\n",
              "        vertical-align: top;\n",
              "    }\n",
              "\n",
              "    .dataframe thead th {\n",
              "        text-align: right;\n",
              "    }\n",
              "</style>\n",
              "<table border=\"1\" class=\"dataframe\">\n",
              "  <thead>\n",
              "    <tr style=\"text-align: right;\">\n",
              "      <th></th>\n",
              "      <th>Text_Final</th>\n",
              "      <th>tokens</th>\n",
              "      <th>Label</th>\n",
              "      <th>non</th>\n",
              "      <th>mengidap</th>\n",
              "    </tr>\n",
              "  </thead>\n",
              "  <tbody>\n",
              "    <tr>\n",
              "      <th>0</th>\n",
              "      <td>hubby bidang it upload bobol cloud ransom hack...</td>\n",
              "      <td>[hubby, bidang, it, upload, bobol, cloud, rans...</td>\n",
              "      <td>0</td>\n",
              "      <td>1</td>\n",
              "      <td>0</td>\n",
              "    </tr>\n",
              "    <tr>\n",
              "      <th>1</th>\n",
              "      <td>pas uang beli pas uang beli</td>\n",
              "      <td>[pas, uang, beli, pas, uang, beli]</td>\n",
              "      <td>0</td>\n",
              "      <td>1</td>\n",
              "      <td>0</td>\n",
              "    </tr>\n",
              "    <tr>\n",
              "      <th>2</th>\n",
              "      <td>tolong lelang acc foll k tweet k foll k twee k...</td>\n",
              "      <td>[tolong, lelang, acc, foll, k, tweet, k, foll,...</td>\n",
              "      <td>0</td>\n",
              "      <td>1</td>\n",
              "      <td>0</td>\n",
              "    </tr>\n",
              "    <tr>\n",
              "      <th>3</th>\n",
              "      <td>rakyat gaji uang uang game monopoli meureu</td>\n",
              "      <td>[rakyat, gaji, uang, uang, game, monopoli, meu...</td>\n",
              "      <td>0</td>\n",
              "      <td>1</td>\n",
              "      <td>0</td>\n",
              "    </tr>\n",
              "    <tr>\n",
              "      <th>4</th>\n",
              "      <td>ketemu sebentar kangen uang gaji</td>\n",
              "      <td>[ketemu, sebentar, kangen, uang, gaji]</td>\n",
              "      <td>0</td>\n",
              "      <td>1</td>\n",
              "      <td>0</td>\n",
              "    </tr>\n",
              "  </tbody>\n",
              "</table>\n",
              "</div>"
            ],
            "text/plain": [
              "                                          Text_Final  ... mengidap\n",
              "0  hubby bidang it upload bobol cloud ransom hack...  ...        0\n",
              "1                        pas uang beli pas uang beli  ...        0\n",
              "2  tolong lelang acc foll k tweet k foll k twee k...  ...        0\n",
              "3         rakyat gaji uang uang game monopoli meureu  ...        0\n",
              "4                   ketemu sebentar kangen uang gaji  ...        0\n",
              "\n",
              "[5 rows x 5 columns]"
            ]
          },
          "metadata": {},
          "execution_count": 13
        }
      ]
    },
    {
      "cell_type": "markdown",
      "metadata": {
        "id": "a7dRRURDOLSm"
      },
      "source": [
        "**Import Library Untuk CNN**"
      ]
    },
    {
      "cell_type": "code",
      "metadata": {
        "id": "_HAqFn0zOe4Y"
      },
      "source": [
        "from __future__ import division, print_function\n",
        "from gensim import models\n",
        "from keras.callbacks import ModelCheckpoint\n",
        "from keras.layers import Dense, Dropout, Reshape, Flatten, concatenate, Input, Conv1D, GlobalMaxPooling1D, Embedding\n",
        "from keras.layers.recurrent import LSTM\n",
        "from keras.models import Sequential\n",
        "from keras.preprocessing.text import Tokenizer\n",
        "from keras.preprocessing.sequence import pad_sequences\n",
        "from keras.models import Model\n",
        "from sklearn.model_selection import train_test_split\n",
        "import os\n",
        "import collections\n",
        "import string\n",
        "import tensorflow as tf\n",
        "import keras"
      ],
      "execution_count": null,
      "outputs": []
    },
    {
      "cell_type": "markdown",
      "metadata": {
        "id": "SVSBIGmpF6E7"
      },
      "source": [
        "**Split data into test and train**"
      ]
    },
    {
      "cell_type": "code",
      "metadata": {
        "id": "SQnTRsKgGFoy"
      },
      "source": [
        "data_train, data_test = train_test_split(data, test_size=0.20, random_state=42)"
      ],
      "execution_count": null,
      "outputs": []
    },
    {
      "cell_type": "code",
      "metadata": {
        "colab": {
          "base_uri": "https://localhost:8080/"
        },
        "id": "YJkdOyTxF50X",
        "outputId": "c6a118b0-a41a-46ae-9d50-973ceaf5b7db"
      },
      "source": [
        "all_training_words = [word for tokens in data_train[\"tokens\"] for word in tokens]\n",
        "training_sentence_lengths = [len(tokens) for tokens in data_train[\"tokens\"]]\n",
        "TRAINING_VOCAB = sorted(list(set(all_training_words)))\n",
        "print(\"%s words total, with a vocabulary size of %s\" % (len(all_training_words), len(TRAINING_VOCAB)))\n",
        "print(\"Max sentence length is %s\" % max(training_sentence_lengths))"
      ],
      "execution_count": null,
      "outputs": [
        {
          "output_type": "stream",
          "text": [
            "2797 words total, with a vocabulary size of 1320\n",
            "Max sentence length is 41\n"
          ],
          "name": "stdout"
        }
      ]
    },
    {
      "cell_type": "code",
      "metadata": {
        "colab": {
          "base_uri": "https://localhost:8080/"
        },
        "id": "U-brXb5bGjXB",
        "outputId": "00f40f30-39c6-46b9-f82d-cbd9ba701da4"
      },
      "source": [
        "all_test_words = [word for tokens in data_test[\"tokens\"] for word in tokens]\n",
        "test_sentence_lengths = [len(tokens) for tokens in data_test[\"tokens\"]]\n",
        "TEST_VOCAB = sorted(list(set(all_test_words)))\n",
        "print(\"%s words total, with a vocabulary size of %s\" % (len(all_test_words), len(TEST_VOCAB)))\n",
        "print(\"Max sentence length is %s\" % max(test_sentence_lengths))"
      ],
      "execution_count": null,
      "outputs": [
        {
          "output_type": "stream",
          "text": [
            "656 words total, with a vocabulary size of 452\n",
            "Max sentence length is 28\n"
          ],
          "name": "stdout"
        }
      ]
    },
    {
      "cell_type": "markdown",
      "metadata": {
        "id": "n6Vhp-dgG3yo"
      },
      "source": [
        "**Load Google News Word2Vec model**"
      ]
    },
    {
      "cell_type": "code",
      "metadata": {
        "id": "1QZluume2VG9"
      },
      "source": [
        "word2vec_path = 'drive/MyDrive/GoogleNews-vectors-negative300.bin.gz'\n",
        "word2vec = models.KeyedVectors.load_word2vec_format(word2vec_path, binary=True)"
      ],
      "execution_count": null,
      "outputs": []
    },
    {
      "cell_type": "code",
      "metadata": {
        "id": "Bh7Xym53G_cL"
      },
      "source": [
        "def get_average_word2vec(tokens_list, vector, generate_missing=False, k=300):\n",
        "    if len(tokens_list)<1:\n",
        "        return np.zeros(k)\n",
        "    if generate_missing:\n",
        "        vectorized = [vector[word] if word in vector else np.random.rand(k) for word in tokens_list]\n",
        "    else:\n",
        "        vectorized = [vector[word] if word in vector else np.zeros(k) for word in tokens_list]\n",
        "    length = len(vectorized)\n",
        "    summed = np.sum(vectorized, axis=0)\n",
        "    averaged = np.divide(summed, length)\n",
        "    return averaged\n",
        "\n",
        "def get_word2vec_embeddings(vectors, clean_comments, generate_missing=False):\n",
        "    embeddings = clean_comments['tokens'].apply(lambda x: get_average_word2vec(x, vectors, \n",
        "                                                                                generate_missing=generate_missing))\n",
        "    return list(embeddings)"
      ],
      "execution_count": null,
      "outputs": []
    },
    {
      "cell_type": "markdown",
      "metadata": {
        "id": "0AidIU_zHw5C"
      },
      "source": [
        "**Get Embeddings**"
      ]
    },
    {
      "cell_type": "code",
      "metadata": {
        "id": "oji0eS8CHzGi"
      },
      "source": [
        "training_embeddings = get_word2vec_embeddings(word2vec, data_train, generate_missing=True)"
      ],
      "execution_count": null,
      "outputs": []
    },
    {
      "cell_type": "code",
      "metadata": {
        "id": "GezxW76bH5wG"
      },
      "source": [
        "MAX_SEQUENCE_LENGTH = 50\n",
        "EMBEDDING_DIM = 300"
      ],
      "execution_count": null,
      "outputs": []
    },
    {
      "cell_type": "markdown",
      "metadata": {
        "id": "rcNrMPmyb-g9"
      },
      "source": [
        "**Tokenize and Pad sequences**"
      ]
    },
    {
      "cell_type": "code",
      "metadata": {
        "colab": {
          "base_uri": "https://localhost:8080/"
        },
        "id": "n5yBi13EH-fW",
        "outputId": "092f6083-ac51-4e14-806c-ab3a5c8357a4"
      },
      "source": [
        "text = data_train[\"Text_Final\"].astype(str)\n",
        "tokenizer = Tokenizer(num_words=len(TRAINING_VOCAB), lower=True, char_level=False)\n",
        "tokenizer.fit_on_texts(text.tolist())\n",
        "training_sequences = tokenizer.texts_to_sequences(text.tolist())\n",
        "print(training_sequences)\n",
        "train_word_index = tokenizer.word_index\n",
        "print('Found %s unique tokens.' % len(train_word_index))"
      ],
      "execution_count": null,
      "outputs": [
        {
          "output_type": "stream",
          "text": [
            "[[1, 406, 407, 408, 409, 22, 410, 53, 411, 412, 413, 414, 415], [416, 1], [70, 3, 1, 70], [89, 417, 418, 131, 419, 90], [132, 133, 420, 14, 2, 1, 421, 422, 9, 423], [40, 424, 425, 426], [206, 427, 428, 27, 91, 9, 1], [41, 1, 429, 207, 92], [208, 208, 7, 430, 54, 134], [1, 431, 432], [71, 135, 17, 209, 433, 210, 434, 435, 436, 437, 438], [2, 1, 90, 5, 93, 94, 439, 6], [440, 2, 1], [441, 211, 55, 95], [3, 28, 1, 72, 442, 5, 443, 444, 445, 27], [446, 4, 53, 22, 1], [72, 5, 5, 42, 42], [43, 1, 15], [44, 5, 18, 29, 56, 16, 212], [213, 447, 30, 57, 214, 213, 448, 30, 96, 449, 136, 450, 1, 451, 137], [73, 138, 452, 31, 73, 31, 138, 453, 31, 73, 31, 215, 31, 73, 31, 1, 31], [19, 216, 19, 217, 1, 454, 455, 456, 457, 458, 97], [139, 459, 460, 8, 461, 462, 10, 463], [464, 98, 1, 465], [466, 140, 99, 1, 1, 467], [23, 23, 1, 218], [100, 468], [58, 54, 219, 101, 141, 102, 23, 469, 470, 4], [142, 1, 143, 142, 1, 24], [471, 59, 45, 1, 103], [472, 473, 220, 20, 1], [474, 221, 221, 93, 1, 144, 7, 60], [222, 61, 61, 222, 223, 475, 27, 476, 145, 477, 478], [95, 1, 57, 74, 224, 479, 225, 480, 17], [226, 75, 89, 481, 104], [482, 32, 1, 5, 105, 227, 44, 483], [1, 20, 484, 146], [1, 485, 486], [1], [71, 487, 228], [488, 76, 106, 489, 6, 62, 2, 1, 147], [148, 94, 490, 491, 1, 148, 94, 492, 493, 1, 148, 94, 494, 495, 496, 497], [229], [1, 498, 28, 28, 1], [499, 500, 230, 231, 43, 232, 134], [501], [32, 502, 1, 145, 503, 504], [233, 55, 505, 506, 507, 234, 508, 509, 1], [149, 1], [235, 510, 139, 511, 512, 5, 10, 1, 513, 514, 6, 515, 516, 107, 236], [237, 238], [150, 517, 77, 518, 239, 519], [520, 521, 1, 108, 146, 240], [1, 109], [522, 523, 524, 8, 46, 525, 241, 526, 6], [527, 528, 242, 529, 149, 530, 151, 243, 531, 33, 532, 533, 534, 535, 242, 244, 244, 1], [245, 78, 246, 536, 211, 247, 5], [537, 538, 539, 1, 24, 540, 59, 152, 541], [143, 542, 20], [17, 14, 153, 12, 13, 25, 12, 13, 25, 12, 13], [543, 4, 544, 14, 132, 545, 546, 547, 548, 1, 17], [145, 549, 1], [154, 155, 110, 248, 228, 63, 47, 111, 1, 64, 550, 216], [1, 249, 551, 552, 553, 554], [1, 555, 556, 96, 557, 558, 65, 559, 41], [16, 250, 560, 3, 561, 562, 4, 563, 564], [251, 252, 253, 254, 1, 255, 34, 256, 156, 257], [35, 1], [1], [1, 48], [1], [21, 6, 258, 23, 112, 2, 1, 259, 6], [1, 565], [157, 158, 566, 567, 260, 568], [261, 569, 159, 570, 3, 36, 4, 1, 262, 261, 571, 572], [2, 1], [96, 14, 259, 1], [36, 105, 1, 573], [574, 575, 576, 1], [263, 577, 79, 49, 159, 6, 79, 66, 2, 1], [578, 579, 580, 581, 6, 10, 582, 35, 1], [583, 37, 584, 1, 80], [67, 33, 585, 160, 140, 67, 160, 586, 587, 588, 589, 161, 67, 11, 161, 264, 67, 3, 264, 265, 23, 67, 3, 590, 67, 3, 591, 592, 5, 22, 593, 37, 594, 113, 77, 595, 596, 266, 15, 597, 598], [267, 599, 98, 600, 1, 601], [114, 268, 50, 4, 53, 22, 1], [269, 38, 1], [11, 51, 162, 75, 1, 270, 602], [29, 56, 271, 272, 273, 273, 147, 603], [93, 21, 604, 42, 81, 605, 606], [1], [607, 163, 57, 608], [164, 100, 165, 1, 74, 115], [33, 609, 135, 166, 167, 274], [89, 610], [152, 82, 611, 1, 612], [114, 268, 2, 1], [44, 37, 106, 3, 7, 613], [614, 275, 18, 1, 615], [4], [38, 5, 5, 1], [168, 276, 616, 617, 618, 9, 1], [619, 620], [52, 621, 622, 169, 623, 98, 54, 277], [1], [4, 116, 117, 1], [278, 624, 118, 279, 625], [626, 119, 170, 1, 627, 628, 629, 119, 630, 631, 632], [226, 77, 633, 280, 39, 634, 3, 635, 3, 281, 44, 636, 171, 107, 107, 5, 27, 637, 41, 41, 638, 282, 18, 72, 3], [1], [283, 35, 1, 639, 640, 172, 641], [1, 1, 284, 16, 3, 5, 642, 160, 643], [644, 173, 52, 52, 645, 646, 647], [285, 648, 174, 1], [44, 1, 44, 649, 5], [286, 39, 11], [70, 1], [650, 651, 111, 1, 82, 110, 652, 653], [654, 655, 656, 657, 658, 659], [1], [287, 660, 103, 131, 661, 662], [663, 664, 1], [7, 28, 223, 665, 666, 15, 667, 668, 103, 15, 669, 670], [3, 78, 3, 34], [55, 139, 1], [62, 54, 83, 1, 108], [671, 672, 76, 673, 4, 674], [175], [176, 288, 42, 2, 1, 675], [676, 289, 290, 7, 15, 7, 677, 109, 29, 678, 29, 7, 679, 4, 287, 680, 58, 38, 681, 44, 109, 29, 682, 683, 684, 685, 289, 290], [1, 6], [34, 686, 120, 687, 291, 688, 9, 689, 42], [121, 292, 53, 690, 177, 4], [178, 105, 66, 293, 691, 58, 692, 693, 2, 1, 90], [694, 14, 23, 695, 696, 179, 180, 1, 294], [8, 15, 77, 697], [1, 34], [3, 122, 33, 122, 3, 112, 295, 33, 112, 295], [698, 699, 1, 296, 7], [1, 123, 1, 700, 701, 123, 17, 249, 702, 121], [21, 6, 1], [104, 50, 1, 703, 104, 20, 2, 1], [704, 705, 706, 707, 64, 297, 708, 709, 710, 711], [1, 27], [298, 1, 109], [89, 712, 37, 124, 1], [713, 714, 715, 299, 716, 717], [718], [95, 35, 1, 59], [40, 133, 2, 1], [62, 719, 720, 300, 1, 301, 721, 722, 301, 723, 724, 725, 4, 300], [3, 302, 63, 726, 727, 728], [1], [181, 151, 182, 729, 303, 48, 730, 5, 45, 2, 1, 731], [3, 1, 106, 22, 27, 732, 733], [734, 735, 304, 305, 736, 304, 737, 738, 739, 270, 1], [8, 740, 102, 121, 8, 1, 306], [24, 741, 742, 120, 743, 744, 183, 745, 746, 747, 748, 115, 749], [1], [750, 751, 283, 9, 752, 753, 184, 3, 3, 754, 755], [16, 15, 271, 272, 15], [185, 756, 303, 9, 757, 758, 759, 113, 6], [760, 53, 761], [1, 141, 762, 763], [125, 22, 1, 764, 22, 765, 766, 767, 768], [769, 1, 307], [770, 771, 3, 186, 152, 18, 143, 187, 1, 772], [773], [237, 238], [1, 4, 53], [51, 51, 774, 68, 775], [776, 284], [1, 84], [188, 189, 308, 777, 778, 2, 4], [1], [1], [110, 4, 779, 4, 780, 111, 1], [1, 781], [782, 71, 309, 783, 68, 50, 784, 1, 48], [785, 3, 81], [786, 161, 1], [787, 8, 1, 788, 789, 104], [790, 791, 792, 793, 214, 63, 157, 39, 3, 794], [18, 1, 795], [796, 187, 1, 797, 6], [5, 310, 798, 234], [4, 799, 311], [124, 800, 312, 313, 141, 313, 801, 23, 314, 802], [9, 803, 804, 805, 1], [68, 315, 316, 806, 807, 1, 7], [1, 808, 809, 26, 810, 240], [190, 317, 64], [2, 1, 811, 1], [47, 812, 3, 318, 1, 99, 42, 319, 813], [122, 126, 3, 127, 1, 122, 814, 815, 816], [191, 1], [817, 179, 818], [1], [21, 6, 5, 1, 819, 820, 8, 293, 320, 821], [321, 822, 823, 28, 824, 127, 825, 826, 827, 828, 263, 43, 829], [75, 830, 1, 50, 322, 85, 1, 10, 131, 831, 832, 833], [78, 1, 80, 144, 834, 835, 9, 836, 140, 837, 838], [40], [1, 84], [323, 1, 192, 839, 840], [5, 1, 841, 76, 842], [2, 4, 32, 1], [1], [275, 123, 146, 843, 110, 844, 26, 845, 123, 846], [85, 847, 324, 193, 324, 848, 85, 18, 1, 849], [155, 325, 850, 326, 327, 24, 1, 11, 851, 852], [1, 3, 853, 41, 5, 1, 854, 855], [8, 128, 1, 310], [856, 66, 328, 81, 857], [41, 317, 858, 859, 860, 861], [862, 26, 21, 6, 185, 863, 64, 864, 278, 6, 1], [58, 54, 83, 3, 1, 865, 14], [175, 866, 329, 329, 867, 8, 16, 330, 178, 178, 1, 241, 331, 868, 869], [332, 332, 870, 871], [1], [2, 1], [333, 56, 334, 872, 873, 102, 125, 334, 225, 107, 874, 875], [876, 335, 189, 49, 10, 877, 1, 878], [127, 92, 879, 880, 1, 5, 1, 5, 281, 881, 882, 883, 194, 884], [18, 885, 886, 336, 887, 11, 318, 337, 888], [129], [1, 59], [91, 2, 889, 338, 86, 339, 1, 91, 86, 339, 890, 30, 72, 5], [340, 891, 892, 341, 893, 894, 895, 341, 30, 896, 173], [121, 171, 37, 175, 897], [19, 1, 19, 37, 3, 342, 36, 87, 97], [898, 899, 170, 900, 69, 343, 1, 901, 47, 343, 1, 5, 902, 903], [1, 62, 344], [2, 1, 118, 2, 11], [904, 28, 905, 1, 906, 60, 907], [224, 19, 1, 908, 60, 345, 14, 909, 345, 346, 910], [36, 347, 62, 1, 911, 912], [38, 1, 90], [348, 913, 914, 915, 2, 1, 916, 6, 144, 917], [918, 919, 920, 921, 4, 296, 43, 63], [922, 1], [1], [251, 252, 253, 254, 1, 255, 34, 256, 156, 257], [2, 349, 195, 116, 117, 923, 924, 105, 925], [276, 926, 350, 927, 928, 929, 930, 50, 931, 932], [2, 1], [1, 1], [933, 934, 935, 936, 937, 1, 84], [938, 939, 940, 1], [150, 941, 14, 2, 1], [351, 942, 183, 352, 1, 183, 943, 352], [196, 83, 197, 1, 118, 944, 945, 196, 946, 9, 150, 947], [181, 1, 114], [12, 13, 25, 12, 13, 25, 12, 13, 25], [187, 184, 353], [5, 16, 1, 16, 948, 3, 15, 18, 15], [26, 1, 5, 949, 6, 106], [950, 951, 952, 354, 355, 354], [1, 47, 119, 1, 69, 953, 265, 32, 69, 47], [954, 955, 350], [956, 957, 51, 116, 117, 958, 46, 335, 191], [62, 2, 1], [356, 357, 16, 959, 3, 198], [960, 199, 961, 243, 962, 963, 964, 11, 965, 966], [967, 2, 1], [358, 968, 969, 322, 4, 970, 321, 971, 358, 972, 973], [5, 128, 1, 168, 359], [2, 1, 57, 974, 1, 975, 976, 30, 977, 978], [3, 979, 22, 11, 22], [75, 49, 186, 285, 64, 980, 981, 982, 983, 984, 985, 986, 987], [1, 191], [68, 988, 989, 990, 991, 68, 49, 197, 16, 1, 108], [2, 1], [39, 95, 992, 323, 8, 11, 993], [330, 2, 1], [360, 994, 171, 360, 995, 50, 33, 996, 361], [997, 998, 4], [250, 999, 4, 4], [2, 1, 1000], [2, 349, 1001, 1], [1002, 6, 210, 1003, 17, 209, 1004, 17, 14], [1005, 6, 182, 1006, 1007, 1008, 1009, 333, 1010, 1011, 154], [40, 200, 1], [12, 13, 25, 12, 13, 25, 12, 13], [23, 1012, 1], [81, 159, 5, 29, 56, 86, 18, 31], [135, 362, 201, 155, 176, 1], [363, 1013, 3, 20], [1014, 174, 1015, 1016, 1017, 1018, 128, 1019], [364, 364, 361], [202, 6, 2, 1, 1020], [2, 6, 163, 192, 365, 365, 192, 83, 1021], [168, 4], [130, 1022, 1023, 39, 11, 52], [351, 1024, 1025, 137, 366], [1026, 170, 1], [1027, 19, 217, 1, 308, 189, 87, 97], [348, 1], [129], [19, 1, 97], [1028, 1029, 1030, 1031, 203, 1032], [367, 368, 65, 1033, 1034, 1035, 367, 369, 338], [1036, 370, 206, 52, 173], [1037, 1038, 1, 1039, 1040, 1041, 201], [68, 15, 1042, 60, 371, 96], [32, 1, 32, 127, 1, 1043], [1], [199, 1044, 357, 26, 130, 291, 372, 1045, 1046], [1], [1047, 363, 1048, 1049, 8], [40, 2, 1, 20, 314, 6, 328, 14], [147, 1], [1050, 1051, 1052, 1, 1053, 119], [1], [116, 117, 359, 1054, 20, 1055, 373, 195, 39, 11], [3, 1056, 1057, 1058, 188, 9, 346, 3, 1], [39, 88], [1059, 111, 82, 4, 1060], [45, 24, 1061, 280, 374], [10, 71, 1062, 1, 316, 375, 51, 376, 9, 297], [27, 377, 38, 1063, 1064, 1065, 378, 78], [1], [2, 1, 379, 48], [1, 380, 380, 379, 59, 1], [1066, 1067, 1068, 1069, 1070, 1071, 1072], [43, 1, 262, 1073, 1, 1074], [1075, 5, 32, 1], [1076, 101, 1, 65, 92, 1077, 98, 176, 1078, 201, 101, 1079, 344, 6], [26, 371, 1080, 1081, 1082, 136, 1, 1, 1083, 136], [1084, 1085, 21, 356, 3, 82, 378, 190, 3, 1086], [1087, 277, 258, 381, 2, 1], [19, 36, 1, 19, 353, 87, 19, 1088, 1089, 87, 87, 382, 1090, 1091], [260, 40, 17, 153, 166, 167], [1, 7, 4, 7], [203, 3, 204, 212], [21, 2, 1], [2, 1, 1, 1], [1092, 373, 195, 1093, 46, 248, 1094, 158, 1095], [99, 1096, 5, 1097, 286, 71, 383, 1098, 384, 331, 220], [1, 84, 1099], [1100, 1101, 1102, 385, 1103, 88, 1104, 1105, 30, 1106, 1107, 385, 88, 1108], [39, 11], [78, 1109, 1110, 1, 48, 1111, 325, 1112, 1113, 1114, 1115, 202, 202], [218, 384], [1, 73, 381, 88], [1116, 4], [386, 387, 50, 36, 342, 1, 1117, 386, 387, 203, 1118, 1119], [2, 1, 1120], [17, 14, 153, 12, 13, 25, 12, 13, 25, 12, 13], [1], [1, 10, 1121], [20, 66, 288, 388, 388, 1122, 389, 390, 1, 64], [6, 230, 231, 43, 232, 134, 1123, 266, 29, 56], [1124, 1125, 1126, 1127, 1128, 46, 1129, 227, 1130], [126, 1131, 1132, 174, 1133, 1134, 1135, 1136, 1137], [10, 1138, 1, 1, 80, 1139, 375, 1140, 1141, 219, 1142], [83, 124, 154, 7, 162, 36, 1143, 65, 1144, 1145, 48, 45, 1], [1], [1146, 1, 70, 151, 391], [1147, 1148, 307, 1149, 392, 1150, 337, 70], [1151, 1152, 1153, 1154, 118, 1, 1155], [1156, 1157, 1158, 1159, 1160, 49, 163, 1161, 6, 23, 239, 1162, 76, 1163], [1164, 393, 197, 1165], [166, 167, 274], [1166, 1167], [1168, 126, 368, 336, 1169, 1170], [172, 1171, 1172, 1173, 1174, 236, 54, 186, 1175, 9, 1176, 40, 1177], [164, 100, 165, 1, 74, 115, 1178, 1179, 1180], [1181, 1182, 392, 1183, 20, 66], [1], [2, 180, 180, 1, 200, 1184], [4], [1], [142, 1185, 347, 1], [1186, 198, 1, 1187], [1188, 63, 1189, 196, 60, 1190], [1], [30, 3, 185, 394, 101, 1191, 80, 1192, 1193, 1194, 1, 1195, 395, 395], [21, 366, 172, 1196, 1197, 1198, 1199, 396, 91, 2, 1], [309, 55, 17, 383], [1200, 1201, 1, 108], [10, 52, 46, 10, 52, 46], [75, 46, 1202], [162, 193, 37, 1, 193, 1203, 1204, 1205], [397, 398, 85, 114, 61, 398, 1206], [38, 1207, 3, 7], [399, 29, 56, 63, 400, 177, 125, 204, 125, 27, 72], [1208, 1, 1209], [130, 4, 34, 1210, 362, 319], [3, 4, 1, 245, 93, 7], [88, 194, 1211, 57, 184, 194, 1212, 1213, 69, 69, 1214], [1215, 1216, 376, 4, 1217, 1218], [129], [1219, 24, 42], [1220, 1221, 1, 1222, 138], [1223, 1224, 21, 6, 1], [99, 1, 401, 137, 1225, 1226, 1227], [199, 1228, 369, 1229, 133, 1230, 1231, 1232], [1233], [37, 158, 305, 3, 1, 1234], [1235, 1236, 1], [1237, 1238, 69, 1239, 179, 157, 355, 1240], [1241, 1242, 401, 198, 43, 1, 1243, 1244], [1, 1, 1245, 38, 269, 282, 4, 82, 1246, 1247, 1248, 7, 177, 215, 4], [1249], [1250, 1251, 1252, 326, 1253, 1, 1254, 1255, 1256, 1257], [267, 298, 1258, 1259, 18, 1, 292, 247, 402, 402, 396, 235], [1260, 8, 79, 8, 35, 403, 79, 35, 51, 79, 66, 45, 2, 1], [233, 124, 182], [1261], [1262, 1263, 113, 1264, 1265, 128, 41, 34], [404, 169, 370, 1266, 394, 76, 1267], [404, 1, 84, 81], [1268, 391, 389, 2, 1], [1269, 156, 340, 1270, 1271, 294, 1272, 1273, 48, 1274, 55], [1275, 1276, 311, 279, 1277], [45, 1278], [129], [5, 86, 1, 55, 1279, 86, 5], [188, 1], [74, 1, 1280], [1281, 33, 246], [21, 61, 1282, 61, 28, 169, 2, 1], [164, 100, 165, 1, 74, 115], [35, 200, 20, 1, 49, 1283, 1284, 397], [65, 372, 1285, 1286, 1, 1287, 57, 36, 1288, 315], [102, 80, 51, 16, 1, 306, 113, 16, 32, 49, 374], [1289, 207, 58, 58, 10, 120, 112, 120, 1290, 1291], [59, 1, 10, 1292, 1293, 1294], [35, 26, 1, 65, 400, 26, 3, 7], [2, 1, 1295], [28, 1296, 1], [1297, 1298, 393, 1299, 1300, 1301, 47, 30, 1302, 1303, 1, 47, 1304], [181, 1, 1305], [1306], [60, 6, 327, 1, 9, 1307, 1308], [382, 1], [61, 130, 390, 34, 103], [8, 399, 1, 377, 38, 8, 229], [190, 1309, 312, 45, 204, 4], [85, 1310, 302, 320, 24, 205, 3, 149, 24, 205, 3, 10, 1311, 1312, 1313, 33, 1314, 1315, 299, 24, 205], [77, 1], [3, 403, 405, 11, 1, 1316, 132, 405, 1317], [26, 1318, 1319, 126], [92, 2, 1]]\n",
            "Found 1320 unique tokens.\n"
          ],
          "name": "stdout"
        }
      ]
    },
    {
      "cell_type": "code",
      "metadata": {
        "id": "jr3ewp1GID9n"
      },
      "source": [
        "train_cnn_data = pad_sequences(training_sequences, maxlen=MAX_SEQUENCE_LENGTH)"
      ],
      "execution_count": null,
      "outputs": []
    },
    {
      "cell_type": "code",
      "metadata": {
        "colab": {
          "base_uri": "https://localhost:8080/"
        },
        "id": "TkFpM6fpIHC7",
        "outputId": "6b8366ae-bb3c-47e1-e5cf-0439430c9aba"
      },
      "source": [
        "train_embedding_weights = np.zeros((len(train_word_index)+1, EMBEDDING_DIM))\n",
        "for word,index in train_word_index.items():\n",
        "    train_embedding_weights[index,:] = word2vec[word] if word in word2vec else np.random.rand(EMBEDDING_DIM)\n",
        "print(train_embedding_weights.shape)\n",
        "# Embed a 1,321 word vocabulary into 300 dimensions."
      ],
      "execution_count": null,
      "outputs": [
        {
          "output_type": "stream",
          "text": [
            "(1321, 300)\n"
          ],
          "name": "stdout"
        }
      ]
    },
    {
      "cell_type": "code",
      "metadata": {
        "id": "seVEtL9jIM5A"
      },
      "source": [
        "test_sequences = tokenizer.texts_to_sequences(data_test[\"Text_Final\"].tolist())\n",
        "test_cnn_data = pad_sequences(test_sequences, maxlen=MAX_SEQUENCE_LENGTH)"
      ],
      "execution_count": null,
      "outputs": []
    },
    {
      "cell_type": "markdown",
      "metadata": {
        "id": "1tgO4kgfIR_W"
      },
      "source": [
        "**Define CNN**"
      ]
    },
    {
      "cell_type": "code",
      "metadata": {
        "id": "SYBm0YfKbKIY"
      },
      "source": [
        "def ConvNet(embeddings, max_sequence_length, num_words, embedding_dim, labels_index):\n",
        "\n",
        "    embedding_layer = Embedding(num_words,\n",
        "                            embedding_dim,\n",
        "                            weights=[embeddings],\n",
        "                            input_length=max_sequence_length,\n",
        "                            trainable=False)\n",
        "    \n",
        "    sequence_input = Input(shape=(max_sequence_length,), dtype='int32')\n",
        "    embedded_sequences = embedding_layer(sequence_input)\n",
        "\n",
        "    convs = []\n",
        "    filter_sizes = [2,3,4,5,6]\n",
        "\n",
        "    for filter_size in filter_sizes:\n",
        "        l_conv = Conv1D(filters=200, kernel_size=filter_size, activation='relu')(embedded_sequences)\n",
        "        l_pool = GlobalMaxPooling1D()(l_conv)\n",
        "        convs.append(l_pool)\n",
        "\n",
        "\n",
        "    l_merge = concatenate(convs, axis=1)\n",
        "\n",
        "    x = Dropout(0.1)(l_merge)  \n",
        "    x = Dense(128, activation='relu')(x)\n",
        "    x = Dropout(0.2)(x)\n",
        "    preds = Dense(labels_index, activation='sigmoid')(x)\n",
        "\n",
        "    model = Model(sequence_input, preds)\n",
        "    model.compile(loss='binary_crossentropy',\n",
        "                  optimizer='nadam',\n",
        "                  metrics=['acc'])\n",
        "    return model"
      ],
      "execution_count": null,
      "outputs": []
    },
    {
      "cell_type": "code",
      "metadata": {
        "id": "C-FocdF3bRy6"
      },
      "source": [
        "label_names = ['mengidap', 'non']"
      ],
      "execution_count": null,
      "outputs": []
    },
    {
      "cell_type": "code",
      "metadata": {
        "colab": {
          "base_uri": "https://localhost:8080/"
        },
        "id": "V2fVQ00sVuDa",
        "outputId": "3381d4eb-3269-4399-9df6-0f387229b4d6"
      },
      "source": [
        "print(len(list(label_names)))"
      ],
      "execution_count": null,
      "outputs": [
        {
          "output_type": "stream",
          "text": [
            "2\n"
          ],
          "name": "stdout"
        }
      ]
    },
    {
      "cell_type": "code",
      "metadata": {
        "id": "gBCDTv5eIafm"
      },
      "source": [
        "y_train = data_train[label_names].values"
      ],
      "execution_count": null,
      "outputs": []
    },
    {
      "cell_type": "code",
      "metadata": {
        "id": "vbVFNP2qKOsp"
      },
      "source": [
        "x_train = train_cnn_data\n",
        "y_tr = y_train"
      ],
      "execution_count": null,
      "outputs": []
    },
    {
      "cell_type": "code",
      "metadata": {
        "id": "VjZxR5rnKRrj"
      },
      "source": [
        "model = ConvNet(train_embedding_weights, MAX_SEQUENCE_LENGTH, len(train_word_index)+1, EMBEDDING_DIM, \n",
        "                len(list(label_names)))"
      ],
      "execution_count": null,
      "outputs": []
    },
    {
      "cell_type": "markdown",
      "metadata": {
        "id": "79l1rjQ9KSsV"
      },
      "source": [
        "**Train CNN**"
      ]
    },
    {
      "cell_type": "code",
      "metadata": {
        "colab": {
          "base_uri": "https://localhost:8080/"
        },
        "id": "-JqFVpkHKhjt",
        "outputId": "3ba07922-f5b9-4b81-f7f9-0cbe47cbbec9"
      },
      "source": [
        "data_train['Label'].value_counts()"
      ],
      "execution_count": null,
      "outputs": [
        {
          "output_type": "execute_result",
          "data": {
            "text/plain": [
              "0    272\n",
              "1    172\n",
              "Name: Label, dtype: int64"
            ]
          },
          "metadata": {},
          "execution_count": 32
        }
      ]
    },
    {
      "cell_type": "code",
      "metadata": {
        "id": "5L0OfLfIKVxf"
      },
      "source": [
        "num_epochs = 400\n",
        "batch_size = 111"
      ],
      "execution_count": null,
      "outputs": []
    },
    {
      "cell_type": "code",
      "metadata": {
        "id": "5QjFlvbkbbvM"
      },
      "source": [
        "# Include the epoch in the file name (uses `str.format`)\n",
        "checkpoint_path = \"drive/MyDrive/data_psyco/4_klasifikasi_training_mentall_fix/cp-{epoch:04d}.ckpt\"\n",
        "checkpoint_dir = os.path.dirname(checkpoint_path)"
      ],
      "execution_count": null,
      "outputs": []
    },
    {
      "cell_type": "code",
      "metadata": {
        "id": "wWMcLxYCK416"
      },
      "source": [
        "# Create a new model instance\n",
        "model = ConvNet(train_embedding_weights, MAX_SEQUENCE_LENGTH, len(train_word_index)+1, EMBEDDING_DIM, \n",
        "                len(list(label_names)))\n",
        "\n",
        "# Create a callback that saves the model's weights every 5 epochs\n",
        "cp_callback = tf.keras.callbacks.ModelCheckpoint(\n",
        "    filepath=checkpoint_path, \n",
        "    verbose=1, \n",
        "    save_weights_only=True,\n",
        "    save_freq=4*batch_size)\n",
        "# Save the weights using the `checkpoint_path` format\n",
        "#model.save_weights(checkpoint_path.format(epoch=0))"
      ],
      "execution_count": null,
      "outputs": []
    },
    {
      "cell_type": "code",
      "metadata": {
        "id": "h_ZUIESSbkg3",
        "colab": {
          "base_uri": "https://localhost:8080/"
        },
        "outputId": "d8e2abd5-a044-4010-859c-2c2bd2e2a1d3"
      },
      "source": [
        "os.listdir(checkpoint_dir)"
      ],
      "execution_count": null,
      "outputs": [
        {
          "output_type": "execute_result",
          "data": {
            "text/plain": [
              "['cp-0000.ckpt.index',\n",
              " 'cp-0000.ckpt.data-00000-of-00001',\n",
              " 'cp-0111.ckpt.data-00000-of-00001',\n",
              " 'cp-0111.ckpt.index',\n",
              " 'cp-0222.ckpt.data-00000-of-00001',\n",
              " 'cp-0222.ckpt.index',\n",
              " 'cp-0333.ckpt.data-00000-of-00001',\n",
              " 'cp-0333.ckpt.index',\n",
              " 'checkpoint']"
            ]
          },
          "metadata": {},
          "execution_count": 36
        }
      ]
    },
    {
      "cell_type": "code",
      "metadata": {
        "id": "MN8sBg_WK_Bu"
      },
      "source": [
        "#model.fit(x_train, y_tr, epochs=num_epochs, validation_split=0.1, shuffle=True, batch_size=batch_size, callbacks=cp_callback)\n",
        "# Display the model's architecture\n",
        "#model.summary()"
      ],
      "execution_count": null,
      "outputs": []
    },
    {
      "cell_type": "code",
      "metadata": {
        "id": "HtGau3Q2bpr5",
        "colab": {
          "base_uri": "https://localhost:8080/",
          "height": 35
        },
        "outputId": "0fea026c-acd0-4cd0-fa05-680724ba5a8e"
      },
      "source": [
        "latest = tf.train.latest_checkpoint(checkpoint_dir)\n",
        "latest"
      ],
      "execution_count": null,
      "outputs": [
        {
          "output_type": "execute_result",
          "data": {
            "application/vnd.google.colaboratory.intrinsic+json": {
              "type": "string"
            },
            "text/plain": [
              "'drive/MyDrive/data_psyco/4_klasifikasi_training_mentall_fix/cp-0333.ckpt'"
            ]
          },
          "metadata": {},
          "execution_count": 38
        }
      ]
    },
    {
      "cell_type": "code",
      "metadata": {
        "id": "9EvP7cHZbt6n",
        "colab": {
          "base_uri": "https://localhost:8080/"
        },
        "outputId": "9ad120d3-c74e-4c47-a6a3-9e1529b00acc"
      },
      "source": [
        "new_model = ConvNet((train_embedding_weights), MAX_SEQUENCE_LENGTH, len(train_word_index)+1, EMBEDDING_DIM, \n",
        "                len(list(label_names)))\n",
        "# Load the previously saved weights\n",
        "new_model.load_weights(latest)\n",
        "\n",
        "# Re-evaluate the model\n",
        "loss, acc = new_model.evaluate(x_train, y_tr, verbose=1)"
      ],
      "execution_count": null,
      "outputs": [
        {
          "output_type": "stream",
          "text": [
            "14/14 [==============================] - 2s 62ms/step - loss: 0.2146 - acc: 0.9640\n"
          ],
          "name": "stdout"
        }
      ]
    },
    {
      "cell_type": "markdown",
      "metadata": {
        "id": "6MWCR3gDLe3V"
      },
      "source": [
        "**Test CNN**"
      ]
    },
    {
      "cell_type": "code",
      "metadata": {
        "colab": {
          "base_uri": "https://localhost:8080/"
        },
        "id": "mXXncErqLgXq",
        "outputId": "7b7e7bbe-f479-49cc-8f17-f6e4567d7881"
      },
      "source": [
        "predictions = new_model.predict(test_cnn_data, batch_size=4, verbose=1)"
      ],
      "execution_count": null,
      "outputs": [
        {
          "output_type": "stream",
          "text": [
            "28/28 [==============================] - 0s 11ms/step\n"
          ],
          "name": "stdout"
        }
      ]
    },
    {
      "cell_type": "code",
      "metadata": {
        "colab": {
          "base_uri": "https://localhost:8080/"
        },
        "id": "0eviIJSELn67",
        "outputId": "f8fd6344-b608-4d75-e8af-adebcce55b4d"
      },
      "source": [
        "y_pred=np.argmax(predictions,axis=1)\n",
        "y_pred"
      ],
      "execution_count": null,
      "outputs": [
        {
          "output_type": "execute_result",
          "data": {
            "text/plain": [
              "array([1, 1, 1, 1, 0, 0, 1, 1, 1, 1, 0, 1, 0, 0, 0, 0, 0, 1, 1, 1, 0, 0,\n",
              "       1, 0, 1, 0, 0, 0, 0, 1, 0, 1, 0, 1, 1, 0, 0, 0, 0, 0, 0, 1, 1, 0,\n",
              "       1, 1, 0, 0, 1, 1, 1, 0, 1, 1, 0, 1, 0, 1, 1, 0, 0, 0, 1, 0, 0, 0,\n",
              "       0, 1, 1, 0, 0, 0, 1, 0, 1, 1, 1, 0, 1, 0, 1, 1, 0, 0, 1, 0, 0, 0,\n",
              "       0, 0, 0, 0, 1, 1, 1, 1, 1, 0, 0, 0, 1, 0, 1, 1, 0, 1, 1, 1, 0, 1,\n",
              "       1])"
            ]
          },
          "metadata": {},
          "execution_count": 41
        }
      ]
    },
    {
      "cell_type": "code",
      "metadata": {
        "id": "WUt1uSb-LsEz"
      },
      "source": [
        "labels = [1, 0]"
      ],
      "execution_count": null,
      "outputs": []
    },
    {
      "cell_type": "code",
      "metadata": {
        "id": "S3rwaL1KLux3"
      },
      "source": [
        "prediction_labels=[]\n",
        "for p in predictions:\n",
        "    prediction_labels.append(labels[np.argmax(p)])"
      ],
      "execution_count": null,
      "outputs": []
    },
    {
      "cell_type": "code",
      "metadata": {
        "colab": {
          "base_uri": "https://localhost:8080/"
        },
        "id": "bFu9QhuFLyLv",
        "outputId": "7ce3fcd7-7ea8-4d41-8208-5e9463cd5b4a"
      },
      "source": [
        "hasil = sum(data_test.Label==prediction_labels)/len(prediction_labels)\n",
        "print('Accuracy : %s' % hasil)"
      ],
      "execution_count": null,
      "outputs": [
        {
          "output_type": "stream",
          "text": [
            "Accuracy : 0.6396396396396397\n"
          ],
          "name": "stdout"
        }
      ]
    },
    {
      "cell_type": "code",
      "metadata": {
        "colab": {
          "base_uri": "https://localhost:8080/"
        },
        "id": "k3S1R4QUL2Jm",
        "outputId": "e40b3540-6da6-42a5-9fc4-02a2cba86905"
      },
      "source": [
        "data_test.Label.value_counts()"
      ],
      "execution_count": null,
      "outputs": [
        {
          "output_type": "execute_result",
          "data": {
            "text/plain": [
              "0    62\n",
              "1    49\n",
              "Name: Label, dtype: int64"
            ]
          },
          "metadata": {},
          "execution_count": 45
        }
      ]
    },
    {
      "cell_type": "markdown",
      "metadata": {
        "id": "8mh13vyVL7Cp"
      },
      "source": [
        "**Scoring**"
      ]
    },
    {
      "cell_type": "code",
      "metadata": {
        "id": "7tz3h0YgL8u6"
      },
      "source": [
        "from sklearn.metrics import confusion_matrix,classification_report\n",
        "import seaborn as sns"
      ],
      "execution_count": null,
      "outputs": []
    },
    {
      "cell_type": "code",
      "metadata": {
        "colab": {
          "base_uri": "https://localhost:8080/",
          "height": 313
        },
        "id": "ptQCIDmoMBV9",
        "outputId": "eed85357-38d9-40d5-eaba-d7bba0ad27a8"
      },
      "source": [
        "cm=confusion_matrix(data_test.Label,y_pred)\n",
        "ax=sns.heatmap(cm,annot=True,cmap='Blues',fmt='')\n",
        "ax.set_title('Confusion Matrix')\n",
        "ax.set_xlabel('y_test')\n",
        "ax.set_ylabel('y_pred')"
      ],
      "execution_count": null,
      "outputs": [
        {
          "output_type": "execute_result",
          "data": {
            "text/plain": [
              "Text(33.0, 0.5, 'y_pred')"
            ]
          },
          "metadata": {},
          "execution_count": 47
        },
        {
          "output_type": "display_data",
          "data": {
            "image/png": "[encoded data removed]",
            "text/plain": [
              "<Figure size 432x288 with 2 Axes>"
            ]
          },
          "metadata": {
            "needs_background": "light"
          }
        }
      ]
    },
    {
      "cell_type": "code",
      "metadata": {
        "colab": {
          "base_uri": "https://localhost:8080/"
        },
        "id": "W0UMIVlPMIeq",
        "outputId": "a83c4574-c506-4b36-ebd7-401e796bcc49"
      },
      "source": [
        "print(classification_report(data_test.Label,y_pred))"
      ],
      "execution_count": null,
      "outputs": [
        {
          "output_type": "stream",
          "text": [
            "              precision    recall  f1-score   support\n",
            "\n",
            "           0       0.42      0.39      0.40        62\n",
            "           1       0.30      0.33      0.31        49\n",
            "\n",
            "    accuracy                           0.36       111\n",
            "   macro avg       0.36      0.36      0.36       111\n",
            "weighted avg       0.37      0.36      0.36       111\n",
            "\n"
          ],
          "name": "stdout"
        }
      ]
    },
    {
      "cell_type": "markdown",
      "metadata": {
        "id": "wG6_2gGCNKfc"
      },
      "source": [
        "**Klasifikasi Teks Ujicoba**"
      ]
    },
    {
      "cell_type": "code",
      "metadata": {
        "id": "QoQiVhiUQAQi"
      },
      "source": [
        "def text_preprocessing(text):\n",
        "  df['preprocess_awal'] = text.apply(preprocessTweets)\n",
        "  df['tokenkan'] = df['preprocess_awal'].apply(tokenkan)\n",
        "  df['normalized'] = df['tokenkan'].apply(normalized_term)\n",
        "  df['normalized'] = df['normalized'].apply(stopwords_removal)\n",
        "\n",
        "  # create stemmer\n",
        "  factory = StemmerFactory()\n",
        "  stemmer = factory.create_stemmer()\n",
        "\n",
        "  # stemmed\n",
        "  def stemmed_wrapper(term):\n",
        "      return stemmer.stem(term)\n",
        "\n",
        "  term_dict = {}\n",
        "\n",
        "  for document in df['normalized']:\n",
        "      for term in document:\n",
        "          if term not in term_dict:\n",
        "              term_dict[term] = ' '\n",
        "              \n",
        "  #print(len(term_dict))\n",
        "  print(\"------------------------\")\n",
        "\n",
        "  for term in term_dict:\n",
        "      term_dict[term] = stemmed_wrapper(term)\n",
        "      print(term,\":\" ,term_dict[term])\n",
        "      \n",
        "  #print(term_dict)\n",
        "  print(\"------------------------\")\n",
        "\n",
        "\n",
        "  # apply stemmed term to dataframe\n",
        "  def get_stemmed_term(document):\n",
        "      return [term_dict[term] for term in document]\n",
        "\n",
        "  df['stemmed'] = df['normalized'].swifter.apply(get_stemmed_term)\n",
        "  #print(df['stemmed'])\n",
        "\n",
        "  def remove_punct(text):\n",
        "    text_nopunct = ''\n",
        "    text_nopunct = re.sub('['+string.punctuation+']', '', text)\n",
        "    return text_nopunct\n",
        "\n",
        "  df['stemmed'] = df['stemmed'].astype(str)\n",
        "  df['stemmed'] = df['stemmed'].apply(remove_punct)"
      ],
      "execution_count": null,
      "outputs": []
    },
    {
      "cell_type": "code",
      "metadata": {
        "id": "9L8bg1sPI-c-",
        "colab": {
          "base_uri": "https://localhost:8080/",
          "height": 80
        },
        "outputId": "65d2ecab-a9fb-4f6a-f824-5d1d416ed53e"
      },
      "source": [
        "X = 'Terkadang, kamu perlu mengistirahatkan pikiran mu saat merasa sulit menghadapi hidup ini. Kamu bukan budak dunia ini. Dunia akan datang dan pergi. Tapi hubungan ku dengan pencipta ku tidak akan pergi'\n",
        "datax = {'Postingan':[X]}\n",
        "df = pd.DataFrame(datax)\n",
        "df.head()"
      ],
      "execution_count": null,
      "outputs": [
        {
          "output_type": "execute_result",
          "data": {
            "text/html": [
              "<div>\n",
              "<style scoped>\n",
              "    .dataframe tbody tr th:only-of-type {\n",
              "        vertical-align: middle;\n",
              "    }\n",
              "\n",
              "    .dataframe tbody tr th {\n",
              "        vertical-align: top;\n",
              "    }\n",
              "\n",
              "    .dataframe thead th {\n",
              "        text-align: right;\n",
              "    }\n",
              "</style>\n",
              "<table border=\"1\" class=\"dataframe\">\n",
              "  <thead>\n",
              "    <tr style=\"text-align: right;\">\n",
              "      <th></th>\n",
              "      <th>Postingan</th>\n",
              "    </tr>\n",
              "  </thead>\n",
              "  <tbody>\n",
              "    <tr>\n",
              "      <th>0</th>\n",
              "      <td>Terkadang, kamu perlu mengistirahatkan pikiran...</td>\n",
              "    </tr>\n",
              "  </tbody>\n",
              "</table>\n",
              "</div>"
            ],
            "text/plain": [
              "                                           Postingan\n",
              "0  Terkadang, kamu perlu mengistirahatkan pikiran..."
            ]
          },
          "metadata": {},
          "execution_count": 50
        }
      ]
    },
    {
      "cell_type": "code",
      "metadata": {
        "id": "NDAdnjnQRAC1",
        "colab": {
          "base_uri": "https://localhost:8080/",
          "height": 384,
          "referenced_widgets": [
            "ec1c190f18384502b9576e9b940492c0",
            "e7ab39dc43eb4ebc97d52357c14af652",
            "5f50c1af8f824839be9610e450eedc80",
            "10222c3208654bd68a4aaeaa45ee1886",
            "007d677248164144b4ee48d86dc2ba33",
            "0d6e6c6de90e4e8bbc32038183852edd",
            "074fe3b313f54810b07ec2df70129cd6",
            "8853b7edc6c7481d9560a0a93fdb76b7",
            "b69c2ecd07304bef91a8e4d6dbb2d8be",
            "d9ce8ed30d06496b9279e45d43ce1531",
            "4659227e11bf418591c2878f499915e1"
          ]
        },
        "outputId": "6e9e9d02-432e-48b0-e000-29cf3e61d3d3"
      },
      "source": [
        "text_preprocessing(df['Postingan'])\n",
        "df.head()"
      ],
      "execution_count": null,
      "outputs": [
        {
          "output_type": "stream",
          "text": [
            "------------------------\n",
            "terkadang : terkadang\n",
            "mengistirahatkan : istirahat\n",
            "pikiran : pikir\n",
            "mu : mu\n",
            "sulit : sulit\n",
            "menghadapi : hadap\n",
            "hidup : hidup\n",
            "budak : budak\n",
            "dunia : dunia\n",
            "pergi : pergi\n",
            "hubungan : hubung\n",
            "ku : ku\n",
            "pencipta : cipta\n",
            "------------------------\n"
          ],
          "name": "stdout"
        },
        {
          "output_type": "display_data",
          "data": {
            "application/vnd.jupyter.widget-view+json": {
              "model_id": "ec1c190f18384502b9576e9b940492c0",
              "version_minor": 0,
              "version_major": 2
            },
            "text/plain": [
              "Pandas Apply:   0%|          | 0/1 [00:00<?, ?it/s]"
            ]
          },
          "metadata": {}
        },
        {
          "output_type": "execute_result",
          "data": {
            "text/html": [
              "<div>\n",
              "<style scoped>\n",
              "    .dataframe tbody tr th:only-of-type {\n",
              "        vertical-align: middle;\n",
              "    }\n",
              "\n",
              "    .dataframe tbody tr th {\n",
              "        vertical-align: top;\n",
              "    }\n",
              "\n",
              "    .dataframe thead th {\n",
              "        text-align: right;\n",
              "    }\n",
              "</style>\n",
              "<table border=\"1\" class=\"dataframe\">\n",
              "  <thead>\n",
              "    <tr style=\"text-align: right;\">\n",
              "      <th></th>\n",
              "      <th>Postingan</th>\n",
              "      <th>preprocess_awal</th>\n",
              "      <th>tokenkan</th>\n",
              "      <th>normalized</th>\n",
              "      <th>stemmed</th>\n",
              "    </tr>\n",
              "  </thead>\n",
              "  <tbody>\n",
              "    <tr>\n",
              "      <th>0</th>\n",
              "      <td>Terkadang, kamu perlu mengistirahatkan pikiran...</td>\n",
              "      <td>terkadang kamu perlu mengistirahatkan pikiran ...</td>\n",
              "      <td>[terkadang, kamu, perlu, mengistirahatkan, pik...</td>\n",
              "      <td>[terkadang, mengistirahatkan, pikiran, mu, sul...</td>\n",
              "      <td>terkadang istirahat pikir mu sulit hadap hidup...</td>\n",
              "    </tr>\n",
              "  </tbody>\n",
              "</table>\n",
              "</div>"
            ],
            "text/plain": [
              "                                           Postingan  ...                                            stemmed\n",
              "0  Terkadang, kamu perlu mengistirahatkan pikiran...  ...  terkadang istirahat pikir mu sulit hadap hidup...\n",
              "\n",
              "[1 rows x 5 columns]"
            ]
          },
          "metadata": {},
          "execution_count": 51
        }
      ]
    },
    {
      "cell_type": "code",
      "metadata": {
        "id": "oUBG0edZNHsn",
        "colab": {
          "base_uri": "https://localhost:8080/"
        },
        "outputId": "158795ac-309a-41f3-f251-2ff8efe92a0f"
      },
      "source": [
        "X_sample = tokenizer.texts_to_sequences(df['stemmed'])\n",
        "print(X_sample)\n",
        "X_sample = pad_sequences(X_sample, maxlen=MAX_SEQUENCE_LENGTH)\n",
        "\n",
        "y_sample = new_model.predict(X_sample).flatten().tolist()\n",
        "hasil = labels[np.argmax(y_sample)]\n",
        "print(hasil)\n",
        "if hasil == 0 :\n",
        "  print('tidak mengidap gangguan psikologis')\n",
        "else:\n",
        "  print('mengidap gangguan psikologis')"
      ],
      "execution_count": null,
      "outputs": [
        {
          "output_type": "stream",
          "text": [
            "[[1278, 218, 169, 31, 214, 5, 22, 22, 77, 350, 8, 8, 77]]\n",
            "0\n",
            "tidak mengidap gangguan psikologis\n"
          ],
          "name": "stdout"
        }
      ]
    },
    {
      "cell_type": "code",
      "metadata": {
        "id": "xcEZF1Hnf95B"
      },
      "source": [
        "df = pd.read_excel('drive/MyDrive/data_psyco/Copy_of_test_data_20.xlsx').astype(str)"
      ],
      "execution_count": null,
      "outputs": []
    },
    {
      "cell_type": "code",
      "metadata": {
        "colab": {
          "base_uri": "https://localhost:8080/",
          "height": 1000,
          "referenced_widgets": [
            "f3de1c43a142497b958c8050ae5ec58b",
            "45ce6d0f7b494e05804aa160593ce63b",
            "ddd4b5c2019646f3af6dc70b18b036cd",
            "0b6267562cdc446aa1ea1ddb3d17d53f",
            "dded0f999ca2492f8563b68e74c970ae",
            "9949523003384ccab8577c23701841b4",
            "797dd4a001d74bd3a401a35e4d40bb4b",
            "b2de8c6b9ed54b07a90668a6439c973b",
            "9dee15e701a8496d863dc8b196a54d06",
            "f74d83eb4e7b44c7984a195eb76ca01d",
            "1c5a76f8565d4138a2096856783d5656"
          ]
        },
        "id": "gsj9pxWfuXOE",
        "outputId": "41423a9e-d56a-430f-ef7d-fcca9e94f80d"
      },
      "source": [
        "text_preprocessing(df['Postingan_Original'])\n",
        "df.head()"
      ],
      "execution_count": null,
      "outputs": [
        {
          "output_type": "stream",
          "text": [
            "------------------------\n",
            "bunuh : bunuh\n",
            "pulang : pulang\n",
            "prokes : prokes\n",
            "deh : deh\n",
            "mati : mati\n",
            "sakit : sakit\n",
            "urus : urus\n",
            "tetaplah : tetap\n",
            "haha : haha\n",
            "hihi : hihi\n",
            "bawaannya : bawa\n",
            "menghilang : hilang\n",
            "dunia : dunia\n",
            "ngeri : ngeri\n",
            "hidup : hidup\n",
            "hidupnya : hidup\n",
            "memuliakan : mulia\n",
            "tuhan : tuhan\n",
            "salut : salut\n",
            "banget : banget\n",
            "ih : ih\n",
            "iya : iya\n",
            "angkat : angkat\n",
            "langsung : langsung\n",
            "perlahan-lahan : perlahan-lahan\n",
            "... : \n",
            "satu-satunya : satu\n",
            "ku : ku\n",
            "pria : pria\n",
            "tertidur : tidur\n",
            "pelukanku : peluk\n",
            "john : john\n",
            "alasan : alas\n",
            "meledakkan : ledak\n",
            "kepalaku : kepala\n",
            "pemuda : pemuda\n",
            "gagal : gagal\n",
            "kwkwk : kwkwk\n",
            "bsa : bsa\n",
            "ngerasa : ngerasa\n",
            "covid : covid\n",
            "kah : kah\n",
            "klaim : klaim\n",
            "\\n\\natheis : n natheis\n",
            "akalnya : akal\n",
            "ilmunya : ilmu\n",
            "uangnya : uang\n",
            "listrik : listrik\n",
            "pengen : ken\n",
            "cuman : cuman\n",
            "beban : beban\n",
            "cape : cape\n",
            "dirumah : rumah\n",
            "asli : asli\n",
            "abis : abis\n",
            "lebaran : lebaran\n",
            "sumpah : sumpah\n",
            "cabut : cabut\n",
            "allah : allah\n",
            "nyawaku : nyawa\n",
            "gapapa : gapapa\n",
            "nangis : nang\n",
            "stres : stres\n",
            "depresi : depresi\n",
            "da : da\n",
            "arah : arah\n",
            "waw : waw\n",
            "suka : suka\n",
            "lihat : lihat\n",
            "profil : profil\n",
            "aplikasi : aplikasi\n",
            "whatsapp : whatsapp\n",
            "mudahnya : mudah\n",
            "kemarin : kemarin\n",
            "beli : beli\n",
            "kaosnya : kaos\n",
            "lampu : lampu\n",
            "habis : habis\n",
            "batre : batre\n",
            "makan : makan\n",
            "asik : asik\n",
            "tulis : tulis\n",
            "cerita : cerita\n",
            "jleg : jleg\n",
            "wifi : wifi\n",
            "gapunya : gapunya\n",
            "kuota : kuota\n",
            "hotspot : hotspot\n",
            "hadeh : hadeh\n",
            "batreku : batreku\n",
            "maksudnya : maksud\n",
            "------------------------\n"
          ],
          "name": "stdout"
        },
        {
          "output_type": "display_data",
          "data": {
            "application/vnd.jupyter.widget-view+json": {
              "model_id": "f3de1c43a142497b958c8050ae5ec58b",
              "version_minor": 0,
              "version_major": 2
            },
            "text/plain": [
              "Pandas Apply:   0%|          | 0/20 [00:00<?, ?it/s]"
            ]
          },
          "metadata": {}
        },
        {
          "output_type": "execute_result",
          "data": {
            "text/html": [
              "<div>\n",
              "<style scoped>\n",
              "    .dataframe tbody tr th:only-of-type {\n",
              "        vertical-align: middle;\n",
              "    }\n",
              "\n",
              "    .dataframe tbody tr th {\n",
              "        vertical-align: top;\n",
              "    }\n",
              "\n",
              "    .dataframe thead th {\n",
              "        text-align: right;\n",
              "    }\n",
              "</style>\n",
              "<table border=\"1\" class=\"dataframe\">\n",
              "  <thead>\n",
              "    <tr style=\"text-align: right;\">\n",
              "      <th></th>\n",
              "      <th>Label</th>\n",
              "      <th>Postingan_Original</th>\n",
              "      <th>Postingan_Preprocessed</th>\n",
              "      <th>preprocess_awal</th>\n",
              "      <th>tokenkan</th>\n",
              "      <th>normalized</th>\n",
              "      <th>stemmed</th>\n",
              "    </tr>\n",
              "  </thead>\n",
              "  <tbody>\n",
              "    <tr>\n",
              "      <th>0</th>\n",
              "      <td>1</td>\n",
              "      <td>Dah lah bunuh aja gue, pulang2 ga prokes lagi ...</td>\n",
              "      <td>bunuh pulang prokes deh mati sakit urus</td>\n",
              "      <td>dah lah bunuh gue pulang prokes lagi deh gue m...</td>\n",
              "      <td>[dah, lah, bunuh, gue, pulang, prokes, lagi, d...</td>\n",
              "      <td>[bunuh, pulang, prokes, deh, mati, sakit, urus]</td>\n",
              "      <td>bunuh pulang prokes deh mati sakit urus</td>\n",
              "    </tr>\n",
              "    <tr>\n",
              "      <th>1</th>\n",
              "      <td>1</td>\n",
              "      <td>tetaplah haha hihi bawaannya bunuh menghilang ...</td>\n",
              "      <td>haha hihi bunuh</td>\n",
              "      <td>tetaplah haha hihi bawaannya bunuh menghilang ...</td>\n",
              "      <td>[tetaplah, haha, hihi, bawaannya, bunuh, mengh...</td>\n",
              "      <td>[tetaplah, haha, hihi, bawaannya, bunuh, mengh...</td>\n",
              "      <td>tetap haha hihi bawa bunuh hilang dunia mati</td>\n",
              "    </tr>\n",
              "    <tr>\n",
              "      <th>2</th>\n",
              "      <td>0</td>\n",
              "      <td>Ngeri ya. Selama hidup, hidupnya memuliakan Tu...</td>\n",
              "      <td>ngeri hidup hidup mulia tuhan mati mulia tuhan...</td>\n",
              "      <td>ngeri selama hidup hidupnya memuliakan tuhan m...</td>\n",
              "      <td>[ngeri, selama, hidup, hidupnya, memuliakan, t...</td>\n",
              "      <td>[ngeri, hidup, hidupnya, memuliakan, tuhan, ma...</td>\n",
              "      <td>ngeri hidup hidup mulia tuhan mati mulia tuhan...</td>\n",
              "    </tr>\n",
              "    <tr>\n",
              "      <th>3</th>\n",
              "      <td>0</td>\n",
              "      <td>@xxrevaille ih iya gue juga sering,waktu itu p...</td>\n",
              "      <td>ih iya angkat langsung mati</td>\n",
              "      <td>ih iya gue juga sering waktu itu pernah gue an...</td>\n",
              "      <td>[ih, iya, gue, juga, sering, waktu, itu, perna...</td>\n",
              "      <td>[ih, iya, angkat, langsung, mati]</td>\n",
              "      <td>ih iya angkat langsung mati</td>\n",
              "    </tr>\n",
              "    <tr>\n",
              "      <th>4</th>\n",
              "      <td>1</td>\n",
              "      <td>Aku perlahan-lahan mati di dalam ... Aku meras...</td>\n",
              "      <td>perlahan mati ku hidup pria tidur peluk john a...</td>\n",
              "      <td>aku perlahan-lahan mati di dalam ... aku meras...</td>\n",
              "      <td>[aku, perlahan-lahan, mati, di, dalam, ..., ak...</td>\n",
              "      <td>[perlahan-lahan, mati, ..., satu-satunya, ku, ...</td>\n",
              "      <td>perlahanlahan mati  satu ku hidup pria tidur p...</td>\n",
              "    </tr>\n",
              "  </tbody>\n",
              "</table>\n",
              "</div>"
            ],
            "text/plain": [
              "  Label  ...                                            stemmed\n",
              "0     1  ...            bunuh pulang prokes deh mati sakit urus\n",
              "1     1  ...       tetap haha hihi bawa bunuh hilang dunia mati\n",
              "2     0  ...  ngeri hidup hidup mulia tuhan mati mulia tuhan...\n",
              "3     0  ...                        ih iya angkat langsung mati\n",
              "4     1  ...  perlahanlahan mati  satu ku hidup pria tidur p...\n",
              "\n",
              "[5 rows x 7 columns]"
            ]
          },
          "metadata": {},
          "execution_count": 54
        }
      ]
    },
    {
      "cell_type": "code",
      "metadata": {
        "id": "Dv6LXJzA4Jx2"
      },
      "source": [
        "test_sequences_1 = tokenizer.texts_to_sequences(df[\"Postingan_Preprocessed\"].tolist())\n",
        "test_cnn_data_1 = pad_sequences(test_sequences_1, maxlen=MAX_SEQUENCE_LENGTH)\n",
        "#print(test_cnn_data_1)"
      ],
      "execution_count": null,
      "outputs": []
    },
    {
      "cell_type": "code",
      "metadata": {
        "id": "11QMScbuHuAE"
      },
      "source": [
        "def dicoba(text):\n",
        "  return new_model.predict(test_cnn_data_1)\n",
        "\n",
        "def dicoba_2(text):\n",
        "  i = 0\n",
        "  for y in text:\n",
        "    hasil = labels[np.argmax(y)]\n",
        "    #print(hasil)\n",
        "    if hasil == 0:\n",
        "      df.loc[i, 'Predicted'] = 'tidak mengidap gangguan psikologis'\n",
        "      i = i+1\n",
        "    else:\n",
        "      df.loc[i, 'Predicted'] = 'mengidap gangguan psikologis'\n",
        "      i = i+1"
      ],
      "execution_count": null,
      "outputs": []
    },
    {
      "cell_type": "code",
      "metadata": {
        "id": "hrnOnZNw3rfl"
      },
      "source": [
        "hasil_1 = dicoba(test_cnn_data_1)\n",
        "#print(hasil_1)\n",
        "dicoba_2(hasil_1)"
      ],
      "execution_count": null,
      "outputs": []
    },
    {
      "cell_type": "code",
      "metadata": {
        "colab": {
          "base_uri": "https://localhost:8080/",
          "height": 1000
        },
        "id": "8vcj0pOUoaFs",
        "outputId": "bfec47b7-f8ff-4c85-de57-048ec17c6d81"
      },
      "source": [
        "df.head(20)"
      ],
      "execution_count": null,
      "outputs": [
        {
          "output_type": "execute_result",
          "data": {
            "text/html": [
              "<div>\n",
              "<style scoped>\n",
              "    .dataframe tbody tr th:only-of-type {\n",
              "        vertical-align: middle;\n",
              "    }\n",
              "\n",
              "    .dataframe tbody tr th {\n",
              "        vertical-align: top;\n",
              "    }\n",
              "\n",
              "    .dataframe thead th {\n",
              "        text-align: right;\n",
              "    }\n",
              "</style>\n",
              "<table border=\"1\" class=\"dataframe\">\n",
              "  <thead>\n",
              "    <tr style=\"text-align: right;\">\n",
              "      <th></th>\n",
              "      <th>Label</th>\n",
              "      <th>Postingan_Original</th>\n",
              "      <th>Postingan_Preprocessed</th>\n",
              "      <th>preprocess_awal</th>\n",
              "      <th>tokenkan</th>\n",
              "      <th>normalized</th>\n",
              "      <th>stemmed</th>\n",
              "      <th>Predicted</th>\n",
              "    </tr>\n",
              "  </thead>\n",
              "  <tbody>\n",
              "    <tr>\n",
              "      <th>0</th>\n",
              "      <td>1</td>\n",
              "      <td>Dah lah bunuh aja gue, pulang2 ga prokes lagi ...</td>\n",
              "      <td>bunuh pulang prokes deh mati sakit urus</td>\n",
              "      <td>dah lah bunuh gue pulang prokes lagi deh gue m...</td>\n",
              "      <td>[dah, lah, bunuh, gue, pulang, prokes, lagi, d...</td>\n",
              "      <td>[bunuh, pulang, prokes, deh, mati, sakit, urus]</td>\n",
              "      <td>bunuh pulang prokes deh mati sakit urus</td>\n",
              "      <td>mengidap gangguan psikologis</td>\n",
              "    </tr>\n",
              "    <tr>\n",
              "      <th>1</th>\n",
              "      <td>1</td>\n",
              "      <td>tetaplah haha hihi bawaannya bunuh menghilang ...</td>\n",
              "      <td>haha hihi bunuh</td>\n",
              "      <td>tetaplah haha hihi bawaannya bunuh menghilang ...</td>\n",
              "      <td>[tetaplah, haha, hihi, bawaannya, bunuh, mengh...</td>\n",
              "      <td>[tetaplah, haha, hihi, bawaannya, bunuh, mengh...</td>\n",
              "      <td>tetap haha hihi bawa bunuh hilang dunia mati</td>\n",
              "      <td>mengidap gangguan psikologis</td>\n",
              "    </tr>\n",
              "    <tr>\n",
              "      <th>2</th>\n",
              "      <td>0</td>\n",
              "      <td>Ngeri ya. Selama hidup, hidupnya memuliakan Tu...</td>\n",
              "      <td>ngeri hidup hidup mulia tuhan mati mulia tuhan...</td>\n",
              "      <td>ngeri selama hidup hidupnya memuliakan tuhan m...</td>\n",
              "      <td>[ngeri, selama, hidup, hidupnya, memuliakan, t...</td>\n",
              "      <td>[ngeri, hidup, hidupnya, memuliakan, tuhan, ma...</td>\n",
              "      <td>ngeri hidup hidup mulia tuhan mati mulia tuhan...</td>\n",
              "      <td>mengidap gangguan psikologis</td>\n",
              "    </tr>\n",
              "    <tr>\n",
              "      <th>3</th>\n",
              "      <td>0</td>\n",
              "      <td>@xxrevaille ih iya gue juga sering,waktu itu p...</td>\n",
              "      <td>ih iya angkat langsung mati</td>\n",
              "      <td>ih iya gue juga sering waktu itu pernah gue an...</td>\n",
              "      <td>[ih, iya, gue, juga, sering, waktu, itu, perna...</td>\n",
              "      <td>[ih, iya, angkat, langsung, mati]</td>\n",
              "      <td>ih iya angkat langsung mati</td>\n",
              "      <td>tidak mengidap gangguan psikologis</td>\n",
              "    </tr>\n",
              "    <tr>\n",
              "      <th>4</th>\n",
              "      <td>1</td>\n",
              "      <td>Aku perlahan-lahan mati di dalam ... Aku meras...</td>\n",
              "      <td>perlahan mati ku hidup pria tidur peluk john a...</td>\n",
              "      <td>aku perlahan-lahan mati di dalam ... aku meras...</td>\n",
              "      <td>[aku, perlahan-lahan, mati, di, dalam, ..., ak...</td>\n",
              "      <td>[perlahan-lahan, mati, ..., satu-satunya, ku, ...</td>\n",
              "      <td>perlahanlahan mati  satu ku hidup pria tidur p...</td>\n",
              "      <td>tidak mengidap gangguan psikologis</td>\n",
              "    </tr>\n",
              "    <tr>\n",
              "      <th>5</th>\n",
              "      <td>0</td>\n",
              "      <td>@animefess_ Tentang seorang pemuda yg ingin bu...</td>\n",
              "      <td>pemuda bunuh gagal kwkwk</td>\n",
              "      <td>tentang seorang pemuda ingin bunuh diri tapi s...</td>\n",
              "      <td>[tentang, seorang, pemuda, ingin, bunuh, diri,...</td>\n",
              "      <td>[pemuda, bunuh, gagal, kwkwk]</td>\n",
              "      <td>pemuda bunuh gagal kwkwk</td>\n",
              "      <td>mengidap gangguan psikologis</td>\n",
              "    </tr>\n",
              "    <tr>\n",
              "      <th>6</th>\n",
              "      <td>1</td>\n",
              "      <td>Ingin Rasanya Bunuh Diri</td>\n",
              "      <td>bunuh</td>\n",
              "      <td>ingin rasanya bunuh diri</td>\n",
              "      <td>[ingin, rasanya, bunuh, diri]</td>\n",
              "      <td>[bunuh]</td>\n",
              "      <td>bunuh</td>\n",
              "      <td>mengidap gangguan psikologis</td>\n",
              "    </tr>\n",
              "    <tr>\n",
              "      <th>7</th>\n",
              "      <td>0</td>\n",
              "      <td>udah mati rasa ni ga bsa ngerasa apa2 covid kah?'</td>\n",
              "      <td>mati ni bsa ngerasa covid kah</td>\n",
              "      <td>udah mati rasa ni bsa ngerasa apa covid kah</td>\n",
              "      <td>[udah, mati, rasa, ni, bsa, ngerasa, apa, covi...</td>\n",
              "      <td>[mati, bsa, ngerasa, covid, kah]</td>\n",
              "      <td>mati bsa ngerasa covid kah</td>\n",
              "      <td>mengidap gangguan psikologis</td>\n",
              "    </tr>\n",
              "    <tr>\n",
              "      <th>8</th>\n",
              "      <td>0</td>\n",
              "      <td>@Anggi_sapiens Dia ini dulu klaim dirinya seba...</td>\n",
              "      <td>klaim tuhan mati atheis klaim akal ilmu uang</td>\n",
              "      <td>dia ini dulu klaim dirinya sebagai tuhan ... a...</td>\n",
              "      <td>[dia, ini, dulu, klaim, dirinya, sebagai, tuha...</td>\n",
              "      <td>[klaim, tuhan, ..., mati, ..., \\n\\natheis, kla...</td>\n",
              "      <td>klaim tuhan  mati  n natheis klaim akal ilmu uang</td>\n",
              "      <td>tidak mengidap gangguan psikologis</td>\n",
              "    </tr>\n",
              "    <tr>\n",
              "      <th>9</th>\n",
              "      <td>0</td>\n",
              "      <td>Hari hari mati listrik'</td>\n",
              "      <td>mati listrik</td>\n",
              "      <td>hari hari mati listrik</td>\n",
              "      <td>[hari, hari, mati, listrik]</td>\n",
              "      <td>[mati, listrik]</td>\n",
              "      <td>mati listrik</td>\n",
              "      <td>tidak mengidap gangguan psikologis</td>\n",
              "    </tr>\n",
              "    <tr>\n",
              "      <th>10</th>\n",
              "      <td>1</td>\n",
              "      <td>Pengen mati aja udah aku idup cuman jadi beban'</td>\n",
              "      <td>ken mati hidup cuman beban</td>\n",
              "      <td>pengen mati udah aku idup cuman jadi beban</td>\n",
              "      <td>[pengen, mati, udah, aku, idup, cuman, jadi, b...</td>\n",
              "      <td>[pengen, mati, hidup, cuman, beban]</td>\n",
              "      <td>ken mati hidup cuman beban</td>\n",
              "      <td>mengidap gangguan psikologis</td>\n",
              "    </tr>\n",
              "    <tr>\n",
              "      <th>11</th>\n",
              "      <td>1</td>\n",
              "      <td>Capek gue dirumah asli, abis lebaran pengen ma...</td>\n",
              "      <td>cape rumah asli abis lebaran ken mati cape sumpah</td>\n",
              "      <td>capek gue dirumah asli abis lebaran pengen mat...</td>\n",
              "      <td>[capek, gue, dirumah, asli, abis, lebaran, pen...</td>\n",
              "      <td>[cape, dirumah, asli, abis, lebaran, pengen, m...</td>\n",
              "      <td>cape rumah asli abis lebaran ken mati cape sumpah</td>\n",
              "      <td>mengidap gangguan psikologis</td>\n",
              "    </tr>\n",
              "    <tr>\n",
              "      <th>12</th>\n",
              "      <td>1</td>\n",
              "      <td>Pengen mati, cabut ya allah nyawaku skrng'</td>\n",
              "      <td>ken mati cabut allah nyawa</td>\n",
              "      <td>pengen mati cabut allah nyawaku skrng</td>\n",
              "      <td>[pengen, mati, cabut, allah, nyawaku, skrng]</td>\n",
              "      <td>[pengen, mati, cabut, allah, nyawaku]</td>\n",
              "      <td>ken mati cabut allah nyawa</td>\n",
              "      <td>mengidap gangguan psikologis</td>\n",
              "    </tr>\n",
              "    <tr>\n",
              "      <th>13</th>\n",
              "      <td>1</td>\n",
              "      <td>gapapa nangis aja kamu kan stres, depresi,ga d...</td>\n",
              "      <td>gapapa nang stres depresi da arah mati</td>\n",
              "      <td>gapapa nangis kamu kan stres depresi da arah m...</td>\n",
              "      <td>[gapapa, nangis, kamu, kan, stres, depresi, da...</td>\n",
              "      <td>[gapapa, nangis, stres, depresi, da, arah, mati]</td>\n",
              "      <td>gapapa nang stres depresi da arah mati</td>\n",
              "      <td>mengidap gangguan psikologis</td>\n",
              "    </tr>\n",
              "    <tr>\n",
              "      <th>14</th>\n",
              "      <td>1</td>\n",
              "      <td>pengen mati</td>\n",
              "      <td>ken mati</td>\n",
              "      <td>pengen mati</td>\n",
              "      <td>[pengen, mati]</td>\n",
              "      <td>[pengen, mati]</td>\n",
              "      <td>ken mati</td>\n",
              "      <td>mengidap gangguan psikologis</td>\n",
              "    </tr>\n",
              "    <tr>\n",
              "      <th>15</th>\n",
              "      <td>0</td>\n",
              "      <td>Waw Ingin Tahu Siapa yang Suka Lihat Profil Ap...</td>\n",
              "      <td>waw suka lihat profil aplikasi whatsapp mudah</td>\n",
              "      <td>waw ingin tahu siapa yang suka lihat profil ap...</td>\n",
              "      <td>[waw, ingin, tahu, siapa, yang, suka, lihat, p...</td>\n",
              "      <td>[waw, suka, lihat, profil, aplikasi, whatsapp,...</td>\n",
              "      <td>waw suka lihat profil aplikasi whatsapp mudah</td>\n",
              "      <td>mengidap gangguan psikologis</td>\n",
              "    </tr>\n",
              "    <tr>\n",
              "      <th>16</th>\n",
              "      <td>0</td>\n",
              "      <td>@MasAgustinus @ganjarpranowo Dari kemarin saya...</td>\n",
              "      <td>kemarin beli kaos</td>\n",
              "      <td>dari kemarin saya ingin beli kaosnya</td>\n",
              "      <td>[dari, kemarin, saya, ingin, beli, kaosnya]</td>\n",
              "      <td>[kemarin, beli, kaosnya]</td>\n",
              "      <td>kemarin beli kaos</td>\n",
              "      <td>tidak mengidap gangguan psikologis</td>\n",
              "    </tr>\n",
              "    <tr>\n",
              "      <th>17</th>\n",
              "      <td>0</td>\n",
              "      <td>@pln_123 pak, ini mati lampu ampe kapan pak? S...</td>\n",
              "      <td>mati lampu habis batre beli makan</td>\n",
              "      <td>pak ini mati lampu ampe kapan pak saya habis b...</td>\n",
              "      <td>[pak, ini, mati, lampu, ampe, kapan, pak, saya...</td>\n",
              "      <td>[mati, lampu, habis, batre, beli, makan]</td>\n",
              "      <td>mati lampu habis batre beli makan</td>\n",
              "      <td>tidak mengidap gangguan psikologis</td>\n",
              "    </tr>\n",
              "    <tr>\n",
              "      <th>18</th>\n",
              "      <td>0</td>\n",
              "      <td>pernah ga sih kalian lagi asik nulis cerita tr...</td>\n",
              "      <td>asik tulis cerita jleg wifi mati gapunya kuota...</td>\n",
              "      <td>pernah kalian lagi asik nulis cerita trus tiba...</td>\n",
              "      <td>[pernah, kalian, lagi, asik, nulis, cerita, tr...</td>\n",
              "      <td>[asik, tulis, cerita, jleg, wifi, mati, gapuny...</td>\n",
              "      <td>asik tulis cerita jleg wifi mati gapunya kuota...</td>\n",
              "      <td>tidak mengidap gangguan psikologis</td>\n",
              "    </tr>\n",
              "    <tr>\n",
              "      <th>19</th>\n",
              "      <td>0</td>\n",
              "      <td>MATI LISTRIK TRUS BATREKU 7 % APA MAKSUDNYA'</td>\n",
              "      <td>mati listrik batreku maksud</td>\n",
              "      <td>mati listrik trus batreku apa maksudnya</td>\n",
              "      <td>[mati, listrik, trus, batreku, apa, maksudnya]</td>\n",
              "      <td>[mati, listrik, batreku, maksudnya]</td>\n",
              "      <td>mati listrik batreku maksud</td>\n",
              "      <td>tidak mengidap gangguan psikologis</td>\n",
              "    </tr>\n",
              "  </tbody>\n",
              "</table>\n",
              "</div>"
            ],
            "text/plain": [
              "   Label  ...                           Predicted\n",
              "0      1  ...        mengidap gangguan psikologis\n",
              "1      1  ...        mengidap gangguan psikologis\n",
              "2      0  ...        mengidap gangguan psikologis\n",
              "3      0  ...  tidak mengidap gangguan psikologis\n",
              "4      1  ...  tidak mengidap gangguan psikologis\n",
              "5      0  ...        mengidap gangguan psikologis\n",
              "6      1  ...        mengidap gangguan psikologis\n",
              "7      0  ...        mengidap gangguan psikologis\n",
              "8      0  ...  tidak mengidap gangguan psikologis\n",
              "9      0  ...  tidak mengidap gangguan psikologis\n",
              "10     1  ...        mengidap gangguan psikologis\n",
              "11     1  ...        mengidap gangguan psikologis\n",
              "12     1  ...        mengidap gangguan psikologis\n",
              "13     1  ...        mengidap gangguan psikologis\n",
              "14     1  ...        mengidap gangguan psikologis\n",
              "15     0  ...        mengidap gangguan psikologis\n",
              "16     0  ...  tidak mengidap gangguan psikologis\n",
              "17     0  ...  tidak mengidap gangguan psikologis\n",
              "18     0  ...  tidak mengidap gangguan psikologis\n",
              "19     0  ...  tidak mengidap gangguan psikologis\n",
              "\n",
              "[20 rows x 8 columns]"
            ]
          },
          "metadata": {},
          "execution_count": 58
        }
      ]
    }
  ]
}