{
  "nbformat": 4,
  "nbformat_minor": 0,
  "metadata": {
    "colab": {
      "name": "IMBDN_Depresi_1000.ipynb",
      "provenance": [],
      "collapsed_sections": [],
      "mount_file_id": "1oiCyzsXbIXR0THa55-50fAFyU1cCSiaW",
      "authorship_tag": "ABX9TyN5u6R7ETf2fStXIEsoG79t",
      "include_colab_link": true
    },
    "kernelspec": {
      "name": "python3",
      "display_name": "Python 3"
    },
    "language_info": {
      "name": "python"
    },
    "widgets": {
      "application/vnd.jupyter.widget-state+json": {
        "df8591f7213e4e648bdbad3f7f81f2ff": {
          "model_module": "@jupyter-widgets/controls",
          "model_name": "HBoxModel",
          "model_module_version": "1.5.0",
          "state": {
            "_view_name": "HBoxView",
            "_dom_classes": [],
            "_model_name": "HBoxModel",
            "_view_module": "@jupyter-widgets/controls",
            "_model_module_version": "1.5.0",
            "_view_count": null,
            "_view_module_version": "1.5.0",
            "box_style": "",
            "layout": "IPY_MODEL_9c314523612144da8a2a393b0f777b9a",
            "_model_module": "@jupyter-widgets/controls",
            "children": [
              "IPY_MODEL_4fd9f2971a814666b9980b1929de7444",
              "IPY_MODEL_c030e592c0bc44f8818e398a032d4155",
              "IPY_MODEL_27b9b65032ee4912b4ff43c0a5f03060"
            ]
          }
        },
        "9c314523612144da8a2a393b0f777b9a": {
          "model_module": "@jupyter-widgets/base",
          "model_name": "LayoutModel",
          "model_module_version": "1.2.0",
          "state": {
            "_view_name": "LayoutView",
            "grid_template_rows": null,
            "right": null,
            "justify_content": null,
            "_view_module": "@jupyter-widgets/base",
            "overflow": null,
            "_model_module_version": "1.2.0",
            "_view_count": null,
            "flex_flow": null,
            "width": null,
            "min_width": null,
            "border": null,
            "align_items": null,
            "bottom": null,
            "_model_module": "@jupyter-widgets/base",
            "top": null,
            "grid_column": null,
            "overflow_y": null,
            "overflow_x": null,
            "grid_auto_flow": null,
            "grid_area": null,
            "grid_template_columns": null,
            "flex": null,
            "_model_name": "LayoutModel",
            "justify_items": null,
            "grid_row": null,
            "max_height": null,
            "align_content": null,
            "visibility": null,
            "align_self": null,
            "height": null,
            "min_height": null,
            "padding": null,
            "grid_auto_rows": null,
            "grid_gap": null,
            "max_width": null,
            "order": null,
            "_view_module_version": "1.2.0",
            "grid_template_areas": null,
            "object_position": null,
            "object_fit": null,
            "grid_auto_columns": null,
            "margin": null,
            "display": null,
            "left": null
          }
        },
        "4fd9f2971a814666b9980b1929de7444": {
          "model_module": "@jupyter-widgets/controls",
          "model_name": "HTMLModel",
          "model_module_version": "1.5.0",
          "state": {
            "_view_name": "HTMLView",
            "style": "IPY_MODEL_568365ce45144a05983579ddd7990841",
            "_dom_classes": [],
            "description": "",
            "_model_name": "HTMLModel",
            "placeholder": "​",
            "_view_module": "@jupyter-widgets/controls",
            "_model_module_version": "1.5.0",
            "value": "Pandas Apply: 100%",
            "_view_count": null,
            "_view_module_version": "1.5.0",
            "description_tooltip": null,
            "_model_module": "@jupyter-widgets/controls",
            "layout": "IPY_MODEL_bea6eb72c214450ea359b2eca505c2ae"
          }
        },
        "c030e592c0bc44f8818e398a032d4155": {
          "model_module": "@jupyter-widgets/controls",
          "model_name": "FloatProgressModel",
          "model_module_version": "1.5.0",
          "state": {
            "_view_name": "ProgressView",
            "style": "IPY_MODEL_e83787aa27e743cabcbb6e734dbee099",
            "_dom_classes": [],
            "description": "",
            "_model_name": "FloatProgressModel",
            "bar_style": "success",
            "max": 1,
            "_view_module": "@jupyter-widgets/controls",
            "_model_module_version": "1.5.0",
            "value": 1,
            "_view_count": null,
            "_view_module_version": "1.5.0",
            "orientation": "horizontal",
            "min": 0,
            "description_tooltip": null,
            "_model_module": "@jupyter-widgets/controls",
            "layout": "IPY_MODEL_ce61d1a16047402a9f5ae3f0339359a8"
          }
        },
        "27b9b65032ee4912b4ff43c0a5f03060": {
          "model_module": "@jupyter-widgets/controls",
          "model_name": "HTMLModel",
          "model_module_version": "1.5.0",
          "state": {
            "_view_name": "HTMLView",
            "style": "IPY_MODEL_2007218032084062bcb89691f0e7f18d",
            "_dom_classes": [],
            "description": "",
            "_model_name": "HTMLModel",
            "placeholder": "​",
            "_view_module": "@jupyter-widgets/controls",
            "_model_module_version": "1.5.0",
            "value": " 1/1 [00:00&lt;00:00, 23.93it/s]",
            "_view_count": null,
            "_view_module_version": "1.5.0",
            "description_tooltip": null,
            "_model_module": "@jupyter-widgets/controls",
            "layout": "IPY_MODEL_d47efd9ae8384d00ad0454d7274417fb"
          }
        },
        "568365ce45144a05983579ddd7990841": {
          "model_module": "@jupyter-widgets/controls",
          "model_name": "DescriptionStyleModel",
          "model_module_version": "1.5.0",
          "state": {
            "_view_name": "StyleView",
            "_model_name": "DescriptionStyleModel",
            "description_width": "",
            "_view_module": "@jupyter-widgets/base",
            "_model_module_version": "1.5.0",
            "_view_count": null,
            "_view_module_version": "1.2.0",
            "_model_module": "@jupyter-widgets/controls"
          }
        },
        "bea6eb72c214450ea359b2eca505c2ae": {
          "model_module": "@jupyter-widgets/base",
          "model_name": "LayoutModel",
          "model_module_version": "1.2.0",
          "state": {
            "_view_name": "LayoutView",
            "grid_template_rows": null,
            "right": null,
            "justify_content": null,
            "_view_module": "@jupyter-widgets/base",
            "overflow": null,
            "_model_module_version": "1.2.0",
            "_view_count": null,
            "flex_flow": null,
            "width": null,
            "min_width": null,
            "border": null,
            "align_items": null,
            "bottom": null,
            "_model_module": "@jupyter-widgets/base",
            "top": null,
            "grid_column": null,
            "overflow_y": null,
            "overflow_x": null,
            "grid_auto_flow": null,
            "grid_area": null,
            "grid_template_columns": null,
            "flex": null,
            "_model_name": "LayoutModel",
            "justify_items": null,
            "grid_row": null,
            "max_height": null,
            "align_content": null,
            "visibility": null,
            "align_self": null,
            "height": null,
            "min_height": null,
            "padding": null,
            "grid_auto_rows": null,
            "grid_gap": null,
            "max_width": null,
            "order": null,
            "_view_module_version": "1.2.0",
            "grid_template_areas": null,
            "object_position": null,
            "object_fit": null,
            "grid_auto_columns": null,
            "margin": null,
            "display": null,
            "left": null
          }
        },
        "e83787aa27e743cabcbb6e734dbee099": {
          "model_module": "@jupyter-widgets/controls",
          "model_name": "ProgressStyleModel",
          "model_module_version": "1.5.0",
          "state": {
            "_view_name": "StyleView",
            "_model_name": "ProgressStyleModel",
            "description_width": "",
            "_view_module": "@jupyter-widgets/base",
            "_model_module_version": "1.5.0",
            "_view_count": null,
            "_view_module_version": "1.2.0",
            "bar_color": null,
            "_model_module": "@jupyter-widgets/controls"
          }
        },
        "ce61d1a16047402a9f5ae3f0339359a8": {
          "model_module": "@jupyter-widgets/base",
          "model_name": "LayoutModel",
          "model_module_version": "1.2.0",
          "state": {
            "_view_name": "LayoutView",
            "grid_template_rows": null,
            "right": null,
            "justify_content": null,
            "_view_module": "@jupyter-widgets/base",
            "overflow": null,
            "_model_module_version": "1.2.0",
            "_view_count": null,
            "flex_flow": null,
            "width": null,
            "min_width": null,
            "border": null,
            "align_items": null,
            "bottom": null,
            "_model_module": "@jupyter-widgets/base",
            "top": null,
            "grid_column": null,
            "overflow_y": null,
            "overflow_x": null,
            "grid_auto_flow": null,
            "grid_area": null,
            "grid_template_columns": null,
            "flex": null,
            "_model_name": "LayoutModel",
            "justify_items": null,
            "grid_row": null,
            "max_height": null,
            "align_content": null,
            "visibility": null,
            "align_self": null,
            "height": null,
            "min_height": null,
            "padding": null,
            "grid_auto_rows": null,
            "grid_gap": null,
            "max_width": null,
            "order": null,
            "_view_module_version": "1.2.0",
            "grid_template_areas": null,
            "object_position": null,
            "object_fit": null,
            "grid_auto_columns": null,
            "margin": null,
            "display": null,
            "left": null
          }
        },
        "2007218032084062bcb89691f0e7f18d": {
          "model_module": "@jupyter-widgets/controls",
          "model_name": "DescriptionStyleModel",
          "model_module_version": "1.5.0",
          "state": {
            "_view_name": "StyleView",
            "_model_name": "DescriptionStyleModel",
            "description_width": "",
            "_view_module": "@jupyter-widgets/base",
            "_model_module_version": "1.5.0",
            "_view_count": null,
            "_view_module_version": "1.2.0",
            "_model_module": "@jupyter-widgets/controls"
          }
        },
        "d47efd9ae8384d00ad0454d7274417fb": {
          "model_module": "@jupyter-widgets/base",
          "model_name": "LayoutModel",
          "model_module_version": "1.2.0",
          "state": {
            "_view_name": "LayoutView",
            "grid_template_rows": null,
            "right": null,
            "justify_content": null,
            "_view_module": "@jupyter-widgets/base",
            "overflow": null,
            "_model_module_version": "1.2.0",
            "_view_count": null,
            "flex_flow": null,
            "width": null,
            "min_width": null,
            "border": null,
            "align_items": null,
            "bottom": null,
            "_model_module": "@jupyter-widgets/base",
            "top": null,
            "grid_column": null,
            "overflow_y": null,
            "overflow_x": null,
            "grid_auto_flow": null,
            "grid_area": null,
            "grid_template_columns": null,
            "flex": null,
            "_model_name": "LayoutModel",
            "justify_items": null,
            "grid_row": null,
            "max_height": null,
            "align_content": null,
            "visibility": null,
            "align_self": null,
            "height": null,
            "min_height": null,
            "padding": null,
            "grid_auto_rows": null,
            "grid_gap": null,
            "max_width": null,
            "order": null,
            "_view_module_version": "1.2.0",
            "grid_template_areas": null,
            "object_position": null,
            "object_fit": null,
            "grid_auto_columns": null,
            "margin": null,
            "display": null,
            "left": null
          }
        }
      }
    }
  },
  "cells": [
    {
      "cell_type": "markdown",
      "metadata": {
        "id": "view-in-github",
        "colab_type": "text"
      },
      "source": [
        "<a href=\"https://colab.research.google.com/github/resthiana12/Kelainan_Psikologis_CNN/blob/main/IMBDN_Depresi_1000.ipynb\" target=\"_parent\"><img src=\"https://colab.research.google.com/assets/colab-badge.svg\" alt=\"Open In Colab\"/></a>"
      ]
    },
    {
      "cell_type": "markdown",
      "metadata": {
        "id": "6A_QnXzyGKfb"
      },
      "source": [
        "**#Install Package yang Dibutuhkan**"
      ]
    },
    {
      "cell_type": "code",
      "metadata": {
        "id": "jE7-3YxZFucC",
        "colab": {
          "base_uri": "https://localhost:8080/"
        },
        "outputId": "3881e0f6-3e85-4aec-f17f-c7fe8a4aa129"
      },
      "source": [
        "pip install emot"
      ],
      "execution_count": 1,
      "outputs": [
        {
          "output_type": "stream",
          "text": [
            "Collecting emot\n",
            "  Downloading emot-3.1-py3-none-any.whl (61 kB)\n",
            "\u001b[?25l\r\u001b[K     |█████▎                          | 10 kB 19.6 MB/s eta 0:00:01\r\u001b[K     |██████████▋                     | 20 kB 24.7 MB/s eta 0:00:01\r\u001b[K     |████████████████                | 30 kB 27.7 MB/s eta 0:00:01\r\u001b[K     |█████████████████████▎          | 40 kB 19.3 MB/s eta 0:00:01\r\u001b[K     |██████████████████████████▋     | 51 kB 9.4 MB/s eta 0:00:01\r\u001b[K     |████████████████████████████████| 61 kB 8.7 MB/s eta 0:00:01\r\u001b[K     |████████████████████████████████| 61 kB 17 kB/s \n",
            "\u001b[?25hInstalling collected packages: emot\n",
            "Successfully installed emot-3.1\n"
          ],
          "name": "stdout"
        }
      ]
    },
    {
      "cell_type": "code",
      "metadata": {
        "id": "jc7IL70qGcn5",
        "colab": {
          "base_uri": "https://localhost:8080/"
        },
        "outputId": "aa1b1ae7-e948-4bc6-e9c7-e051cce04321"
      },
      "source": [
        "pip install emoji"
      ],
      "execution_count": 2,
      "outputs": [
        {
          "output_type": "stream",
          "text": [
            "Collecting emoji\n",
            "  Downloading emoji-1.4.2.tar.gz (184 kB)\n",
            "\u001b[?25l\r\u001b[K     |█▊                              | 10 kB 19.5 MB/s eta 0:00:01\r\u001b[K     |███▌                            | 20 kB 22.9 MB/s eta 0:00:01\r\u001b[K     |█████▎                          | 30 kB 16.7 MB/s eta 0:00:01\r\u001b[K     |███████                         | 40 kB 12.1 MB/s eta 0:00:01\r\u001b[K     |████████▉                       | 51 kB 7.5 MB/s eta 0:00:01\r\u001b[K     |██████████▋                     | 61 kB 7.2 MB/s eta 0:00:01\r\u001b[K     |████████████▍                   | 71 kB 7.1 MB/s eta 0:00:01\r\u001b[K     |██████████████▏                 | 81 kB 7.8 MB/s eta 0:00:01\r\u001b[K     |████████████████                | 92 kB 6.7 MB/s eta 0:00:01\r\u001b[K     |█████████████████▊              | 102 kB 7.3 MB/s eta 0:00:01\r\u001b[K     |███████████████████▌            | 112 kB 7.3 MB/s eta 0:00:01\r\u001b[K     |█████████████████████▎          | 122 kB 7.3 MB/s eta 0:00:01\r\u001b[K     |███████████████████████         | 133 kB 7.3 MB/s eta 0:00:01\r\u001b[K     |████████████████████████▉       | 143 kB 7.3 MB/s eta 0:00:01\r\u001b[K     |██████████████████████████▋     | 153 kB 7.3 MB/s eta 0:00:01\r\u001b[K     |████████████████████████████▍   | 163 kB 7.3 MB/s eta 0:00:01\r\u001b[K     |██████████████████████████████▏ | 174 kB 7.3 MB/s eta 0:00:01\r\u001b[K     |███████████████████████████████▉| 184 kB 7.3 MB/s eta 0:00:01\r\u001b[K     |████████████████████████████████| 184 kB 7.3 MB/s \n",
            "\u001b[?25hBuilding wheels for collected packages: emoji\n",
            "  Building wheel for emoji (setup.py) ... \u001b[?25l\u001b[?25hdone\n",
            "  Created wheel for emoji: filename=emoji-1.4.2-py3-none-any.whl size=186469 sha256=4c76ad2cee115d0a48587d9f2624e62a5884fec18c169a7927852f2a01f03806\n",
            "  Stored in directory: /root/.cache/pip/wheels/e4/61/e7/2fc1ac8f306848fc66c6c013ab511f0a39ef4b1825b11363b2\n",
            "Successfully built emoji\n",
            "Installing collected packages: emoji\n",
            "Successfully installed emoji-1.4.2\n"
          ],
          "name": "stdout"
        }
      ]
    },
    {
      "cell_type": "code",
      "metadata": {
        "id": "QwaReWdEGjFP",
        "colab": {
          "base_uri": "https://localhost:8080/"
        },
        "outputId": "3a938021-e0fd-4011-a0c8-54d45c3b4170"
      },
      "source": [
        "pip install sastrawi"
      ],
      "execution_count": 3,
      "outputs": [
        {
          "output_type": "stream",
          "text": [
            "Collecting sastrawi\n",
            "  Downloading Sastrawi-1.0.1-py2.py3-none-any.whl (209 kB)\n",
            "\u001b[?25l\r\u001b[K     |█▋                              | 10 kB 21.4 MB/s eta 0:00:01\r\u001b[K     |███▏                            | 20 kB 26.8 MB/s eta 0:00:01\r\u001b[K     |████▊                           | 30 kB 21.5 MB/s eta 0:00:01\r\u001b[K     |██████▎                         | 40 kB 18.5 MB/s eta 0:00:01\r\u001b[K     |███████▉                        | 51 kB 8.3 MB/s eta 0:00:01\r\u001b[K     |█████████▍                      | 61 kB 9.5 MB/s eta 0:00:01\r\u001b[K     |███████████                     | 71 kB 8.9 MB/s eta 0:00:01\r\u001b[K     |████████████▌                   | 81 kB 9.9 MB/s eta 0:00:01\r\u001b[K     |██████████████                  | 92 kB 10.6 MB/s eta 0:00:01\r\u001b[K     |███████████████▋                | 102 kB 8.5 MB/s eta 0:00:01\r\u001b[K     |█████████████████▏              | 112 kB 8.5 MB/s eta 0:00:01\r\u001b[K     |██████████████████▊             | 122 kB 8.5 MB/s eta 0:00:01\r\u001b[K     |████████████████████▎           | 133 kB 8.5 MB/s eta 0:00:01\r\u001b[K     |█████████████████████▉          | 143 kB 8.5 MB/s eta 0:00:01\r\u001b[K     |███████████████████████▍        | 153 kB 8.5 MB/s eta 0:00:01\r\u001b[K     |█████████████████████████       | 163 kB 8.5 MB/s eta 0:00:01\r\u001b[K     |██████████████████████████▋     | 174 kB 8.5 MB/s eta 0:00:01\r\u001b[K     |████████████████████████████▏   | 184 kB 8.5 MB/s eta 0:00:01\r\u001b[K     |█████████████████████████████▊  | 194 kB 8.5 MB/s eta 0:00:01\r\u001b[K     |███████████████████████████████▎| 204 kB 8.5 MB/s eta 0:00:01\r\u001b[K     |████████████████████████████████| 209 kB 8.5 MB/s \n",
            "\u001b[?25hInstalling collected packages: sastrawi\n",
            "Successfully installed sastrawi-1.0.1\n"
          ],
          "name": "stdout"
        }
      ]
    },
    {
      "cell_type": "code",
      "metadata": {
        "id": "DctZrsGDGnnq",
        "colab": {
          "base_uri": "https://localhost:8080/",
          "height": 1000
        },
        "outputId": "536ce1f0-fbe4-4421-f2f3-5d57c1d40938"
      },
      "source": [
        "pip install swifter"
      ],
      "execution_count": 4,
      "outputs": [
        {
          "output_type": "stream",
          "text": [
            "Collecting swifter\n",
            "  Downloading swifter-1.0.9-py3-none-any.whl (14 kB)\n",
            "Requirement already satisfied: dask[dataframe]>=2.10.0 in /usr/local/lib/python3.7/dist-packages (from swifter) (2.12.0)\n",
            "Collecting psutil>=5.6.6\n",
            "  Downloading psutil-5.8.0-cp37-cp37m-manylinux2010_x86_64.whl (296 kB)\n",
            "\u001b[K     |████████████████████████████████| 296 kB 7.0 MB/s \n",
            "\u001b[?25hRequirement already satisfied: tqdm>=4.33.0 in /usr/local/lib/python3.7/dist-packages (from swifter) (4.62.0)\n",
            "Requirement already satisfied: cloudpickle>=0.2.2 in /usr/local/lib/python3.7/dist-packages (from swifter) (1.3.0)\n",
            "Requirement already satisfied: ipywidgets>=7.0.0 in /usr/local/lib/python3.7/dist-packages (from swifter) (7.6.3)\n",
            "Requirement already satisfied: bleach>=3.1.1 in /usr/local/lib/python3.7/dist-packages (from swifter) (4.0.0)\n",
            "Requirement already satisfied: pandas>=1.0.0 in /usr/local/lib/python3.7/dist-packages (from swifter) (1.1.5)\n",
            "Requirement already satisfied: parso>0.4.0 in /usr/local/lib/python3.7/dist-packages (from swifter) (0.8.2)\n",
            "Requirement already satisfied: six>=1.9.0 in /usr/local/lib/python3.7/dist-packages (from bleach>=3.1.1->swifter) (1.15.0)\n",
            "Requirement already satisfied: webencodings in /usr/local/lib/python3.7/dist-packages (from bleach>=3.1.1->swifter) (0.5.1)\n",
            "Requirement already satisfied: packaging in /usr/local/lib/python3.7/dist-packages (from bleach>=3.1.1->swifter) (21.0)\n",
            "Requirement already satisfied: toolz>=0.7.3 in /usr/local/lib/python3.7/dist-packages (from dask[dataframe]>=2.10.0->swifter) (0.11.1)\n",
            "Collecting partd>=0.3.10\n",
            "  Downloading partd-1.2.0-py3-none-any.whl (19 kB)\n",
            "Collecting fsspec>=0.6.0\n",
            "  Downloading fsspec-2021.7.0-py3-none-any.whl (118 kB)\n",
            "\u001b[K     |████████████████████████████████| 118 kB 56.7 MB/s \n",
            "\u001b[?25hRequirement already satisfied: numpy>=1.13.0 in /usr/local/lib/python3.7/dist-packages (from dask[dataframe]>=2.10.0->swifter) (1.19.5)\n",
            "Requirement already satisfied: widgetsnbextension~=3.5.0 in /usr/local/lib/python3.7/dist-packages (from ipywidgets>=7.0.0->swifter) (3.5.1)\n",
            "Requirement already satisfied: jupyterlab-widgets>=1.0.0 in /usr/local/lib/python3.7/dist-packages (from ipywidgets>=7.0.0->swifter) (1.0.0)\n",
            "Requirement already satisfied: traitlets>=4.3.1 in /usr/local/lib/python3.7/dist-packages (from ipywidgets>=7.0.0->swifter) (5.0.5)\n",
            "Requirement already satisfied: ipykernel>=4.5.1 in /usr/local/lib/python3.7/dist-packages (from ipywidgets>=7.0.0->swifter) (4.10.1)\n",
            "Requirement already satisfied: ipython>=4.0.0 in /usr/local/lib/python3.7/dist-packages (from ipywidgets>=7.0.0->swifter) (5.5.0)\n",
            "Requirement already satisfied: nbformat>=4.2.0 in /usr/local/lib/python3.7/dist-packages (from ipywidgets>=7.0.0->swifter) (5.1.3)\n",
            "Requirement already satisfied: jupyter-client in /usr/local/lib/python3.7/dist-packages (from ipykernel>=4.5.1->ipywidgets>=7.0.0->swifter) (5.3.5)\n",
            "Requirement already satisfied: tornado>=4.0 in /usr/local/lib/python3.7/dist-packages (from ipykernel>=4.5.1->ipywidgets>=7.0.0->swifter) (5.1.1)\n",
            "Requirement already satisfied: pickleshare in /usr/local/lib/python3.7/dist-packages (from ipython>=4.0.0->ipywidgets>=7.0.0->swifter) (0.7.5)\n",
            "Requirement already satisfied: pexpect in /usr/local/lib/python3.7/dist-packages (from ipython>=4.0.0->ipywidgets>=7.0.0->swifter) (4.8.0)\n",
            "Requirement already satisfied: decorator in /usr/local/lib/python3.7/dist-packages (from ipython>=4.0.0->ipywidgets>=7.0.0->swifter) (4.4.2)\n",
            "Requirement already satisfied: simplegeneric>0.8 in /usr/local/lib/python3.7/dist-packages (from ipython>=4.0.0->ipywidgets>=7.0.0->swifter) (0.8.1)\n",
            "Requirement already satisfied: setuptools>=18.5 in /usr/local/lib/python3.7/dist-packages (from ipython>=4.0.0->ipywidgets>=7.0.0->swifter) (57.4.0)\n",
            "Requirement already satisfied: pygments in /usr/local/lib/python3.7/dist-packages (from ipython>=4.0.0->ipywidgets>=7.0.0->swifter) (2.6.1)\n",
            "Requirement already satisfied: prompt-toolkit<2.0.0,>=1.0.4 in /usr/local/lib/python3.7/dist-packages (from ipython>=4.0.0->ipywidgets>=7.0.0->swifter) (1.0.18)\n",
            "Requirement already satisfied: jupyter-core in /usr/local/lib/python3.7/dist-packages (from nbformat>=4.2.0->ipywidgets>=7.0.0->swifter) (4.7.1)\n",
            "Requirement already satisfied: jsonschema!=2.5.0,>=2.4 in /usr/local/lib/python3.7/dist-packages (from nbformat>=4.2.0->ipywidgets>=7.0.0->swifter) (2.6.0)\n",
            "Requirement already satisfied: ipython-genutils in /usr/local/lib/python3.7/dist-packages (from nbformat>=4.2.0->ipywidgets>=7.0.0->swifter) (0.2.0)\n",
            "Requirement already satisfied: pytz>=2017.2 in /usr/local/lib/python3.7/dist-packages (from pandas>=1.0.0->swifter) (2018.9)\n",
            "Requirement already satisfied: python-dateutil>=2.7.3 in /usr/local/lib/python3.7/dist-packages (from pandas>=1.0.0->swifter) (2.8.2)\n",
            "Collecting locket\n",
            "  Downloading locket-0.2.1-py2.py3-none-any.whl (4.1 kB)\n",
            "Requirement already satisfied: wcwidth in /usr/local/lib/python3.7/dist-packages (from prompt-toolkit<2.0.0,>=1.0.4->ipython>=4.0.0->ipywidgets>=7.0.0->swifter) (0.2.5)\n",
            "Requirement already satisfied: notebook>=4.4.1 in /usr/local/lib/python3.7/dist-packages (from widgetsnbextension~=3.5.0->ipywidgets>=7.0.0->swifter) (5.3.1)\n",
            "Requirement already satisfied: Send2Trash in /usr/local/lib/python3.7/dist-packages (from notebook>=4.4.1->widgetsnbextension~=3.5.0->ipywidgets>=7.0.0->swifter) (1.8.0)\n",
            "Requirement already satisfied: terminado>=0.8.1 in /usr/local/lib/python3.7/dist-packages (from notebook>=4.4.1->widgetsnbextension~=3.5.0->ipywidgets>=7.0.0->swifter) (0.11.0)\n",
            "Requirement already satisfied: jinja2 in /usr/local/lib/python3.7/dist-packages (from notebook>=4.4.1->widgetsnbextension~=3.5.0->ipywidgets>=7.0.0->swifter) (2.11.3)\n",
            "Requirement already satisfied: nbconvert in /usr/local/lib/python3.7/dist-packages (from notebook>=4.4.1->widgetsnbextension~=3.5.0->ipywidgets>=7.0.0->swifter) (5.6.1)\n",
            "Requirement already satisfied: pyzmq>=13 in /usr/local/lib/python3.7/dist-packages (from jupyter-client->ipykernel>=4.5.1->ipywidgets>=7.0.0->swifter) (22.2.1)\n",
            "Requirement already satisfied: ptyprocess in /usr/local/lib/python3.7/dist-packages (from terminado>=0.8.1->notebook>=4.4.1->widgetsnbextension~=3.5.0->ipywidgets>=7.0.0->swifter) (0.7.0)\n",
            "Requirement already satisfied: MarkupSafe>=0.23 in /usr/local/lib/python3.7/dist-packages (from jinja2->notebook>=4.4.1->widgetsnbextension~=3.5.0->ipywidgets>=7.0.0->swifter) (2.0.1)\n",
            "Requirement already satisfied: entrypoints>=0.2.2 in /usr/local/lib/python3.7/dist-packages (from nbconvert->notebook>=4.4.1->widgetsnbextension~=3.5.0->ipywidgets>=7.0.0->swifter) (0.3)\n",
            "Requirement already satisfied: defusedxml in /usr/local/lib/python3.7/dist-packages (from nbconvert->notebook>=4.4.1->widgetsnbextension~=3.5.0->ipywidgets>=7.0.0->swifter) (0.7.1)\n",
            "Requirement already satisfied: mistune<2,>=0.8.1 in /usr/local/lib/python3.7/dist-packages (from nbconvert->notebook>=4.4.1->widgetsnbextension~=3.5.0->ipywidgets>=7.0.0->swifter) (0.8.4)\n",
            "Requirement already satisfied: pandocfilters>=1.4.1 in /usr/local/lib/python3.7/dist-packages (from nbconvert->notebook>=4.4.1->widgetsnbextension~=3.5.0->ipywidgets>=7.0.0->swifter) (1.4.3)\n",
            "Requirement already satisfied: testpath in /usr/local/lib/python3.7/dist-packages (from nbconvert->notebook>=4.4.1->widgetsnbextension~=3.5.0->ipywidgets>=7.0.0->swifter) (0.5.0)\n",
            "Requirement already satisfied: pyparsing>=2.0.2 in /usr/local/lib/python3.7/dist-packages (from packaging->bleach>=3.1.1->swifter) (2.4.7)\n",
            "Installing collected packages: locket, partd, fsspec, psutil, swifter\n",
            "  Attempting uninstall: psutil\n",
            "    Found existing installation: psutil 5.4.8\n",
            "    Uninstalling psutil-5.4.8:\n",
            "      Successfully uninstalled psutil-5.4.8\n",
            "Successfully installed fsspec-2021.7.0 locket-0.2.1 partd-1.2.0 psutil-5.8.0 swifter-1.0.9\n"
          ],
          "name": "stdout"
        },
        {
          "output_type": "display_data",
          "data": {
            "application/vnd.colab-display-data+json": {
              "pip_warning": {
                "packages": [
                  "psutil"
                ]
              }
            }
          },
          "metadata": {}
        }
      ]
    },
    {
      "cell_type": "markdown",
      "metadata": {
        "id": "gHNR4IAlHFAf"
      },
      "source": [
        "**#Load Library**"
      ]
    },
    {
      "cell_type": "code",
      "metadata": {
        "colab": {
          "base_uri": "https://localhost:8080/"
        },
        "id": "Tby6RCM4lZoZ",
        "outputId": "05626423-440e-4062-efc5-c11e1d64cbb1"
      },
      "source": [
        "#load library\n",
        "import nltk                             \n",
        "import matplotlib.pyplot as plt           \n",
        "import random  \n",
        "nltk.download('stopwords')\n",
        "nltk.download('punkt')\n",
        "nltk.download('words')\n",
        "import numpy as np\n",
        "import pandas as pd\n",
        "import re                                  \n",
        "import string                             \n",
        "from nltk.corpus import stopwords \n",
        "from nltk.stem import PorterStemmer\n",
        "from nltk.tokenize import TweetTokenizer \n",
        "from nltk import pos_tag, word_tokenize\n",
        "from nltk.tokenize import word_tokenize\n",
        "from nltk.corpus import words\n",
        "import emoji\n",
        "#from emot.emo_unicode import UNICODE_EMO, EMOTICONS\n",
        "from Sastrawi.Stemmer.StemmerFactory import StemmerFactory\n",
        "import swifter\n",
        "from wordcloud import WordCloud "
      ],
      "execution_count": 5,
      "outputs": [
        {
          "output_type": "stream",
          "text": [
            "[nltk_data] Downloading package stopwords to /root/nltk_data...\n",
            "[nltk_data]   Unzipping corpora/stopwords.zip.\n",
            "[nltk_data] Downloading package punkt to /root/nltk_data...\n",
            "[nltk_data]   Unzipping tokenizers/punkt.zip.\n",
            "[nltk_data] Downloading package words to /root/nltk_data...\n",
            "[nltk_data]   Unzipping corpora/words.zip.\n"
          ],
          "name": "stdout"
        }
      ]
    },
    {
      "cell_type": "markdown",
      "metadata": {
        "id": "KCFWa0RfHL4d"
      },
      "source": [
        "**Preprocessing**"
      ]
    },
    {
      "cell_type": "code",
      "metadata": {
        "id": "6cO4NsaRHPUF"
      },
      "source": [
        "stop = pd.read_csv(\"drive/MyDrive/stopwords.txt\", names= [\"stopwords\"], header = None)\n",
        "stop['stopwords']\n",
        "# Defining my NLTK stop words and my user-defined stop words\n",
        "stop_words = list(stopwords.words('indonesian'))\n",
        "# ---------------------------- manualy add stopword  ------------------------------------\n",
        "# append additional stopword\n",
        "user_stopwords = ['yg', 'dg', 'rt', 'dgn', 'ny', 'd', 'klo', \n",
        "                       'kalo', 'amp', 'biar', 'bikin', 'bilang', \n",
        "                       'gak', 'ga', 'krn', 'nya', 'nih', 'sih', 'na',\n",
        "                       'si', 'tau', 'tdk', 'tuh', 'utk', 'ya', 'ber',\n",
        "                       'jd', 'jgn', 'sdh', 'aja', 'n', 't', 's','lhaa',\n",
        "                       'qrt', 'd', 'ayyy', 'eptember', 'tu', 'kat', 'd',\n",
        "                        'bdhshshhs', 'denngan','ba', 'ah', 'tuu', 'kaann', \n",
        "                       'nyg', 'hehe', 'pen', 'u', 'nan', 'loh', 'rt', 'je',\n",
        "                       '&amp', 'yah', 'x', 'xf', 'xe', 'first', 'second',\n",
        "                        'the', 'to', 'yaa', 'dirut', 'la', 'pon']\n",
        "alphabets = list(string.ascii_lowercase)\n",
        "stop_words_fix = stop_words + alphabets + stop['stopwords'].to_list()\n",
        "\n",
        "# Function to remove punctuations, links, emojis, and stop words\n",
        "def preprocessTweets(tweet):\n",
        "    tweet = tweet.lower()  #has to be in place\n",
        "    #Remove 'b\n",
        "    tweet = re.sub(r\"b'\", '', tweet)\n",
        "    # Remove urls dan trash\n",
        "    tweet = re.sub(r\"http\\S+|\\\\x\\S+|www\\S+|https\\S+|dot|com\", '', tweet, flags=re.MULTILINE)\n",
        "    # Remove user @ references and '#' from tweet\n",
        "    tweet = re.sub(r'\\@\\w+|\\#|\\d+', '', tweet)\n",
        "    # Remove stopwords\n",
        "    tweet_tokens = word_tokenize(tweet)  # convert string to tokens\n",
        "    filtered_words = [w for w in tweet_tokens if w not in stop_words_fix]\n",
        "    filtered_words = [w for w in tweet_tokens if w not in user_stopwords]\n",
        "\n",
        "    # Remove punctuations\n",
        "    unpunctuated_words = [char for char in filtered_words if char not in string.punctuation]\n",
        "    unpunctuated_words = ' '.join(unpunctuated_words)\n",
        "\n",
        "    return \"\".join(unpunctuated_words)  # join words with a space in between them\n",
        "\n",
        "def tokenkan(text):    \n",
        "  tokens = nltk.tokenize.word_tokenize(text)\n",
        "  return tokens\n",
        "\n",
        "normalizad_word = pd.read_excel(\"drive/MyDrive/normalisasi.xlsx\")\n",
        "normalizad_word_dict = {}\n",
        "for index, row in normalizad_word.iterrows():\n",
        "    if row[0] not in normalizad_word_dict:\n",
        "        normalizad_word_dict[row[0]] = row[1] \n",
        "\n",
        "def normalized_term(document):\n",
        "    return [normalizad_word_dict[term] if term in normalizad_word_dict else term for term in document]\n",
        "\n",
        "def stopwords_removal(words):\n",
        "    return [word for word in words if word not in stop_words]\n",
        "\n",
        "def remove_punct(text):\n",
        "  text_nopunct = ''\n",
        "  text_nopunct = re.sub('['+string.punctuation+']', '', text)\n",
        "  return text_nopunct"
      ],
      "execution_count": 6,
      "outputs": []
    },
    {
      "cell_type": "code",
      "metadata": {
        "colab": {
          "base_uri": "https://localhost:8080/",
          "height": 204
        },
        "id": "4EeZ-wfqEZlW",
        "outputId": "dad38a0e-0dd9-4238-ff58-f5ec50999fd7"
      },
      "source": [
        "data = pd.read_csv('drive/MyDrive/data_noemoticon/Depresi_Non_1000_Preprocessed.csv')\n",
        "data.drop(['Unnamed: 0', 'Postingan', 'Postingan_Tokenkan', 'Postingan_Normalized'], axis=1, inplace=True)\n",
        "data.columns = ['Label', 'Text_Final']\n",
        "data['Text_Final'] = data['Text_Final'].apply(remove_punct)\n",
        "data.head()"
      ],
      "execution_count": 7,
      "outputs": [
        {
          "output_type": "execute_result",
          "data": {
            "text/html": [
              "<div>\n",
              "<style scoped>\n",
              "    .dataframe tbody tr th:only-of-type {\n",
              "        vertical-align: middle;\n",
              "    }\n",
              "\n",
              "    .dataframe tbody tr th {\n",
              "        vertical-align: top;\n",
              "    }\n",
              "\n",
              "    .dataframe thead th {\n",
              "        text-align: right;\n",
              "    }\n",
              "</style>\n",
              "<table border=\"1\" class=\"dataframe\">\n",
              "  <thead>\n",
              "    <tr style=\"text-align: right;\">\n",
              "      <th></th>\n",
              "      <th>Label</th>\n",
              "      <th>Text_Final</th>\n",
              "    </tr>\n",
              "  </thead>\n",
              "  <tbody>\n",
              "    <tr>\n",
              "      <th>0</th>\n",
              "      <td>1</td>\n",
              "      <td>paham signifikan cemas depresi sepi mudah band...</td>\n",
              "    </tr>\n",
              "    <tr>\n",
              "      <th>1</th>\n",
              "      <td>1</td>\n",
              "      <td>orang tua depresi sulit orangorang gen x erti ...</td>\n",
              "    </tr>\n",
              "    <tr>\n",
              "      <th>2</th>\n",
              "      <td>1</td>\n",
              "      <td>depresi bicara pedang mata suka balap orang ku...</td>\n",
              "    </tr>\n",
              "    <tr>\n",
              "      <th>3</th>\n",
              "      <td>1</td>\n",
              "      <td>tortilla isi depresi sembuh olivia depresi</td>\n",
              "    </tr>\n",
              "    <tr>\n",
              "      <th>4</th>\n",
              "      <td>1</td>\n",
              "      <td>butuh obat depresi hujan imbang alam jahat bth</td>\n",
              "    </tr>\n",
              "  </tbody>\n",
              "</table>\n",
              "</div>"
            ],
            "text/plain": [
              "   Label                                         Text_Final\n",
              "0      1  paham signifikan cemas depresi sepi mudah band...\n",
              "1      1  orang tua depresi sulit orangorang gen x erti ...\n",
              "2      1  depresi bicara pedang mata suka balap orang ku...\n",
              "3      1         tortilla isi depresi sembuh olivia depresi\n",
              "4      1     butuh obat depresi hujan imbang alam jahat bth"
            ]
          },
          "metadata": {},
          "execution_count": 7
        }
      ]
    },
    {
      "cell_type": "code",
      "metadata": {
        "colab": {
          "base_uri": "https://localhost:8080/"
        },
        "id": "QTJSJ2jEJV5b",
        "outputId": "b0c3f6ea-430f-453a-f793-83f7ab6e4683"
      },
      "source": [
        "data.Label.unique()"
      ],
      "execution_count": 8,
      "outputs": [
        {
          "output_type": "execute_result",
          "data": {
            "text/plain": [
              "array([1, 0])"
            ]
          },
          "metadata": {},
          "execution_count": 8
        }
      ]
    },
    {
      "cell_type": "code",
      "metadata": {
        "id": "fo7vZ79wI5QP"
      },
      "source": [
        "mengidap = []\n",
        "non = []\n",
        "for l in data.Label:\n",
        "    if l == 0:\n",
        "        mengidap.append(0)\n",
        "        non.append(1)\n",
        "    elif l == 1:\n",
        "        mengidap.append(1)\n",
        "        non.append(0)"
      ],
      "execution_count": 9,
      "outputs": []
    },
    {
      "cell_type": "code",
      "metadata": {
        "id": "_OGR9EKbI-Lz"
      },
      "source": [
        "data['non']= non\n",
        "data['mengidap']= mengidap"
      ],
      "execution_count": 10,
      "outputs": []
    },
    {
      "cell_type": "code",
      "metadata": {
        "id": "jSL9w9F-JgdX"
      },
      "source": [
        "data['tokens'] = data['Text_Final'].astype(str)\n",
        "data['tokens'] = data['tokens'].apply(tokenkan)"
      ],
      "execution_count": 11,
      "outputs": []
    },
    {
      "cell_type": "code",
      "metadata": {
        "id": "Fp2F8YZ2IqSt"
      },
      "source": [
        "data = data[['Text_Final', 'tokens', 'Label', 'non', 'mengidap']]"
      ],
      "execution_count": 12,
      "outputs": []
    },
    {
      "cell_type": "code",
      "metadata": {
        "colab": {
          "base_uri": "https://localhost:8080/",
          "height": 204
        },
        "id": "7HZ-F3jnJykO",
        "outputId": "125e24f8-ed7c-4907-b3fc-f739a1d78bc9"
      },
      "source": [
        "data.head()"
      ],
      "execution_count": 13,
      "outputs": [
        {
          "output_type": "execute_result",
          "data": {
            "text/html": [
              "<div>\n",
              "<style scoped>\n",
              "    .dataframe tbody tr th:only-of-type {\n",
              "        vertical-align: middle;\n",
              "    }\n",
              "\n",
              "    .dataframe tbody tr th {\n",
              "        vertical-align: top;\n",
              "    }\n",
              "\n",
              "    .dataframe thead th {\n",
              "        text-align: right;\n",
              "    }\n",
              "</style>\n",
              "<table border=\"1\" class=\"dataframe\">\n",
              "  <thead>\n",
              "    <tr style=\"text-align: right;\">\n",
              "      <th></th>\n",
              "      <th>Text_Final</th>\n",
              "      <th>tokens</th>\n",
              "      <th>Label</th>\n",
              "      <th>non</th>\n",
              "      <th>mengidap</th>\n",
              "    </tr>\n",
              "  </thead>\n",
              "  <tbody>\n",
              "    <tr>\n",
              "      <th>0</th>\n",
              "      <td>paham signifikan cemas depresi sepi mudah band...</td>\n",
              "      <td>[paham, signifikan, cemas, depresi, sepi, muda...</td>\n",
              "      <td>1</td>\n",
              "      <td>0</td>\n",
              "      <td>1</td>\n",
              "    </tr>\n",
              "    <tr>\n",
              "      <th>1</th>\n",
              "      <td>orang tua depresi sulit orangorang gen x erti ...</td>\n",
              "      <td>[orang, tua, depresi, sulit, orangorang, gen, ...</td>\n",
              "      <td>1</td>\n",
              "      <td>0</td>\n",
              "      <td>1</td>\n",
              "    </tr>\n",
              "    <tr>\n",
              "      <th>2</th>\n",
              "      <td>depresi bicara pedang mata suka balap orang ku...</td>\n",
              "      <td>[depresi, bicara, pedang, mata, suka, balap, o...</td>\n",
              "      <td>1</td>\n",
              "      <td>0</td>\n",
              "      <td>1</td>\n",
              "    </tr>\n",
              "    <tr>\n",
              "      <th>3</th>\n",
              "      <td>tortilla isi depresi sembuh olivia depresi</td>\n",
              "      <td>[tortilla, isi, depresi, sembuh, olivia, depresi]</td>\n",
              "      <td>1</td>\n",
              "      <td>0</td>\n",
              "      <td>1</td>\n",
              "    </tr>\n",
              "    <tr>\n",
              "      <th>4</th>\n",
              "      <td>butuh obat depresi hujan imbang alam jahat bth</td>\n",
              "      <td>[butuh, obat, depresi, hujan, imbang, alam, ja...</td>\n",
              "      <td>1</td>\n",
              "      <td>0</td>\n",
              "      <td>1</td>\n",
              "    </tr>\n",
              "  </tbody>\n",
              "</table>\n",
              "</div>"
            ],
            "text/plain": [
              "                                          Text_Final  ... mengidap\n",
              "0  paham signifikan cemas depresi sepi mudah band...  ...        1\n",
              "1  orang tua depresi sulit orangorang gen x erti ...  ...        1\n",
              "2  depresi bicara pedang mata suka balap orang ku...  ...        1\n",
              "3         tortilla isi depresi sembuh olivia depresi  ...        1\n",
              "4     butuh obat depresi hujan imbang alam jahat bth  ...        1\n",
              "\n",
              "[5 rows x 5 columns]"
            ]
          },
          "metadata": {},
          "execution_count": 13
        }
      ]
    },
    {
      "cell_type": "markdown",
      "metadata": {
        "id": "a7dRRURDOLSm"
      },
      "source": [
        "**Import Library Untuk CNN**"
      ]
    },
    {
      "cell_type": "code",
      "metadata": {
        "id": "_HAqFn0zOe4Y"
      },
      "source": [
        "from __future__ import division, print_function\n",
        "from gensim import models\n",
        "from keras.callbacks import ModelCheckpoint\n",
        "from keras.layers import Dense, Dropout, Reshape, Flatten, concatenate, Input, Conv1D, GlobalMaxPooling1D, Embedding\n",
        "from keras.layers.recurrent import LSTM\n",
        "from keras.models import Sequential\n",
        "from keras.preprocessing.text import Tokenizer\n",
        "from keras.preprocessing.sequence import pad_sequences\n",
        "from keras.models import Model\n",
        "from sklearn.model_selection import train_test_split\n",
        "import os\n",
        "import collections\n",
        "import string\n",
        "import tensorflow as tf\n",
        "import keras"
      ],
      "execution_count": 14,
      "outputs": []
    },
    {
      "cell_type": "markdown",
      "metadata": {
        "id": "SVSBIGmpF6E7"
      },
      "source": [
        "**Split data into test and train**"
      ]
    },
    {
      "cell_type": "code",
      "metadata": {
        "id": "SQnTRsKgGFoy"
      },
      "source": [
        "data_train, data_test = train_test_split(data, test_size=0.20, random_state=20)"
      ],
      "execution_count": 15,
      "outputs": []
    },
    {
      "cell_type": "code",
      "metadata": {
        "colab": {
          "base_uri": "https://localhost:8080/"
        },
        "id": "YJkdOyTxF50X",
        "outputId": "211f8870-be73-4b7b-8bfa-46b2101f889e"
      },
      "source": [
        "all_training_words = [word for tokens in data_train[\"tokens\"] for word in tokens]\n",
        "training_sentence_lengths = [len(tokens) for tokens in data_train[\"tokens\"]]\n",
        "TRAINING_VOCAB = sorted(list(set(all_training_words)))\n",
        "print(\"%s words total, with a vocabulary size of %s\" % (len(all_training_words), len(TRAINING_VOCAB)))\n",
        "print(\"Max sentence length is %s\" % max(training_sentence_lengths))"
      ],
      "execution_count": 16,
      "outputs": [
        {
          "output_type": "stream",
          "text": [
            "5762 words total, with a vocabulary size of 2225\n",
            "Max sentence length is 38\n"
          ],
          "name": "stdout"
        }
      ]
    },
    {
      "cell_type": "code",
      "metadata": {
        "colab": {
          "base_uri": "https://localhost:8080/"
        },
        "id": "U-brXb5bGjXB",
        "outputId": "4083b15d-f623-449f-fd27-33a5d916dbd2"
      },
      "source": [
        "all_test_words = [word for tokens in data_test[\"tokens\"] for word in tokens]\n",
        "test_sentence_lengths = [len(tokens) for tokens in data_test[\"tokens\"]]\n",
        "TEST_VOCAB = sorted(list(set(all_test_words)))\n",
        "print(\"%s words total, with a vocabulary size of %s\" % (len(all_test_words), len(TEST_VOCAB)))\n",
        "print(\"Max sentence length is %s\" % max(test_sentence_lengths))"
      ],
      "execution_count": 17,
      "outputs": [
        {
          "output_type": "stream",
          "text": [
            "1472 words total, with a vocabulary size of 854\n",
            "Max sentence length is 24\n"
          ],
          "name": "stdout"
        }
      ]
    },
    {
      "cell_type": "markdown",
      "metadata": {
        "id": "n6Vhp-dgG3yo"
      },
      "source": [
        "**Load Google News Word2Vec model**"
      ]
    },
    {
      "cell_type": "code",
      "metadata": {
        "id": "1QZluume2VG9"
      },
      "source": [
        "word2vec_path = 'drive/MyDrive/GoogleNews-vectors-negative300.bin.gz'\n",
        "word2vec = models.KeyedVectors.load_word2vec_format(word2vec_path, binary=True)"
      ],
      "execution_count": 18,
      "outputs": []
    },
    {
      "cell_type": "code",
      "metadata": {
        "id": "Bh7Xym53G_cL"
      },
      "source": [
        "def get_average_word2vec(tokens_list, vector, generate_missing=False, k=300):\n",
        "    if len(tokens_list)<1:\n",
        "        return np.zeros(k)\n",
        "    if generate_missing:\n",
        "        vectorized = [vector[word] if word in vector else np.random.rand(k) for word in tokens_list]\n",
        "    else:\n",
        "        vectorized = [vector[word] if word in vector else np.zeros(k) for word in tokens_list]\n",
        "    length = len(vectorized)\n",
        "    summed = np.sum(vectorized, axis=0)\n",
        "    averaged = np.divide(summed, length)\n",
        "    return averaged\n",
        "\n",
        "def get_word2vec_embeddings(vectors, clean_comments, generate_missing=False):\n",
        "    embeddings = clean_comments['tokens'].apply(lambda x: get_average_word2vec(x, vectors, \n",
        "                                                                                generate_missing=generate_missing))\n",
        "    return list(embeddings)"
      ],
      "execution_count": 19,
      "outputs": []
    },
    {
      "cell_type": "markdown",
      "metadata": {
        "id": "0AidIU_zHw5C"
      },
      "source": [
        "**Get Embeddings**"
      ]
    },
    {
      "cell_type": "code",
      "metadata": {
        "id": "oji0eS8CHzGi"
      },
      "source": [
        "training_embeddings = get_word2vec_embeddings(word2vec, data_train, generate_missing=True)"
      ],
      "execution_count": 20,
      "outputs": []
    },
    {
      "cell_type": "code",
      "metadata": {
        "id": "GezxW76bH5wG"
      },
      "source": [
        "MAX_SEQUENCE_LENGTH = 40\n",
        "EMBEDDING_DIM = 300"
      ],
      "execution_count": 21,
      "outputs": []
    },
    {
      "cell_type": "markdown",
      "metadata": {
        "id": "rcNrMPmyb-g9"
      },
      "source": [
        "**Tokenize and Pad sequences**"
      ]
    },
    {
      "cell_type": "code",
      "metadata": {
        "id": "n5yBi13EH-fW",
        "colab": {
          "base_uri": "https://localhost:8080/"
        },
        "outputId": "5c13844c-1221-4bc9-d902-27e0d128ee76"
      },
      "source": [
        "text = data_train[\"Text_Final\"].astype(str)\n",
        "tokenizer = Tokenizer(num_words=len(TRAINING_VOCAB), lower=True, char_level=False)\n",
        "tokenizer.fit_on_texts(text.tolist())\n",
        "training_sequences = tokenizer.texts_to_sequences(text.tolist())\n",
        "print(training_sequences)\n",
        "train_word_index = tokenizer.word_index\n",
        "print('Found %s unique tokens.' % len(train_word_index))"
      ],
      "execution_count": 22,
      "outputs": [
        {
          "output_type": "stream",
          "text": [
            "[[831, 470, 39, 471, 470, 136], [472, 137, 473, 334, 474, 475], [832, 833, 4, 11, 1, 4, 11, 112, 3], [834, 835, 335, 836, 177, 40, 476], [79, 8, 113, 114, 51, 837, 138, 1], [838, 477], [1, 237, 2, 20, 79, 839, 2, 6, 1, 80, 178], [336, 3, 1, 238, 2, 7, 113, 4, 4], [840, 478, 478, 479, 841], [1, 239, 842], [843, 1, 179], [844, 845, 846, 180, 16], [847, 139, 95, 848, 849, 480, 1, 850, 4, 337], [851, 852, 853, 854, 338, 5, 1], [481, 855, 856, 5, 857, 5, 858, 140, 339], [859, 482, 483, 860, 96, 340, 181, 484], [485, 240, 1, 182, 115, 241, 486, 341], [], [183, 116, 97, 1, 25, 184, 19], [185, 861, 487, 17, 3, 1, 2, 342, 6, 32, 488, 98, 81], [141, 142, 489, 60, 21, 862, 70, 82, 863], [83, 490, 1, 117, 491, 143, 492, 71, 1, 491], [864, 21, 865, 866, 867, 186, 868], [72, 7, 1, 3, 25, 187, 25, 2, 340, 27], [343, 869, 870, 142, 344, 188, 871, 344, 872, 873, 242, 144], [874, 243, 484, 339, 875], [4, 11, 1, 4, 876], [1, 244, 1, 81, 244, 1], [189, 33, 877, 493, 84, 21, 878, 345, 494], [73, 879, 880, 495, 881, 882], [883, 244, 884], [52, 346, 118, 34, 190, 34, 25, 82, 347, 885, 886], [25, 1, 3, 245, 25, 496, 74, 246, 497, 51, 2, 247, 348, 43, 498, 36], [1, 44, 887], [191, 888, 37, 1, 499, 349], [889, 350, 192, 890, 500, 193, 145, 351, 891, 248, 892, 352], [10, 12, 893], [7, 1, 3, 13], [23, 501, 119, 119, 33, 353, 502, 189, 249, 146, 503, 250, 84, 21], [354, 251, 342, 6, 1, 44, 341, 355, 85, 147, 504], [1, 894, 81, 99], [895, 35, 1], [345], [505, 896, 1, 45, 28, 35, 8, 2, 506, 35], [897, 898, 41, 899], [120, 5, 120, 120, 194, 1, 507], [148, 6, 508, 900, 53, 46, 51, 252, 149, 509, 252, 1, 148], [34, 901, 902], [356, 253, 254, 75, 253, 254, 195, 510, 10, 511, 512, 146, 513], [1, 100, 255, 61, 20], [357, 903, 904, 514, 905], [906, 515, 907, 516, 908, 256, 34, 517, 909, 910], [41, 62, 62, 18, 7, 1, 6, 6, 47, 37, 358, 7, 1, 9], [63, 150, 5, 911, 33, 912, 518, 196, 913, 257], [258, 4, 359, 54, 10, 54, 519, 101], [360, 1, 259, 260, 914, 86, 35], [915, 520, 916, 917, 918, 196, 520, 197, 29, 919], [920, 5, 521, 261, 262, 63, 522, 921, 36, 361, 263, 922, 923, 924, 925, 117, 17, 3, 1, 362, 12, 926], [356, 253, 254, 75, 253, 254, 195, 510, 10, 511, 512, 146, 513], [264, 18, 55, 1, 259, 523], [927, 18, 928, 265, 64, 363, 2, 64, 929, 151, 930], [364, 40], [76, 1, 198, 198, 931, 524, 12], [152, 266, 1, 525, 932, 933, 102, 934, 87, 8, 935, 526, 936, 937], [938, 75, 527, 939, 940, 941, 267, 942], [943, 528, 944], [945, 71, 71, 1], [10, 946, 947, 14, 948, 949, 103, 529, 950], [70, 7, 1, 530, 56, 88, 4, 14, 73, 362, 114, 18, 951], [141], [1, 268, 269, 952], [270, 953, 531, 954, 258, 531, 955, 335, 196, 956], [1, 9, 52, 2, 153], [199, 6, 365, 271, 121, 957], [338, 958, 532, 959, 960, 533, 961, 534, 200, 962], [199, 963, 964, 504, 1, 7, 487, 116, 535, 15, 536, 366], [2, 10, 2, 1, 965], [514, 966, 201, 77, 1, 104], [89, 1, 537, 538, 179, 17, 202], [967, 37, 34, 70, 27, 40, 272, 15, 968, 367], [969, 368, 970, 21, 154, 971, 972], [74, 72, 3, 15, 1, 155, 539, 6, 8, 273], [369, 144, 156, 70, 973, 974, 975, 540, 1, 976, 977], [274, 370, 371, 541, 203, 265], [1, 48, 978, 979], [204, 542, 27, 204, 18], [86, 980, 3, 1], [372, 184, 373], [543, 543], [359, 2, 34], [64, 90, 275, 981, 544, 982, 43, 983, 984, 985], [19, 986, 987, 5, 14, 5, 276], [988, 545, 91, 989, 3, 1, 155, 251], [155, 147, 80, 990, 205, 374, 44, 546, 991, 992, 547, 1, 993, 375], [36, 994, 548, 1, 155, 122], [549, 122, 550, 995, 551, 7, 1, 996], [552, 90, 157, 206, 376, 14, 207, 51, 157, 277, 278], [2, 9, 2, 13, 47, 2, 1, 51, 266, 997, 553, 97, 7, 8], [70, 998, 279], [999, 4, 1, 1000], [1, 105, 140, 1001, 554, 34, 1002, 377], [25, 1, 123, 8], [1, 9], [54, 180, 18, 91, 15, 208, 7, 1, 18, 279, 209, 180, 60, 1003, 54, 124], [280, 1004, 1005, 1006, 39], [49, 4, 11, 1, 138], [1, 123, 272, 102, 190, 34, 1007, 555, 41, 555, 1008, 73, 77], [1, 1009, 1010, 117], [], [378, 1011, 1], [379, 1012, 281, 2, 65, 1013, 379, 1014], [92, 380, 381], [76, 382, 76, 556, 76, 557, 558, 559, 210, 560, 561, 562, 563, 564], [21, 565, 25, 193, 1015, 139], [18, 29, 15, 125, 566, 567, 30, 1016, 211, 282, 1017, 1018, 158, 566, 1], [8, 283, 212], [1019, 10, 66, 34, 1020, 95, 1021, 263, 205, 568, 30, 284, 569, 45, 28, 38, 121, 1], [1022, 1023, 88, 29, 1024, 1025, 126, 29, 570], [3, 1, 55, 159], [4, 11, 1], [40, 269, 383, 207, 285, 571, 40, 1026], [1, 3, 1027, 20, 43, 67, 56, 39, 20, 384, 26, 361, 1028, 26, 213], [1029, 385, 42, 385, 16, 1030, 1031, 1032, 214], [286, 286, 572, 47], [17, 287, 3, 1, 573], [63, 150, 7, 1, 104, 1033], [64, 202, 16, 64, 574, 1034], [1, 575, 138], [86, 1035, 53, 386, 1, 112, 387, 63, 37, 545, 160, 31, 2, 388], [44, 105, 1, 105, 15, 28, 105, 57, 355, 44, 496, 1036, 147, 161, 389, 162, 2, 24, 6, 44, 161, 163, 80, 62, 164, 355, 1037], [288, 1038, 215, 1039, 105, 1], [289], [7, 1, 149, 576, 45, 1040, 1041, 279, 1042], [83, 216, 1, 13, 202, 204], [4, 11, 1, 42, 106], [217, 20, 89, 1043, 577, 85], [127, 390, 1, 102, 32], [1044, 1045, 1046, 1047, 1048, 1049, 1050, 218], [1, 578, 1051], [1052, 391, 1053, 16, 160, 107, 1054, 1055], [33, 495, 1056, 1057, 1058, 1059, 579, 165, 128, 1060, 1061, 1062, 1063, 580], [145, 581, 166, 290, 1064, 1065, 167, 1066], [2, 98, 17, 45, 28, 291, 126, 1, 3], [148, 32, 1, 1067], [1, 1068, 1069, 582], [205, 10, 25, 1070, 1071, 129, 102, 64, 1072], [1073, 218, 22, 1074], [127, 583, 1075, 108, 1], [392, 1076, 79, 266, 1077, 1078], [1, 584], [86, 1079, 1080, 1081, 517, 5, 393, 1082, 1083], [27, 276, 276, 127, 585, 276, 394], [92, 159, 1084, 1085, 586, 292, 1086, 159, 1087], [219], [1088, 5, 1, 1089, 587, 8, 13, 395, 208, 217, 27, 1090, 381], [396, 1091, 397, 1092, 1093, 1094, 1], [398, 1095], [1], [588, 293, 293], [494, 532, 399, 189, 1096, 84, 220, 380, 184, 1097, 109], [41, 1, 589, 251, 33, 57, 1098, 9, 1], [1099, 221, 1100, 2, 590, 294, 505, 1101, 295, 1, 204, 1, 117], [19, 400, 1102, 591, 1, 118], [592, 1103, 296, 1104, 401, 296, 1105, 1106, 277, 165, 1107, 1108], [6, 593, 1109, 260, 48, 14, 4, 85, 377, 1110, 594, 64, 1, 15], [472, 137, 473, 334, 474, 475], [1111, 595, 1112, 596, 1113], [1114, 1115, 1116, 402, 597, 74, 150, 479, 26, 1117, 598], [222, 1118, 403], [599, 16, 5, 351, 297, 5, 77, 71, 1119, 600, 599, 163, 124], [1, 17, 1120, 1121, 91], [30, 55, 1122, 1123, 46, 1], [46, 1124, 37, 1, 104], [1, 68, 1, 68, 1, 68, 1, 68, 1, 1, 68, 1, 68, 1, 68, 1, 68, 1, 68], [1125, 17, 13, 290, 1126, 168, 1127, 1128, 1129, 1, 1130, 88], [93, 1131, 93, 17, 404], [297, 357, 601, 405, 114, 223], [1132, 1133, 1134, 1135, 16, 602], [224, 1, 12, 38, 64], [6, 284, 11, 284, 284, 298, 603, 1136, 1, 604, 1137, 1138, 406, 56, 588], [128, 169, 390, 35, 605, 1139, 1140, 1141], [7, 1, 48, 99], [1142, 407, 1, 37, 1143, 1], [257, 1144, 1145, 606, 408, 50], [1146, 43, 5, 6, 1], [18, 1147, 1148, 90, 1149, 1150, 1151], [1152, 1153], [76, 382, 76, 556, 76, 557, 558, 559, 210, 560, 561, 562, 563, 564], [118, 1154, 1155, 1156], [334], [409, 1157, 1158, 102, 607, 1159, 299, 74, 299, 1160, 608, 609, 150, 1161], [41, 610, 13, 1162, 1, 251, 1163, 15, 28, 3, 117], [1164, 178, 1165, 1166, 69, 12, 69, 611, 50, 119], [170, 110, 2, 48, 410, 146, 300, 21, 48, 612, 613], [83, 1167, 1, 589], [39, 614, 615, 270, 87, 1, 2, 614, 31, 147, 38], [301, 171, 265, 167, 1168, 1169, 1170, 1171, 1172, 2, 163, 1173, 616, 43, 214, 1174], [1175, 411, 377, 553, 8, 158, 1176, 617, 12, 9, 15, 1177, 53], [344, 108, 611, 1178, 1179, 1180], [20, 127, 2, 618, 255, 619, 620, 1181, 1182, 16, 1183, 392], [621, 1184, 621, 302, 1185], [54, 156, 1186, 622, 144, 275, 1187, 9, 275, 1188, 623], [5, 154, 527, 225, 624, 412], [1], [622, 1189, 1190, 1191, 295, 1192, 1193, 1194, 585, 75], [404, 78, 1, 625, 626, 1195, 54, 183, 1196, 1197, 1198], [1199, 75, 627, 1200, 115, 1201], [628, 1202, 32, 413, 5, 629, 32, 5, 629, 7, 1, 414, 1203], [1, 226, 7, 1, 74, 1204, 1205, 44, 1206, 126], [26, 415, 172, 416, 303, 173, 304, 130, 167, 203, 191, 417, 173, 227], [162, 103, 247, 127, 105, 630, 305, 1, 1207, 1208, 117, 1209], [631, 1210, 306, 1211, 631], [357, 632, 418, 1], [216, 1212, 633, 1, 3, 634], [17, 184, 54, 1213, 635, 72, 55, 109, 354, 636, 51, 51, 81, 45, 28, 1214, 1215, 3, 1, 24], [419, 188, 419, 306, 1216, 25, 499, 374, 1217, 22, 419], [223, 274, 1218, 307, 1219, 308, 16, 602], [1, 637, 1220, 1221], [37, 1], [420], [421, 638, 627, 421, 638, 422, 1222, 111, 422, 1223, 1224, 277, 1225], [23, 639, 1226, 1227, 1228, 309, 142, 640, 74, 1229, 639, 131, 182, 50], [423, 1230, 641, 18, 1231, 34, 247, 1232, 58, 1233, 58, 148], [642, 1234], [228, 123, 418, 208, 3, 174, 1, 125, 1235], [310, 424, 1236, 1237, 1238, 39, 26, 382, 643, 1239, 643, 350], [1, 1240], [644, 7, 1241, 311, 17, 1242, 548, 311, 215, 30, 30, 1243, 1, 226, 1244], [34, 22, 65, 1245, 82, 645, 22, 65, 46, 1246, 1247, 1248], [121, 1249, 1250, 646, 227, 1251, 21, 1252], [18, 29, 15, 411, 1253, 6, 1, 1254, 1255], [1256, 3, 1, 425, 593, 24, 1, 229, 1, 27, 36, 1, 201, 132], [426, 1257, 1258, 166, 647, 1259, 426, 1260, 1261, 166, 647, 1262, 2], [1263, 648, 648], [92, 649, 1264, 189, 33, 649], [312, 1], [1265, 1266, 1267, 427, 1268, 297, 1269, 1270, 1271, 1272, 1273, 1274], [1275, 230, 1276, 1277, 397, 650, 1], [4, 1278, 2, 34, 4, 651], [23, 501, 119, 119, 33, 353, 502, 189, 249, 146, 503, 250, 84, 21], [31, 221, 17, 1, 3, 23, 31, 590, 404, 244], [1279, 1280, 10, 71, 131, 1281, 652, 65, 111, 426], [219, 608, 1282, 653, 1283, 204, 171, 96, 1284], [11, 1285, 654, 1286, 52, 14, 11, 1287, 45, 1288, 1289], [60, 1290, 40, 1291], [18, 1, 32], [33, 107, 1292, 1], [1, 1293, 655], [389, 162, 1, 36], [17, 10, 36, 428, 242, 1, 187, 8, 1294, 1295], [133, 1, 656], [1296, 1297], [90], [1298], [1], [1299, 1300, 1301, 1302], [1, 4, 183, 116, 657], [658, 7, 1], [38, 38, 1303, 175, 63, 305, 305, 301, 231, 124, 42], [95, 1, 13, 95, 1, 13], [630, 429, 7, 1, 386, 153, 241, 175, 1304, 179], [1, 259, 659, 100], [1305, 5, 65, 1306, 624, 412, 26, 412], [1, 430, 14], [1, 8, 20], [265, 660, 96, 1307, 109, 1308, 61], [661, 394, 399, 405], [1309, 662, 313, 293, 85], [663, 104, 1, 663], [1, 30], [664, 1310, 109, 133, 1, 19, 665, 94, 66, 666, 1311], [667, 1312, 431, 2, 232, 278, 1313, 26, 233], [668, 432, 1314, 1315, 1316, 223], [234, 1, 106, 115, 115, 2, 1317, 15, 28, 62, 1318, 134, 389, 162], [256, 1319, 246, 1], [1, 15, 28, 132, 282, 46, 132, 2, 23, 72, 19, 19, 1320, 19, 65, 1321, 85], [1322, 41, 1323, 7, 1, 573, 433, 294, 669, 634], [178, 201, 296, 670, 2, 211, 42], [1324, 1, 1325, 1326, 181], [1327, 5, 1328], [1329, 1330], [1331, 19, 414, 671, 252, 1332, 1333, 41, 57, 282, 1, 108, 1334, 1335, 1336, 23, 1337], [201, 1338, 1], [130, 672, 89], [673, 1, 1339, 1340], [1, 1341, 674], [1342, 314, 434, 1343, 108, 108, 314, 108, 600, 1344], [229, 288, 1345, 675, 1346, 168, 1347, 12, 2, 6, 433, 123, 61, 1348, 1, 80], [1349, 270, 1350, 1351, 676], [1352, 1353, 22, 677, 107], [302, 401, 678, 92, 82, 22, 82, 678], [679, 408, 308, 1354], [1355, 135, 130], [143, 1], [1, 680, 1356, 87, 1357, 1358, 102], [285, 98, 1359], [315, 22, 69, 2, 488, 98, 343, 42, 186, 1360], [250, 681], [435, 1361, 57, 240], [1362, 7, 1, 24, 129], [661, 394, 399, 405], [1, 14, 4, 18, 55, 54, 1363, 13, 436, 43, 1364], [6, 1, 1365, 100, 1366, 56, 1367, 1368, 682], [1, 683, 1369, 20, 122, 1370, 684, 1371], [96, 1372, 685, 391, 421, 150], [67, 4, 11, 1], [8, 435, 4, 11, 1], [133, 1, 149, 39, 8, 686, 27, 348, 24, 140, 10], [340, 1373, 3, 1, 316, 58, 687, 58, 267], [257, 5, 1374, 33, 317, 23, 12, 1375, 1376, 23, 84, 21, 1377], [1378, 242, 688, 1379, 1380, 1381, 1382, 607, 1383, 413, 688, 1384], [171, 31, 542], [224, 1, 30, 55, 362, 1385, 1386, 689, 1387, 27], [1388, 22, 15], [120, 406, 437, 1389, 1390, 690, 1, 1391, 289, 690, 47, 6, 390, 640, 15, 662, 1392, 406], [74, 317, 33, 220, 84, 12], [1, 36, 1393, 197, 5, 1394, 2, 349, 131, 41, 691, 349, 131, 41, 5, 2], [93, 1395], [1, 3, 100], [211, 16, 9], [692, 1396, 1, 97, 1397, 693, 1398, 53, 693], [1, 259, 523, 100], [1399, 4, 56, 372, 1400, 200, 694, 106, 695, 409], [152], [1401, 110, 121, 1402, 1403, 21, 307, 66, 110], [696, 2], [52, 1], [1404, 1405, 1406, 1, 59, 59, 164], [176, 54, 1407, 481, 356, 110, 2], [342, 15, 1408, 1, 674, 697, 19, 1409, 62, 272, 1410, 431, 114, 1411, 1412], [124, 1413, 1414, 698, 14, 318, 650, 214, 1415, 1416, 1417], [193, 181, 9, 1], [67, 1, 192, 1418], [1419, 1420, 1421, 1, 699, 232], [700, 138, 1, 584], [37, 1, 246, 208, 28], [], [1422, 1423, 22, 1424, 395, 1425, 292, 701, 1426, 1427], [199, 1, 138], [61, 81, 1, 49, 158, 689, 1428, 116], [19, 403, 702, 1429, 703, 1430], [1431, 1432, 1433, 91, 1434, 121, 1435, 1436, 264, 1437, 1438, 1439, 1440], [2, 82, 1441, 319, 320, 1442, 402, 1443, 704, 1444, 1445, 1446], [16, 89], [24, 59, 1, 1447, 1448, 7, 112, 387, 39, 151, 1449, 1450, 1451, 438, 1452, 438, 108, 439, 1453, 601, 1454, 1455, 1456, 705], [1, 30, 8, 1457], [63, 1458, 2, 309], [234, 35, 1459], [1460, 1461, 1462], [99, 312, 1, 125], [1], [440, 1463, 1464, 159], [60, 248, 43, 65, 280, 441, 45, 319, 200], [1, 9, 1, 9, 1, 9, 1, 9, 1, 9, 1, 9, 1, 9, 1, 9, 1], [321, 73, 20, 32, 187, 87, 429, 1465, 1, 706, 1466], [1, 1, 112, 24, 59, 1, 47, 62, 153, 61, 2], [1467, 163, 80, 1, 23, 659, 136], [1, 61, 13, 79], [32, 1, 3, 20, 4, 17, 6, 13, 8, 26, 86, 8, 136, 6, 55, 36], [1468, 1469], [1470, 130], [49, 53, 1, 1471, 94, 66], [1, 2, 109, 133, 1], [1], [], [339], [1472, 1473, 163, 1474, 12, 1475, 322], [2, 323, 707, 442, 1476, 1477, 708, 707, 1478, 60], [1479, 709, 1480, 3, 366, 1481, 692, 1, 1482, 23, 238, 506, 594], [92, 220, 710, 95, 1483, 592, 1484], [1485, 351, 350, 1486, 1487, 307, 10, 1488, 82, 434, 156], [49, 1489, 1490, 291, 160, 1491], [180, 61, 1], [224, 1, 12], [1492, 1493, 1494], [360, 1, 106], [92, 711, 19, 712, 1495, 1496, 25, 1497], [1498, 347, 40, 1499, 2, 1500, 534, 1501, 1502], [713, 171, 14, 1503, 281, 335, 1504, 249, 230, 1505, 1506, 235, 1507, 570], [228, 6, 228, 567, 85, 31, 1, 287, 714, 715, 41, 539, 6, 13], [1508, 212, 3, 1, 15, 28, 10, 121, 231, 3, 9], [1509, 1510], [708, 443, 209, 427, 668, 14, 1511, 219, 14, 443], [716], [2, 232, 23, 1512, 27, 1513, 185, 236, 24, 1, 97, 656, 529], [717, 1514], [1515, 1516, 1517, 444], [13, 1], [14, 371, 1], [402, 7, 271, 18, 445, 35], [17, 1, 1518, 1519], [718, 675, 231, 1520, 1, 1521, 5, 105, 546, 1522, 549, 1523, 1], [1524, 64, 1525, 353, 396, 14, 299, 2, 427, 1526, 151, 1527], [250, 681], [135, 135, 195, 135, 1528, 654, 1529], [23, 446], [298, 1, 1530], [8, 447, 440, 19, 31, 1, 1531, 719, 720, 36], [448, 72, 449, 111, 72, 40], [60, 200, 123, 1532, 1533, 1534, 1535, 1536, 1537, 352, 1538, 1539], [56, 1540, 1541, 1542, 1543, 12], [1544, 50, 1545], [721, 235, 26, 5, 1546, 255, 423, 1547, 172], [320, 221, 71, 15, 722, 1548, 722], [1549, 154, 75, 410, 574], [7, 1, 1550, 31, 1551, 1552, 1, 1553, 45, 28, 45, 28], [9, 1554], [1555, 1556, 384, 234, 1, 273, 20, 267, 77, 300, 384, 1557], [194, 39, 243, 1558, 18, 45, 1], [81, 1559, 1560, 1561, 1562, 71], [10, 261, 4, 11, 1], [1], [450, 723, 422, 35, 1563, 379, 1564, 225, 280], [724, 1565, 1566, 1567, 1568, 1569], [22, 218, 1570], [310, 725, 324, 106, 324, 451, 42, 46, 1, 324, 451, 407, 27, 714, 193, 1571, 725], [80, 75, 12, 440, 1572, 1573, 29, 726, 26, 452, 1574], [118, 1575, 60, 380, 40, 1576, 448], [3, 1, 1577, 279, 3, 1], [5, 2, 164, 1578, 425, 1, 117, 134, 3], [219, 1579, 400], [1580, 424, 137, 401, 5, 50, 218, 453, 453, 727, 1581], [1582, 18, 4, 11, 1, 1583], [642, 47, 80, 1584, 1585], [107, 728, 717, 454, 78, 1586], [216, 111, 1, 73, 193], [1587, 1588, 1589, 729], [130, 672, 89], [69, 1, 1590], [1591, 720, 1592, 238, 1593, 455, 53, 1594, 730, 1595, 455, 1596, 3, 1, 44, 287, 1597, 129, 1598], [6, 8, 20, 134, 179], [1599, 378], [1, 316, 731, 215, 2, 1, 273, 97, 4, 1, 320, 298, 15, 1, 411, 87, 732, 35, 1, 52], [313, 1, 198, 143, 1], [177, 1, 430], [22, 486, 176, 190, 256, 321, 325, 695, 733, 115, 176], [734, 75], [247, 1600, 1601, 1602, 51, 735, 530, 1603, 206, 51, 735], [257, 237, 10, 288, 1604, 1605], [22, 163, 456, 99, 41], [174, 185, 194, 271, 1606, 27, 215, 57, 168, 388, 174, 13, 1607], [237, 1], [18, 4, 7, 1, 10, 447, 533, 1608], [216, 1609, 1610], [374, 1611, 1612, 1613, 1614, 17, 3, 1], [1, 100], [70, 51, 456, 721, 1615, 110, 52, 540, 326, 12], [1616, 42, 2, 1617, 1618, 736, 1619, 212, 150, 8, 736], [7, 1, 1620], [666, 62, 1621, 1622, 709, 737, 140, 1623, 738, 1, 31, 1], [134, 63, 243, 408, 74], [178, 1624, 2], [123, 59, 1, 1625, 208], [30, 30, 164, 1626, 1627], [96, 1628, 1629, 281, 1630], [739, 142, 21], [255, 3, 1, 425, 1631, 1632], [1, 226, 7, 61, 27], [68, 1633, 1634, 106, 1635, 68, 179, 740, 1636], [741, 1, 327, 742, 1637, 88], [623, 1638, 1639, 1640, 1641], [5, 218, 188, 477, 1642, 22, 1643], [449, 1644, 1645, 743, 1646, 578, 509, 673, 1647, 1648, 343], [52, 99], [1, 125, 12], [457, 65, 737, 1649, 744, 407], [745, 14, 1650, 1651, 157, 1652, 131, 215, 89, 1653, 235, 1654, 14, 1655, 1656], [1, 112, 103, 236, 236, 9, 1, 269, 1657, 13, 6, 35, 605, 13, 96], [195, 39, 77, 1, 458, 1658, 1659, 10], [14, 1660, 1661, 32, 206, 1], [746, 583, 4, 11, 1], [1662, 141], [301, 1, 4, 11, 83], [38, 57, 747, 79, 69, 1663, 430, 1664, 1665, 38, 1666, 289, 37, 1, 79], [74, 317, 33, 220, 84, 12], [3, 1, 2, 165], [1667, 1668, 457], [748, 749, 1669, 118, 239, 82, 239, 1670, 1671, 1672, 118], [1], [10, 1673, 1674, 1675, 1676, 750, 16, 55, 1677], [1678, 1], [1679], [1680, 328, 1681, 1682, 1683, 746, 1684, 1], [12, 12, 326, 1685, 33, 1686], [1, 3, 114, 138], [1687, 1, 273, 1688, 1689], [751, 651, 752, 751, 1690], [753, 16, 703, 445, 43, 1691, 445, 1692, 285, 1693, 94, 66, 1694], [69, 1, 1695], [1], [754, 733, 754, 396], [1696, 1, 13, 1697, 49, 1698, 1699, 2], [1700, 295, 1701, 325, 493, 1702, 1703, 1704, 1705, 96, 73, 21, 1706], [3, 174, 1], [5, 1707], [84], [58, 686, 98, 209, 103, 236, 1, 115], [1, 168, 67, 139, 42, 26, 175, 1708], [1709, 1710, 705, 21], [8, 9, 1], [199, 1711, 2, 89], [6, 56, 56, 107, 1712, 4, 11, 1, 327, 305, 1713], [1714, 755, 420, 22, 300, 1715, 1716, 22, 1717, 1718, 652, 143, 156], [76, 213, 1719, 76], [552, 90, 157, 206, 376, 14, 207, 51, 157, 277, 278], [113, 459, 460, 1720, 460, 459, 1721, 460, 1722, 459, 1723, 113, 8, 8, 19, 113, 1724, 10, 756, 1, 3, 9, 72, 316, 31, 31], [43, 1725, 1726], [757, 77, 88, 18, 78, 25, 3, 1, 49, 365, 151, 6, 1727, 243, 168, 1728, 106, 461, 3, 706, 28, 88, 78, 78], [224, 1729, 136, 575, 19, 758, 1730, 1731, 1, 17, 1732, 759, 1733, 226, 1734, 1735, 1736, 76, 1737, 125, 760, 1738, 125, 760, 582, 1739], [19, 641, 761, 1, 246, 761, 19], [92, 92, 1740], [170, 762, 763, 764, 12, 765, 393, 766], [36, 1741, 1], [516, 1742, 1743, 256, 299, 1744, 457, 274, 767, 99, 767], [1745, 1746, 443, 159, 1747, 515, 1748], [4, 11, 1, 8], [433, 587, 1749, 1, 1750, 1751, 645, 1752, 42], [1, 100], [1], [48, 360, 1, 14, 4, 13, 15], [1753, 1, 1754], [1755, 1], [1], [325, 114, 768, 8, 1756, 181, 19, 128, 1757, 1, 99, 174, 148, 1758, 1759, 190, 216], [24, 1, 149, 293], [1, 58, 147, 1760], [1761, 1762, 219, 1763], [83, 1764, 211, 63, 1765, 1], [170, 762, 763, 764, 12, 765, 393, 766], [202, 174, 1, 236, 128, 47, 291, 30, 30, 49, 1766, 769, 313, 152, 152, 152, 1767, 398], [1768, 1769, 50, 1770, 446, 12, 1771], [1772], [1773, 724, 1, 770, 1774, 759, 770, 160, 6, 1], [270, 1, 37, 1775, 1776, 164, 1777, 225, 1778, 1779], [439, 1780, 771, 57, 1781, 646, 1782], [1, 32], [23, 46, 1, 120, 758, 266, 521, 1783], [462, 1784, 31, 1, 719, 772, 773, 91, 774, 78], [1785, 1786, 1787, 610, 5, 775, 52, 1, 122, 775, 94, 66, 43, 85], [129, 59, 3, 1, 776, 133, 1788], [52, 1, 508, 1789, 61], [1, 187], [658, 1], [372, 184, 373], [1790, 463, 39, 777, 1791, 5, 1], [12, 434, 450, 778, 123, 61, 89, 1792, 1793, 89], [694, 170, 1794, 1795, 12, 1796, 110, 1797, 1798, 1799, 21], [78, 291, 155, 1], [5, 2, 617, 776, 1800, 46, 3, 1, 1801], [101, 449, 103, 2, 79, 321, 691, 779, 241], [70, 1802, 1803], [363, 780, 781, 782, 318, 783, 95, 784, 785, 231, 135, 29, 319, 786], [209, 122, 385, 275, 233, 320, 1804, 1805, 90, 1806, 1807], [4, 11, 1], [1], [1808, 4], [787, 1809, 21, 1810, 1811, 1812, 1813, 1814, 392, 1815, 311, 1816, 252, 788], [1817, 5, 2], [526, 715, 454, 1818, 17, 492, 71, 13, 1, 104, 6], [4, 165, 1819, 1820, 72, 192, 213, 789, 88, 67, 1821, 119], [1822, 1, 381, 1823], [1, 1824, 1825, 241, 221], [310, 1826, 103, 790, 3, 1, 98, 19, 1827, 1828, 522, 98, 1829, 1830], [110, 2, 323, 1831, 137, 1832, 791, 791], [1833, 1, 245, 120], [1, 428, 1834], [441, 65, 128, 773], [1835], [24, 59, 1, 73, 288, 628, 32, 1836, 20], [5, 306, 2, 225, 306, 1], [101], [107, 1837, 1838, 141, 1839], [1840, 36, 577, 7, 1], [24, 59, 9, 1], [13, 1, 162, 64], [22, 63, 302, 704, 141], [86, 172, 70, 45, 1841], [1, 1842, 201], [77, 10, 1843, 297, 480, 1844, 1, 153], [1, 655, 3], [17, 15, 45, 28, 1, 595, 9, 113], [439, 20, 29, 91, 3, 1, 329, 194], [93, 792, 1845, 792, 753, 26, 1846, 1847], [414, 1, 1848], [33, 1849, 1850, 1851, 1852, 1853, 1854, 1855], [1856, 1857, 132, 126, 294, 126, 669, 234, 132, 687, 1], [793, 91, 29, 97, 1, 1858], [1859, 26, 66], [1860, 177, 39, 16, 1861, 34], [1, 32, 212, 329, 388, 194], [10, 1862], [4, 11, 1], [794, 744, 1863, 1864, 1865, 46, 1, 101, 264, 1866, 2, 772], [92, 177, 1867, 1868, 264, 185, 742], [1, 1869], [446, 1870, 33, 795, 142, 489, 103, 1871, 1872, 1873, 795, 454], [49, 698, 1, 229, 1874, 1875, 1876, 458, 158, 8], [1877, 1], [58, 17, 217, 10, 57, 128, 71], [1, 1878, 5], [151, 6, 1], [6, 1, 586, 1879, 104, 731, 437, 2, 73, 88, 139], [290, 748, 214, 1880, 778, 796, 14, 38, 101, 38, 101, 1881, 796, 1882], [1883], [263, 1884, 107, 444, 1885, 286, 176, 1, 36], [1886, 53, 1887, 126, 315, 441, 53, 126, 1888, 1, 161, 143, 53, 743, 53, 1889, 1890, 37, 361], [154, 797, 1], [170, 110, 2, 48, 410, 146, 300, 21, 48, 612, 613], [363, 780, 781, 782, 318, 783, 95, 784, 785, 231, 135, 29, 319, 786], [1891, 710], [88, 4, 1, 1892, 87, 431, 2], [69, 160, 1893, 1894, 62, 27, 451, 17, 1895, 122, 1896, 242, 1897, 81, 680, 1898, 1899, 23, 31, 498, 221], [260, 260, 1900, 1, 8], [337, 1901], [798, 547, 57, 185, 20, 91, 1902, 1903, 7, 112, 387, 1, 525, 287, 3, 386, 161, 155, 143], [5, 9, 1904, 2, 49, 262, 48, 463, 69, 9, 1, 30, 263, 134, 2, 232, 20], [26, 326, 1905], [11, 30, 73, 346, 118, 52, 233, 1906, 1907, 1908, 1909, 144], [229, 133, 3, 1, 375, 7, 2, 10, 6, 6], [13, 4, 11, 464, 282, 262, 726, 42, 197, 289, 1, 1910, 1911], [56, 337, 176, 1912, 1913, 210, 789, 39, 165, 799, 268, 165, 799, 268, 1914, 210], [1915, 2, 800, 10, 1916, 800, 373], [41, 1, 14, 1917], [49, 119, 633, 95, 455, 30, 3, 1], [191, 1, 682], [114, 1, 57, 1918], [465, 685, 330, 465, 21, 801, 465, 801], [1, 19], [13, 1919, 1], [315, 81, 93, 2, 2, 23], [127, 1, 198, 1920], [125, 228, 22, 178, 111, 15, 1921, 1922, 1923, 29, 15, 309], [1924, 1, 397, 131, 1925], [616, 802, 34, 2, 437, 5, 131, 5, 1926], [604, 62, 24, 1, 6, 44, 1927, 1928, 341, 2, 25, 768, 136, 23, 147, 44, 105, 15, 100], [79, 7, 1, 1929, 1930], [169, 328, 67, 1931, 169, 328, 37, 1, 73], [734, 25], [13, 51, 67, 139, 16, 16, 1932, 4, 176, 16, 85, 209, 1933, 1934, 1935, 438, 1, 41], [5, 175, 331, 702, 331], [1936, 67, 87, 53], [17, 1, 168, 554, 653, 316, 9], [1, 229], [1937, 1938, 37, 1], [39, 541, 210, 1939, 713], [90, 26, 1940, 1941], [757, 551, 1942, 1943, 24, 59, 1, 42, 42, 2, 1944, 94, 66], [93, 16, 9, 23, 4, 11, 1], [803, 665, 803, 314, 1945], [1, 230, 197, 283, 48, 1946, 448], [1, 3, 456], [4, 1947, 1, 538, 127, 1948, 3], [739], [109, 19, 31, 518, 140, 140, 271], [], [30, 330, 326], [170, 1949, 1950, 1951, 136, 309, 38, 60], [424, 1952, 1953, 121, 1954, 274, 1955, 207, 166, 207, 166, 1956, 188, 87, 1957], [1, 1958, 104, 20, 29, 4], [38, 4, 1959, 1960, 370, 371, 507, 699, 729], [771, 196, 29, 75, 258, 50, 196, 331, 1961, 453], [132, 286, 1, 43, 63, 1962, 1963], [27, 1964, 29], [30, 7, 1, 15, 28, 80, 183, 116], [192, 804, 1965, 206, 804], [1, 112, 625, 626, 701, 283], [1, 58, 58, 38, 49, 1966, 109, 17], [4, 67, 769, 13, 1], [90, 235, 47, 47, 1967, 8, 1968, 235, 667, 9, 331, 1969, 466, 169, 1970], [310, 224, 1, 3, 13, 696, 805], [315, 1971, 78, 1, 3, 78], [1972, 576, 10, 34, 711, 71, 1973], [467, 1974, 50, 1975, 99], [1976, 1977, 28, 13, 358, 1, 1978, 1979, 1980], [80, 133, 1, 1981, 35, 35, 46, 55, 1982, 1983, 348], [683, 1984], [364, 186, 806, 186, 1985, 1986, 1987, 1988, 596, 1989, 806], [24, 59, 1, 149, 3, 1990, 128, 329, 24, 48, 790, 62], [807, 452, 368, 807, 368, 452, 190], [5, 61, 1, 808, 1991, 169, 328, 435, 497, 35, 1992, 809, 697, 1993, 329, 808, 1994, 1995], [810, 1996, 1997, 27, 180, 111, 810], [82, 1998], [7, 1, 313, 1999, 311, 32], [77, 3, 1], [2000, 135], [38, 23, 2001, 213, 213, 5, 29, 50, 29, 4, 249], [1, 56, 48, 4, 47], [436, 436, 2002, 69, 308, 295, 620], [2003, 5, 50, 14, 677], [1, 591], [148, 2004, 676, 5, 40, 664, 40, 278], [1, 3, 2005, 211, 25], [248, 27, 2006, 712, 2007, 2008, 2009, 2010, 53, 98, 2011, 2012], [188], [35, 811, 727], [301, 129, 2013, 44, 8, 57, 6, 25, 1, 164, 6, 283], [468, 468, 42, 2014, 322, 322, 468], [2015, 94, 101, 62, 24, 528, 2016, 1, 3], [10, 72, 55, 2], [2, 2017, 2018, 376, 86, 25, 2019, 2020, 2021, 2022, 2023], [24, 55, 35, 2024, 2025], [59, 4, 11, 793, 18, 4, 11, 1, 327, 169, 2026, 56], [151, 2027, 142], [670, 267, 536, 366, 198, 524, 2028, 1, 471, 2, 2029, 2030, 2031], [217, 245, 312, 205, 812], [134, 40, 572, 2032], [797, 36, 740, 569, 8, 24, 3, 1, 46, 149, 2033, 2034, 52, 2035], [258, 4, 359, 54, 10, 54, 519, 101], [1, 2036], [2037, 2038, 482, 2039, 223], [732, 298, 2040, 2041, 2042, 750, 2043, 2044], [565, 225, 741, 2045, 2046, 1], [156, 2047, 2048, 2049, 400, 367, 618, 2050, 2051, 2052, 813, 2053, 156, 814, 815, 2054, 290, 2055, 816, 581, 144, 2056, 2057, 369, 2058, 814, 38, 1, 145, 752, 332, 815, 2059, 2060], [9, 81, 1, 12, 261], [3, 490, 1, 13], [2061, 2062, 1, 108, 43, 187, 2063], [550, 358, 2064, 2065, 347, 2066, 2067, 568], [749, 413, 75], [20, 615, 777, 49, 462, 45, 28, 2068, 238, 294, 1, 44], [97, 1, 49, 365, 58, 57], [423, 318, 226, 16, 94, 66, 167, 16, 31], [74, 317, 33, 220, 84, 12], [42, 2069, 391, 91, 171, 817, 367, 637, 171, 817, 818, 818, 2070, 2071], [2072, 2073, 798, 2074, 338, 2075, 819, 2076, 262, 2077, 2078, 819, 2079, 2080, 2081], [464, 2082, 2083, 2084, 2085, 2086, 2087, 2088], [307, 2089, 159, 2090, 2091, 2092], [2093, 2094, 2095, 292, 50, 2096, 469, 192, 182, 214, 2097, 2098], [597, 234, 2, 2099], [364, 186, 172, 2100, 2, 222, 222, 222, 2101, 137], [40, 820, 467, 821, 619, 821, 805, 2102, 2103, 8, 87], [18, 67, 1], [160, 36, 1], [86, 269, 1], [345], [2104, 2105, 2106, 2107, 2108, 2109, 644, 2110, 10, 2111, 571, 40], [], [2112], [175, 111, 442, 442, 308, 2113, 296, 370, 2114, 403, 2115, 78, 2116, 2117], [2118, 755, 420], [6, 2119, 107, 268, 230, 197, 2120, 2121, 1, 94, 66, 94, 66, 83], [18, 228, 1, 535, 19, 2122, 227, 132, 2, 109, 27, 86], [745, 2123], [660, 2124, 56, 139, 67, 2125, 609, 26, 2126, 2127, 145, 2128], [90, 314, 18, 233, 280, 2, 579, 14, 2129, 2130], [738, 261, 461, 14, 37, 1, 718, 34, 70, 58], [26, 415, 172, 416, 303, 173, 304, 130, 167, 203, 191, 417, 173, 227], [83], [2131, 1], [292, 2132, 2133, 2134, 222, 106, 302, 2135, 50], [5, 324, 1], [378, 303, 466, 124, 175, 466, 124, 822, 2136, 2137, 2138, 2139], [154, 2140, 154, 182, 2141, 2142, 7, 1, 104], [354, 77, 1, 77, 7, 1], [409, 70, 115], [395, 212, 2143, 2144, 69, 336, 467, 2145, 2146, 2147, 444], [65, 200, 2148, 2149, 2150, 723, 2, 544], [2151, 327, 83, 325, 48, 336, 4, 11, 1], [240, 2152, 323, 2153, 787, 2154, 2155, 2156, 788, 2157], [7, 1, 183, 116, 2158], [1, 5], [2159, 240, 16, 177], [12, 60, 25, 823, 2160, 2161], [2162, 383, 2163, 383, 2164, 202, 1], [483, 2165, 16, 2166], [223, 330, 2167, 2168, 2169, 21, 54, 21, 824, 2170, 330, 824, 2171], [716], [47, 233, 47, 580, 2172], [2173], [2174, 2175, 85, 418, 15, 97, 1, 113, 2176, 825, 158, 161, 161, 635, 230, 2177], [199, 37, 1, 756, 79], [469, 2, 144, 2178, 1, 816, 2179, 369, 826, 332, 2180, 827, 2181, 145, 827, 2182, 2183, 469, 333, 2184, 2185, 813, 333, 826, 332, 2186, 828, 728, 332, 2187, 2188, 145, 333, 2189, 2190, 333, 166, 2191], [1, 428], [802, 248, 500, 700, 111, 321], [39, 96, 50, 2192, 476], [33], [93, 462, 1, 2193, 537, 41], [38, 1], [6, 10, 103, 8, 2194, 779], [2195, 22, 432, 432, 22, 2196, 323], [794, 823, 239, 195, 2197, 352, 829, 828, 829, 21], [322, 16, 2198, 281, 60, 2199, 93, 820, 16], [153, 32, 8, 285, 93, 32], [217, 245, 312, 205, 812], [2200, 63, 606, 11], [2201, 2202, 2203, 485], [6, 102, 1, 129, 774, 10, 124], [52, 346, 2204], [747, 129, 632, 2205, 44, 2, 232, 4, 46, 671, 4, 46, 1, 20, 463, 11, 181, 47, 60], [17, 1, 304], [822, 450, 2206], [69, 116, 64, 203, 16, 809, 157, 464, 2207, 2208, 2209], [26, 415, 172, 416, 303, 173, 304, 130, 167, 203, 191, 417, 173, 227], [237, 120, 1, 603, 83], [14, 32, 825, 730, 2210, 20, 153, 31, 1], [2211, 830, 137, 684, 2212, 375, 811, 9, 18, 72, 29, 2213, 2214, 2215, 657, 12, 31, 830, 1, 65, 43, 2216, 2217, 2218, 2219, 2220], [141, 679, 22, 2221, 55, 458], [59, 1, 58, 9, 158], [1, 461, 35, 162], [2222, 2223, 24, 1, 636, 429, 447, 398, 122, 2224, 182, 1], [19, 36, 1, 17, 152, 598, 20, 102, 272, 134, 23, 8]]\n",
            "Found 2225 unique tokens.\n"
          ],
          "name": "stdout"
        }
      ]
    },
    {
      "cell_type": "code",
      "metadata": {
        "id": "jr3ewp1GID9n"
      },
      "source": [
        "train_cnn_data = pad_sequences(training_sequences, maxlen=MAX_SEQUENCE_LENGTH)"
      ],
      "execution_count": 23,
      "outputs": []
    },
    {
      "cell_type": "code",
      "metadata": {
        "id": "TkFpM6fpIHC7",
        "colab": {
          "base_uri": "https://localhost:8080/"
        },
        "outputId": "0431e6e5-ad45-419f-a47b-e7ffebadec08"
      },
      "source": [
        "train_embedding_weights = np.zeros((len(train_word_index)+1, EMBEDDING_DIM))\n",
        "for word,index in train_word_index.items():\n",
        "    train_embedding_weights[index,:] = word2vec[word] if word in word2vec else np.random.rand(EMBEDDING_DIM)\n",
        "print(train_embedding_weights.shape)\n",
        "# Embed a 1,321 word vocabulary into 300 dimensions."
      ],
      "execution_count": 24,
      "outputs": [
        {
          "output_type": "stream",
          "text": [
            "(2226, 300)\n"
          ],
          "name": "stdout"
        }
      ]
    },
    {
      "cell_type": "code",
      "metadata": {
        "id": "seVEtL9jIM5A"
      },
      "source": [
        "test_sequences = tokenizer.texts_to_sequences(data_test[\"Text_Final\"].tolist())\n",
        "test_cnn_data = pad_sequences(test_sequences, maxlen=MAX_SEQUENCE_LENGTH)"
      ],
      "execution_count": 25,
      "outputs": []
    },
    {
      "cell_type": "markdown",
      "metadata": {
        "id": "1tgO4kgfIR_W"
      },
      "source": [
        "**Define CNN**"
      ]
    },
    {
      "cell_type": "code",
      "metadata": {
        "id": "SYBm0YfKbKIY"
      },
      "source": [
        "def ConvNet(embeddings, max_sequence_length, num_words, embedding_dim, labels_index):\n",
        "\n",
        "    embedding_layer = Embedding(num_words,\n",
        "                            embedding_dim,\n",
        "                            weights=[embeddings],\n",
        "                            input_length=max_sequence_length,\n",
        "                            trainable=False)\n",
        "    \n",
        "    sequence_input = Input(shape=(max_sequence_length,), dtype='int32')\n",
        "    embedded_sequences = embedding_layer(sequence_input)\n",
        "\n",
        "    convs = []\n",
        "    filter_sizes = [2,3,4,5,6]\n",
        "\n",
        "    for filter_size in filter_sizes:\n",
        "        l_conv = Conv1D(filters=200, kernel_size=filter_size, activation='relu')(embedded_sequences)\n",
        "        l_pool = GlobalMaxPooling1D()(l_conv)\n",
        "        convs.append(l_pool)\n",
        "\n",
        "\n",
        "    l_merge = concatenate(convs, axis=1)\n",
        "\n",
        "    x = Dropout(0.1)(l_merge)  \n",
        "    x = Dense(128, activation='relu')(x)\n",
        "    x = Dropout(0.2)(x)\n",
        "    preds = Dense(labels_index, activation='sigmoid')(x)\n",
        "\n",
        "    model = Model(sequence_input, preds)\n",
        "    model.compile(loss='binary_crossentropy',\n",
        "                  optimizer='nadam',\n",
        "                  metrics=['acc'])\n",
        "    return model"
      ],
      "execution_count": 26,
      "outputs": []
    },
    {
      "cell_type": "code",
      "metadata": {
        "id": "C-FocdF3bRy6"
      },
      "source": [
        "label_names = ['mengidap', 'non']"
      ],
      "execution_count": 27,
      "outputs": []
    },
    {
      "cell_type": "code",
      "metadata": {
        "id": "V2fVQ00sVuDa",
        "colab": {
          "base_uri": "https://localhost:8080/"
        },
        "outputId": "aa7ef6ea-95f3-4c52-f8e5-c3406aa789c9"
      },
      "source": [
        "print(len(list(label_names)))"
      ],
      "execution_count": 28,
      "outputs": [
        {
          "output_type": "stream",
          "text": [
            "2\n"
          ],
          "name": "stdout"
        }
      ]
    },
    {
      "cell_type": "code",
      "metadata": {
        "id": "gBCDTv5eIafm"
      },
      "source": [
        "y_train = data_train[label_names].values"
      ],
      "execution_count": 29,
      "outputs": []
    },
    {
      "cell_type": "code",
      "metadata": {
        "id": "vbVFNP2qKOsp"
      },
      "source": [
        "x_train = train_cnn_data\n",
        "y_tr = y_train"
      ],
      "execution_count": 30,
      "outputs": []
    },
    {
      "cell_type": "code",
      "metadata": {
        "id": "VjZxR5rnKRrj"
      },
      "source": [
        "model = ConvNet(train_embedding_weights, MAX_SEQUENCE_LENGTH, len(train_word_index)+1, EMBEDDING_DIM, \n",
        "                len(list(label_names)))"
      ],
      "execution_count": 31,
      "outputs": []
    },
    {
      "cell_type": "markdown",
      "metadata": {
        "id": "79l1rjQ9KSsV"
      },
      "source": [
        "**Train CNN**"
      ]
    },
    {
      "cell_type": "code",
      "metadata": {
        "id": "-JqFVpkHKhjt",
        "colab": {
          "base_uri": "https://localhost:8080/"
        },
        "outputId": "5657855a-9fcc-482f-a758-97fb27386eef"
      },
      "source": [
        "data_train['Label'].value_counts()"
      ],
      "execution_count": 32,
      "outputs": [
        {
          "output_type": "execute_result",
          "data": {
            "text/plain": [
              "0    402\n",
              "1    398\n",
              "Name: Label, dtype: int64"
            ]
          },
          "metadata": {},
          "execution_count": 32
        }
      ]
    },
    {
      "cell_type": "code",
      "metadata": {
        "id": "5L0OfLfIKVxf"
      },
      "source": [
        "num_epochs = 5\n",
        "batch_size = 200"
      ],
      "execution_count": 33,
      "outputs": []
    },
    {
      "cell_type": "code",
      "metadata": {
        "id": "5QjFlvbkbbvM"
      },
      "source": [
        "# Include the epoch in the file name (uses `str.format`)\n",
        "checkpoint_path = \"drive/MyDrive/data_psyco/depresi_1000/cp-{epoch:04d}.ckpt\"\n",
        "checkpoint_dir = os.path.dirname(checkpoint_path)"
      ],
      "execution_count": 34,
      "outputs": []
    },
    {
      "cell_type": "code",
      "metadata": {
        "id": "wWMcLxYCK416"
      },
      "source": [
        "# Create a new model instance\n",
        "model = ConvNet(train_embedding_weights, MAX_SEQUENCE_LENGTH, len(train_word_index)+1, EMBEDDING_DIM, \n",
        "                len(list(label_names)))\n",
        "\n",
        "# Create a callback that saves the model's weights every 5 epochs\n",
        "cp_callback = tf.keras.callbacks.ModelCheckpoint(\n",
        "    filepath=checkpoint_path, \n",
        "    verbose=1, \n",
        "    save_weights_only=True,\n",
        "    save_freq=4*batch_size)\n",
        "# Save the weights using the `checkpoint_path` format\n",
        "model.save_weights(checkpoint_path.format(epoch=0))"
      ],
      "execution_count": 35,
      "outputs": []
    },
    {
      "cell_type": "code",
      "metadata": {
        "id": "h_ZUIESSbkg3",
        "colab": {
          "base_uri": "https://localhost:8080/"
        },
        "outputId": "7b649754-363e-4947-9ada-34a67e96bf65"
      },
      "source": [
        "os.listdir(checkpoint_dir)"
      ],
      "execution_count": 36,
      "outputs": [
        {
          "output_type": "execute_result",
          "data": {
            "text/plain": [
              "['cp-0001.ckpt.index',\n",
              " 'cp-0001.ckpt.data-00000-of-00001',\n",
              " 'cp-0002.ckpt.index',\n",
              " 'cp-0002.ckpt.data-00000-of-00001',\n",
              " 'cp-0003.ckpt.index',\n",
              " 'cp-0003.ckpt.data-00000-of-00001',\n",
              " 'cp-0004.ckpt.index',\n",
              " 'cp-0004.ckpt.data-00000-of-00001',\n",
              " 'cp-0005.ckpt.index',\n",
              " 'cp-0005.ckpt.data-00000-of-00001',\n",
              " 'cp-0006.ckpt.index',\n",
              " 'cp-0006.ckpt.data-00000-of-00001',\n",
              " 'cp-0007.ckpt.index',\n",
              " 'cp-0007.ckpt.data-00000-of-00001',\n",
              " 'cp-0008.ckpt.index',\n",
              " 'cp-0009.ckpt.index',\n",
              " 'cp-0008.ckpt.data-00000-of-00001',\n",
              " 'cp-0009.ckpt.data-00000-of-00001',\n",
              " 'cp-0010.ckpt.index',\n",
              " 'cp-0010.ckpt.data-00000-of-00001',\n",
              " 'cp-0011.ckpt.index',\n",
              " 'cp-0011.ckpt.data-00000-of-00001',\n",
              " 'cp-0012.ckpt.index',\n",
              " 'cp-0012.ckpt.data-00000-of-00001',\n",
              " 'cp-0013.ckpt.index',\n",
              " 'cp-0013.ckpt.data-00000-of-00001',\n",
              " 'cp-0014.ckpt.index',\n",
              " 'cp-0014.ckpt.data-00000-of-00001',\n",
              " 'cp-0015.ckpt.index',\n",
              " 'cp-0015.ckpt.data-00000-of-00001',\n",
              " 'cp-0016.ckpt.index',\n",
              " 'cp-0016.ckpt.data-00000-of-00001',\n",
              " 'cp-0017.ckpt.index',\n",
              " 'cp-0017.ckpt.data-00000-of-00001',\n",
              " 'cp-0018.ckpt.index',\n",
              " 'cp-0018.ckpt.data-00000-of-00001',\n",
              " 'cp-0019.ckpt.index',\n",
              " 'cp-0019.ckpt.data-00000-of-00001',\n",
              " 'cp-0020.ckpt.index',\n",
              " 'cp-0020.ckpt.data-00000-of-00001',\n",
              " 'cp-0021.ckpt.index',\n",
              " 'cp-0021.ckpt.data-00000-of-00001',\n",
              " 'cp-0022.ckpt.index',\n",
              " 'cp-0022.ckpt.data-00000-of-00001',\n",
              " 'cp-0023.ckpt.index',\n",
              " 'cp-0023.ckpt.data-00000-of-00001',\n",
              " 'cp-0024.ckpt.index',\n",
              " 'cp-0024.ckpt.data-00000-of-00001',\n",
              " 'cp-0025.ckpt.index',\n",
              " 'cp-0025.ckpt.data-00000-of-00001',\n",
              " 'cp-0026.ckpt.index',\n",
              " 'cp-0026.ckpt.data-00000-of-00001',\n",
              " 'cp-0027.ckpt.index',\n",
              " 'cp-0027.ckpt.data-00000-of-00001',\n",
              " 'cp-0028.ckpt.index',\n",
              " 'cp-0028.ckpt.data-00000-of-00001',\n",
              " 'cp-0029.ckpt.index',\n",
              " 'cp-0029.ckpt.data-00000-of-00001',\n",
              " 'cp-0030.ckpt.index',\n",
              " 'cp-0030.ckpt.data-00000-of-00001',\n",
              " 'cp-0031.ckpt.index',\n",
              " 'cp-0031.ckpt.data-00000-of-00001',\n",
              " 'cp-0032.ckpt.index',\n",
              " 'cp-0032.ckpt.data-00000-of-00001',\n",
              " 'cp-0033.ckpt.index',\n",
              " 'cp-0033.ckpt.data-00000-of-00001',\n",
              " 'cp-0034.ckpt.index',\n",
              " 'cp-0034.ckpt.data-00000-of-00001',\n",
              " 'cp-0035.ckpt.index',\n",
              " 'cp-0035.ckpt.data-00000-of-00001',\n",
              " 'cp-0036.ckpt.index',\n",
              " 'cp-0036.ckpt.data-00000-of-00001',\n",
              " 'cp-0037.ckpt.index',\n",
              " 'cp-0037.ckpt.data-00000-of-00001',\n",
              " 'cp-0038.ckpt.index',\n",
              " 'cp-0038.ckpt.data-00000-of-00001',\n",
              " 'cp-0039.ckpt.index',\n",
              " 'cp-0039.ckpt.data-00000-of-00001',\n",
              " 'cp-0040.ckpt.index',\n",
              " 'cp-0040.ckpt.data-00000-of-00001',\n",
              " 'cp-0041.ckpt.index',\n",
              " 'cp-0041.ckpt.data-00000-of-00001',\n",
              " 'cp-0042.ckpt.index',\n",
              " 'cp-0042.ckpt.data-00000-of-00001',\n",
              " 'cp-0043.ckpt.index',\n",
              " 'cp-0043.ckpt.data-00000-of-00001',\n",
              " 'cp-0044.ckpt.index',\n",
              " 'cp-0044.ckpt.data-00000-of-00001',\n",
              " 'cp-0045.ckpt.index',\n",
              " 'cp-0045.ckpt.data-00000-of-00001',\n",
              " 'cp-0046.ckpt.index',\n",
              " 'cp-0046.ckpt.data-00000-of-00001',\n",
              " 'cp-0047.ckpt.index',\n",
              " 'cp-0047.ckpt.data-00000-of-00001',\n",
              " 'cp-0048.ckpt.index',\n",
              " 'cp-0048.ckpt.data-00000-of-00001',\n",
              " 'cp-0049.ckpt.index',\n",
              " 'cp-0049.ckpt.data-00000-of-00001',\n",
              " 'cp-0050.ckpt.index',\n",
              " 'cp-0050.ckpt.data-00000-of-00001',\n",
              " 'cp-0051.ckpt.index',\n",
              " 'cp-0051.ckpt.data-00000-of-00001',\n",
              " 'cp-0052.ckpt.index',\n",
              " 'cp-0052.ckpt.data-00000-of-00001',\n",
              " 'cp-0054.ckpt.index',\n",
              " 'cp-0054.ckpt.data-00000-of-00001',\n",
              " 'cp-0053.ckpt.index',\n",
              " 'cp-0055.ckpt.index',\n",
              " 'cp-0053.ckpt.data-00000-of-00001',\n",
              " 'cp-0055.ckpt.data-00000-of-00001',\n",
              " 'cp-0056.ckpt.data-00000-of-00001',\n",
              " 'cp-0056.ckpt.index',\n",
              " 'cp-0057.ckpt.index',\n",
              " 'cp-0057.ckpt.data-00000-of-00001',\n",
              " 'cp-0058.ckpt.index',\n",
              " 'cp-0058.ckpt.data-00000-of-00001',\n",
              " 'cp-0059.ckpt.index',\n",
              " 'cp-0059.ckpt.data-00000-of-00001',\n",
              " 'cp-0060.ckpt.index',\n",
              " 'cp-0060.ckpt.data-00000-of-00001',\n",
              " 'cp-0061.ckpt.data-00000-of-00001',\n",
              " 'cp-0061.ckpt.index',\n",
              " 'cp-0062.ckpt.index',\n",
              " 'cp-0062.ckpt.data-00000-of-00001',\n",
              " 'cp-0063.ckpt.index',\n",
              " 'cp-0063.ckpt.data-00000-of-00001',\n",
              " 'cp-0064.ckpt.index',\n",
              " 'cp-0064.ckpt.data-00000-of-00001',\n",
              " 'cp-0065.ckpt.index',\n",
              " 'cp-0065.ckpt.data-00000-of-00001',\n",
              " 'cp-0066.ckpt.data-00000-of-00001',\n",
              " 'cp-0066.ckpt.index',\n",
              " 'cp-0067.ckpt.index',\n",
              " 'cp-0067.ckpt.data-00000-of-00001',\n",
              " 'cp-0068.ckpt.index',\n",
              " 'cp-0068.ckpt.data-00000-of-00001',\n",
              " 'cp-0069.ckpt.index',\n",
              " 'cp-0069.ckpt.data-00000-of-00001',\n",
              " 'cp-0070.ckpt.index',\n",
              " 'cp-0070.ckpt.data-00000-of-00001',\n",
              " 'cp-0071.ckpt.data-00000-of-00001',\n",
              " 'cp-0071.ckpt.index',\n",
              " 'cp-0072.ckpt.index',\n",
              " 'cp-0072.ckpt.data-00000-of-00001',\n",
              " 'cp-0073.ckpt.index',\n",
              " 'cp-0073.ckpt.data-00000-of-00001',\n",
              " 'cp-0074.ckpt.index',\n",
              " 'cp-0074.ckpt.data-00000-of-00001',\n",
              " 'cp-0075.ckpt.index',\n",
              " 'cp-0075.ckpt.data-00000-of-00001',\n",
              " 'cp-0076.ckpt.data-00000-of-00001',\n",
              " 'cp-0076.ckpt.index',\n",
              " 'cp-0077.ckpt.index',\n",
              " 'cp-0077.ckpt.data-00000-of-00001',\n",
              " 'cp-0078.ckpt.index',\n",
              " 'cp-0078.ckpt.data-00000-of-00001',\n",
              " 'cp-0079.ckpt.index',\n",
              " 'cp-0079.ckpt.data-00000-of-00001',\n",
              " 'cp-0080.ckpt.index',\n",
              " 'cp-0080.ckpt.data-00000-of-00001',\n",
              " 'cp-0081.ckpt.data-00000-of-00001',\n",
              " 'cp-0081.ckpt.index',\n",
              " 'cp-0082.ckpt.index',\n",
              " 'cp-0082.ckpt.data-00000-of-00001',\n",
              " 'cp-0083.ckpt.index',\n",
              " 'cp-0083.ckpt.data-00000-of-00001',\n",
              " 'cp-0084.ckpt.index',\n",
              " 'cp-0084.ckpt.data-00000-of-00001',\n",
              " 'cp-0085.ckpt.index',\n",
              " 'cp-0085.ckpt.data-00000-of-00001',\n",
              " 'cp-0086.ckpt.data-00000-of-00001',\n",
              " 'cp-0086.ckpt.index',\n",
              " 'cp-0087.ckpt.index',\n",
              " 'cp-0087.ckpt.data-00000-of-00001',\n",
              " 'cp-0088.ckpt.index',\n",
              " 'cp-0088.ckpt.data-00000-of-00001',\n",
              " 'cp-0089.ckpt.index',\n",
              " 'cp-0089.ckpt.data-00000-of-00001',\n",
              " 'cp-0090.ckpt.index',\n",
              " 'cp-0090.ckpt.data-00000-of-00001',\n",
              " 'cp-0091.ckpt.data-00000-of-00001',\n",
              " 'cp-0091.ckpt.index',\n",
              " 'cp-0092.ckpt.index',\n",
              " 'cp-0092.ckpt.data-00000-of-00001',\n",
              " 'cp-0093.ckpt.index',\n",
              " 'cp-0093.ckpt.data-00000-of-00001',\n",
              " 'cp-0094.ckpt.index',\n",
              " 'cp-0094.ckpt.data-00000-of-00001',\n",
              " 'cp-0095.ckpt.index',\n",
              " 'cp-0095.ckpt.data-00000-of-00001',\n",
              " 'cp-0096.ckpt.data-00000-of-00001',\n",
              " 'cp-0096.ckpt.index',\n",
              " 'cp-0097.ckpt.index',\n",
              " 'cp-0097.ckpt.data-00000-of-00001',\n",
              " 'cp-0098.ckpt.index',\n",
              " 'cp-0098.ckpt.data-00000-of-00001',\n",
              " 'cp-0099.ckpt.index',\n",
              " 'cp-0099.ckpt.data-00000-of-00001',\n",
              " 'cp-0100.ckpt.index',\n",
              " 'cp-0100.ckpt.data-00000-of-00001',\n",
              " 'cp-0000.ckpt.index',\n",
              " 'cp-0000.ckpt.data-00000-of-00001',\n",
              " 'checkpoint']"
            ]
          },
          "metadata": {},
          "execution_count": 36
        }
      ]
    },
    {
      "cell_type": "code",
      "metadata": {
        "id": "MN8sBg_WK_Bu",
        "colab": {
          "base_uri": "https://localhost:8080/"
        },
        "outputId": "3c91d8a4-51f0-414c-a433-ac4861f917a3"
      },
      "source": [
        "model.fit(x_train, y_tr, epochs=num_epochs, validation_split=0.1, shuffle=True, batch_size=batch_size, callbacks=cp_callback)\n",
        "# Display the model's architecture\n",
        "model.summary()"
      ],
      "execution_count": 37,
      "outputs": [
        {
          "output_type": "stream",
          "text": [
            "Epoch 1/5\n",
            "4/4 [==============================] - 5s 706ms/step - loss: 1.0751 - acc: 0.4889 - val_loss: 0.6338 - val_acc: 0.7125\n",
            "Epoch 2/5\n",
            "4/4 [==============================] - 3s 622ms/step - loss: 0.6176 - acc: 0.7000 - val_loss: 0.5573 - val_acc: 0.7125\n",
            "Epoch 3/5\n",
            "4/4 [==============================] - 3s 627ms/step - loss: 0.6732 - acc: 0.6278 - val_loss: 0.5440 - val_acc: 0.8125\n",
            "Epoch 4/5\n",
            "4/4 [==============================] - 3s 626ms/step - loss: 0.4289 - acc: 0.8403 - val_loss: 0.6688 - val_acc: 0.6375\n",
            "Epoch 5/5\n",
            "4/4 [==============================] - 3s 623ms/step - loss: 0.6340 - acc: 0.7056 - val_loss: 0.4705 - val_acc: 0.8375\n",
            "Model: \"model_1\"\n",
            "__________________________________________________________________________________________________\n",
            "Layer (type)                    Output Shape         Param #     Connected to                     \n",
            "==================================================================================================\n",
            "input_2 (InputLayer)            [(None, 40)]         0                                            \n",
            "__________________________________________________________________________________________________\n",
            "embedding_1 (Embedding)         (None, 40, 300)      667800      input_2[0][0]                    \n",
            "__________________________________________________________________________________________________\n",
            "conv1d_5 (Conv1D)               (None, 39, 200)      120200      embedding_1[0][0]                \n",
            "__________________________________________________________________________________________________\n",
            "conv1d_6 (Conv1D)               (None, 38, 200)      180200      embedding_1[0][0]                \n",
            "__________________________________________________________________________________________________\n",
            "conv1d_7 (Conv1D)               (None, 37, 200)      240200      embedding_1[0][0]                \n",
            "__________________________________________________________________________________________________\n",
            "conv1d_8 (Conv1D)               (None, 36, 200)      300200      embedding_1[0][0]                \n",
            "__________________________________________________________________________________________________\n",
            "conv1d_9 (Conv1D)               (None, 35, 200)      360200      embedding_1[0][0]                \n",
            "__________________________________________________________________________________________________\n",
            "global_max_pooling1d_5 (GlobalM (None, 200)          0           conv1d_5[0][0]                   \n",
            "__________________________________________________________________________________________________\n",
            "global_max_pooling1d_6 (GlobalM (None, 200)          0           conv1d_6[0][0]                   \n",
            "__________________________________________________________________________________________________\n",
            "global_max_pooling1d_7 (GlobalM (None, 200)          0           conv1d_7[0][0]                   \n",
            "__________________________________________________________________________________________________\n",
            "global_max_pooling1d_8 (GlobalM (None, 200)          0           conv1d_8[0][0]                   \n",
            "__________________________________________________________________________________________________\n",
            "global_max_pooling1d_9 (GlobalM (None, 200)          0           conv1d_9[0][0]                   \n",
            "__________________________________________________________________________________________________\n",
            "concatenate_1 (Concatenate)     (None, 1000)         0           global_max_pooling1d_5[0][0]     \n",
            "                                                                 global_max_pooling1d_6[0][0]     \n",
            "                                                                 global_max_pooling1d_7[0][0]     \n",
            "                                                                 global_max_pooling1d_8[0][0]     \n",
            "                                                                 global_max_pooling1d_9[0][0]     \n",
            "__________________________________________________________________________________________________\n",
            "dropout_2 (Dropout)             (None, 1000)         0           concatenate_1[0][0]              \n",
            "__________________________________________________________________________________________________\n",
            "dense_2 (Dense)                 (None, 128)          128128      dropout_2[0][0]                  \n",
            "__________________________________________________________________________________________________\n",
            "dropout_3 (Dropout)             (None, 128)          0           dense_2[0][0]                    \n",
            "__________________________________________________________________________________________________\n",
            "dense_3 (Dense)                 (None, 2)            258         dropout_3[0][0]                  \n",
            "==================================================================================================\n",
            "Total params: 1,997,186\n",
            "Trainable params: 1,329,386\n",
            "Non-trainable params: 667,800\n",
            "__________________________________________________________________________________________________\n"
          ],
          "name": "stdout"
        }
      ]
    },
    {
      "cell_type": "code",
      "metadata": {
        "id": "HtGau3Q2bpr5",
        "colab": {
          "base_uri": "https://localhost:8080/",
          "height": 35
        },
        "outputId": "4e4f5c75-ba60-4ffd-e66e-a4c36a560069"
      },
      "source": [
        "latest = tf.train.latest_checkpoint(checkpoint_dir)\n",
        "latest"
      ],
      "execution_count": 38,
      "outputs": [
        {
          "output_type": "execute_result",
          "data": {
            "application/vnd.google.colaboratory.intrinsic+json": {
              "type": "string"
            },
            "text/plain": [
              "'drive/MyDrive/data_psyco/depresi_1000/cp-0000.ckpt'"
            ]
          },
          "metadata": {},
          "execution_count": 38
        }
      ]
    },
    {
      "cell_type": "code",
      "metadata": {
        "id": "9EvP7cHZbt6n",
        "colab": {
          "base_uri": "https://localhost:8080/"
        },
        "outputId": "c52ebfe7-2905-4efa-c175-fa91ce5fc717"
      },
      "source": [
        "new_model = ConvNet((train_embedding_weights), MAX_SEQUENCE_LENGTH, len(train_word_index)+1, EMBEDDING_DIM, \n",
        "                len(list(label_names)))\n",
        "# Load the previously saved weights\n",
        "new_model.load_weights(latest)\n",
        "\n",
        "# Re-evaluate the model\n",
        "loss, acc = new_model.evaluate(x_train, y_tr, verbose=1)"
      ],
      "execution_count": 39,
      "outputs": [
        {
          "output_type": "stream",
          "text": [
            "25/25 [==============================] - 2s 49ms/step - loss: 0.7115 - acc: 0.4963\n"
          ],
          "name": "stdout"
        }
      ]
    },
    {
      "cell_type": "markdown",
      "metadata": {
        "id": "6MWCR3gDLe3V"
      },
      "source": [
        "**Test CNN**"
      ]
    },
    {
      "cell_type": "code",
      "metadata": {
        "id": "mXXncErqLgXq",
        "colab": {
          "base_uri": "https://localhost:8080/"
        },
        "outputId": "40bb855f-1a55-48c5-b317-6facd18af73f"
      },
      "source": [
        "predictions = new_model.predict(test_cnn_data, batch_size=4, verbose=1)"
      ],
      "execution_count": 40,
      "outputs": [
        {
          "output_type": "stream",
          "text": [
            "50/50 [==============================] - 1s 9ms/step\n"
          ],
          "name": "stdout"
        }
      ]
    },
    {
      "cell_type": "code",
      "metadata": {
        "id": "0eviIJSELn67",
        "colab": {
          "base_uri": "https://localhost:8080/"
        },
        "outputId": "3d4a6ee6-a5ce-4dbf-b56c-47183192cbf0"
      },
      "source": [
        "y_pred=np.argmax(predictions,axis=1)\n",
        "y_pred"
      ],
      "execution_count": 41,
      "outputs": [
        {
          "output_type": "execute_result",
          "data": {
            "text/plain": [
              "array([0, 1, 1, 0, 0, 0, 0, 1, 0, 0, 0, 1, 0, 1, 1, 0, 0, 1, 0, 1, 0, 0,\n",
              "       0, 0, 1, 0, 0, 0, 1, 0, 1, 0, 0, 0, 0, 0, 0, 1, 1, 0, 1, 1, 0, 1,\n",
              "       0, 0, 0, 0, 1, 1, 0, 0, 0, 0, 1, 0, 1, 1, 1, 0, 0, 0, 0, 1, 0, 1,\n",
              "       0, 1, 1, 0, 0, 0, 0, 0, 1, 0, 1, 1, 0, 0, 1, 0, 1, 0, 1, 1, 1, 0,\n",
              "       0, 0, 1, 1, 0, 0, 1, 0, 0, 0, 0, 0, 0, 0, 1, 0, 0, 0, 0, 1, 1, 1,\n",
              "       0, 0, 0, 1, 0, 0, 0, 0, 0, 0, 0, 0, 1, 0, 0, 0, 0, 1, 0, 1, 1, 1,\n",
              "       1, 0, 1, 0, 1, 0, 0, 0, 1, 1, 0, 1, 1, 0, 1, 0, 0, 1, 0, 0, 0, 1,\n",
              "       1, 0, 0, 1, 1, 0, 0, 0, 0, 1, 1, 1, 0, 0, 0, 0, 0, 0, 0, 0, 1, 0,\n",
              "       1, 0, 0, 1, 0, 0, 1, 0, 1, 1, 1, 1, 0, 0, 1, 1, 1, 0, 0, 0, 0, 0,\n",
              "       0, 0])"
            ]
          },
          "metadata": {},
          "execution_count": 41
        }
      ]
    },
    {
      "cell_type": "code",
      "metadata": {
        "id": "WUt1uSb-LsEz"
      },
      "source": [
        "labels = [1, 0]"
      ],
      "execution_count": 42,
      "outputs": []
    },
    {
      "cell_type": "code",
      "metadata": {
        "id": "S3rwaL1KLux3"
      },
      "source": [
        "prediction_labels=[]\n",
        "for p in predictions:\n",
        "    prediction_labels.append(labels[np.argmax(p)])"
      ],
      "execution_count": 43,
      "outputs": []
    },
    {
      "cell_type": "code",
      "metadata": {
        "id": "bFu9QhuFLyLv",
        "colab": {
          "base_uri": "https://localhost:8080/"
        },
        "outputId": "59783fa2-1bb9-4d19-e054-89539e7c6bd2"
      },
      "source": [
        "hasil = sum(data_test.Label==prediction_labels)/len(prediction_labels)\n",
        "print('Accuracy : %s' % hasil)"
      ],
      "execution_count": 44,
      "outputs": [
        {
          "output_type": "stream",
          "text": [
            "Accuracy : 0.465\n"
          ],
          "name": "stdout"
        }
      ]
    },
    {
      "cell_type": "code",
      "metadata": {
        "id": "k3S1R4QUL2Jm",
        "colab": {
          "base_uri": "https://localhost:8080/"
        },
        "outputId": "b163db19-31aa-4fe1-a902-15ea45175a0a"
      },
      "source": [
        "data_test.Label.value_counts()"
      ],
      "execution_count": 45,
      "outputs": [
        {
          "output_type": "execute_result",
          "data": {
            "text/plain": [
              "1    101\n",
              "0     99\n",
              "Name: Label, dtype: int64"
            ]
          },
          "metadata": {},
          "execution_count": 45
        }
      ]
    },
    {
      "cell_type": "markdown",
      "metadata": {
        "id": "8mh13vyVL7Cp"
      },
      "source": [
        "**Scoring**"
      ]
    },
    {
      "cell_type": "code",
      "metadata": {
        "id": "7tz3h0YgL8u6"
      },
      "source": [
        "from sklearn.metrics import confusion_matrix,classification_report\n",
        "import seaborn as sns"
      ],
      "execution_count": 46,
      "outputs": []
    },
    {
      "cell_type": "code",
      "metadata": {
        "id": "ptQCIDmoMBV9",
        "colab": {
          "base_uri": "https://localhost:8080/",
          "height": 313
        },
        "outputId": "db76986f-7c54-4ef8-db06-fe09bc0bcbfc"
      },
      "source": [
        "cm=confusion_matrix(data_test.Label,y_pred)\n",
        "ax=sns.heatmap(cm,annot=True,cmap='Blues',fmt='')\n",
        "ax.set_title('Confusion Matrix')\n",
        "ax.set_xlabel('y_test')\n",
        "ax.set_ylabel('y_pred')"
      ],
      "execution_count": 47,
      "outputs": [
        {
          "output_type": "execute_result",
          "data": {
            "text/plain": [
              "Text(33.0, 0.5, 'y_pred')"
            ]
          },
          "metadata": {},
          "execution_count": 47
        },
        {
          "output_type": "display_data",
          "data": {
            "image/png": "[encoded data removed]",
            "text/plain": [
              "<Figure size 432x288 with 2 Axes>"
            ]
          },
          "metadata": {
            "needs_background": "light"
          }
        }
      ]
    },
    {
      "cell_type": "code",
      "metadata": {
        "id": "W0UMIVlPMIeq",
        "colab": {
          "base_uri": "https://localhost:8080/"
        },
        "outputId": "9b7b32cb-8ed8-49a8-de8d-7066080f6d09"
      },
      "source": [
        "print(classification_report(data_test.Label,y_pred))"
      ],
      "execution_count": 48,
      "outputs": [
        {
          "output_type": "stream",
          "text": [
            "              precision    recall  f1-score   support\n",
            "\n",
            "           0       0.52      0.67      0.59        99\n",
            "           1       0.55      0.41      0.47       101\n",
            "\n",
            "    accuracy                           0.54       200\n",
            "   macro avg       0.54      0.54      0.53       200\n",
            "weighted avg       0.54      0.54      0.53       200\n",
            "\n"
          ],
          "name": "stdout"
        }
      ]
    },
    {
      "cell_type": "markdown",
      "metadata": {
        "id": "wG6_2gGCNKfc"
      },
      "source": [
        "**Klasifikasi Teks Ujicoba**"
      ]
    },
    {
      "cell_type": "code",
      "metadata": {
        "id": "QoQiVhiUQAQi"
      },
      "source": [
        "def text_preprocessing(text):\n",
        "  df['preprocess_awal'] = text.apply(preprocessTweets)\n",
        "  df['tokenkan'] = df['preprocess_awal'].apply(tokenkan)\n",
        "  df['normalized'] = df['tokenkan'].apply(normalized_term)\n",
        "  df['normalized'] = df['normalized'].apply(stopwords_removal)\n",
        "\n",
        "  # create stemmer\n",
        "  factory = StemmerFactory()\n",
        "  stemmer = factory.create_stemmer()\n",
        "\n",
        "  # stemmed\n",
        "  def stemmed_wrapper(term):\n",
        "      return stemmer.stem(term)\n",
        "\n",
        "  term_dict = {}\n",
        "\n",
        "  for document in df['normalized']:\n",
        "      for term in document:\n",
        "          if term not in term_dict:\n",
        "              term_dict[term] = ' '\n",
        "              \n",
        "  #print(len(term_dict))\n",
        "  print(\"------------------------\")\n",
        "\n",
        "  for term in term_dict:\n",
        "      term_dict[term] = stemmed_wrapper(term)\n",
        "      print(term,\":\" ,term_dict[term])\n",
        "      \n",
        "  #print(term_dict)\n",
        "  print(\"------------------------\")\n",
        "\n",
        "\n",
        "  # apply stemmed term to dataframe\n",
        "  def get_stemmed_term(document):\n",
        "      return [term_dict[term] for term in document]\n",
        "\n",
        "  df['stemmed'] = df['normalized'].swifter.apply(get_stemmed_term)\n",
        "  #print(df['stemmed'])\n",
        "\n",
        "  def remove_punct(text):\n",
        "    text_nopunct = ''\n",
        "    text_nopunct = re.sub('['+string.punctuation+']', '', text)\n",
        "    return text_nopunct\n",
        "\n",
        "  df['stemmed'] = df['stemmed'].astype(str)\n",
        "  df['stemmed'] = df['stemmed'].apply(remove_punct)"
      ],
      "execution_count": 49,
      "outputs": []
    },
    {
      "cell_type": "code",
      "metadata": {
        "id": "9L8bg1sPI-c-",
        "colab": {
          "base_uri": "https://localhost:8080/",
          "height": 80
        },
        "outputId": "14ba7c64-3a1f-4b97-c006-82f7d5750c71"
      },
      "source": [
        "X = 'Depresi kembali muncul, tolong pergi dari diriku. Sepertinya aku butuh tidur dan obat penenang lagi. Ada yang jual?dm please'\n",
        "datax = {'Postingan':[X]}\n",
        "df = pd.DataFrame(datax)\n",
        "df.head()"
      ],
      "execution_count": 50,
      "outputs": [
        {
          "output_type": "execute_result",
          "data": {
            "text/html": [
              "<div>\n",
              "<style scoped>\n",
              "    .dataframe tbody tr th:only-of-type {\n",
              "        vertical-align: middle;\n",
              "    }\n",
              "\n",
              "    .dataframe tbody tr th {\n",
              "        vertical-align: top;\n",
              "    }\n",
              "\n",
              "    .dataframe thead th {\n",
              "        text-align: right;\n",
              "    }\n",
              "</style>\n",
              "<table border=\"1\" class=\"dataframe\">\n",
              "  <thead>\n",
              "    <tr style=\"text-align: right;\">\n",
              "      <th></th>\n",
              "      <th>Postingan</th>\n",
              "    </tr>\n",
              "  </thead>\n",
              "  <tbody>\n",
              "    <tr>\n",
              "      <th>0</th>\n",
              "      <td>Depresi kembali muncul, tolong pergi dari diri...</td>\n",
              "    </tr>\n",
              "  </tbody>\n",
              "</table>\n",
              "</div>"
            ],
            "text/plain": [
              "                                           Postingan\n",
              "0  Depresi kembali muncul, tolong pergi dari diri..."
            ]
          },
          "metadata": {},
          "execution_count": 50
        }
      ]
    },
    {
      "cell_type": "code",
      "metadata": {
        "id": "NDAdnjnQRAC1",
        "colab": {
          "base_uri": "https://localhost:8080/",
          "height": 350,
          "referenced_widgets": [
            "df8591f7213e4e648bdbad3f7f81f2ff",
            "9c314523612144da8a2a393b0f777b9a",
            "4fd9f2971a814666b9980b1929de7444",
            "c030e592c0bc44f8818e398a032d4155",
            "27b9b65032ee4912b4ff43c0a5f03060",
            "568365ce45144a05983579ddd7990841",
            "bea6eb72c214450ea359b2eca505c2ae",
            "e83787aa27e743cabcbb6e734dbee099",
            "ce61d1a16047402a9f5ae3f0339359a8",
            "2007218032084062bcb89691f0e7f18d",
            "d47efd9ae8384d00ad0454d7274417fb"
          ]
        },
        "outputId": "a6798646-81b8-43c1-9ad9-ab90ad940ae8"
      },
      "source": [
        "text_preprocessing(df['Postingan'])\n",
        "df.head()"
      ],
      "execution_count": 51,
      "outputs": [
        {
          "output_type": "stream",
          "text": [
            "------------------------\n",
            "depresi : depresi\n",
            "muncul : muncul\n",
            "tolong : tolong\n",
            "pergi : pergi\n",
            "diriku : diri\n",
            "butuh : butuh\n",
            "tidur : tidur\n",
            "obat : obat\n",
            "penenang : tenang\n",
            "jual : jual\n",
            "pesan : pesan\n",
            "------------------------\n"
          ],
          "name": "stdout"
        },
        {
          "output_type": "display_data",
          "data": {
            "application/vnd.jupyter.widget-view+json": {
              "model_id": "df8591f7213e4e648bdbad3f7f81f2ff",
              "version_minor": 0,
              "version_major": 2
            },
            "text/plain": [
              "Pandas Apply:   0%|          | 0/1 [00:00<?, ?it/s]"
            ]
          },
          "metadata": {}
        },
        {
          "output_type": "execute_result",
          "data": {
            "text/html": [
              "<div>\n",
              "<style scoped>\n",
              "    .dataframe tbody tr th:only-of-type {\n",
              "        vertical-align: middle;\n",
              "    }\n",
              "\n",
              "    .dataframe tbody tr th {\n",
              "        vertical-align: top;\n",
              "    }\n",
              "\n",
              "    .dataframe thead th {\n",
              "        text-align: right;\n",
              "    }\n",
              "</style>\n",
              "<table border=\"1\" class=\"dataframe\">\n",
              "  <thead>\n",
              "    <tr style=\"text-align: right;\">\n",
              "      <th></th>\n",
              "      <th>Postingan</th>\n",
              "      <th>preprocess_awal</th>\n",
              "      <th>tokenkan</th>\n",
              "      <th>normalized</th>\n",
              "      <th>stemmed</th>\n",
              "    </tr>\n",
              "  </thead>\n",
              "  <tbody>\n",
              "    <tr>\n",
              "      <th>0</th>\n",
              "      <td>Depresi kembali muncul, tolong pergi dari diri...</td>\n",
              "      <td>depresi kembali muncul tolong pergi dari dirik...</td>\n",
              "      <td>[depresi, kembali, muncul, tolong, pergi, dari...</td>\n",
              "      <td>[depresi, muncul, tolong, pergi, diriku, butuh...</td>\n",
              "      <td>depresi muncul tolong pergi diri butuh tidur o...</td>\n",
              "    </tr>\n",
              "  </tbody>\n",
              "</table>\n",
              "</div>"
            ],
            "text/plain": [
              "                                           Postingan  ...                                            stemmed\n",
              "0  Depresi kembali muncul, tolong pergi dari diri...  ...  depresi muncul tolong pergi diri butuh tidur o...\n",
              "\n",
              "[1 rows x 5 columns]"
            ]
          },
          "metadata": {},
          "execution_count": 51
        }
      ]
    },
    {
      "cell_type": "code",
      "metadata": {
        "id": "oUBG0edZNHsn",
        "colab": {
          "base_uri": "https://localhost:8080/"
        },
        "outputId": "6b062156-15a3-4d31-c72a-95257fc69faa"
      },
      "source": [
        "X_sample = tokenizer.texts_to_sequences(df['stemmed'])\n",
        "print(X_sample)\n",
        "X_sample = pad_sequences(X_sample, maxlen=MAX_SEQUENCE_LENGTH)\n",
        "\n",
        "y_sample = new_model.predict(X_sample).flatten().tolist()\n",
        "hasil = labels[np.argmax(y_sample)]\n",
        "print(hasil)\n",
        "if hasil == 0 :\n",
        "  print('tidak mengidap gangguan psikologis')\n",
        "else:\n",
        "  print('mengidap gangguan psikologis')"
      ],
      "execution_count": 52,
      "outputs": [
        {
          "output_type": "stream",
          "text": [
            "[[1, 168, 38, 18, 23, 4, 46, 1720, 219, 101, 38]]\n",
            "1\n",
            "mengidap gangguan psikologis\n"
          ],
          "name": "stdout"
        }
      ]
    },
    {
      "cell_type": "code",
      "metadata": {
        "id": "xcEZF1Hnf95B"
      },
      "source": [
        "#df = pd.read_excel('drive/MyDrive/data_psyco/Copy_of_test_data_20.xlsx').astype(str)"
      ],
      "execution_count": 53,
      "outputs": []
    },
    {
      "cell_type": "code",
      "metadata": {
        "id": "gsj9pxWfuXOE"
      },
      "source": [
        "#text_preprocessing(df['Postingan_Original'])\n",
        "#df.head()"
      ],
      "execution_count": 54,
      "outputs": []
    },
    {
      "cell_type": "code",
      "metadata": {
        "id": "Dv6LXJzA4Jx2"
      },
      "source": [
        "#test_sequences_1 = tokenizer.texts_to_sequences(df[\"Postingan_Preprocessed\"].tolist())\n",
        "#test_cnn_data_1 = pad_sequences(test_sequences_1, maxlen=MAX_SEQUENCE_LENGTH)\n",
        "#print(test_cnn_data_1)"
      ],
      "execution_count": 55,
      "outputs": []
    },
    {
      "cell_type": "code",
      "metadata": {
        "id": "11QMScbuHuAE"
      },
      "source": [
        "def dicoba(text):\n",
        "  return new_model.predict(test_cnn_data_1)\n",
        "\n",
        "def dicoba_2(text):\n",
        "  i = 0\n",
        "  for y in text:\n",
        "    hasil = labels[np.argmax(y)]\n",
        "    #print(hasil)\n",
        "    if hasil == 0:\n",
        "      df.loc[i, 'Predicted'] = 'tidak mengidap gangguan psikologis'\n",
        "      i = i+1\n",
        "    else:\n",
        "      df.loc[i, 'Predicted'] = 'mengidap gangguan psikologis'\n",
        "      i = i+1"
      ],
      "execution_count": 56,
      "outputs": []
    },
    {
      "cell_type": "code",
      "metadata": {
        "id": "hrnOnZNw3rfl"
      },
      "source": [
        "#hasil_1 = dicoba(test_cnn_data_1)\n",
        "#print(hasil_1)\n",
        "#dicoba_2(hasil_1)"
      ],
      "execution_count": 57,
      "outputs": []
    },
    {
      "cell_type": "code",
      "metadata": {
        "id": "8vcj0pOUoaFs"
      },
      "source": [
        "#df.head(20)"
      ],
      "execution_count": 58,
      "outputs": []
    }
  ]
}