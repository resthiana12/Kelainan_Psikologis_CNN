{
  "nbformat": 4,
  "nbformat_minor": 0,
  "metadata": {
    "colab": {
      "name": "98_Depresi_1000.ipynb",
      "provenance": [],
      "collapsed_sections": [],
      "mount_file_id": "1eXZYwpgYu90QOf8Zeuz8TfDw3cVdkzTh",
      "authorship_tag": "ABX9TyN1igtWwMZwiXU2zKTZAbQG",
      "include_colab_link": true
    },
    "kernelspec": {
      "display_name": "Python 3",
      "name": "python3"
    },
    "language_info": {
      "name": "python"
    },
    "widgets": {
      "application/vnd.jupyter.widget-state+json": {
        "b6bcd2c1ae944e099ee2b76bf2b5125a": {
          "model_module": "@jupyter-widgets/controls",
          "model_name": "HBoxModel",
          "model_module_version": "1.5.0",
          "state": {
            "_view_name": "HBoxView",
            "_dom_classes": [],
            "_model_name": "HBoxModel",
            "_view_module": "@jupyter-widgets/controls",
            "_model_module_version": "1.5.0",
            "_view_count": null,
            "_view_module_version": "1.5.0",
            "box_style": "",
            "layout": "IPY_MODEL_5a5c2dbe52014e5db0e1bf78466f5d52",
            "_model_module": "@jupyter-widgets/controls",
            "children": [
              "IPY_MODEL_025c565058ca4fe29a1e29d44bbbe503",
              "IPY_MODEL_578ee9fd0f9047dfb7a0c436a72ab508",
              "IPY_MODEL_6d2b86de74cb4d47b10978b8045bf0e6"
            ]
          }
        },
        "5a5c2dbe52014e5db0e1bf78466f5d52": {
          "model_module": "@jupyter-widgets/base",
          "model_name": "LayoutModel",
          "model_module_version": "1.2.0",
          "state": {
            "_view_name": "LayoutView",
            "grid_template_rows": null,
            "right": null,
            "justify_content": null,
            "_view_module": "@jupyter-widgets/base",
            "overflow": null,
            "_model_module_version": "1.2.0",
            "_view_count": null,
            "flex_flow": null,
            "width": null,
            "min_width": null,
            "border": null,
            "align_items": null,
            "bottom": null,
            "_model_module": "@jupyter-widgets/base",
            "top": null,
            "grid_column": null,
            "overflow_y": null,
            "overflow_x": null,
            "grid_auto_flow": null,
            "grid_area": null,
            "grid_template_columns": null,
            "flex": null,
            "_model_name": "LayoutModel",
            "justify_items": null,
            "grid_row": null,
            "max_height": null,
            "align_content": null,
            "visibility": null,
            "align_self": null,
            "height": null,
            "min_height": null,
            "padding": null,
            "grid_auto_rows": null,
            "grid_gap": null,
            "max_width": null,
            "order": null,
            "_view_module_version": "1.2.0",
            "grid_template_areas": null,
            "object_position": null,
            "object_fit": null,
            "grid_auto_columns": null,
            "margin": null,
            "display": null,
            "left": null
          }
        },
        "025c565058ca4fe29a1e29d44bbbe503": {
          "model_module": "@jupyter-widgets/controls",
          "model_name": "HTMLModel",
          "model_module_version": "1.5.0",
          "state": {
            "_view_name": "HTMLView",
            "style": "IPY_MODEL_9516fca00ecb4541b09665d9430f1e9b",
            "_dom_classes": [],
            "description": "",
            "_model_name": "HTMLModel",
            "placeholder": "​",
            "_view_module": "@jupyter-widgets/controls",
            "_model_module_version": "1.5.0",
            "value": "Pandas Apply: 100%",
            "_view_count": null,
            "_view_module_version": "1.5.0",
            "description_tooltip": null,
            "_model_module": "@jupyter-widgets/controls",
            "layout": "IPY_MODEL_3a5ae1fab73b4c9eb63bda358b533f7f"
          }
        },
        "578ee9fd0f9047dfb7a0c436a72ab508": {
          "model_module": "@jupyter-widgets/controls",
          "model_name": "FloatProgressModel",
          "model_module_version": "1.5.0",
          "state": {
            "_view_name": "ProgressView",
            "style": "IPY_MODEL_5cf24c060ff64aca8cdcbbab4ef303a1",
            "_dom_classes": [],
            "description": "",
            "_model_name": "FloatProgressModel",
            "bar_style": "success",
            "max": 1,
            "_view_module": "@jupyter-widgets/controls",
            "_model_module_version": "1.5.0",
            "value": 1,
            "_view_count": null,
            "_view_module_version": "1.5.0",
            "orientation": "horizontal",
            "min": 0,
            "description_tooltip": null,
            "_model_module": "@jupyter-widgets/controls",
            "layout": "IPY_MODEL_e15d80ab00a74be4b91f06610cb6264c"
          }
        },
        "6d2b86de74cb4d47b10978b8045bf0e6": {
          "model_module": "@jupyter-widgets/controls",
          "model_name": "HTMLModel",
          "model_module_version": "1.5.0",
          "state": {
            "_view_name": "HTMLView",
            "style": "IPY_MODEL_95589c93bd714b64918226ed451898fc",
            "_dom_classes": [],
            "description": "",
            "_model_name": "HTMLModel",
            "placeholder": "​",
            "_view_module": "@jupyter-widgets/controls",
            "_model_module_version": "1.5.0",
            "value": " 1/1 [00:00&lt;00:00, 22.39it/s]",
            "_view_count": null,
            "_view_module_version": "1.5.0",
            "description_tooltip": null,
            "_model_module": "@jupyter-widgets/controls",
            "layout": "IPY_MODEL_a682a21bd3be407a9679e55cbddb4676"
          }
        },
        "9516fca00ecb4541b09665d9430f1e9b": {
          "model_module": "@jupyter-widgets/controls",
          "model_name": "DescriptionStyleModel",
          "model_module_version": "1.5.0",
          "state": {
            "_view_name": "StyleView",
            "_model_name": "DescriptionStyleModel",
            "description_width": "",
            "_view_module": "@jupyter-widgets/base",
            "_model_module_version": "1.5.0",
            "_view_count": null,
            "_view_module_version": "1.2.0",
            "_model_module": "@jupyter-widgets/controls"
          }
        },
        "3a5ae1fab73b4c9eb63bda358b533f7f": {
          "model_module": "@jupyter-widgets/base",
          "model_name": "LayoutModel",
          "model_module_version": "1.2.0",
          "state": {
            "_view_name": "LayoutView",
            "grid_template_rows": null,
            "right": null,
            "justify_content": null,
            "_view_module": "@jupyter-widgets/base",
            "overflow": null,
            "_model_module_version": "1.2.0",
            "_view_count": null,
            "flex_flow": null,
            "width": null,
            "min_width": null,
            "border": null,
            "align_items": null,
            "bottom": null,
            "_model_module": "@jupyter-widgets/base",
            "top": null,
            "grid_column": null,
            "overflow_y": null,
            "overflow_x": null,
            "grid_auto_flow": null,
            "grid_area": null,
            "grid_template_columns": null,
            "flex": null,
            "_model_name": "LayoutModel",
            "justify_items": null,
            "grid_row": null,
            "max_height": null,
            "align_content": null,
            "visibility": null,
            "align_self": null,
            "height": null,
            "min_height": null,
            "padding": null,
            "grid_auto_rows": null,
            "grid_gap": null,
            "max_width": null,
            "order": null,
            "_view_module_version": "1.2.0",
            "grid_template_areas": null,
            "object_position": null,
            "object_fit": null,
            "grid_auto_columns": null,
            "margin": null,
            "display": null,
            "left": null
          }
        },
        "5cf24c060ff64aca8cdcbbab4ef303a1": {
          "model_module": "@jupyter-widgets/controls",
          "model_name": "ProgressStyleModel",
          "model_module_version": "1.5.0",
          "state": {
            "_view_name": "StyleView",
            "_model_name": "ProgressStyleModel",
            "description_width": "",
            "_view_module": "@jupyter-widgets/base",
            "_model_module_version": "1.5.0",
            "_view_count": null,
            "_view_module_version": "1.2.0",
            "bar_color": null,
            "_model_module": "@jupyter-widgets/controls"
          }
        },
        "e15d80ab00a74be4b91f06610cb6264c": {
          "model_module": "@jupyter-widgets/base",
          "model_name": "LayoutModel",
          "model_module_version": "1.2.0",
          "state": {
            "_view_name": "LayoutView",
            "grid_template_rows": null,
            "right": null,
            "justify_content": null,
            "_view_module": "@jupyter-widgets/base",
            "overflow": null,
            "_model_module_version": "1.2.0",
            "_view_count": null,
            "flex_flow": null,
            "width": null,
            "min_width": null,
            "border": null,
            "align_items": null,
            "bottom": null,
            "_model_module": "@jupyter-widgets/base",
            "top": null,
            "grid_column": null,
            "overflow_y": null,
            "overflow_x": null,
            "grid_auto_flow": null,
            "grid_area": null,
            "grid_template_columns": null,
            "flex": null,
            "_model_name": "LayoutModel",
            "justify_items": null,
            "grid_row": null,
            "max_height": null,
            "align_content": null,
            "visibility": null,
            "align_self": null,
            "height": null,
            "min_height": null,
            "padding": null,
            "grid_auto_rows": null,
            "grid_gap": null,
            "max_width": null,
            "order": null,
            "_view_module_version": "1.2.0",
            "grid_template_areas": null,
            "object_position": null,
            "object_fit": null,
            "grid_auto_columns": null,
            "margin": null,
            "display": null,
            "left": null
          }
        },
        "95589c93bd714b64918226ed451898fc": {
          "model_module": "@jupyter-widgets/controls",
          "model_name": "DescriptionStyleModel",
          "model_module_version": "1.5.0",
          "state": {
            "_view_name": "StyleView",
            "_model_name": "DescriptionStyleModel",
            "description_width": "",
            "_view_module": "@jupyter-widgets/base",
            "_model_module_version": "1.5.0",
            "_view_count": null,
            "_view_module_version": "1.2.0",
            "_model_module": "@jupyter-widgets/controls"
          }
        },
        "a682a21bd3be407a9679e55cbddb4676": {
          "model_module": "@jupyter-widgets/base",
          "model_name": "LayoutModel",
          "model_module_version": "1.2.0",
          "state": {
            "_view_name": "LayoutView",
            "grid_template_rows": null,
            "right": null,
            "justify_content": null,
            "_view_module": "@jupyter-widgets/base",
            "overflow": null,
            "_model_module_version": "1.2.0",
            "_view_count": null,
            "flex_flow": null,
            "width": null,
            "min_width": null,
            "border": null,
            "align_items": null,
            "bottom": null,
            "_model_module": "@jupyter-widgets/base",
            "top": null,
            "grid_column": null,
            "overflow_y": null,
            "overflow_x": null,
            "grid_auto_flow": null,
            "grid_area": null,
            "grid_template_columns": null,
            "flex": null,
            "_model_name": "LayoutModel",
            "justify_items": null,
            "grid_row": null,
            "max_height": null,
            "align_content": null,
            "visibility": null,
            "align_self": null,
            "height": null,
            "min_height": null,
            "padding": null,
            "grid_auto_rows": null,
            "grid_gap": null,
            "max_width": null,
            "order": null,
            "_view_module_version": "1.2.0",
            "grid_template_areas": null,
            "object_position": null,
            "object_fit": null,
            "grid_auto_columns": null,
            "margin": null,
            "display": null,
            "left": null
          }
        }
      }
    }
  },
  "cells": [
    {
      "cell_type": "markdown",
      "metadata": {
        "id": "view-in-github",
        "colab_type": "text"
      },
      "source": [
        "<a href=\"https://colab.research.google.com/github/resthiana12/Kelainan_Psikologis_CNN/blob/main/98_Depresi_1000_suicide_4_fix_prepros.ipynb\" target=\"_parent\"><img src=\"https://colab.research.google.com/assets/colab-badge.svg\" alt=\"Open In Colab\"/></a>"
      ]
    },
    {
      "cell_type": "markdown",
      "metadata": {
        "id": "6A_QnXzyGKfb"
      },
      "source": [
        "**#Install Package yang Dibutuhkan**"
      ]
    },
    {
      "cell_type": "code",
      "metadata": {
        "colab": {
          "base_uri": "https://localhost:8080/"
        },
        "id": "jE7-3YxZFucC",
        "outputId": "c13ca94d-6f1b-432d-80e8-876fad36224f"
      },
      "source": [
        "pip install emot"
      ],
      "execution_count": 1,
      "outputs": [
        {
          "output_type": "stream",
          "name": "stdout",
          "text": [
            "Requirement already satisfied: emot in /usr/local/lib/python3.7/dist-packages (3.1)\n"
          ]
        }
      ]
    },
    {
      "cell_type": "code",
      "metadata": {
        "colab": {
          "base_uri": "https://localhost:8080/"
        },
        "id": "jc7IL70qGcn5",
        "outputId": "27ed3f4c-8a31-41e5-96f2-12aa9a96c358"
      },
      "source": [
        "pip install emoji"
      ],
      "execution_count": 2,
      "outputs": [
        {
          "output_type": "stream",
          "name": "stdout",
          "text": [
            "Requirement already satisfied: emoji in /usr/local/lib/python3.7/dist-packages (1.5.0)\n"
          ]
        }
      ]
    },
    {
      "cell_type": "code",
      "metadata": {
        "colab": {
          "base_uri": "https://localhost:8080/"
        },
        "id": "QwaReWdEGjFP",
        "outputId": "ce09a2ee-7fe5-42b9-edee-f34f6eed84cd"
      },
      "source": [
        "pip install sastrawi"
      ],
      "execution_count": 3,
      "outputs": [
        {
          "output_type": "stream",
          "name": "stdout",
          "text": [
            "Requirement already satisfied: sastrawi in /usr/local/lib/python3.7/dist-packages (1.0.1)\n"
          ]
        }
      ]
    },
    {
      "cell_type": "code",
      "metadata": {
        "colab": {
          "base_uri": "https://localhost:8080/"
        },
        "id": "DctZrsGDGnnq",
        "outputId": "f5927d04-bd6c-492c-bd79-8088fa30389e"
      },
      "source": [
        "pip install swifter"
      ],
      "execution_count": 4,
      "outputs": [
        {
          "output_type": "stream",
          "name": "stdout",
          "text": [
            "Requirement already satisfied: swifter in /usr/local/lib/python3.7/dist-packages (1.0.9)\n",
            "Requirement already satisfied: parso>0.4.0 in /usr/local/lib/python3.7/dist-packages (from swifter) (0.8.2)\n",
            "Requirement already satisfied: ipywidgets>=7.0.0 in /usr/local/lib/python3.7/dist-packages (from swifter) (7.6.5)\n",
            "Requirement already satisfied: tqdm>=4.33.0 in /usr/local/lib/python3.7/dist-packages (from swifter) (4.62.2)\n",
            "Requirement already satisfied: psutil>=5.6.6 in /usr/local/lib/python3.7/dist-packages (from swifter) (5.8.0)\n",
            "Requirement already satisfied: bleach>=3.1.1 in /usr/local/lib/python3.7/dist-packages (from swifter) (4.1.0)\n",
            "Requirement already satisfied: dask[dataframe]>=2.10.0 in /usr/local/lib/python3.7/dist-packages (from swifter) (2.12.0)\n",
            "Requirement already satisfied: pandas>=1.0.0 in /usr/local/lib/python3.7/dist-packages (from swifter) (1.1.5)\n",
            "Requirement already satisfied: cloudpickle>=0.2.2 in /usr/local/lib/python3.7/dist-packages (from swifter) (1.3.0)\n",
            "Requirement already satisfied: packaging in /usr/local/lib/python3.7/dist-packages (from bleach>=3.1.1->swifter) (21.0)\n",
            "Requirement already satisfied: six>=1.9.0 in /usr/local/lib/python3.7/dist-packages (from bleach>=3.1.1->swifter) (1.15.0)\n",
            "Requirement already satisfied: webencodings in /usr/local/lib/python3.7/dist-packages (from bleach>=3.1.1->swifter) (0.5.1)\n",
            "Requirement already satisfied: numpy>=1.13.0 in /usr/local/lib/python3.7/dist-packages (from dask[dataframe]>=2.10.0->swifter) (1.19.5)\n",
            "Requirement already satisfied: fsspec>=0.6.0 in /usr/local/lib/python3.7/dist-packages (from dask[dataframe]>=2.10.0->swifter) (2021.9.0)\n",
            "Requirement already satisfied: partd>=0.3.10 in /usr/local/lib/python3.7/dist-packages (from dask[dataframe]>=2.10.0->swifter) (1.2.0)\n",
            "Requirement already satisfied: toolz>=0.7.3 in /usr/local/lib/python3.7/dist-packages (from dask[dataframe]>=2.10.0->swifter) (0.11.1)\n",
            "Requirement already satisfied: traitlets>=4.3.1 in /usr/local/lib/python3.7/dist-packages (from ipywidgets>=7.0.0->swifter) (5.1.0)\n",
            "Requirement already satisfied: ipython>=4.0.0 in /usr/local/lib/python3.7/dist-packages (from ipywidgets>=7.0.0->swifter) (5.5.0)\n",
            "Requirement already satisfied: ipython-genutils~=0.2.0 in /usr/local/lib/python3.7/dist-packages (from ipywidgets>=7.0.0->swifter) (0.2.0)\n",
            "Requirement already satisfied: jupyterlab-widgets>=1.0.0 in /usr/local/lib/python3.7/dist-packages (from ipywidgets>=7.0.0->swifter) (1.0.2)\n",
            "Requirement already satisfied: widgetsnbextension~=3.5.0 in /usr/local/lib/python3.7/dist-packages (from ipywidgets>=7.0.0->swifter) (3.5.1)\n",
            "Requirement already satisfied: ipykernel>=4.5.1 in /usr/local/lib/python3.7/dist-packages (from ipywidgets>=7.0.0->swifter) (4.10.1)\n",
            "Requirement already satisfied: nbformat>=4.2.0 in /usr/local/lib/python3.7/dist-packages (from ipywidgets>=7.0.0->swifter) (5.1.3)\n",
            "Requirement already satisfied: tornado>=4.0 in /usr/local/lib/python3.7/dist-packages (from ipykernel>=4.5.1->ipywidgets>=7.0.0->swifter) (5.1.1)\n",
            "Requirement already satisfied: jupyter-client in /usr/local/lib/python3.7/dist-packages (from ipykernel>=4.5.1->ipywidgets>=7.0.0->swifter) (5.3.5)\n",
            "Requirement already satisfied: setuptools>=18.5 in /usr/local/lib/python3.7/dist-packages (from ipython>=4.0.0->ipywidgets>=7.0.0->swifter) (57.4.0)\n",
            "Requirement already satisfied: decorator in /usr/local/lib/python3.7/dist-packages (from ipython>=4.0.0->ipywidgets>=7.0.0->swifter) (4.4.2)\n",
            "Requirement already satisfied: pickleshare in /usr/local/lib/python3.7/dist-packages (from ipython>=4.0.0->ipywidgets>=7.0.0->swifter) (0.7.5)\n",
            "Requirement already satisfied: simplegeneric>0.8 in /usr/local/lib/python3.7/dist-packages (from ipython>=4.0.0->ipywidgets>=7.0.0->swifter) (0.8.1)\n",
            "Requirement already satisfied: prompt-toolkit<2.0.0,>=1.0.4 in /usr/local/lib/python3.7/dist-packages (from ipython>=4.0.0->ipywidgets>=7.0.0->swifter) (1.0.18)\n",
            "Requirement already satisfied: pygments in /usr/local/lib/python3.7/dist-packages (from ipython>=4.0.0->ipywidgets>=7.0.0->swifter) (2.6.1)\n",
            "Requirement already satisfied: pexpect in /usr/local/lib/python3.7/dist-packages (from ipython>=4.0.0->ipywidgets>=7.0.0->swifter) (4.8.0)\n",
            "Requirement already satisfied: jsonschema!=2.5.0,>=2.4 in /usr/local/lib/python3.7/dist-packages (from nbformat>=4.2.0->ipywidgets>=7.0.0->swifter) (2.6.0)\n",
            "Requirement already satisfied: jupyter-core in /usr/local/lib/python3.7/dist-packages (from nbformat>=4.2.0->ipywidgets>=7.0.0->swifter) (4.7.1)\n",
            "Requirement already satisfied: python-dateutil>=2.7.3 in /usr/local/lib/python3.7/dist-packages (from pandas>=1.0.0->swifter) (2.8.2)\n",
            "Requirement already satisfied: pytz>=2017.2 in /usr/local/lib/python3.7/dist-packages (from pandas>=1.0.0->swifter) (2018.9)\n",
            "Requirement already satisfied: locket in /usr/local/lib/python3.7/dist-packages (from partd>=0.3.10->dask[dataframe]>=2.10.0->swifter) (0.2.1)\n",
            "Requirement already satisfied: wcwidth in /usr/local/lib/python3.7/dist-packages (from prompt-toolkit<2.0.0,>=1.0.4->ipython>=4.0.0->ipywidgets>=7.0.0->swifter) (0.2.5)\n",
            "Requirement already satisfied: notebook>=4.4.1 in /usr/local/lib/python3.7/dist-packages (from widgetsnbextension~=3.5.0->ipywidgets>=7.0.0->swifter) (5.3.1)\n",
            "Requirement already satisfied: nbconvert in /usr/local/lib/python3.7/dist-packages (from notebook>=4.4.1->widgetsnbextension~=3.5.0->ipywidgets>=7.0.0->swifter) (5.6.1)\n",
            "Requirement already satisfied: Send2Trash in /usr/local/lib/python3.7/dist-packages (from notebook>=4.4.1->widgetsnbextension~=3.5.0->ipywidgets>=7.0.0->swifter) (1.8.0)\n",
            "Requirement already satisfied: terminado>=0.8.1 in /usr/local/lib/python3.7/dist-packages (from notebook>=4.4.1->widgetsnbextension~=3.5.0->ipywidgets>=7.0.0->swifter) (0.12.1)\n",
            "Requirement already satisfied: jinja2 in /usr/local/lib/python3.7/dist-packages (from notebook>=4.4.1->widgetsnbextension~=3.5.0->ipywidgets>=7.0.0->swifter) (2.11.3)\n",
            "Requirement already satisfied: pyzmq>=13 in /usr/local/lib/python3.7/dist-packages (from jupyter-client->ipykernel>=4.5.1->ipywidgets>=7.0.0->swifter) (22.3.0)\n",
            "Requirement already satisfied: ptyprocess in /usr/local/lib/python3.7/dist-packages (from terminado>=0.8.1->notebook>=4.4.1->widgetsnbextension~=3.5.0->ipywidgets>=7.0.0->swifter) (0.7.0)\n",
            "Requirement already satisfied: MarkupSafe>=0.23 in /usr/local/lib/python3.7/dist-packages (from jinja2->notebook>=4.4.1->widgetsnbextension~=3.5.0->ipywidgets>=7.0.0->swifter) (2.0.1)\n",
            "Requirement already satisfied: mistune<2,>=0.8.1 in /usr/local/lib/python3.7/dist-packages (from nbconvert->notebook>=4.4.1->widgetsnbextension~=3.5.0->ipywidgets>=7.0.0->swifter) (0.8.4)\n",
            "Requirement already satisfied: defusedxml in /usr/local/lib/python3.7/dist-packages (from nbconvert->notebook>=4.4.1->widgetsnbextension~=3.5.0->ipywidgets>=7.0.0->swifter) (0.7.1)\n",
            "Requirement already satisfied: testpath in /usr/local/lib/python3.7/dist-packages (from nbconvert->notebook>=4.4.1->widgetsnbextension~=3.5.0->ipywidgets>=7.0.0->swifter) (0.5.0)\n",
            "Requirement already satisfied: entrypoints>=0.2.2 in /usr/local/lib/python3.7/dist-packages (from nbconvert->notebook>=4.4.1->widgetsnbextension~=3.5.0->ipywidgets>=7.0.0->swifter) (0.3)\n",
            "Requirement already satisfied: pandocfilters>=1.4.1 in /usr/local/lib/python3.7/dist-packages (from nbconvert->notebook>=4.4.1->widgetsnbextension~=3.5.0->ipywidgets>=7.0.0->swifter) (1.5.0)\n",
            "Requirement already satisfied: pyparsing>=2.0.2 in /usr/local/lib/python3.7/dist-packages (from packaging->bleach>=3.1.1->swifter) (2.4.7)\n"
          ]
        }
      ]
    },
    {
      "cell_type": "markdown",
      "metadata": {
        "id": "gHNR4IAlHFAf"
      },
      "source": [
        "**#Load Library**"
      ]
    },
    {
      "cell_type": "code",
      "metadata": {
        "colab": {
          "base_uri": "https://localhost:8080/"
        },
        "id": "Tby6RCM4lZoZ",
        "outputId": "b510f266-9c95-448f-a477-7aba760d165a"
      },
      "source": [
        "#load library\n",
        "import nltk                             \n",
        "import matplotlib.pyplot as plt           \n",
        "import random  \n",
        "nltk.download('stopwords')\n",
        "nltk.download('punkt')\n",
        "nltk.download('words')\n",
        "import numpy as np\n",
        "import pandas as pd\n",
        "import re                                  \n",
        "import string                             \n",
        "from nltk.corpus import stopwords \n",
        "from nltk.stem import PorterStemmer\n",
        "from nltk.tokenize import TweetTokenizer \n",
        "from nltk import pos_tag, word_tokenize\n",
        "from nltk.tokenize import word_tokenize\n",
        "from nltk.corpus import words\n",
        "import emoji\n",
        "#from emot.emo_unicode import UNICODE_EMO, EMOTICONS\n",
        "from Sastrawi.Stemmer.StemmerFactory import StemmerFactory\n",
        "import swifter\n",
        "from wordcloud import WordCloud "
      ],
      "execution_count": 5,
      "outputs": [
        {
          "output_type": "stream",
          "name": "stdout",
          "text": [
            "[nltk_data] Downloading package stopwords to /root/nltk_data...\n",
            "[nltk_data]   Package stopwords is already up-to-date!\n",
            "[nltk_data] Downloading package punkt to /root/nltk_data...\n",
            "[nltk_data]   Package punkt is already up-to-date!\n",
            "[nltk_data] Downloading package words to /root/nltk_data...\n",
            "[nltk_data]   Package words is already up-to-date!\n"
          ]
        }
      ]
    },
    {
      "cell_type": "markdown",
      "metadata": {
        "id": "KCFWa0RfHL4d"
      },
      "source": [
        "**Preprocessing**"
      ]
    },
    {
      "cell_type": "code",
      "metadata": {
        "id": "6cO4NsaRHPUF"
      },
      "source": [
        "stop = pd.read_csv(\"drive/MyDrive/stopwords.txt\", names= [\"stopwords\"], header = None)\n",
        "stop['stopwords']\n",
        "# Defining my NLTK stop words and my user-defined stop words\n",
        "stop_words = list(stopwords.words('indonesian'))\n",
        "# ---------------------------- manualy add stopword  ------------------------------------\n",
        "# append additional stopword\n",
        "user_stopwords = ['yg', 'dg', 'rt', 'dgn', 'ny', 'd', 'klo', \n",
        "                       'kalo', 'amp', 'biar', 'bikin', 'bilang', \n",
        "                       'gak', 'ga', 'krn', 'nya', 'nih', 'sih', 'na',\n",
        "                       'si', 'tau', 'tdk', 'tuh', 'utk', 'ya', 'ber',\n",
        "                       'jd', 'jgn', 'sdh', 'aja', 'n', 't', 's','lhaa',\n",
        "                       'qrt', 'd', 'ayyy', 'eptember', 'tu', 'kat', 'd',\n",
        "                        'bdhshshhs', 'denngan','ba', 'ah', 'tuu', 'kaann', \n",
        "                       'nyg', 'hehe', 'pen', 'u', 'nan', 'loh', 'rt', 'je',\n",
        "                       '&amp', 'yah', 'x', 'xf', 'xe', 'first', 'second',\n",
        "                        'the', 'to', 'yaa', 'dirut', 'la', 'pon']\n",
        "alphabets = list(string.ascii_lowercase)\n",
        "stop_words_fix = stop_words + alphabets + stop['stopwords'].to_list()\n",
        "\n",
        "# Function to remove punctuations, links, emojis, and stop words\n",
        "def preprocessTweets(tweet):\n",
        "    tweet = tweet.lower()  #has to be in place\n",
        "    #Remove 'b\n",
        "    tweet = re.sub(r\"b'\", '', tweet)\n",
        "    # Remove urls dan trash\n",
        "    tweet = re.sub(r\"http\\S+|\\\\x\\S+|www\\S+|https\\S+|dot|com\", '', tweet, flags=re.MULTILINE)\n",
        "    # Remove user @ references and '#' from tweet\n",
        "    tweet = re.sub(r'\\@\\w+|\\#|\\d+', '', tweet)\n",
        "    # Remove stopwords\n",
        "    tweet_tokens = word_tokenize(tweet)  # convert string to tokens\n",
        "    filtered_words = [w for w in tweet_tokens if w not in stop_words_fix]\n",
        "    filtered_words = [w for w in tweet_tokens if w not in user_stopwords]\n",
        "\n",
        "    # Remove punctuations\n",
        "    unpunctuated_words = [char for char in filtered_words if char not in string.punctuation]\n",
        "    unpunctuated_words = ' '.join(unpunctuated_words)\n",
        "\n",
        "    return \"\".join(unpunctuated_words)  # join words with a space in between them\n",
        "\n",
        "def tokenkan(text):    \n",
        "  tokens = nltk.tokenize.word_tokenize(text)\n",
        "  return tokens\n",
        "\n",
        "normalizad_word = pd.read_excel(\"drive/MyDrive/normalisasi.xlsx\")\n",
        "normalizad_word_dict = {}\n",
        "for index, row in normalizad_word.iterrows():\n",
        "    if row[0] not in normalizad_word_dict:\n",
        "        normalizad_word_dict[row[0]] = row[1] \n",
        "\n",
        "def normalized_term(document):\n",
        "    return [normalizad_word_dict[term] if term in normalizad_word_dict else term for term in document]\n",
        "\n",
        "def stopwords_removal(words):\n",
        "    return [word for word in words if word not in stop_words]\n",
        "\n",
        "def remove_punct(text):\n",
        "  text_nopunct = ''\n",
        "  text_nopunct = re.sub('['+string.punctuation+']', '', text)\n",
        "  return text_nopunct"
      ],
      "execution_count": 6,
      "outputs": []
    },
    {
      "cell_type": "markdown",
      "metadata": {
        "id": "KqbBWRUErxjO"
      },
      "source": [
        "#Import Libraries"
      ]
    },
    {
      "cell_type": "code",
      "metadata": {
        "id": "a2JRA9A0rwui"
      },
      "source": [
        "import numpy as np\n",
        "import pandas as pd\n",
        "from gensim.models.word2vec import Word2Vec\n",
        "from sklearn.model_selection import train_test_split\n",
        "from tensorflow.keras.utils import to_categorical\n",
        "from keras.layers import Dense, Dropout, Conv1D, MaxPool1D, GlobalMaxPool1D, Embedding, Activation\n",
        "from keras.preprocessing.text import Tokenizer\n",
        "from keras.preprocessing.sequence import pad_sequences\n",
        "from keras.models import Sequential\n",
        "import re\n",
        "import nltk\n",
        "from nltk.corpus import stopwords\n",
        "from nltk.stem.snowball import PorterStemmer\n",
        "from sklearn import preprocessing"
      ],
      "execution_count": 7,
      "outputs": []
    },
    {
      "cell_type": "code",
      "metadata": {
        "colab": {
          "base_uri": "https://localhost:8080/",
          "height": 202
        },
        "id": "4EeZ-wfqEZlW",
        "outputId": "a57e5307-a395-4bbb-e819-c5d2a017a68f"
      },
      "source": [
        "df = pd.read_csv('drive/MyDrive/data_psyco/Text_Preprocessing_Suicide_Row_Same_4_fix.csv').astype(str)\n",
        "#df = pd.read_csv('drive/MyDrive/data_psyco/Text_Preprocessing_Depres_Suicide_Fix.csv').astype(str)\n",
        "df.drop(['Unnamed: 0', 'Postingan', 'Postingan_Tokenkan', 'Postingan_Normalized'], axis=1, inplace=True)\n",
        "df.columns = ['Category', 'Message']\n",
        "df['Message'] = df['Message'].apply(remove_punct)\n",
        "df.head()"
      ],
      "execution_count": 8,
      "outputs": [
        {
          "output_type": "execute_result",
          "data": {
            "text/html": [
              "<div>\n",
              "<style scoped>\n",
              "    .dataframe tbody tr th:only-of-type {\n",
              "        vertical-align: middle;\n",
              "    }\n",
              "\n",
              "    .dataframe tbody tr th {\n",
              "        vertical-align: top;\n",
              "    }\n",
              "\n",
              "    .dataframe thead th {\n",
              "        text-align: right;\n",
              "    }\n",
              "</style>\n",
              "<table border=\"1\" class=\"dataframe\">\n",
              "  <thead>\n",
              "    <tr style=\"text-align: right;\">\n",
              "      <th></th>\n",
              "      <th>Category</th>\n",
              "      <th>Message</th>\n",
              "    </tr>\n",
              "  </thead>\n",
              "  <tbody>\n",
              "    <tr>\n",
              "      <th>0</th>\n",
              "      <td>1</td>\n",
              "      <td>persetan</td>\n",
              "    </tr>\n",
              "    <tr>\n",
              "      <th>1</th>\n",
              "      <td>1</td>\n",
              "      <td>maaf</td>\n",
              "    </tr>\n",
              "    <tr>\n",
              "      <th>2</th>\n",
              "      <td>1</td>\n",
              "      <td>juang keras hidup hapus tweet selesai sukses t...</td>\n",
              "    </tr>\n",
              "    <tr>\n",
              "      <th>3</th>\n",
              "      <td>1</td>\n",
              "      <td>pria sehat kondisi mental hidup pikir laku lel...</td>\n",
              "    </tr>\n",
              "    <tr>\n",
              "      <th>4</th>\n",
              "      <td>1</td>\n",
              "      <td>pergi orang coba komunikasi orang pegang pikir...</td>\n",
              "    </tr>\n",
              "  </tbody>\n",
              "</table>\n",
              "</div>"
            ],
            "text/plain": [
              "  Category                                            Message\n",
              "0        1                                           persetan\n",
              "1        1                                               maaf\n",
              "2        1  juang keras hidup hapus tweet selesai sukses t...\n",
              "3        1  pria sehat kondisi mental hidup pikir laku lel...\n",
              "4        1  pergi orang coba komunikasi orang pegang pikir..."
            ]
          },
          "metadata": {},
          "execution_count": 8
        }
      ]
    },
    {
      "cell_type": "code",
      "metadata": {
        "colab": {
          "base_uri": "https://localhost:8080/",
          "height": 315
        },
        "id": "ISu6vL3IuAhA",
        "outputId": "2190ab5c-b7cf-4c8c-c288-a2face010115"
      },
      "source": [
        "#check the distribution of lebels\n",
        "labels = df['Category']\n",
        "labels_count = labels.value_counts()\n",
        "labels_count.plot(kind=\"bar\")\n",
        "print(labels.value_counts())"
      ],
      "execution_count": 9,
      "outputs": [
        {
          "output_type": "stream",
          "name": "stdout",
          "text": [
            "0    326\n",
            "1    326\n",
            "Name: Category, dtype: int64\n"
          ]
        },
        {
          "output_type": "display_data",
          "data": {
            "image/png": "[encoded data removed]",
            "text/plain": [
              "<Figure size 432x288 with 1 Axes>"
            ]
          },
          "metadata": {
            "needs_background": "light"
          }
        }
      ]
    },
    {
      "cell_type": "code",
      "metadata": {
        "colab": {
          "base_uri": "https://localhost:8080/"
        },
        "id": "1y7TKJFdrhiQ",
        "outputId": "3cce1d6b-0dfa-4954-e6a6-356c72de8567"
      },
      "source": [
        "mes = []\n",
        "for i in df['Message']:\n",
        "    mes.append(i.split())\n",
        "print(mes[:2])"
      ],
      "execution_count": 10,
      "outputs": [
        {
          "output_type": "stream",
          "name": "stdout",
          "text": [
            "[['persetan'], ['maaf']]\n"
          ]
        }
      ]
    },
    {
      "cell_type": "code",
      "metadata": {
        "colab": {
          "base_uri": "https://localhost:8080/"
        },
        "id": "_f6L44Cxrogw",
        "outputId": "1d4a0182-9ebd-42a6-b610-07f8327bc0d1"
      },
      "source": [
        "  word2vec_model = Word2Vec(mes, size=500, window=3, min_count=1, workers=15)\n",
        "print(word2vec_model)"
      ],
      "execution_count": 11,
      "outputs": [
        {
          "output_type": "stream",
          "name": "stdout",
          "text": [
            "Word2Vec(vocab=1573, size=500, alpha=0.025)\n"
          ]
        }
      ]
    },
    {
      "cell_type": "code",
      "metadata": {
        "colab": {
          "base_uri": "https://localhost:8080/"
        },
        "id": "kqOfRnIqsBkV",
        "outputId": "0388afb9-3a19-421b-c305-21e9e93c7e5f"
      },
      "source": [
        "token = Tokenizer(1573)\n",
        "token.fit_on_texts(df['Message'])\n",
        "text = token.texts_to_sequences(df['Message'])\n",
        "text = pad_sequences(text, 75)\n",
        "print(text[:2])"
      ],
      "execution_count": 12,
      "outputs": [
        {
          "output_type": "stream",
          "name": "stdout",
          "text": [
            "[[  0   0   0   0   0   0   0   0   0   0   0   0   0   0   0   0   0   0\n",
            "    0   0   0   0   0   0   0   0   0   0   0   0   0   0   0   0   0   0\n",
            "    0   0   0   0   0   0   0   0   0   0   0   0   0   0   0   0   0   0\n",
            "    0   0   0   0   0   0   0   0   0   0   0   0   0   0   0   0   0   0\n",
            "    0   0 418]\n",
            " [  0   0   0   0   0   0   0   0   0   0   0   0   0   0   0   0   0   0\n",
            "    0   0   0   0   0   0   0   0   0   0   0   0   0   0   0   0   0   0\n",
            "    0   0   0   0   0   0   0   0   0   0   0   0   0   0   0   0   0   0\n",
            "    0   0   0   0   0   0   0   0   0   0   0   0   0   0   0   0   0   0\n",
            "    0   0 101]]\n"
          ]
        }
      ]
    },
    {
      "cell_type": "code",
      "metadata": {
        "colab": {
          "base_uri": "https://localhost:8080/"
        },
        "id": "-hAACB-esQxi",
        "outputId": "d170aa99-3f08-4dc8-c372-db000201d9f8"
      },
      "source": [
        "le = preprocessing.LabelEncoder()\n",
        "y = le.fit_transform(df['Category'])\n",
        "y = to_categorical(y)\n",
        "y[:2]"
      ],
      "execution_count": 13,
      "outputs": [
        {
          "output_type": "execute_result",
          "data": {
            "text/plain": [
              "array([[0., 1.],\n",
              "       [0., 1.]], dtype=float32)"
            ]
          },
          "metadata": {},
          "execution_count": 13
        }
      ]
    },
    {
      "cell_type": "code",
      "metadata": {
        "id": "2sDBJsoKstc5"
      },
      "source": [
        "x_train, x_test, y_train, y_test = train_test_split(np.array(text), y, test_size=0.2, stratify=y)"
      ],
      "execution_count": 14,
      "outputs": []
    },
    {
      "cell_type": "code",
      "metadata": {
        "colab": {
          "base_uri": "https://localhost:8080/"
        },
        "id": "yEOuyXiDQMPe",
        "outputId": "01a17651-8f74-47f2-b883-59c63f350f41"
      },
      "source": [
        "print(word2vec_model.wv.get_keras_embedding(True))"
      ],
      "execution_count": 15,
      "outputs": [
        {
          "output_type": "stream",
          "name": "stdout",
          "text": [
            "<keras.layers.embeddings.Embedding object at 0x7f78bec86250>\n"
          ]
        }
      ]
    },
    {
      "cell_type": "code",
      "metadata": {
        "colab": {
          "base_uri": "https://localhost:8080/"
        },
        "id": "61YcjstLsy6s",
        "outputId": "3a05548a-2cad-43ff-84b8-2b136c1c6b1f"
      },
      "source": [
        "keras_model = Sequential()\n",
        "keras_model.add(word2vec_model.wv.get_keras_embedding(True))\n",
        "keras_model.add(Dropout(0.2))\n",
        "keras_model.add(Conv1D(filters=50, kernel_size=3, activation='relu', padding='same', strides=1))\n",
        "keras_model.add(Conv1D(filters=50, kernel_size=3, activation='relu', padding='same', strides=1))\n",
        "keras_model.add(MaxPool1D())\n",
        "keras_model.add(Dropout(0.2))\n",
        "keras_model.add(Conv1D(filters=100, kernel_size=3, activation='relu', padding='same', strides=1))\n",
        "keras_model.add(Conv1D(filters=100, kernel_size=3, activation='relu', padding='same', strides=1))\n",
        "keras_model.add(MaxPool1D())\n",
        "keras_model.add(Dropout(0.2))\n",
        "keras_model.add(Conv1D(filters=200, kernel_size=3, activation='relu', padding='same', strides=1))\n",
        "keras_model.add(Conv1D(filters=200, kernel_size=3, activation='relu', padding='same', strides=1))\n",
        "keras_model.add(GlobalMaxPool1D())\n",
        "keras_model.add(Dropout(0.2))\n",
        "keras_model.add(Dense(200))\n",
        "keras_model.add(Activation('relu'))\n",
        "keras_model.add(Dropout(0.2))\n",
        "keras_model.add(Dense(2))\n",
        "keras_model.add(Activation('sigmoid'))\n",
        "keras_model.compile(loss='binary_crossentropy', metrics=['acc'], optimizer='adam')\n",
        "keras_model.summary()"
      ],
      "execution_count": 16,
      "outputs": [
        {
          "output_type": "stream",
          "name": "stdout",
          "text": [
            "Model: \"sequential\"\n",
            "_________________________________________________________________\n",
            "Layer (type)                 Output Shape              Param #   \n",
            "=================================================================\n",
            "embedding_1 (Embedding)      (None, None, 500)         786500    \n",
            "_________________________________________________________________\n",
            "dropout (Dropout)            (None, None, 500)         0         \n",
            "_________________________________________________________________\n",
            "conv1d (Conv1D)              (None, None, 50)          75050     \n",
            "_________________________________________________________________\n",
            "conv1d_1 (Conv1D)            (None, None, 50)          7550      \n",
            "_________________________________________________________________\n",
            "max_pooling1d (MaxPooling1D) (None, None, 50)          0         \n",
            "_________________________________________________________________\n",
            "dropout_1 (Dropout)          (None, None, 50)          0         \n",
            "_________________________________________________________________\n",
            "conv1d_2 (Conv1D)            (None, None, 100)         15100     \n",
            "_________________________________________________________________\n",
            "conv1d_3 (Conv1D)            (None, None, 100)         30100     \n",
            "_________________________________________________________________\n",
            "max_pooling1d_1 (MaxPooling1 (None, None, 100)         0         \n",
            "_________________________________________________________________\n",
            "dropout_2 (Dropout)          (None, None, 100)         0         \n",
            "_________________________________________________________________\n",
            "conv1d_4 (Conv1D)            (None, None, 200)         60200     \n",
            "_________________________________________________________________\n",
            "conv1d_5 (Conv1D)            (None, None, 200)         120200    \n",
            "_________________________________________________________________\n",
            "global_max_pooling1d (Global (None, 200)               0         \n",
            "_________________________________________________________________\n",
            "dropout_3 (Dropout)          (None, 200)               0         \n",
            "_________________________________________________________________\n",
            "dense (Dense)                (None, 200)               40200     \n",
            "_________________________________________________________________\n",
            "activation (Activation)      (None, 200)               0         \n",
            "_________________________________________________________________\n",
            "dropout_4 (Dropout)          (None, 200)               0         \n",
            "_________________________________________________________________\n",
            "dense_1 (Dense)              (None, 2)                 402       \n",
            "_________________________________________________________________\n",
            "activation_1 (Activation)    (None, 2)                 0         \n",
            "=================================================================\n",
            "Total params: 1,135,302\n",
            "Trainable params: 1,135,302\n",
            "Non-trainable params: 0\n",
            "_________________________________________________________________\n"
          ]
        }
      ]
    },
    {
      "cell_type": "code",
      "metadata": {
        "colab": {
          "base_uri": "https://localhost:8080/"
        },
        "id": "cM2S7ThAtz6E",
        "outputId": "8072e73e-6f77-4814-8f07-f5c211406a18"
      },
      "source": [
        "history = keras_model.fit(x_train, y_train, batch_size=16, epochs=50, validation_data=(x_test, y_test))"
      ],
      "execution_count": 17,
      "outputs": [
        {
          "output_type": "stream",
          "name": "stdout",
          "text": [
            "Epoch 1/50\n",
            "33/33 [==============================] - 3s 72ms/step - loss: 0.6938 - acc: 0.4933 - val_loss: 0.6932 - val_acc: 0.4962\n",
            "Epoch 2/50\n",
            "33/33 [==============================] - 2s 64ms/step - loss: 0.6890 - acc: 0.5144 - val_loss: 0.6115 - val_acc: 0.5649\n",
            "Epoch 3/50\n",
            "33/33 [==============================] - 2s 65ms/step - loss: 0.5584 - acc: 0.7198 - val_loss: 0.5664 - val_acc: 0.7405\n",
            "Epoch 4/50\n",
            "33/33 [==============================] - 2s 65ms/step - loss: 0.3970 - acc: 0.8388 - val_loss: 0.4619 - val_acc: 0.7710\n",
            "Epoch 5/50\n",
            "33/33 [==============================] - 2s 65ms/step - loss: 0.2119 - acc: 0.9309 - val_loss: 0.5562 - val_acc: 0.7939\n",
            "Epoch 6/50\n",
            "33/33 [==============================] - 2s 64ms/step - loss: 0.0814 - acc: 0.9655 - val_loss: 1.0759 - val_acc: 0.7557\n",
            "Epoch 7/50\n",
            "33/33 [==============================] - 2s 64ms/step - loss: 0.0569 - acc: 0.9712 - val_loss: 1.2123 - val_acc: 0.7328\n",
            "Epoch 8/50\n",
            "33/33 [==============================] - 2s 64ms/step - loss: 0.0621 - acc: 0.9770 - val_loss: 1.1941 - val_acc: 0.7557\n",
            "Epoch 9/50\n",
            "33/33 [==============================] - 2s 64ms/step - loss: 0.0363 - acc: 0.9808 - val_loss: 1.5647 - val_acc: 0.7557\n",
            "Epoch 10/50\n",
            "33/33 [==============================] - 2s 64ms/step - loss: 0.0321 - acc: 0.9846 - val_loss: 1.7182 - val_acc: 0.7557\n",
            "Epoch 11/50\n",
            "33/33 [==============================] - 2s 64ms/step - loss: 0.0252 - acc: 0.9904 - val_loss: 2.2787 - val_acc: 0.7557\n",
            "Epoch 12/50\n",
            "33/33 [==============================] - 2s 64ms/step - loss: 0.0425 - acc: 0.9827 - val_loss: 1.5659 - val_acc: 0.7481\n",
            "Epoch 13/50\n",
            "33/33 [==============================] - 2s 65ms/step - loss: 0.0287 - acc: 0.9846 - val_loss: 2.1117 - val_acc: 0.7634\n",
            "Epoch 14/50\n",
            "33/33 [==============================] - 2s 64ms/step - loss: 0.0242 - acc: 0.9846 - val_loss: 3.4409 - val_acc: 0.7328\n",
            "Epoch 15/50\n",
            "33/33 [==============================] - 2s 64ms/step - loss: 0.0439 - acc: 0.9846 - val_loss: 1.6312 - val_acc: 0.7481\n",
            "Epoch 16/50\n",
            "33/33 [==============================] - 2s 64ms/step - loss: 0.0341 - acc: 0.9885 - val_loss: 2.5392 - val_acc: 0.7328\n",
            "Epoch 17/50\n",
            "33/33 [==============================] - 2s 63ms/step - loss: 0.0843 - acc: 0.9808 - val_loss: 0.9963 - val_acc: 0.7939\n",
            "Epoch 18/50\n",
            "33/33 [==============================] - 2s 64ms/step - loss: 0.0637 - acc: 0.9731 - val_loss: 2.1294 - val_acc: 0.7557\n",
            "Epoch 19/50\n",
            "33/33 [==============================] - 2s 64ms/step - loss: 0.0819 - acc: 0.9750 - val_loss: 1.7220 - val_acc: 0.7557\n",
            "Epoch 20/50\n",
            "33/33 [==============================] - 2s 65ms/step - loss: 0.0324 - acc: 0.9866 - val_loss: 2.0026 - val_acc: 0.7557\n",
            "Epoch 21/50\n",
            "33/33 [==============================] - 2s 65ms/step - loss: 0.0276 - acc: 0.9846 - val_loss: 2.2203 - val_acc: 0.7557\n",
            "Epoch 22/50\n",
            "33/33 [==============================] - 2s 64ms/step - loss: 0.0276 - acc: 0.9808 - val_loss: 2.2040 - val_acc: 0.7634\n",
            "Epoch 23/50\n",
            "33/33 [==============================] - 2s 64ms/step - loss: 0.0253 - acc: 0.9866 - val_loss: 2.2199 - val_acc: 0.7710\n",
            "Epoch 24/50\n",
            "33/33 [==============================] - 2s 64ms/step - loss: 0.0245 - acc: 0.9866 - val_loss: 2.3116 - val_acc: 0.7634\n",
            "Epoch 25/50\n",
            "33/33 [==============================] - 2s 65ms/step - loss: 0.0251 - acc: 0.9866 - val_loss: 2.4127 - val_acc: 0.7405\n",
            "Epoch 26/50\n",
            "33/33 [==============================] - 2s 64ms/step - loss: 0.0233 - acc: 0.9866 - val_loss: 2.6395 - val_acc: 0.7557\n",
            "Epoch 27/50\n",
            "33/33 [==============================] - 2s 64ms/step - loss: 0.0271 - acc: 0.9866 - val_loss: 2.4697 - val_acc: 0.7405\n",
            "Epoch 28/50\n",
            "33/33 [==============================] - 2s 64ms/step - loss: 0.0253 - acc: 0.9808 - val_loss: 2.4882 - val_acc: 0.7481\n",
            "Epoch 29/50\n",
            "33/33 [==============================] - 2s 64ms/step - loss: 0.0242 - acc: 0.9846 - val_loss: 2.7606 - val_acc: 0.7481\n",
            "Epoch 30/50\n",
            "33/33 [==============================] - 2s 64ms/step - loss: 0.0234 - acc: 0.9866 - val_loss: 3.1884 - val_acc: 0.7405\n",
            "Epoch 31/50\n",
            "33/33 [==============================] - 2s 64ms/step - loss: 0.0232 - acc: 0.9866 - val_loss: 3.9056 - val_acc: 0.7634\n",
            "Epoch 32/50\n",
            "33/33 [==============================] - 2s 64ms/step - loss: 0.0236 - acc: 0.9866 - val_loss: 3.9175 - val_acc: 0.7634\n",
            "Epoch 33/50\n",
            "33/33 [==============================] - 2s 65ms/step - loss: 0.0239 - acc: 0.9866 - val_loss: 3.9374 - val_acc: 0.7481\n",
            "Epoch 34/50\n",
            "33/33 [==============================] - 2s 64ms/step - loss: 0.0242 - acc: 0.9866 - val_loss: 3.7945 - val_acc: 0.7481\n",
            "Epoch 35/50\n",
            "33/33 [==============================] - 2s 64ms/step - loss: 0.0238 - acc: 0.9866 - val_loss: 4.4484 - val_acc: 0.7710\n",
            "Epoch 36/50\n",
            "33/33 [==============================] - 2s 65ms/step - loss: 0.0230 - acc: 0.9866 - val_loss: 4.5843 - val_acc: 0.7710\n",
            "Epoch 37/50\n",
            "33/33 [==============================] - 2s 64ms/step - loss: 0.0236 - acc: 0.9866 - val_loss: 4.6007 - val_acc: 0.7710\n",
            "Epoch 38/50\n",
            "33/33 [==============================] - 2s 64ms/step - loss: 0.0239 - acc: 0.9866 - val_loss: 4.5783 - val_acc: 0.7710\n",
            "Epoch 39/50\n",
            "33/33 [==============================] - 2s 65ms/step - loss: 0.0234 - acc: 0.9866 - val_loss: 4.6162 - val_acc: 0.7710\n",
            "Epoch 40/50\n",
            "33/33 [==============================] - 2s 64ms/step - loss: 0.0244 - acc: 0.9866 - val_loss: 4.5932 - val_acc: 0.7634\n",
            "Epoch 41/50\n",
            "33/33 [==============================] - 2s 64ms/step - loss: 0.0235 - acc: 0.9866 - val_loss: 4.4970 - val_acc: 0.7710\n",
            "Epoch 42/50\n",
            "33/33 [==============================] - 2s 65ms/step - loss: 0.0233 - acc: 0.9866 - val_loss: 4.5461 - val_acc: 0.7710\n",
            "Epoch 43/50\n",
            "33/33 [==============================] - 2s 65ms/step - loss: 0.0232 - acc: 0.9866 - val_loss: 4.5652 - val_acc: 0.7710\n",
            "Epoch 44/50\n",
            "33/33 [==============================] - 2s 65ms/step - loss: 0.0231 - acc: 0.9866 - val_loss: 4.5860 - val_acc: 0.7634\n",
            "Epoch 45/50\n",
            "33/33 [==============================] - 2s 64ms/step - loss: 0.0234 - acc: 0.9866 - val_loss: 4.5881 - val_acc: 0.7710\n",
            "Epoch 46/50\n",
            "33/33 [==============================] - 2s 64ms/step - loss: 0.0233 - acc: 0.9866 - val_loss: 4.6186 - val_acc: 0.7634\n",
            "Epoch 47/50\n",
            "33/33 [==============================] - 2s 64ms/step - loss: 0.0233 - acc: 0.9866 - val_loss: 4.6072 - val_acc: 0.7786\n",
            "Epoch 48/50\n",
            "33/33 [==============================] - 2s 65ms/step - loss: 0.0255 - acc: 0.9866 - val_loss: 4.5699 - val_acc: 0.7710\n",
            "Epoch 49/50\n",
            "33/33 [==============================] - 2s 65ms/step - loss: 0.0233 - acc: 0.9866 - val_loss: 4.4095 - val_acc: 0.7634\n",
            "Epoch 50/50\n",
            "33/33 [==============================] - 2s 65ms/step - loss: 0.0234 - acc: 0.9866 - val_loss: 4.4257 - val_acc: 0.7634\n"
          ]
        }
      ]
    },
    {
      "cell_type": "code",
      "metadata": {
        "colab": {
          "base_uri": "https://localhost:8080/"
        },
        "id": "zPYLJ_RVvIUc",
        "outputId": "74e136e7-49cd-4b0c-fb62-4bc78fa692dd"
      },
      "source": [
        "#analyze the results\n",
        "score, acc = keras_model.evaluate(x_test, y_test, verbose = 2, batch_size=16)\n",
        "y_pred = keras_model.predict(x_test)\n",
        "#print(y_pred)"
      ],
      "execution_count": 18,
      "outputs": [
        {
          "output_type": "stream",
          "name": "stdout",
          "text": [
            "9/9 - 0s - loss: 4.4257 - acc: 0.7634\n"
          ]
        }
      ]
    },
    {
      "cell_type": "code",
      "metadata": {
        "id": "VNkDDiqFvaWX"
      },
      "source": [
        "#Other accuracy metrices\n",
        "#y_pred = (y_pred > 0.5)"
      ],
      "execution_count": 19,
      "outputs": []
    },
    {
      "cell_type": "code",
      "metadata": {
        "colab": {
          "base_uri": "https://localhost:8080/",
          "height": 455
        },
        "id": "A_aUR_BqvdcN",
        "outputId": "a6e9362b-6c48-4d93-a0ee-8c51c6a4539a"
      },
      "source": [
        "from sklearn.metrics import confusion_matrix, classification_report\n",
        "import seaborn as sns\n",
        "\n",
        "cm=confusion_matrix(y_test.argmax(axis=1),y_pred.argmax(axis=1))\n",
        "ax=sns.heatmap(cm,annot=True,cmap='Blues',fmt='')\n",
        "ax.set_title('Confusion Matrix')\n",
        "ax.set_xlabel('y_test')\n",
        "ax.set_ylabel('y_pred')\n",
        "\n",
        "#F1 Score, Recall and Precision\n",
        "print(classification_report(y_test.argmax(axis=1), y_pred.argmax(axis=1)))"
      ],
      "execution_count": 20,
      "outputs": [
        {
          "output_type": "stream",
          "name": "stdout",
          "text": [
            "              precision    recall  f1-score   support\n",
            "\n",
            "           0       0.81      0.68      0.74        65\n",
            "           1       0.73      0.85      0.78        66\n",
            "\n",
            "    accuracy                           0.76       131\n",
            "   macro avg       0.77      0.76      0.76       131\n",
            "weighted avg       0.77      0.76      0.76       131\n",
            "\n"
          ]
        },
        {
          "output_type": "display_data",
          "data": {
            "image/png": "[encoded data removed]",
            "text/plain": [
              "<Figure size 432x288 with 2 Axes>"
            ]
          },
          "metadata": {
            "needs_background": "light"
          }
        }
      ]
    },
    {
      "cell_type": "code",
      "metadata": {
        "id": "K3Y-pmHYwlaF"
      },
      "source": [
        "import matplotlib.pyplot as plt"
      ],
      "execution_count": 21,
      "outputs": []
    },
    {
      "cell_type": "code",
      "metadata": {
        "colab": {
          "base_uri": "https://localhost:8080/",
          "height": 336
        },
        "id": "N0z2R2VJwn9a",
        "outputId": "dfa06a55-da3b-4614-8b22-7aef36b3fe9c"
      },
      "source": [
        "plt.style.use('ggplot')\n",
        "\n",
        "def plot_history(history):\n",
        "    accuracy = history.history['acc']\n",
        "    val_accuracy = history.history['val_acc']\n",
        "    loss = history.history['loss']\n",
        "    val_loss = history.history['val_loss']\n",
        "    x = range(1, len(accuracy) + 1)\n",
        "\n",
        "    plt.figure(figsize=(12, 5))\n",
        "    plt.subplot(1, 2, 1)\n",
        "    plt.plot(x, accuracy, 'b', label='Training accuracy')\n",
        "    plt.plot(x, val_accuracy, 'r', label='Validation accuracy')\n",
        "    plt.title('Training and validation accuracy')\n",
        "    plt.legend()\n",
        "    plt.subplot(1, 2, 2)\n",
        "    plt.plot(x, loss, 'b', label='Training loss')\n",
        "    plt.plot(x, val_loss, 'r', label='Validation loss')\n",
        "    plt.title('Training and validation loss')\n",
        "    plt.legend()\n",
        "\n",
        "%matplotlib inline\n",
        "plot_history(history)"
      ],
      "execution_count": 22,
      "outputs": [
        {
          "output_type": "display_data",
          "data": {
            "image/png": "[encoded data removed]",
            "text/plain": [
              "<Figure size 864x360 with 2 Axes>"
            ]
          },
          "metadata": {
            "needs_background": "light"
          }
        }
      ]
    },
    {
      "cell_type": "code",
      "metadata": {
        "id": "bT21pR2Gw0mi"
      },
      "source": [
        "#keras_model.save('drive/MyDrive/data_psyco/otw_sidang_sigmoid/98_depresi_1000_and_suicide_cnn_16b_3e.h5')"
      ],
      "execution_count": 23,
      "outputs": []
    },
    {
      "cell_type": "markdown",
      "metadata": {
        "id": "JoBQ6DRp4QM8"
      },
      "source": [
        "# Import Libraries"
      ]
    },
    {
      "cell_type": "code",
      "metadata": {
        "id": "RB6JItCcrB8K"
      },
      "source": [
        "def text_preprocessing(text):\n",
        "  df['preprocess_awal'] = text.apply(preprocessTweets)\n",
        "  df['tokenkan'] = df['preprocess_awal'].apply(tokenkan)\n",
        "  df['normalized'] = df['tokenkan'].apply(normalized_term)\n",
        "  df['normalized'] = df['normalized'].apply(stopwords_removal)\n",
        "\n",
        "  # create stemmer\n",
        "  factory = StemmerFactory()\n",
        "  stemmer = factory.create_stemmer()\n",
        "\n",
        "  # stemmed\n",
        "  def stemmed_wrapper(term):\n",
        "      return stemmer.stem(term)\n",
        "\n",
        "  term_dict = {}\n",
        "\n",
        "  for document in df['normalized']:\n",
        "      for term in document:\n",
        "          if term not in term_dict:\n",
        "              term_dict[term] = ' '\n",
        "              \n",
        "  #print(len(term_dict))\n",
        "  print(\"------------------------\")\n",
        "\n",
        "  for term in term_dict:\n",
        "      term_dict[term] = stemmed_wrapper(term)\n",
        "      print(term,\":\" ,term_dict[term])\n",
        "      \n",
        "  #print(term_dict)\n",
        "  print(\"------------------------\")\n",
        "\n",
        "\n",
        "  # apply stemmed term to dataframe\n",
        "  def get_stemmed_term(document):\n",
        "      return [term_dict[term] for term in document]\n",
        "\n",
        "  df['stemmed'] = df['normalized'].swifter.apply(get_stemmed_term)\n",
        "  #print(df['stemmed'])\n",
        "\n",
        "  def remove_punct(text):\n",
        "    text_nopunct = ''\n",
        "    text_nopunct = re.sub('['+string.punctuation+']', '', text)\n",
        "    return text_nopunct\n",
        "\n",
        "  df['stemmed'] = df['stemmed'].astype(str)\n",
        "  df['stemmed'] = df['stemmed'].apply(remove_punct)"
      ],
      "execution_count": 24,
      "outputs": []
    },
    {
      "cell_type": "code",
      "metadata": {
        "colab": {
          "base_uri": "https://localhost:8080/",
          "height": 235,
          "referenced_widgets": [
            "b6bcd2c1ae944e099ee2b76bf2b5125a",
            "5a5c2dbe52014e5db0e1bf78466f5d52",
            "025c565058ca4fe29a1e29d44bbbe503",
            "578ee9fd0f9047dfb7a0c436a72ab508",
            "6d2b86de74cb4d47b10978b8045bf0e6",
            "9516fca00ecb4541b09665d9430f1e9b",
            "3a5ae1fab73b4c9eb63bda358b533f7f",
            "5cf24c060ff64aca8cdcbbab4ef303a1",
            "e15d80ab00a74be4b91f06610cb6264c",
            "95589c93bd714b64918226ed451898fc",
            "a682a21bd3be407a9679e55cbddb4676"
          ]
        },
        "id": "nfaIMv6NLeRR",
        "outputId": "bc77719c-96d7-41bf-9368-33ee48c2c67b"
      },
      "source": [
        "Xo = 'Aku ingin ice cream'\n",
        "Yo = 'lelah dengan hidup ini. Nak mati aku dah penat #depresi'\n",
        "datax = {'Postingan':[Yo]}\n",
        "df = pd.DataFrame(datax)\n",
        "text_preprocessing(df['Postingan'])\n",
        "df.head()"
      ],
      "execution_count": 25,
      "outputs": [
        {
          "output_type": "stream",
          "name": "stdout",
          "text": [
            "------------------------\n",
            "lelah : lelah\n",
            "hidup : hidup\n",
            "mati : mati\n",
            "penat : penat\n",
            "depresi : depresi\n",
            "------------------------\n"
          ]
        },
        {
          "output_type": "display_data",
          "data": {
            "application/vnd.jupyter.widget-view+json": {
              "model_id": "b6bcd2c1ae944e099ee2b76bf2b5125a",
              "version_minor": 0,
              "version_major": 2
            },
            "text/plain": [
              "Pandas Apply:   0%|          | 0/1 [00:00<?, ?it/s]"
            ]
          },
          "metadata": {}
        },
        {
          "output_type": "execute_result",
          "data": {
            "text/html": [
              "<div>\n",
              "<style scoped>\n",
              "    .dataframe tbody tr th:only-of-type {\n",
              "        vertical-align: middle;\n",
              "    }\n",
              "\n",
              "    .dataframe tbody tr th {\n",
              "        vertical-align: top;\n",
              "    }\n",
              "\n",
              "    .dataframe thead th {\n",
              "        text-align: right;\n",
              "    }\n",
              "</style>\n",
              "<table border=\"1\" class=\"dataframe\">\n",
              "  <thead>\n",
              "    <tr style=\"text-align: right;\">\n",
              "      <th></th>\n",
              "      <th>Postingan</th>\n",
              "      <th>preprocess_awal</th>\n",
              "      <th>tokenkan</th>\n",
              "      <th>normalized</th>\n",
              "      <th>stemmed</th>\n",
              "    </tr>\n",
              "  </thead>\n",
              "  <tbody>\n",
              "    <tr>\n",
              "      <th>0</th>\n",
              "      <td>lelah dengan hidup ini. Nak mati aku dah penat...</td>\n",
              "      <td>lelah dengan hidup ini nak mati aku dah penat ...</td>\n",
              "      <td>[lelah, dengan, hidup, ini, nak, mati, aku, da...</td>\n",
              "      <td>[lelah, hidup, mati, penat, depresi]</td>\n",
              "      <td>lelah hidup mati penat depresi</td>\n",
              "    </tr>\n",
              "  </tbody>\n",
              "</table>\n",
              "</div>"
            ],
            "text/plain": [
              "                                           Postingan  ...                         stemmed\n",
              "0  lelah dengan hidup ini. Nak mati aku dah penat...  ...  lelah hidup mati penat depresi\n",
              "\n",
              "[1 rows x 5 columns]"
            ]
          },
          "metadata": {},
          "execution_count": 25
        }
      ]
    },
    {
      "cell_type": "code",
      "metadata": {
        "colab": {
          "base_uri": "https://localhost:8080/"
        },
        "id": "gb56dTejLmNq",
        "outputId": "8a0814fc-ff91-4b39-e50e-000346fa4462"
      },
      "source": [
        "X_sample = token.texts_to_sequences(df['stemmed'])\n",
        "print(X_sample)\n",
        "X_sample = pad_sequences(X_sample, 75)\n",
        "print(X_sample)\n",
        "y_sample = keras_model.predict(X_sample)\n",
        "print(y_sample)\n",
        "hasil = np.argmax(y_sample)\n",
        "\n",
        "print(hasil)\n",
        "if (hasil == 0) :\n",
        "  print('tidak mengidap gangguan psikologis')\n",
        "else:\n",
        "  print('mengidap gangguan psikologis')"
      ],
      "execution_count": 26,
      "outputs": [
        {
          "output_type": "stream",
          "name": "stdout",
          "text": [
            "[[36, 2, 1, 727, 37]]\n",
            "[[  0   0   0   0   0   0   0   0   0   0   0   0   0   0   0   0   0   0\n",
            "    0   0   0   0   0   0   0   0   0   0   0   0   0   0   0   0   0   0\n",
            "    0   0   0   0   0   0   0   0   0   0   0   0   0   0   0   0   0   0\n",
            "    0   0   0   0   0   0   0   0   0   0   0   0   0   0   0   0  36   2\n",
            "    1 727  37]]\n",
            "[[1.61461e-19 1.00000e+00]]\n",
            "1\n",
            "mengidap gangguan psikologis\n"
          ]
        }
      ]
    }
  ]
}