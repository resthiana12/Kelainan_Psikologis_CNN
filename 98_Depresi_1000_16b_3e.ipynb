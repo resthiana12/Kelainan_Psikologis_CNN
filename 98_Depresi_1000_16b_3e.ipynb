{
  "nbformat": 4,
  "nbformat_minor": 0,
  "metadata": {
    "colab": {
      "name": "98_Depresi_1000.ipynb",
      "provenance": [],
      "collapsed_sections": [],
      "mount_file_id": "1eXZYwpgYu90QOf8Zeuz8TfDw3cVdkzTh",
      "authorship_tag": "ABX9TyMK/VuiVS5kV+svdGSFfkWE",
      "include_colab_link": true
    },
    "kernelspec": {
      "name": "python3",
      "display_name": "Python 3"
    },
    "language_info": {
      "name": "python"
    },
    "widgets": {
      "application/vnd.jupyter.widget-state+json": {
        "f803e645dbfb4643b18d255f10a16977": {
          "model_module": "@jupyter-widgets/controls",
          "model_name": "HBoxModel",
          "model_module_version": "1.5.0",
          "state": {
            "_view_name": "HBoxView",
            "_dom_classes": [],
            "_model_name": "HBoxModel",
            "_view_module": "@jupyter-widgets/controls",
            "_model_module_version": "1.5.0",
            "_view_count": null,
            "_view_module_version": "1.5.0",
            "box_style": "",
            "layout": "IPY_MODEL_cdfab2445fbf47af982227627f8cf5ef",
            "_model_module": "@jupyter-widgets/controls",
            "children": [
              "IPY_MODEL_1ff097c40c9942f3ac90438f38caa9f1",
              "IPY_MODEL_d0141849030d4d0aa5e10d7bac88e5d2",
              "IPY_MODEL_0862fc3fe2744de4bad41eaa9f2cbb21"
            ]
          }
        },
        "cdfab2445fbf47af982227627f8cf5ef": {
          "model_module": "@jupyter-widgets/base",
          "model_name": "LayoutModel",
          "model_module_version": "1.2.0",
          "state": {
            "_view_name": "LayoutView",
            "grid_template_rows": null,
            "right": null,
            "justify_content": null,
            "_view_module": "@jupyter-widgets/base",
            "overflow": null,
            "_model_module_version": "1.2.0",
            "_view_count": null,
            "flex_flow": null,
            "width": null,
            "min_width": null,
            "border": null,
            "align_items": null,
            "bottom": null,
            "_model_module": "@jupyter-widgets/base",
            "top": null,
            "grid_column": null,
            "overflow_y": null,
            "overflow_x": null,
            "grid_auto_flow": null,
            "grid_area": null,
            "grid_template_columns": null,
            "flex": null,
            "_model_name": "LayoutModel",
            "justify_items": null,
            "grid_row": null,
            "max_height": null,
            "align_content": null,
            "visibility": null,
            "align_self": null,
            "height": null,
            "min_height": null,
            "padding": null,
            "grid_auto_rows": null,
            "grid_gap": null,
            "max_width": null,
            "order": null,
            "_view_module_version": "1.2.0",
            "grid_template_areas": null,
            "object_position": null,
            "object_fit": null,
            "grid_auto_columns": null,
            "margin": null,
            "display": null,
            "left": null
          }
        },
        "1ff097c40c9942f3ac90438f38caa9f1": {
          "model_module": "@jupyter-widgets/controls",
          "model_name": "HTMLModel",
          "model_module_version": "1.5.0",
          "state": {
            "_view_name": "HTMLView",
            "style": "IPY_MODEL_27da54e92d244cc5865b5a7de777b081",
            "_dom_classes": [],
            "description": "",
            "_model_name": "HTMLModel",
            "placeholder": "​",
            "_view_module": "@jupyter-widgets/controls",
            "_model_module_version": "1.5.0",
            "value": "Pandas Apply: 100%",
            "_view_count": null,
            "_view_module_version": "1.5.0",
            "description_tooltip": null,
            "_model_module": "@jupyter-widgets/controls",
            "layout": "IPY_MODEL_e574cc26e60841f6b90691620cee5b7a"
          }
        },
        "d0141849030d4d0aa5e10d7bac88e5d2": {
          "model_module": "@jupyter-widgets/controls",
          "model_name": "FloatProgressModel",
          "model_module_version": "1.5.0",
          "state": {
            "_view_name": "ProgressView",
            "style": "IPY_MODEL_23ff6d1caa2049b3b8a043f4e843d5ba",
            "_dom_classes": [],
            "description": "",
            "_model_name": "FloatProgressModel",
            "bar_style": "success",
            "max": 1,
            "_view_module": "@jupyter-widgets/controls",
            "_model_module_version": "1.5.0",
            "value": 1,
            "_view_count": null,
            "_view_module_version": "1.5.0",
            "orientation": "horizontal",
            "min": 0,
            "description_tooltip": null,
            "_model_module": "@jupyter-widgets/controls",
            "layout": "IPY_MODEL_e471e0e672f24b4a9fa994c911b62a48"
          }
        },
        "0862fc3fe2744de4bad41eaa9f2cbb21": {
          "model_module": "@jupyter-widgets/controls",
          "model_name": "HTMLModel",
          "model_module_version": "1.5.0",
          "state": {
            "_view_name": "HTMLView",
            "style": "IPY_MODEL_db59d0bad17d4c568df9c152a568ab56",
            "_dom_classes": [],
            "description": "",
            "_model_name": "HTMLModel",
            "placeholder": "​",
            "_view_module": "@jupyter-widgets/controls",
            "_model_module_version": "1.5.0",
            "value": " 1/1 [00:00&lt;00:00, 17.78it/s]",
            "_view_count": null,
            "_view_module_version": "1.5.0",
            "description_tooltip": null,
            "_model_module": "@jupyter-widgets/controls",
            "layout": "IPY_MODEL_2d8e682b30004903805c1e0eec550b36"
          }
        },
        "27da54e92d244cc5865b5a7de777b081": {
          "model_module": "@jupyter-widgets/controls",
          "model_name": "DescriptionStyleModel",
          "model_module_version": "1.5.0",
          "state": {
            "_view_name": "StyleView",
            "_model_name": "DescriptionStyleModel",
            "description_width": "",
            "_view_module": "@jupyter-widgets/base",
            "_model_module_version": "1.5.0",
            "_view_count": null,
            "_view_module_version": "1.2.0",
            "_model_module": "@jupyter-widgets/controls"
          }
        },
        "e574cc26e60841f6b90691620cee5b7a": {
          "model_module": "@jupyter-widgets/base",
          "model_name": "LayoutModel",
          "model_module_version": "1.2.0",
          "state": {
            "_view_name": "LayoutView",
            "grid_template_rows": null,
            "right": null,
            "justify_content": null,
            "_view_module": "@jupyter-widgets/base",
            "overflow": null,
            "_model_module_version": "1.2.0",
            "_view_count": null,
            "flex_flow": null,
            "width": null,
            "min_width": null,
            "border": null,
            "align_items": null,
            "bottom": null,
            "_model_module": "@jupyter-widgets/base",
            "top": null,
            "grid_column": null,
            "overflow_y": null,
            "overflow_x": null,
            "grid_auto_flow": null,
            "grid_area": null,
            "grid_template_columns": null,
            "flex": null,
            "_model_name": "LayoutModel",
            "justify_items": null,
            "grid_row": null,
            "max_height": null,
            "align_content": null,
            "visibility": null,
            "align_self": null,
            "height": null,
            "min_height": null,
            "padding": null,
            "grid_auto_rows": null,
            "grid_gap": null,
            "max_width": null,
            "order": null,
            "_view_module_version": "1.2.0",
            "grid_template_areas": null,
            "object_position": null,
            "object_fit": null,
            "grid_auto_columns": null,
            "margin": null,
            "display": null,
            "left": null
          }
        },
        "23ff6d1caa2049b3b8a043f4e843d5ba": {
          "model_module": "@jupyter-widgets/controls",
          "model_name": "ProgressStyleModel",
          "model_module_version": "1.5.0",
          "state": {
            "_view_name": "StyleView",
            "_model_name": "ProgressStyleModel",
            "description_width": "",
            "_view_module": "@jupyter-widgets/base",
            "_model_module_version": "1.5.0",
            "_view_count": null,
            "_view_module_version": "1.2.0",
            "bar_color": null,
            "_model_module": "@jupyter-widgets/controls"
          }
        },
        "e471e0e672f24b4a9fa994c911b62a48": {
          "model_module": "@jupyter-widgets/base",
          "model_name": "LayoutModel",
          "model_module_version": "1.2.0",
          "state": {
            "_view_name": "LayoutView",
            "grid_template_rows": null,
            "right": null,
            "justify_content": null,
            "_view_module": "@jupyter-widgets/base",
            "overflow": null,
            "_model_module_version": "1.2.0",
            "_view_count": null,
            "flex_flow": null,
            "width": null,
            "min_width": null,
            "border": null,
            "align_items": null,
            "bottom": null,
            "_model_module": "@jupyter-widgets/base",
            "top": null,
            "grid_column": null,
            "overflow_y": null,
            "overflow_x": null,
            "grid_auto_flow": null,
            "grid_area": null,
            "grid_template_columns": null,
            "flex": null,
            "_model_name": "LayoutModel",
            "justify_items": null,
            "grid_row": null,
            "max_height": null,
            "align_content": null,
            "visibility": null,
            "align_self": null,
            "height": null,
            "min_height": null,
            "padding": null,
            "grid_auto_rows": null,
            "grid_gap": null,
            "max_width": null,
            "order": null,
            "_view_module_version": "1.2.0",
            "grid_template_areas": null,
            "object_position": null,
            "object_fit": null,
            "grid_auto_columns": null,
            "margin": null,
            "display": null,
            "left": null
          }
        },
        "db59d0bad17d4c568df9c152a568ab56": {
          "model_module": "@jupyter-widgets/controls",
          "model_name": "DescriptionStyleModel",
          "model_module_version": "1.5.0",
          "state": {
            "_view_name": "StyleView",
            "_model_name": "DescriptionStyleModel",
            "description_width": "",
            "_view_module": "@jupyter-widgets/base",
            "_model_module_version": "1.5.0",
            "_view_count": null,
            "_view_module_version": "1.2.0",
            "_model_module": "@jupyter-widgets/controls"
          }
        },
        "2d8e682b30004903805c1e0eec550b36": {
          "model_module": "@jupyter-widgets/base",
          "model_name": "LayoutModel",
          "model_module_version": "1.2.0",
          "state": {
            "_view_name": "LayoutView",
            "grid_template_rows": null,
            "right": null,
            "justify_content": null,
            "_view_module": "@jupyter-widgets/base",
            "overflow": null,
            "_model_module_version": "1.2.0",
            "_view_count": null,
            "flex_flow": null,
            "width": null,
            "min_width": null,
            "border": null,
            "align_items": null,
            "bottom": null,
            "_model_module": "@jupyter-widgets/base",
            "top": null,
            "grid_column": null,
            "overflow_y": null,
            "overflow_x": null,
            "grid_auto_flow": null,
            "grid_area": null,
            "grid_template_columns": null,
            "flex": null,
            "_model_name": "LayoutModel",
            "justify_items": null,
            "grid_row": null,
            "max_height": null,
            "align_content": null,
            "visibility": null,
            "align_self": null,
            "height": null,
            "min_height": null,
            "padding": null,
            "grid_auto_rows": null,
            "grid_gap": null,
            "max_width": null,
            "order": null,
            "_view_module_version": "1.2.0",
            "grid_template_areas": null,
            "object_position": null,
            "object_fit": null,
            "grid_auto_columns": null,
            "margin": null,
            "display": null,
            "left": null
          }
        }
      }
    }
  },
  "cells": [
    {
      "cell_type": "markdown",
      "metadata": {
        "id": "view-in-github",
        "colab_type": "text"
      },
      "source": [
        "<a href=\"https://colab.research.google.com/github/resthiana12/Kelainan_Psikologis_CNN/blob/main/98_Depresi_1000_16b_3e.ipynb\" target=\"_parent\"><img src=\"https://colab.research.google.com/assets/colab-badge.svg\" alt=\"Open In Colab\"/></a>"
      ]
    },
    {
      "cell_type": "markdown",
      "metadata": {
        "id": "6A_QnXzyGKfb"
      },
      "source": [
        "**#Install Package yang Dibutuhkan**"
      ]
    },
    {
      "cell_type": "code",
      "metadata": {
        "id": "jE7-3YxZFucC",
        "colab": {
          "base_uri": "https://localhost:8080/"
        },
        "outputId": "dc157c82-07e4-4d26-b74a-34a48ee9b7f1"
      },
      "source": [
        "pip install emot"
      ],
      "execution_count": 1,
      "outputs": [
        {
          "output_type": "stream",
          "name": "stdout",
          "text": [
            "Requirement already satisfied: emot in /usr/local/lib/python3.7/dist-packages (3.1)\n"
          ]
        }
      ]
    },
    {
      "cell_type": "code",
      "metadata": {
        "id": "jc7IL70qGcn5",
        "colab": {
          "base_uri": "https://localhost:8080/"
        },
        "outputId": "0a1ed7d8-78f8-4eca-9cb8-f4eebeb859d4"
      },
      "source": [
        "pip install emoji"
      ],
      "execution_count": 2,
      "outputs": [
        {
          "output_type": "stream",
          "name": "stdout",
          "text": [
            "Requirement already satisfied: emoji in /usr/local/lib/python3.7/dist-packages (1.5.0)\n"
          ]
        }
      ]
    },
    {
      "cell_type": "code",
      "metadata": {
        "id": "QwaReWdEGjFP",
        "colab": {
          "base_uri": "https://localhost:8080/"
        },
        "outputId": "3abdf5b2-b8b9-4424-f62c-b602efd9a966"
      },
      "source": [
        "pip install sastrawi"
      ],
      "execution_count": 3,
      "outputs": [
        {
          "output_type": "stream",
          "name": "stdout",
          "text": [
            "Requirement already satisfied: sastrawi in /usr/local/lib/python3.7/dist-packages (1.0.1)\n"
          ]
        }
      ]
    },
    {
      "cell_type": "code",
      "metadata": {
        "id": "DctZrsGDGnnq",
        "colab": {
          "base_uri": "https://localhost:8080/"
        },
        "outputId": "7e20e0fc-065d-4abd-98d1-ae26b3a41812"
      },
      "source": [
        "pip install swifter"
      ],
      "execution_count": 4,
      "outputs": [
        {
          "output_type": "stream",
          "name": "stdout",
          "text": [
            "Requirement already satisfied: swifter in /usr/local/lib/python3.7/dist-packages (1.0.9)\n",
            "Requirement already satisfied: dask[dataframe]>=2.10.0 in /usr/local/lib/python3.7/dist-packages (from swifter) (2.12.0)\n",
            "Requirement already satisfied: bleach>=3.1.1 in /usr/local/lib/python3.7/dist-packages (from swifter) (4.1.0)\n",
            "Requirement already satisfied: parso>0.4.0 in /usr/local/lib/python3.7/dist-packages (from swifter) (0.8.2)\n",
            "Requirement already satisfied: pandas>=1.0.0 in /usr/local/lib/python3.7/dist-packages (from swifter) (1.1.5)\n",
            "Requirement already satisfied: tqdm>=4.33.0 in /usr/local/lib/python3.7/dist-packages (from swifter) (4.62.2)\n",
            "Requirement already satisfied: psutil>=5.6.6 in /usr/local/lib/python3.7/dist-packages (from swifter) (5.8.0)\n",
            "Requirement already satisfied: cloudpickle>=0.2.2 in /usr/local/lib/python3.7/dist-packages (from swifter) (1.3.0)\n",
            "Requirement already satisfied: ipywidgets>=7.0.0 in /usr/local/lib/python3.7/dist-packages (from swifter) (7.6.5)\n",
            "Requirement already satisfied: webencodings in /usr/local/lib/python3.7/dist-packages (from bleach>=3.1.1->swifter) (0.5.1)\n",
            "Requirement already satisfied: six>=1.9.0 in /usr/local/lib/python3.7/dist-packages (from bleach>=3.1.1->swifter) (1.15.0)\n",
            "Requirement already satisfied: packaging in /usr/local/lib/python3.7/dist-packages (from bleach>=3.1.1->swifter) (21.0)\n",
            "Requirement already satisfied: fsspec>=0.6.0 in /usr/local/lib/python3.7/dist-packages (from dask[dataframe]>=2.10.0->swifter) (2021.8.1)\n",
            "Requirement already satisfied: partd>=0.3.10 in /usr/local/lib/python3.7/dist-packages (from dask[dataframe]>=2.10.0->swifter) (1.2.0)\n",
            "Requirement already satisfied: toolz>=0.7.3 in /usr/local/lib/python3.7/dist-packages (from dask[dataframe]>=2.10.0->swifter) (0.11.1)\n",
            "Requirement already satisfied: numpy>=1.13.0 in /usr/local/lib/python3.7/dist-packages (from dask[dataframe]>=2.10.0->swifter) (1.19.5)\n",
            "Requirement already satisfied: jupyterlab-widgets>=1.0.0 in /usr/local/lib/python3.7/dist-packages (from ipywidgets>=7.0.0->swifter) (1.0.2)\n",
            "Requirement already satisfied: nbformat>=4.2.0 in /usr/local/lib/python3.7/dist-packages (from ipywidgets>=7.0.0->swifter) (5.1.3)\n",
            "Requirement already satisfied: traitlets>=4.3.1 in /usr/local/lib/python3.7/dist-packages (from ipywidgets>=7.0.0->swifter) (5.1.0)\n",
            "Requirement already satisfied: ipython-genutils~=0.2.0 in /usr/local/lib/python3.7/dist-packages (from ipywidgets>=7.0.0->swifter) (0.2.0)\n",
            "Requirement already satisfied: ipython>=4.0.0 in /usr/local/lib/python3.7/dist-packages (from ipywidgets>=7.0.0->swifter) (5.5.0)\n",
            "Requirement already satisfied: widgetsnbextension~=3.5.0 in /usr/local/lib/python3.7/dist-packages (from ipywidgets>=7.0.0->swifter) (3.5.1)\n",
            "Requirement already satisfied: ipykernel>=4.5.1 in /usr/local/lib/python3.7/dist-packages (from ipywidgets>=7.0.0->swifter) (4.10.1)\n",
            "Requirement already satisfied: tornado>=4.0 in /usr/local/lib/python3.7/dist-packages (from ipykernel>=4.5.1->ipywidgets>=7.0.0->swifter) (5.1.1)\n",
            "Requirement already satisfied: jupyter-client in /usr/local/lib/python3.7/dist-packages (from ipykernel>=4.5.1->ipywidgets>=7.0.0->swifter) (5.3.5)\n",
            "Requirement already satisfied: prompt-toolkit<2.0.0,>=1.0.4 in /usr/local/lib/python3.7/dist-packages (from ipython>=4.0.0->ipywidgets>=7.0.0->swifter) (1.0.18)\n",
            "Requirement already satisfied: pygments in /usr/local/lib/python3.7/dist-packages (from ipython>=4.0.0->ipywidgets>=7.0.0->swifter) (2.6.1)\n",
            "Requirement already satisfied: decorator in /usr/local/lib/python3.7/dist-packages (from ipython>=4.0.0->ipywidgets>=7.0.0->swifter) (4.4.2)\n",
            "Requirement already satisfied: pexpect in /usr/local/lib/python3.7/dist-packages (from ipython>=4.0.0->ipywidgets>=7.0.0->swifter) (4.8.0)\n",
            "Requirement already satisfied: setuptools>=18.5 in /usr/local/lib/python3.7/dist-packages (from ipython>=4.0.0->ipywidgets>=7.0.0->swifter) (57.4.0)\n",
            "Requirement already satisfied: pickleshare in /usr/local/lib/python3.7/dist-packages (from ipython>=4.0.0->ipywidgets>=7.0.0->swifter) (0.7.5)\n",
            "Requirement already satisfied: simplegeneric>0.8 in /usr/local/lib/python3.7/dist-packages (from ipython>=4.0.0->ipywidgets>=7.0.0->swifter) (0.8.1)\n",
            "Requirement already satisfied: jsonschema!=2.5.0,>=2.4 in /usr/local/lib/python3.7/dist-packages (from nbformat>=4.2.0->ipywidgets>=7.0.0->swifter) (2.6.0)\n",
            "Requirement already satisfied: jupyter-core in /usr/local/lib/python3.7/dist-packages (from nbformat>=4.2.0->ipywidgets>=7.0.0->swifter) (4.7.1)\n",
            "Requirement already satisfied: python-dateutil>=2.7.3 in /usr/local/lib/python3.7/dist-packages (from pandas>=1.0.0->swifter) (2.8.2)\n",
            "Requirement already satisfied: pytz>=2017.2 in /usr/local/lib/python3.7/dist-packages (from pandas>=1.0.0->swifter) (2018.9)\n",
            "Requirement already satisfied: locket in /usr/local/lib/python3.7/dist-packages (from partd>=0.3.10->dask[dataframe]>=2.10.0->swifter) (0.2.1)\n",
            "Requirement already satisfied: wcwidth in /usr/local/lib/python3.7/dist-packages (from prompt-toolkit<2.0.0,>=1.0.4->ipython>=4.0.0->ipywidgets>=7.0.0->swifter) (0.2.5)\n",
            "Requirement already satisfied: notebook>=4.4.1 in /usr/local/lib/python3.7/dist-packages (from widgetsnbextension~=3.5.0->ipywidgets>=7.0.0->swifter) (5.3.1)\n",
            "Requirement already satisfied: terminado>=0.8.1 in /usr/local/lib/python3.7/dist-packages (from notebook>=4.4.1->widgetsnbextension~=3.5.0->ipywidgets>=7.0.0->swifter) (0.12.1)\n",
            "Requirement already satisfied: jinja2 in /usr/local/lib/python3.7/dist-packages (from notebook>=4.4.1->widgetsnbextension~=3.5.0->ipywidgets>=7.0.0->swifter) (2.11.3)\n",
            "Requirement already satisfied: Send2Trash in /usr/local/lib/python3.7/dist-packages (from notebook>=4.4.1->widgetsnbextension~=3.5.0->ipywidgets>=7.0.0->swifter) (1.8.0)\n",
            "Requirement already satisfied: nbconvert in /usr/local/lib/python3.7/dist-packages (from notebook>=4.4.1->widgetsnbextension~=3.5.0->ipywidgets>=7.0.0->swifter) (5.6.1)\n",
            "Requirement already satisfied: pyzmq>=13 in /usr/local/lib/python3.7/dist-packages (from jupyter-client->ipykernel>=4.5.1->ipywidgets>=7.0.0->swifter) (22.2.1)\n",
            "Requirement already satisfied: ptyprocess in /usr/local/lib/python3.7/dist-packages (from terminado>=0.8.1->notebook>=4.4.1->widgetsnbextension~=3.5.0->ipywidgets>=7.0.0->swifter) (0.7.0)\n",
            "Requirement already satisfied: MarkupSafe>=0.23 in /usr/local/lib/python3.7/dist-packages (from jinja2->notebook>=4.4.1->widgetsnbextension~=3.5.0->ipywidgets>=7.0.0->swifter) (2.0.1)\n",
            "Requirement already satisfied: entrypoints>=0.2.2 in /usr/local/lib/python3.7/dist-packages (from nbconvert->notebook>=4.4.1->widgetsnbextension~=3.5.0->ipywidgets>=7.0.0->swifter) (0.3)\n",
            "Requirement already satisfied: defusedxml in /usr/local/lib/python3.7/dist-packages (from nbconvert->notebook>=4.4.1->widgetsnbextension~=3.5.0->ipywidgets>=7.0.0->swifter) (0.7.1)\n",
            "Requirement already satisfied: testpath in /usr/local/lib/python3.7/dist-packages (from nbconvert->notebook>=4.4.1->widgetsnbextension~=3.5.0->ipywidgets>=7.0.0->swifter) (0.5.0)\n",
            "Requirement already satisfied: mistune<2,>=0.8.1 in /usr/local/lib/python3.7/dist-packages (from nbconvert->notebook>=4.4.1->widgetsnbextension~=3.5.0->ipywidgets>=7.0.0->swifter) (0.8.4)\n",
            "Requirement already satisfied: pandocfilters>=1.4.1 in /usr/local/lib/python3.7/dist-packages (from nbconvert->notebook>=4.4.1->widgetsnbextension~=3.5.0->ipywidgets>=7.0.0->swifter) (1.5.0)\n",
            "Requirement already satisfied: pyparsing>=2.0.2 in /usr/local/lib/python3.7/dist-packages (from packaging->bleach>=3.1.1->swifter) (2.4.7)\n"
          ]
        }
      ]
    },
    {
      "cell_type": "markdown",
      "metadata": {
        "id": "gHNR4IAlHFAf"
      },
      "source": [
        "**#Load Library**"
      ]
    },
    {
      "cell_type": "code",
      "metadata": {
        "colab": {
          "base_uri": "https://localhost:8080/"
        },
        "id": "Tby6RCM4lZoZ",
        "outputId": "26ee7f17-6af2-4102-e67c-49ca6d9ec84e"
      },
      "source": [
        "#load library\n",
        "import nltk                             \n",
        "import matplotlib.pyplot as plt           \n",
        "import random  \n",
        "nltk.download('stopwords')\n",
        "nltk.download('punkt')\n",
        "nltk.download('words')\n",
        "import numpy as np\n",
        "import pandas as pd\n",
        "import re                                  \n",
        "import string                             \n",
        "from nltk.corpus import stopwords \n",
        "from nltk.stem import PorterStemmer\n",
        "from nltk.tokenize import TweetTokenizer \n",
        "from nltk import pos_tag, word_tokenize\n",
        "from nltk.tokenize import word_tokenize\n",
        "from nltk.corpus import words\n",
        "import emoji\n",
        "#from emot.emo_unicode import UNICODE_EMO, EMOTICONS\n",
        "from Sastrawi.Stemmer.StemmerFactory import StemmerFactory\n",
        "import swifter\n",
        "from wordcloud import WordCloud "
      ],
      "execution_count": 5,
      "outputs": [
        {
          "output_type": "stream",
          "name": "stdout",
          "text": [
            "[nltk_data] Downloading package stopwords to /root/nltk_data...\n",
            "[nltk_data]   Package stopwords is already up-to-date!\n",
            "[nltk_data] Downloading package punkt to /root/nltk_data...\n",
            "[nltk_data]   Package punkt is already up-to-date!\n",
            "[nltk_data] Downloading package words to /root/nltk_data...\n",
            "[nltk_data]   Package words is already up-to-date!\n"
          ]
        }
      ]
    },
    {
      "cell_type": "markdown",
      "metadata": {
        "id": "KCFWa0RfHL4d"
      },
      "source": [
        "**Preprocessing**"
      ]
    },
    {
      "cell_type": "code",
      "metadata": {
        "id": "6cO4NsaRHPUF"
      },
      "source": [
        "stop = pd.read_csv(\"drive/MyDrive/stopwords.txt\", names= [\"stopwords\"], header = None)\n",
        "stop['stopwords']\n",
        "# Defining my NLTK stop words and my user-defined stop words\n",
        "stop_words = list(stopwords.words('indonesian'))\n",
        "# ---------------------------- manualy add stopword  ------------------------------------\n",
        "# append additional stopword\n",
        "user_stopwords = ['yg', 'dg', 'rt', 'dgn', 'ny', 'd', 'klo', \n",
        "                       'kalo', 'amp', 'biar', 'bikin', 'bilang', \n",
        "                       'gak', 'ga', 'krn', 'nya', 'nih', 'sih', 'na',\n",
        "                       'si', 'tau', 'tdk', 'tuh', 'utk', 'ya', 'ber',\n",
        "                       'jd', 'jgn', 'sdh', 'aja', 'n', 't', 's','lhaa',\n",
        "                       'qrt', 'd', 'ayyy', 'eptember', 'tu', 'kat', 'd',\n",
        "                        'bdhshshhs', 'denngan','ba', 'ah', 'tuu', 'kaann', \n",
        "                       'nyg', 'hehe', 'pen', 'u', 'nan', 'loh', 'rt', 'je',\n",
        "                       '&amp', 'yah', 'x', 'xf', 'xe', 'first', 'second',\n",
        "                        'the', 'to', 'yaa', 'dirut', 'la', 'pon']\n",
        "alphabets = list(string.ascii_lowercase)\n",
        "stop_words_fix = stop_words + alphabets + stop['stopwords'].to_list()\n",
        "\n",
        "# Function to remove punctuations, links, emojis, and stop words\n",
        "def preprocessTweets(tweet):\n",
        "    tweet = tweet.lower()  #has to be in place\n",
        "    #Remove 'b\n",
        "    tweet = re.sub(r\"b'\", '', tweet)\n",
        "    # Remove urls dan trash\n",
        "    tweet = re.sub(r\"http\\S+|\\\\x\\S+|www\\S+|https\\S+|dot|com\", '', tweet, flags=re.MULTILINE)\n",
        "    # Remove user @ references and '#' from tweet\n",
        "    tweet = re.sub(r'\\@\\w+|\\#|\\d+', '', tweet)\n",
        "    # Remove stopwords\n",
        "    tweet_tokens = word_tokenize(tweet)  # convert string to tokens\n",
        "    filtered_words = [w for w in tweet_tokens if w not in stop_words_fix]\n",
        "    filtered_words = [w for w in tweet_tokens if w not in user_stopwords]\n",
        "\n",
        "    # Remove punctuations\n",
        "    unpunctuated_words = [char for char in filtered_words if char not in string.punctuation]\n",
        "    unpunctuated_words = ' '.join(unpunctuated_words)\n",
        "\n",
        "    return \"\".join(unpunctuated_words)  # join words with a space in between them\n",
        "\n",
        "def tokenkan(text):    \n",
        "  tokens = nltk.tokenize.word_tokenize(text)\n",
        "  return tokens\n",
        "\n",
        "normalizad_word = pd.read_excel(\"drive/MyDrive/normalisasi.xlsx\")\n",
        "normalizad_word_dict = {}\n",
        "for index, row in normalizad_word.iterrows():\n",
        "    if row[0] not in normalizad_word_dict:\n",
        "        normalizad_word_dict[row[0]] = row[1] \n",
        "\n",
        "def normalized_term(document):\n",
        "    return [normalizad_word_dict[term] if term in normalizad_word_dict else term for term in document]\n",
        "\n",
        "def stopwords_removal(words):\n",
        "    return [word for word in words if word not in stop_words]\n",
        "\n",
        "def remove_punct(text):\n",
        "  text_nopunct = ''\n",
        "  text_nopunct = re.sub('['+string.punctuation+']', '', text)\n",
        "  return text_nopunct"
      ],
      "execution_count": 6,
      "outputs": []
    },
    {
      "cell_type": "markdown",
      "metadata": {
        "id": "KqbBWRUErxjO"
      },
      "source": [
        "#Import Libraries"
      ]
    },
    {
      "cell_type": "code",
      "metadata": {
        "id": "a2JRA9A0rwui"
      },
      "source": [
        "import numpy as np\n",
        "import pandas as pd\n",
        "from gensim.models.word2vec import Word2Vec\n",
        "from sklearn.model_selection import train_test_split\n",
        "from tensorflow.keras.utils import to_categorical\n",
        "from keras.layers import Dense, Dropout, Conv1D, MaxPool1D, GlobalMaxPool1D, Embedding, Activation\n",
        "from keras.preprocessing.text import Tokenizer\n",
        "from keras.preprocessing.sequence import pad_sequences\n",
        "from keras.models import Sequential\n",
        "import re\n",
        "import nltk\n",
        "from nltk.corpus import stopwords\n",
        "from nltk.stem.snowball import PorterStemmer\n",
        "from sklearn import preprocessing"
      ],
      "execution_count": 7,
      "outputs": []
    },
    {
      "cell_type": "code",
      "metadata": {
        "id": "4EeZ-wfqEZlW",
        "colab": {
          "base_uri": "https://localhost:8080/",
          "height": 202
        },
        "outputId": "bc9b3dab-39fa-44bc-9259-d3340578781e"
      },
      "source": [
        "df = pd.read_csv('drive/MyDrive/data_psyco/Text_Preprocessing_Depres_Suicide_Fix.csv').astype(str)\n",
        "#df.drop(['Unnamed: 0', 'Postingan', 'Postingan_Tokenkan', 'Postingan_Normalized'], axis=1, inplace=True)\n",
        "df.columns = ['Category', 'Message']\n",
        "df['Message'] = df['Message'].apply(remove_punct)\n",
        "df.head()"
      ],
      "execution_count": 8,
      "outputs": [
        {
          "output_type": "execute_result",
          "data": {
            "text/html": [
              "<div>\n",
              "<style scoped>\n",
              "    .dataframe tbody tr th:only-of-type {\n",
              "        vertical-align: middle;\n",
              "    }\n",
              "\n",
              "    .dataframe tbody tr th {\n",
              "        vertical-align: top;\n",
              "    }\n",
              "\n",
              "    .dataframe thead th {\n",
              "        text-align: right;\n",
              "    }\n",
              "</style>\n",
              "<table border=\"1\" class=\"dataframe\">\n",
              "  <thead>\n",
              "    <tr style=\"text-align: right;\">\n",
              "      <th></th>\n",
              "      <th>Category</th>\n",
              "      <th>Message</th>\n",
              "    </tr>\n",
              "  </thead>\n",
              "  <tbody>\n",
              "    <tr>\n",
              "      <th>0</th>\n",
              "      <td>1</td>\n",
              "      <td>persetan</td>\n",
              "    </tr>\n",
              "    <tr>\n",
              "      <th>1</th>\n",
              "      <td>1</td>\n",
              "      <td>maaf</td>\n",
              "    </tr>\n",
              "    <tr>\n",
              "      <th>2</th>\n",
              "      <td>1</td>\n",
              "      <td>juang keras hidup hapus tweet selesai sukses t...</td>\n",
              "    </tr>\n",
              "    <tr>\n",
              "      <th>3</th>\n",
              "      <td>1</td>\n",
              "      <td>pria sehat kondisi mental hidup pikir laku lel...</td>\n",
              "    </tr>\n",
              "    <tr>\n",
              "      <th>4</th>\n",
              "      <td>1</td>\n",
              "      <td>pergi orang coba komunikasi orang pegang pikir...</td>\n",
              "    </tr>\n",
              "  </tbody>\n",
              "</table>\n",
              "</div>"
            ],
            "text/plain": [
              "  Category                                            Message\n",
              "0        1                                           persetan\n",
              "1        1                                               maaf\n",
              "2        1  juang keras hidup hapus tweet selesai sukses t...\n",
              "3        1  pria sehat kondisi mental hidup pikir laku lel...\n",
              "4        1  pergi orang coba komunikasi orang pegang pikir..."
            ]
          },
          "metadata": {},
          "execution_count": 8
        }
      ]
    },
    {
      "cell_type": "code",
      "metadata": {
        "colab": {
          "base_uri": "https://localhost:8080/",
          "height": 315
        },
        "id": "ISu6vL3IuAhA",
        "outputId": "2fe69a94-3e35-4995-e63d-a06d0d68320b"
      },
      "source": [
        "#check the distribution of lebels\n",
        "labels = df['Category']\n",
        "labels_count = labels.value_counts()\n",
        "labels_count.plot(kind=\"bar\")\n",
        "print(labels.value_counts())"
      ],
      "execution_count": 9,
      "outputs": [
        {
          "output_type": "stream",
          "name": "stdout",
          "text": [
            "0    839\n",
            "1    837\n",
            "Name: Category, dtype: int64\n"
          ]
        },
        {
          "output_type": "display_data",
          "data": {
            "image/png": "[encoded data removed]",
            "text/plain": [
              "<Figure size 432x288 with 1 Axes>"
            ]
          },
          "metadata": {
            "needs_background": "light"
          }
        }
      ]
    },
    {
      "cell_type": "code",
      "metadata": {
        "colab": {
          "base_uri": "https://localhost:8080/"
        },
        "id": "1y7TKJFdrhiQ",
        "outputId": "082cc4b6-ca3a-4f63-a34b-fb9474fa699b"
      },
      "source": [
        "mes = []\n",
        "for i in df['Message']:\n",
        "    mes.append(i.split())\n",
        "print(mes[:2])"
      ],
      "execution_count": 10,
      "outputs": [
        {
          "output_type": "stream",
          "name": "stdout",
          "text": [
            "[['persetan'], ['maaf']]\n"
          ]
        }
      ]
    },
    {
      "cell_type": "code",
      "metadata": {
        "colab": {
          "base_uri": "https://localhost:8080/"
        },
        "id": "_f6L44Cxrogw",
        "outputId": "dce31ecf-0216-4fb3-92a3-85eab3b79e6e"
      },
      "source": [
        "word2vec_model = Word2Vec(mes, size=500, window=3, min_count=1, workers=15)\n",
        "print(word2vec_model)"
      ],
      "execution_count": 11,
      "outputs": [
        {
          "output_type": "stream",
          "name": "stdout",
          "text": [
            "Word2Vec(vocab=4205, size=500, alpha=0.025)\n"
          ]
        }
      ]
    },
    {
      "cell_type": "code",
      "metadata": {
        "colab": {
          "base_uri": "https://localhost:8080/"
        },
        "id": "kqOfRnIqsBkV",
        "outputId": "95e08a56-7aea-4e7c-c9bf-21d3e2da323b"
      },
      "source": [
        "token = Tokenizer(4205)\n",
        "token.fit_on_texts(df['Message'])\n",
        "text = token.texts_to_sequences(df['Message'])\n",
        "text = pad_sequences(text, 75)\n",
        "print(text[:2])"
      ],
      "execution_count": 12,
      "outputs": [
        {
          "output_type": "stream",
          "name": "stdout",
          "text": [
            "[[  0   0   0   0   0   0   0   0   0   0   0   0   0   0   0   0   0   0\n",
            "    0   0   0   0   0   0   0   0   0   0   0   0   0   0   0   0   0   0\n",
            "    0   0   0   0   0   0   0   0   0   0   0   0   0   0   0   0   0   0\n",
            "    0   0   0   0   0   0   0   0   0   0   0   0   0   0   0   0   0   0\n",
            "    0   0 445]\n",
            " [  0   0   0   0   0   0   0   0   0   0   0   0   0   0   0   0   0   0\n",
            "    0   0   0   0   0   0   0   0   0   0   0   0   0   0   0   0   0   0\n",
            "    0   0   0   0   0   0   0   0   0   0   0   0   0   0   0   0   0   0\n",
            "    0   0   0   0   0   0   0   0   0   0   0   0   0   0   0   0   0   0\n",
            "    0   0 102]]\n"
          ]
        }
      ]
    },
    {
      "cell_type": "code",
      "metadata": {
        "colab": {
          "base_uri": "https://localhost:8080/"
        },
        "id": "-hAACB-esQxi",
        "outputId": "2d447a5c-a312-44d4-a361-bfad741b42e2"
      },
      "source": [
        "le = preprocessing.LabelEncoder()\n",
        "y = le.fit_transform(df['Category'])\n",
        "y = to_categorical(y)\n",
        "y[:2]"
      ],
      "execution_count": 13,
      "outputs": [
        {
          "output_type": "execute_result",
          "data": {
            "text/plain": [
              "array([[0., 1.],\n",
              "       [0., 1.]], dtype=float32)"
            ]
          },
          "metadata": {},
          "execution_count": 13
        }
      ]
    },
    {
      "cell_type": "code",
      "metadata": {
        "id": "2sDBJsoKstc5"
      },
      "source": [
        "x_train, x_test, y_train, y_test = train_test_split(np.array(text), y, test_size=0.2, stratify=y)"
      ],
      "execution_count": 14,
      "outputs": []
    },
    {
      "cell_type": "code",
      "metadata": {
        "id": "61YcjstLsy6s"
      },
      "source": [
        "keras_model = Sequential()\n",
        "keras_model.add(word2vec_model.wv.get_keras_embedding(True))\n",
        "keras_model.add(Dropout(0.2))\n",
        "keras_model.add(Conv1D(50, 3, activation='relu', padding='same', strides=1))\n",
        "keras_model.add(Conv1D(50, 3, activation='relu', padding='same', strides=1))\n",
        "keras_model.add(MaxPool1D())\n",
        "keras_model.add(Dropout(0.2))\n",
        "keras_model.add(Conv1D(100, 3, activation='relu', padding='same', strides=1))\n",
        "keras_model.add(Conv1D(100, 3, activation='relu', padding='same', strides=1))\n",
        "keras_model.add(MaxPool1D())\n",
        "keras_model.add(Dropout(0.2))\n",
        "keras_model.add(Conv1D(200, 3, activation='relu', padding='same', strides=1))\n",
        "keras_model.add(Conv1D(200, 3, activation='relu', padding='same', strides=1))\n",
        "keras_model.add(GlobalMaxPool1D())\n",
        "keras_model.add(Dropout(0.2))\n",
        "keras_model.add(Dense(200))\n",
        "keras_model.add(Activation('relu'))\n",
        "keras_model.add(Dropout(0.2))\n",
        "keras_model.add(Dense(2))\n",
        "keras_model.add(Activation('sigmoid'))\n",
        "keras_model.compile(loss='binary_crossentropy', metrics=['acc'], optimizer='adam')"
      ],
      "execution_count": 15,
      "outputs": []
    },
    {
      "cell_type": "code",
      "metadata": {
        "colab": {
          "base_uri": "https://localhost:8080/"
        },
        "id": "cM2S7ThAtz6E",
        "outputId": "67066736-233f-4292-a0e1-6f6b60f3dbae"
      },
      "source": [
        "history = keras_model.fit(x_train, y_train, batch_size=16, epochs=3, validation_data=(x_test, y_test))"
      ],
      "execution_count": 16,
      "outputs": [
        {
          "output_type": "stream",
          "name": "stdout",
          "text": [
            "Epoch 1/3\n",
            "84/84 [==============================] - 8s 84ms/step - loss: 0.6185 - acc: 0.5813 - val_loss: 0.3786 - val_acc: 0.8958\n",
            "Epoch 2/3\n",
            "84/84 [==============================] - 7s 79ms/step - loss: 0.3203 - acc: 0.8858 - val_loss: 0.2764 - val_acc: 0.9107\n",
            "Epoch 3/3\n",
            "84/84 [==============================] - 7s 79ms/step - loss: 0.2174 - acc: 0.9231 - val_loss: 0.2032 - val_acc: 0.9256\n"
          ]
        }
      ]
    },
    {
      "cell_type": "code",
      "metadata": {
        "colab": {
          "base_uri": "https://localhost:8080/"
        },
        "id": "zPYLJ_RVvIUc",
        "outputId": "4cb8f820-b9d3-46ce-8f05-90ee7e1f920e"
      },
      "source": [
        "#analyze the results\n",
        "score, acc = keras_model.evaluate(x_test, y_test, verbose = 2, batch_size=16)\n",
        "y_pred = keras_model.predict(x_test)\n",
        "#print(y_pred)"
      ],
      "execution_count": 17,
      "outputs": [
        {
          "output_type": "stream",
          "name": "stdout",
          "text": [
            "21/21 - 0s - loss: 0.2032 - acc: 0.9256\n"
          ]
        }
      ]
    },
    {
      "cell_type": "code",
      "metadata": {
        "id": "VNkDDiqFvaWX"
      },
      "source": [
        "#Other accuracy metrices\n",
        "#y_pred = (y_pred > 0.5)"
      ],
      "execution_count": 18,
      "outputs": []
    },
    {
      "cell_type": "code",
      "metadata": {
        "colab": {
          "base_uri": "https://localhost:8080/",
          "height": 455
        },
        "id": "A_aUR_BqvdcN",
        "outputId": "67e6a549-c0b3-41ed-9038-3e82ddf8bdf1"
      },
      "source": [
        "from sklearn.metrics import confusion_matrix, classification_report\n",
        "import seaborn as sns\n",
        "\n",
        "cm=confusion_matrix(y_test.argmax(axis=1),y_pred.argmax(axis=1))\n",
        "ax=sns.heatmap(cm,annot=True,cmap='Blues',fmt='')\n",
        "ax.set_title('Confusion Matrix')\n",
        "ax.set_xlabel('y_test')\n",
        "ax.set_ylabel('y_pred')\n",
        "\n",
        "#F1 Score, Recall and Precision\n",
        "print(classification_report(y_test.argmax(axis=1), y_pred.argmax(axis=1)))"
      ],
      "execution_count": 19,
      "outputs": [
        {
          "output_type": "stream",
          "name": "stdout",
          "text": [
            "              precision    recall  f1-score   support\n",
            "\n",
            "           0       0.94      0.91      0.92       168\n",
            "           1       0.91      0.94      0.93       168\n",
            "\n",
            "    accuracy                           0.93       336\n",
            "   macro avg       0.93      0.93      0.93       336\n",
            "weighted avg       0.93      0.93      0.93       336\n",
            "\n"
          ]
        },
        {
          "output_type": "display_data",
          "data": {
            "image/png": "[encoded data removed]",
            "text/plain": [
              "<Figure size 432x288 with 2 Axes>"
            ]
          },
          "metadata": {
            "needs_background": "light"
          }
        }
      ]
    },
    {
      "cell_type": "code",
      "metadata": {
        "id": "K3Y-pmHYwlaF"
      },
      "source": [
        "import matplotlib.pyplot as plt"
      ],
      "execution_count": 20,
      "outputs": []
    },
    {
      "cell_type": "code",
      "metadata": {
        "colab": {
          "base_uri": "https://localhost:8080/",
          "height": 336
        },
        "id": "N0z2R2VJwn9a",
        "outputId": "64f37bb0-74d5-4aa3-eb5e-e1ad63d5ed83"
      },
      "source": [
        "plt.style.use('ggplot')\n",
        "\n",
        "def plot_history(history):\n",
        "    accuracy = history.history['acc']\n",
        "    val_accuracy = history.history['val_acc']\n",
        "    loss = history.history['loss']\n",
        "    val_loss = history.history['val_loss']\n",
        "    x = range(1, len(accuracy) + 1)\n",
        "\n",
        "    plt.figure(figsize=(12, 5))\n",
        "    plt.subplot(1, 2, 1)\n",
        "    plt.plot(x, accuracy, 'b', label='Training accuracy')\n",
        "    plt.plot(x, val_accuracy, 'r', label='Validation accuracy')\n",
        "    plt.title('Training and validation accuracy')\n",
        "    plt.legend()\n",
        "    plt.subplot(1, 2, 2)\n",
        "    plt.plot(x, loss, 'b', label='Training loss')\n",
        "    plt.plot(x, val_loss, 'r', label='Validation loss')\n",
        "    plt.title('Training and validation loss')\n",
        "    plt.legend()\n",
        "\n",
        "%matplotlib inline\n",
        "plot_history(history)"
      ],
      "execution_count": 21,
      "outputs": [
        {
          "output_type": "display_data",
          "data": {
            "image/png": "[encoded data removed]",
            "text/plain": [
              "<Figure size 864x360 with 2 Axes>"
            ]
          },
          "metadata": {
            "needs_background": "light"
          }
        }
      ]
    },
    {
      "cell_type": "code",
      "metadata": {
        "id": "bT21pR2Gw0mi"
      },
      "source": [
        "keras_model.save('drive/MyDrive/data_psyco/otw_sidang_sigmoid/98_depresi_1000_and_suicide_cnn_16b_3e.h5')"
      ],
      "execution_count": 26,
      "outputs": []
    },
    {
      "cell_type": "markdown",
      "metadata": {
        "id": "JoBQ6DRp4QM8"
      },
      "source": [
        "# Import Libraries"
      ]
    },
    {
      "cell_type": "code",
      "metadata": {
        "id": "RB6JItCcrB8K"
      },
      "source": [
        "def text_preprocessing(text):\n",
        "  df['preprocess_awal'] = text.apply(preprocessTweets)\n",
        "  df['tokenkan'] = df['preprocess_awal'].apply(tokenkan)\n",
        "  df['normalized'] = df['tokenkan'].apply(normalized_term)\n",
        "  df['normalized'] = df['normalized'].apply(stopwords_removal)\n",
        "\n",
        "  # create stemmer\n",
        "  factory = StemmerFactory()\n",
        "  stemmer = factory.create_stemmer()\n",
        "\n",
        "  # stemmed\n",
        "  def stemmed_wrapper(term):\n",
        "      return stemmer.stem(term)\n",
        "\n",
        "  term_dict = {}\n",
        "\n",
        "  for document in df['normalized']:\n",
        "      for term in document:\n",
        "          if term not in term_dict:\n",
        "              term_dict[term] = ' '\n",
        "              \n",
        "  #print(len(term_dict))\n",
        "  print(\"------------------------\")\n",
        "\n",
        "  for term in term_dict:\n",
        "      term_dict[term] = stemmed_wrapper(term)\n",
        "      print(term,\":\" ,term_dict[term])\n",
        "      \n",
        "  #print(term_dict)\n",
        "  print(\"------------------------\")\n",
        "\n",
        "\n",
        "  # apply stemmed term to dataframe\n",
        "  def get_stemmed_term(document):\n",
        "      return [term_dict[term] for term in document]\n",
        "\n",
        "  df['stemmed'] = df['normalized'].swifter.apply(get_stemmed_term)\n",
        "  #print(df['stemmed'])\n",
        "\n",
        "  def remove_punct(text):\n",
        "    text_nopunct = ''\n",
        "    text_nopunct = re.sub('['+string.punctuation+']', '', text)\n",
        "    return text_nopunct\n",
        "\n",
        "  df['stemmed'] = df['stemmed'].astype(str)\n",
        "  df['stemmed'] = df['stemmed'].apply(remove_punct)"
      ],
      "execution_count": 23,
      "outputs": []
    },
    {
      "cell_type": "code",
      "metadata": {
        "colab": {
          "base_uri": "https://localhost:8080/",
          "height": 235,
          "referenced_widgets": [
            "f803e645dbfb4643b18d255f10a16977",
            "cdfab2445fbf47af982227627f8cf5ef",
            "1ff097c40c9942f3ac90438f38caa9f1",
            "d0141849030d4d0aa5e10d7bac88e5d2",
            "0862fc3fe2744de4bad41eaa9f2cbb21",
            "27da54e92d244cc5865b5a7de777b081",
            "e574cc26e60841f6b90691620cee5b7a",
            "23ff6d1caa2049b3b8a043f4e843d5ba",
            "e471e0e672f24b4a9fa994c911b62a48",
            "db59d0bad17d4c568df9c152a568ab56",
            "2d8e682b30004903805c1e0eec550b36"
          ]
        },
        "id": "nfaIMv6NLeRR",
        "outputId": "7b2c5298-61b2-49a7-ef7d-05a6d2006794"
      },
      "source": [
        "Xo = 'Aku ingin ice cream'\n",
        "Yo = 'lelah dengan hidup ini. Nak mati aku dah penat #depresi'\n",
        "datax = {'Postingan':[Yo]}\n",
        "df = pd.DataFrame(datax)\n",
        "text_preprocessing(df['Postingan'])\n",
        "df.head()"
      ],
      "execution_count": 24,
      "outputs": [
        {
          "output_type": "stream",
          "name": "stdout",
          "text": [
            "------------------------\n",
            "lelah : lelah\n",
            "hidup : hidup\n",
            "mati : mati\n",
            "penat : penat\n",
            "depresi : depresi\n",
            "------------------------\n"
          ]
        },
        {
          "output_type": "display_data",
          "data": {
            "application/vnd.jupyter.widget-view+json": {
              "model_id": "f803e645dbfb4643b18d255f10a16977",
              "version_minor": 0,
              "version_major": 2
            },
            "text/plain": [
              "Pandas Apply:   0%|          | 0/1 [00:00<?, ?it/s]"
            ]
          },
          "metadata": {}
        },
        {
          "output_type": "execute_result",
          "data": {
            "text/html": [
              "<div>\n",
              "<style scoped>\n",
              "    .dataframe tbody tr th:only-of-type {\n",
              "        vertical-align: middle;\n",
              "    }\n",
              "\n",
              "    .dataframe tbody tr th {\n",
              "        vertical-align: top;\n",
              "    }\n",
              "\n",
              "    .dataframe thead th {\n",
              "        text-align: right;\n",
              "    }\n",
              "</style>\n",
              "<table border=\"1\" class=\"dataframe\">\n",
              "  <thead>\n",
              "    <tr style=\"text-align: right;\">\n",
              "      <th></th>\n",
              "      <th>Postingan</th>\n",
              "      <th>preprocess_awal</th>\n",
              "      <th>tokenkan</th>\n",
              "      <th>normalized</th>\n",
              "      <th>stemmed</th>\n",
              "    </tr>\n",
              "  </thead>\n",
              "  <tbody>\n",
              "    <tr>\n",
              "      <th>0</th>\n",
              "      <td>lelah dengan hidup ini. Nak mati aku dah penat...</td>\n",
              "      <td>lelah dengan hidup ini nak mati aku dah penat ...</td>\n",
              "      <td>[lelah, dengan, hidup, ini, nak, mati, aku, da...</td>\n",
              "      <td>[lelah, hidup, mati, penat, depresi]</td>\n",
              "      <td>lelah hidup mati penat depresi</td>\n",
              "    </tr>\n",
              "  </tbody>\n",
              "</table>\n",
              "</div>"
            ],
            "text/plain": [
              "                                           Postingan  ...                         stemmed\n",
              "0  lelah dengan hidup ini. Nak mati aku dah penat...  ...  lelah hidup mati penat depresi\n",
              "\n",
              "[1 rows x 5 columns]"
            ]
          },
          "metadata": {},
          "execution_count": 24
        }
      ]
    },
    {
      "cell_type": "code",
      "metadata": {
        "id": "gb56dTejLmNq",
        "colab": {
          "base_uri": "https://localhost:8080/"
        },
        "outputId": "596c09ff-d669-4312-cf97-dae616a6c24e"
      },
      "source": [
        "X_sample = token.texts_to_sequences(df['stemmed'])\n",
        "print(X_sample)\n",
        "X_sample = pad_sequences(X_sample, 75)\n",
        "print(X_sample)\n",
        "y_sample = keras_model.predict(X_sample)\n",
        "print(y_sample)\n",
        "hasil = np.argmax(y_sample)\n",
        "\n",
        "print(hasil)\n",
        "if (hasil == 0) :\n",
        "  print('tidak mengidap gangguan psikologis')\n",
        "else:\n",
        "  print('mengidap gangguan psikologis')"
      ],
      "execution_count": 25,
      "outputs": [
        {
          "output_type": "stream",
          "name": "stdout",
          "text": [
            "[[48, 4, 2, 726, 1]]\n",
            "[[  0   0   0   0   0   0   0   0   0   0   0   0   0   0   0   0   0   0\n",
            "    0   0   0   0   0   0   0   0   0   0   0   0   0   0   0   0   0   0\n",
            "    0   0   0   0   0   0   0   0   0   0   0   0   0   0   0   0   0   0\n",
            "    0   0   0   0   0   0   0   0   0   0   0   0   0   0   0   0  48   4\n",
            "    2 726   1]]\n",
            "[[9.972803e-08 9.999997e-01]]\n",
            "1\n",
            "mengidap gangguan psikologis\n"
          ]
        }
      ]
    }
  ]
}