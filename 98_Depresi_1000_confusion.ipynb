{
  "nbformat": 4,
  "nbformat_minor": 0,
  "metadata": {
    "colab": {
      "name": "98_Depresi_1000.ipynb",
      "provenance": [],
      "collapsed_sections": [],
      "mount_file_id": "1eXZYwpgYu90QOf8Zeuz8TfDw3cVdkzTh",
      "authorship_tag": "ABX9TyNuTRJDdAtu8oIsomdaTEdT",
      "include_colab_link": true
    },
    "kernelspec": {
      "name": "python3",
      "display_name": "Python 3"
    },
    "language_info": {
      "name": "python"
    },
    "widgets": {
      "application/vnd.jupyter.widget-state+json": {
        "2a1eda5cf2284287b5d3b94d24cfb86f": {
          "model_module": "@jupyter-widgets/controls",
          "model_name": "HBoxModel",
          "model_module_version": "1.5.0",
          "state": {
            "_view_name": "HBoxView",
            "_dom_classes": [],
            "_model_name": "HBoxModel",
            "_view_module": "@jupyter-widgets/controls",
            "_model_module_version": "1.5.0",
            "_view_count": null,
            "_view_module_version": "1.5.0",
            "box_style": "",
            "layout": "IPY_MODEL_a88a40f7ce894824aa19ba4fec20ada0",
            "_model_module": "@jupyter-widgets/controls",
            "children": [
              "IPY_MODEL_39777e99c75b4866ad507036fd9cf119",
              "IPY_MODEL_51b0b9818a7840cdab5bf2b1898ead2a",
              "IPY_MODEL_ea4aab354eaa4d53bf078dded86178bf"
            ]
          }
        },
        "a88a40f7ce894824aa19ba4fec20ada0": {
          "model_module": "@jupyter-widgets/base",
          "model_name": "LayoutModel",
          "model_module_version": "1.2.0",
          "state": {
            "_view_name": "LayoutView",
            "grid_template_rows": null,
            "right": null,
            "justify_content": null,
            "_view_module": "@jupyter-widgets/base",
            "overflow": null,
            "_model_module_version": "1.2.0",
            "_view_count": null,
            "flex_flow": null,
            "width": null,
            "min_width": null,
            "border": null,
            "align_items": null,
            "bottom": null,
            "_model_module": "@jupyter-widgets/base",
            "top": null,
            "grid_column": null,
            "overflow_y": null,
            "overflow_x": null,
            "grid_auto_flow": null,
            "grid_area": null,
            "grid_template_columns": null,
            "flex": null,
            "_model_name": "LayoutModel",
            "justify_items": null,
            "grid_row": null,
            "max_height": null,
            "align_content": null,
            "visibility": null,
            "align_self": null,
            "height": null,
            "min_height": null,
            "padding": null,
            "grid_auto_rows": null,
            "grid_gap": null,
            "max_width": null,
            "order": null,
            "_view_module_version": "1.2.0",
            "grid_template_areas": null,
            "object_position": null,
            "object_fit": null,
            "grid_auto_columns": null,
            "margin": null,
            "display": null,
            "left": null
          }
        },
        "39777e99c75b4866ad507036fd9cf119": {
          "model_module": "@jupyter-widgets/controls",
          "model_name": "HTMLModel",
          "model_module_version": "1.5.0",
          "state": {
            "_view_name": "HTMLView",
            "style": "IPY_MODEL_7f6ad904acd04c9b82103e29b7fc2bb4",
            "_dom_classes": [],
            "description": "",
            "_model_name": "HTMLModel",
            "placeholder": "​",
            "_view_module": "@jupyter-widgets/controls",
            "_model_module_version": "1.5.0",
            "value": "Pandas Apply: 100%",
            "_view_count": null,
            "_view_module_version": "1.5.0",
            "description_tooltip": null,
            "_model_module": "@jupyter-widgets/controls",
            "layout": "IPY_MODEL_7fdc2ba4bdd24dfb90cc6b072c0aaf0c"
          }
        },
        "51b0b9818a7840cdab5bf2b1898ead2a": {
          "model_module": "@jupyter-widgets/controls",
          "model_name": "FloatProgressModel",
          "model_module_version": "1.5.0",
          "state": {
            "_view_name": "ProgressView",
            "style": "IPY_MODEL_8cf5e567d29d43f88e4bc238c8a46882",
            "_dom_classes": [],
            "description": "",
            "_model_name": "FloatProgressModel",
            "bar_style": "success",
            "max": 1,
            "_view_module": "@jupyter-widgets/controls",
            "_model_module_version": "1.5.0",
            "value": 1,
            "_view_count": null,
            "_view_module_version": "1.5.0",
            "orientation": "horizontal",
            "min": 0,
            "description_tooltip": null,
            "_model_module": "@jupyter-widgets/controls",
            "layout": "IPY_MODEL_75059a3d5c5641d58a0afab71ec93b64"
          }
        },
        "ea4aab354eaa4d53bf078dded86178bf": {
          "model_module": "@jupyter-widgets/controls",
          "model_name": "HTMLModel",
          "model_module_version": "1.5.0",
          "state": {
            "_view_name": "HTMLView",
            "style": "IPY_MODEL_ef3dae1715de4066bcd5e20aeb7ca5dd",
            "_dom_classes": [],
            "description": "",
            "_model_name": "HTMLModel",
            "placeholder": "​",
            "_view_module": "@jupyter-widgets/controls",
            "_model_module_version": "1.5.0",
            "value": " 1/1 [00:00&lt;00:00, 22.14it/s]",
            "_view_count": null,
            "_view_module_version": "1.5.0",
            "description_tooltip": null,
            "_model_module": "@jupyter-widgets/controls",
            "layout": "IPY_MODEL_d24f6218a9b349bea9dda2909c141ca6"
          }
        },
        "7f6ad904acd04c9b82103e29b7fc2bb4": {
          "model_module": "@jupyter-widgets/controls",
          "model_name": "DescriptionStyleModel",
          "model_module_version": "1.5.0",
          "state": {
            "_view_name": "StyleView",
            "_model_name": "DescriptionStyleModel",
            "description_width": "",
            "_view_module": "@jupyter-widgets/base",
            "_model_module_version": "1.5.0",
            "_view_count": null,
            "_view_module_version": "1.2.0",
            "_model_module": "@jupyter-widgets/controls"
          }
        },
        "7fdc2ba4bdd24dfb90cc6b072c0aaf0c": {
          "model_module": "@jupyter-widgets/base",
          "model_name": "LayoutModel",
          "model_module_version": "1.2.0",
          "state": {
            "_view_name": "LayoutView",
            "grid_template_rows": null,
            "right": null,
            "justify_content": null,
            "_view_module": "@jupyter-widgets/base",
            "overflow": null,
            "_model_module_version": "1.2.0",
            "_view_count": null,
            "flex_flow": null,
            "width": null,
            "min_width": null,
            "border": null,
            "align_items": null,
            "bottom": null,
            "_model_module": "@jupyter-widgets/base",
            "top": null,
            "grid_column": null,
            "overflow_y": null,
            "overflow_x": null,
            "grid_auto_flow": null,
            "grid_area": null,
            "grid_template_columns": null,
            "flex": null,
            "_model_name": "LayoutModel",
            "justify_items": null,
            "grid_row": null,
            "max_height": null,
            "align_content": null,
            "visibility": null,
            "align_self": null,
            "height": null,
            "min_height": null,
            "padding": null,
            "grid_auto_rows": null,
            "grid_gap": null,
            "max_width": null,
            "order": null,
            "_view_module_version": "1.2.0",
            "grid_template_areas": null,
            "object_position": null,
            "object_fit": null,
            "grid_auto_columns": null,
            "margin": null,
            "display": null,
            "left": null
          }
        },
        "8cf5e567d29d43f88e4bc238c8a46882": {
          "model_module": "@jupyter-widgets/controls",
          "model_name": "ProgressStyleModel",
          "model_module_version": "1.5.0",
          "state": {
            "_view_name": "StyleView",
            "_model_name": "ProgressStyleModel",
            "description_width": "",
            "_view_module": "@jupyter-widgets/base",
            "_model_module_version": "1.5.0",
            "_view_count": null,
            "_view_module_version": "1.2.0",
            "bar_color": null,
            "_model_module": "@jupyter-widgets/controls"
          }
        },
        "75059a3d5c5641d58a0afab71ec93b64": {
          "model_module": "@jupyter-widgets/base",
          "model_name": "LayoutModel",
          "model_module_version": "1.2.0",
          "state": {
            "_view_name": "LayoutView",
            "grid_template_rows": null,
            "right": null,
            "justify_content": null,
            "_view_module": "@jupyter-widgets/base",
            "overflow": null,
            "_model_module_version": "1.2.0",
            "_view_count": null,
            "flex_flow": null,
            "width": null,
            "min_width": null,
            "border": null,
            "align_items": null,
            "bottom": null,
            "_model_module": "@jupyter-widgets/base",
            "top": null,
            "grid_column": null,
            "overflow_y": null,
            "overflow_x": null,
            "grid_auto_flow": null,
            "grid_area": null,
            "grid_template_columns": null,
            "flex": null,
            "_model_name": "LayoutModel",
            "justify_items": null,
            "grid_row": null,
            "max_height": null,
            "align_content": null,
            "visibility": null,
            "align_self": null,
            "height": null,
            "min_height": null,
            "padding": null,
            "grid_auto_rows": null,
            "grid_gap": null,
            "max_width": null,
            "order": null,
            "_view_module_version": "1.2.0",
            "grid_template_areas": null,
            "object_position": null,
            "object_fit": null,
            "grid_auto_columns": null,
            "margin": null,
            "display": null,
            "left": null
          }
        },
        "ef3dae1715de4066bcd5e20aeb7ca5dd": {
          "model_module": "@jupyter-widgets/controls",
          "model_name": "DescriptionStyleModel",
          "model_module_version": "1.5.0",
          "state": {
            "_view_name": "StyleView",
            "_model_name": "DescriptionStyleModel",
            "description_width": "",
            "_view_module": "@jupyter-widgets/base",
            "_model_module_version": "1.5.0",
            "_view_count": null,
            "_view_module_version": "1.2.0",
            "_model_module": "@jupyter-widgets/controls"
          }
        },
        "d24f6218a9b349bea9dda2909c141ca6": {
          "model_module": "@jupyter-widgets/base",
          "model_name": "LayoutModel",
          "model_module_version": "1.2.0",
          "state": {
            "_view_name": "LayoutView",
            "grid_template_rows": null,
            "right": null,
            "justify_content": null,
            "_view_module": "@jupyter-widgets/base",
            "overflow": null,
            "_model_module_version": "1.2.0",
            "_view_count": null,
            "flex_flow": null,
            "width": null,
            "min_width": null,
            "border": null,
            "align_items": null,
            "bottom": null,
            "_model_module": "@jupyter-widgets/base",
            "top": null,
            "grid_column": null,
            "overflow_y": null,
            "overflow_x": null,
            "grid_auto_flow": null,
            "grid_area": null,
            "grid_template_columns": null,
            "flex": null,
            "_model_name": "LayoutModel",
            "justify_items": null,
            "grid_row": null,
            "max_height": null,
            "align_content": null,
            "visibility": null,
            "align_self": null,
            "height": null,
            "min_height": null,
            "padding": null,
            "grid_auto_rows": null,
            "grid_gap": null,
            "max_width": null,
            "order": null,
            "_view_module_version": "1.2.0",
            "grid_template_areas": null,
            "object_position": null,
            "object_fit": null,
            "grid_auto_columns": null,
            "margin": null,
            "display": null,
            "left": null
          }
        }
      }
    }
  },
  "cells": [
    {
      "cell_type": "markdown",
      "metadata": {
        "id": "view-in-github",
        "colab_type": "text"
      },
      "source": [
        "<a href=\"https://colab.research.google.com/github/resthiana12/Kelainan_Psikologis_CNN/blob/main/98_Depresi_1000_confusion.ipynb\" target=\"_parent\"><img src=\"https://colab.research.google.com/assets/colab-badge.svg\" alt=\"Open In Colab\"/></a>"
      ]
    },
    {
      "cell_type": "markdown",
      "metadata": {
        "id": "6A_QnXzyGKfb"
      },
      "source": [
        "**#Install Package yang Dibutuhkan**"
      ]
    },
    {
      "cell_type": "code",
      "metadata": {
        "id": "jE7-3YxZFucC",
        "colab": {
          "base_uri": "https://localhost:8080/"
        },
        "outputId": "64b1d73a-52ee-48f6-cc05-6d6b0a607ed2"
      },
      "source": [
        "pip install emot"
      ],
      "execution_count": 1,
      "outputs": [
        {
          "output_type": "stream",
          "name": "stdout",
          "text": [
            "Requirement already satisfied: emot in /usr/local/lib/python3.7/dist-packages (3.1)\n"
          ]
        }
      ]
    },
    {
      "cell_type": "code",
      "metadata": {
        "id": "jc7IL70qGcn5",
        "colab": {
          "base_uri": "https://localhost:8080/"
        },
        "outputId": "139fe593-6cb7-4462-9d78-ed57738d75a9"
      },
      "source": [
        "pip install emoji"
      ],
      "execution_count": 2,
      "outputs": [
        {
          "output_type": "stream",
          "name": "stdout",
          "text": [
            "Requirement already satisfied: emoji in /usr/local/lib/python3.7/dist-packages (1.4.2)\n"
          ]
        }
      ]
    },
    {
      "cell_type": "code",
      "metadata": {
        "id": "QwaReWdEGjFP",
        "colab": {
          "base_uri": "https://localhost:8080/"
        },
        "outputId": "0ccddb42-5555-49a4-f2a1-527bd237d47b"
      },
      "source": [
        "pip install sastrawi"
      ],
      "execution_count": 3,
      "outputs": [
        {
          "output_type": "stream",
          "name": "stdout",
          "text": [
            "Requirement already satisfied: sastrawi in /usr/local/lib/python3.7/dist-packages (1.0.1)\n"
          ]
        }
      ]
    },
    {
      "cell_type": "code",
      "metadata": {
        "id": "DctZrsGDGnnq",
        "colab": {
          "base_uri": "https://localhost:8080/"
        },
        "outputId": "a6c05e9b-0835-4911-e296-6ade4339b1e3"
      },
      "source": [
        "pip install swifter"
      ],
      "execution_count": 4,
      "outputs": [
        {
          "output_type": "stream",
          "name": "stdout",
          "text": [
            "Requirement already satisfied: swifter in /usr/local/lib/python3.7/dist-packages (1.0.9)\n",
            "Requirement already satisfied: pandas>=1.0.0 in /usr/local/lib/python3.7/dist-packages (from swifter) (1.1.5)\n",
            "Requirement already satisfied: psutil>=5.6.6 in /usr/local/lib/python3.7/dist-packages (from swifter) (5.8.0)\n",
            "Requirement already satisfied: dask[dataframe]>=2.10.0 in /usr/local/lib/python3.7/dist-packages (from swifter) (2.12.0)\n",
            "Requirement already satisfied: parso>0.4.0 in /usr/local/lib/python3.7/dist-packages (from swifter) (0.8.2)\n",
            "Requirement already satisfied: tqdm>=4.33.0 in /usr/local/lib/python3.7/dist-packages (from swifter) (4.62.0)\n",
            "Requirement already satisfied: bleach>=3.1.1 in /usr/local/lib/python3.7/dist-packages (from swifter) (4.0.0)\n",
            "Requirement already satisfied: ipywidgets>=7.0.0 in /usr/local/lib/python3.7/dist-packages (from swifter) (7.6.3)\n",
            "Requirement already satisfied: cloudpickle>=0.2.2 in /usr/local/lib/python3.7/dist-packages (from swifter) (1.3.0)\n",
            "Requirement already satisfied: packaging in /usr/local/lib/python3.7/dist-packages (from bleach>=3.1.1->swifter) (21.0)\n",
            "Requirement already satisfied: webencodings in /usr/local/lib/python3.7/dist-packages (from bleach>=3.1.1->swifter) (0.5.1)\n",
            "Requirement already satisfied: six>=1.9.0 in /usr/local/lib/python3.7/dist-packages (from bleach>=3.1.1->swifter) (1.15.0)\n",
            "Requirement already satisfied: fsspec>=0.6.0 in /usr/local/lib/python3.7/dist-packages (from dask[dataframe]>=2.10.0->swifter) (2021.8.1)\n",
            "Requirement already satisfied: toolz>=0.7.3 in /usr/local/lib/python3.7/dist-packages (from dask[dataframe]>=2.10.0->swifter) (0.11.1)\n",
            "Requirement already satisfied: numpy>=1.13.0 in /usr/local/lib/python3.7/dist-packages (from dask[dataframe]>=2.10.0->swifter) (1.19.5)\n",
            "Requirement already satisfied: partd>=0.3.10 in /usr/local/lib/python3.7/dist-packages (from dask[dataframe]>=2.10.0->swifter) (1.2.0)\n",
            "Requirement already satisfied: ipykernel>=4.5.1 in /usr/local/lib/python3.7/dist-packages (from ipywidgets>=7.0.0->swifter) (4.10.1)\n",
            "Requirement already satisfied: ipython>=4.0.0 in /usr/local/lib/python3.7/dist-packages (from ipywidgets>=7.0.0->swifter) (5.5.0)\n",
            "Requirement already satisfied: widgetsnbextension~=3.5.0 in /usr/local/lib/python3.7/dist-packages (from ipywidgets>=7.0.0->swifter) (3.5.1)\n",
            "Requirement already satisfied: jupyterlab-widgets>=1.0.0 in /usr/local/lib/python3.7/dist-packages (from ipywidgets>=7.0.0->swifter) (1.0.0)\n",
            "Requirement already satisfied: traitlets>=4.3.1 in /usr/local/lib/python3.7/dist-packages (from ipywidgets>=7.0.0->swifter) (5.0.5)\n",
            "Requirement already satisfied: nbformat>=4.2.0 in /usr/local/lib/python3.7/dist-packages (from ipywidgets>=7.0.0->swifter) (5.1.3)\n",
            "Requirement already satisfied: tornado>=4.0 in /usr/local/lib/python3.7/dist-packages (from ipykernel>=4.5.1->ipywidgets>=7.0.0->swifter) (5.1.1)\n",
            "Requirement already satisfied: jupyter-client in /usr/local/lib/python3.7/dist-packages (from ipykernel>=4.5.1->ipywidgets>=7.0.0->swifter) (5.3.5)\n",
            "Requirement already satisfied: pexpect in /usr/local/lib/python3.7/dist-packages (from ipython>=4.0.0->ipywidgets>=7.0.0->swifter) (4.8.0)\n",
            "Requirement already satisfied: pygments in /usr/local/lib/python3.7/dist-packages (from ipython>=4.0.0->ipywidgets>=7.0.0->swifter) (2.6.1)\n",
            "Requirement already satisfied: pickleshare in /usr/local/lib/python3.7/dist-packages (from ipython>=4.0.0->ipywidgets>=7.0.0->swifter) (0.7.5)\n",
            "Requirement already satisfied: prompt-toolkit<2.0.0,>=1.0.4 in /usr/local/lib/python3.7/dist-packages (from ipython>=4.0.0->ipywidgets>=7.0.0->swifter) (1.0.18)\n",
            "Requirement already satisfied: decorator in /usr/local/lib/python3.7/dist-packages (from ipython>=4.0.0->ipywidgets>=7.0.0->swifter) (4.4.2)\n",
            "Requirement already satisfied: setuptools>=18.5 in /usr/local/lib/python3.7/dist-packages (from ipython>=4.0.0->ipywidgets>=7.0.0->swifter) (57.4.0)\n",
            "Requirement already satisfied: simplegeneric>0.8 in /usr/local/lib/python3.7/dist-packages (from ipython>=4.0.0->ipywidgets>=7.0.0->swifter) (0.8.1)\n",
            "Requirement already satisfied: jupyter-core in /usr/local/lib/python3.7/dist-packages (from nbformat>=4.2.0->ipywidgets>=7.0.0->swifter) (4.7.1)\n",
            "Requirement already satisfied: jsonschema!=2.5.0,>=2.4 in /usr/local/lib/python3.7/dist-packages (from nbformat>=4.2.0->ipywidgets>=7.0.0->swifter) (2.6.0)\n",
            "Requirement already satisfied: ipython-genutils in /usr/local/lib/python3.7/dist-packages (from nbformat>=4.2.0->ipywidgets>=7.0.0->swifter) (0.2.0)\n",
            "Requirement already satisfied: pytz>=2017.2 in /usr/local/lib/python3.7/dist-packages (from pandas>=1.0.0->swifter) (2018.9)\n",
            "Requirement already satisfied: python-dateutil>=2.7.3 in /usr/local/lib/python3.7/dist-packages (from pandas>=1.0.0->swifter) (2.8.2)\n",
            "Requirement already satisfied: locket in /usr/local/lib/python3.7/dist-packages (from partd>=0.3.10->dask[dataframe]>=2.10.0->swifter) (0.2.1)\n",
            "Requirement already satisfied: wcwidth in /usr/local/lib/python3.7/dist-packages (from prompt-toolkit<2.0.0,>=1.0.4->ipython>=4.0.0->ipywidgets>=7.0.0->swifter) (0.2.5)\n",
            "Requirement already satisfied: notebook>=4.4.1 in /usr/local/lib/python3.7/dist-packages (from widgetsnbextension~=3.5.0->ipywidgets>=7.0.0->swifter) (5.3.1)\n",
            "Requirement already satisfied: terminado>=0.8.1 in /usr/local/lib/python3.7/dist-packages (from notebook>=4.4.1->widgetsnbextension~=3.5.0->ipywidgets>=7.0.0->swifter) (0.11.0)\n",
            "Requirement already satisfied: Send2Trash in /usr/local/lib/python3.7/dist-packages (from notebook>=4.4.1->widgetsnbextension~=3.5.0->ipywidgets>=7.0.0->swifter) (1.8.0)\n",
            "Requirement already satisfied: jinja2 in /usr/local/lib/python3.7/dist-packages (from notebook>=4.4.1->widgetsnbextension~=3.5.0->ipywidgets>=7.0.0->swifter) (2.11.3)\n",
            "Requirement already satisfied: nbconvert in /usr/local/lib/python3.7/dist-packages (from notebook>=4.4.1->widgetsnbextension~=3.5.0->ipywidgets>=7.0.0->swifter) (5.6.1)\n",
            "Requirement already satisfied: pyzmq>=13 in /usr/local/lib/python3.7/dist-packages (from jupyter-client->ipykernel>=4.5.1->ipywidgets>=7.0.0->swifter) (22.2.1)\n",
            "Requirement already satisfied: ptyprocess in /usr/local/lib/python3.7/dist-packages (from terminado>=0.8.1->notebook>=4.4.1->widgetsnbextension~=3.5.0->ipywidgets>=7.0.0->swifter) (0.7.0)\n",
            "Requirement already satisfied: MarkupSafe>=0.23 in /usr/local/lib/python3.7/dist-packages (from jinja2->notebook>=4.4.1->widgetsnbextension~=3.5.0->ipywidgets>=7.0.0->swifter) (2.0.1)\n",
            "Requirement already satisfied: pandocfilters>=1.4.1 in /usr/local/lib/python3.7/dist-packages (from nbconvert->notebook>=4.4.1->widgetsnbextension~=3.5.0->ipywidgets>=7.0.0->swifter) (1.4.3)\n",
            "Requirement already satisfied: mistune<2,>=0.8.1 in /usr/local/lib/python3.7/dist-packages (from nbconvert->notebook>=4.4.1->widgetsnbextension~=3.5.0->ipywidgets>=7.0.0->swifter) (0.8.4)\n",
            "Requirement already satisfied: entrypoints>=0.2.2 in /usr/local/lib/python3.7/dist-packages (from nbconvert->notebook>=4.4.1->widgetsnbextension~=3.5.0->ipywidgets>=7.0.0->swifter) (0.3)\n",
            "Requirement already satisfied: defusedxml in /usr/local/lib/python3.7/dist-packages (from nbconvert->notebook>=4.4.1->widgetsnbextension~=3.5.0->ipywidgets>=7.0.0->swifter) (0.7.1)\n",
            "Requirement already satisfied: testpath in /usr/local/lib/python3.7/dist-packages (from nbconvert->notebook>=4.4.1->widgetsnbextension~=3.5.0->ipywidgets>=7.0.0->swifter) (0.5.0)\n",
            "Requirement already satisfied: pyparsing>=2.0.2 in /usr/local/lib/python3.7/dist-packages (from packaging->bleach>=3.1.1->swifter) (2.4.7)\n"
          ]
        }
      ]
    },
    {
      "cell_type": "markdown",
      "metadata": {
        "id": "gHNR4IAlHFAf"
      },
      "source": [
        "**#Load Library**"
      ]
    },
    {
      "cell_type": "code",
      "metadata": {
        "colab": {
          "base_uri": "https://localhost:8080/"
        },
        "id": "Tby6RCM4lZoZ",
        "outputId": "fb40602e-a5a9-43c4-8ed2-3323605e4812"
      },
      "source": [
        "#load library\n",
        "import nltk                             \n",
        "import matplotlib.pyplot as plt           \n",
        "import random  \n",
        "nltk.download('stopwords')\n",
        "nltk.download('punkt')\n",
        "nltk.download('words')\n",
        "import numpy as np\n",
        "import pandas as pd\n",
        "import re                                  \n",
        "import string                             \n",
        "from nltk.corpus import stopwords \n",
        "from nltk.stem import PorterStemmer\n",
        "from nltk.tokenize import TweetTokenizer \n",
        "from nltk import pos_tag, word_tokenize\n",
        "from nltk.tokenize import word_tokenize\n",
        "from nltk.corpus import words\n",
        "import emoji\n",
        "#from emot.emo_unicode import UNICODE_EMO, EMOTICONS\n",
        "from Sastrawi.Stemmer.StemmerFactory import StemmerFactory\n",
        "import swifter\n",
        "from wordcloud import WordCloud "
      ],
      "execution_count": 5,
      "outputs": [
        {
          "output_type": "stream",
          "name": "stdout",
          "text": [
            "[nltk_data] Downloading package stopwords to /root/nltk_data...\n",
            "[nltk_data]   Package stopwords is already up-to-date!\n",
            "[nltk_data] Downloading package punkt to /root/nltk_data...\n",
            "[nltk_data]   Package punkt is already up-to-date!\n",
            "[nltk_data] Downloading package words to /root/nltk_data...\n",
            "[nltk_data]   Package words is already up-to-date!\n"
          ]
        }
      ]
    },
    {
      "cell_type": "markdown",
      "metadata": {
        "id": "KCFWa0RfHL4d"
      },
      "source": [
        "**Preprocessing**"
      ]
    },
    {
      "cell_type": "code",
      "metadata": {
        "id": "6cO4NsaRHPUF"
      },
      "source": [
        "stop = pd.read_csv(\"drive/MyDrive/stopwords.txt\", names= [\"stopwords\"], header = None)\n",
        "stop['stopwords']\n",
        "# Defining my NLTK stop words and my user-defined stop words\n",
        "stop_words = list(stopwords.words('indonesian'))\n",
        "# ---------------------------- manualy add stopword  ------------------------------------\n",
        "# append additional stopword\n",
        "user_stopwords = ['yg', 'dg', 'rt', 'dgn', 'ny', 'd', 'klo', \n",
        "                       'kalo', 'amp', 'biar', 'bikin', 'bilang', \n",
        "                       'gak', 'ga', 'krn', 'nya', 'nih', 'sih', 'na',\n",
        "                       'si', 'tau', 'tdk', 'tuh', 'utk', 'ya', 'ber',\n",
        "                       'jd', 'jgn', 'sdh', 'aja', 'n', 't', 's','lhaa',\n",
        "                       'qrt', 'd', 'ayyy', 'eptember', 'tu', 'kat', 'd',\n",
        "                        'bdhshshhs', 'denngan','ba', 'ah', 'tuu', 'kaann', \n",
        "                       'nyg', 'hehe', 'pen', 'u', 'nan', 'loh', 'rt', 'je',\n",
        "                       '&amp', 'yah', 'x', 'xf', 'xe', 'first', 'second',\n",
        "                        'the', 'to', 'yaa', 'dirut', 'la', 'pon']\n",
        "alphabets = list(string.ascii_lowercase)\n",
        "stop_words_fix = stop_words + alphabets + stop['stopwords'].to_list()\n",
        "\n",
        "# Function to remove punctuations, links, emojis, and stop words\n",
        "def preprocessTweets(tweet):\n",
        "    tweet = tweet.lower()  #has to be in place\n",
        "    #Remove 'b\n",
        "    tweet = re.sub(r\"b'\", '', tweet)\n",
        "    # Remove urls dan trash\n",
        "    tweet = re.sub(r\"http\\S+|\\\\x\\S+|www\\S+|https\\S+|dot|com\", '', tweet, flags=re.MULTILINE)\n",
        "    # Remove user @ references and '#' from tweet\n",
        "    tweet = re.sub(r'\\@\\w+|\\#|\\d+', '', tweet)\n",
        "    # Remove stopwords\n",
        "    tweet_tokens = word_tokenize(tweet)  # convert string to tokens\n",
        "    filtered_words = [w for w in tweet_tokens if w not in stop_words_fix]\n",
        "    filtered_words = [w for w in tweet_tokens if w not in user_stopwords]\n",
        "\n",
        "    # Remove punctuations\n",
        "    unpunctuated_words = [char for char in filtered_words if char not in string.punctuation]\n",
        "    unpunctuated_words = ' '.join(unpunctuated_words)\n",
        "\n",
        "    return \"\".join(unpunctuated_words)  # join words with a space in between them\n",
        "\n",
        "def tokenkan(text):    \n",
        "  tokens = nltk.tokenize.word_tokenize(text)\n",
        "  return tokens\n",
        "\n",
        "normalizad_word = pd.read_excel(\"drive/MyDrive/normalisasi.xlsx\")\n",
        "normalizad_word_dict = {}\n",
        "for index, row in normalizad_word.iterrows():\n",
        "    if row[0] not in normalizad_word_dict:\n",
        "        normalizad_word_dict[row[0]] = row[1] \n",
        "\n",
        "def normalized_term(document):\n",
        "    return [normalizad_word_dict[term] if term in normalizad_word_dict else term for term in document]\n",
        "\n",
        "def stopwords_removal(words):\n",
        "    return [word for word in words if word not in stop_words]\n",
        "\n",
        "def remove_punct(text):\n",
        "  text_nopunct = ''\n",
        "  text_nopunct = re.sub('['+string.punctuation+']', '', text)\n",
        "  return text_nopunct"
      ],
      "execution_count": 6,
      "outputs": []
    },
    {
      "cell_type": "markdown",
      "metadata": {
        "id": "KqbBWRUErxjO"
      },
      "source": [
        "#Import Libraries"
      ]
    },
    {
      "cell_type": "code",
      "metadata": {
        "id": "a2JRA9A0rwui"
      },
      "source": [
        "import numpy as np\n",
        "import pandas as pd\n",
        "from gensim.models.word2vec import Word2Vec\n",
        "from sklearn.model_selection import train_test_split\n",
        "from tensorflow.keras.utils import to_categorical\n",
        "from keras.layers import Dense, Dropout, Conv1D, MaxPool1D, GlobalMaxPool1D, Embedding, Activation\n",
        "from keras.preprocessing.text import Tokenizer\n",
        "from keras.preprocessing.sequence import pad_sequences\n",
        "from keras.models import Sequential\n",
        "import re\n",
        "import nltk\n",
        "from nltk.corpus import stopwords\n",
        "from nltk.stem.snowball import PorterStemmer\n",
        "from sklearn import preprocessing"
      ],
      "execution_count": 7,
      "outputs": []
    },
    {
      "cell_type": "code",
      "metadata": {
        "id": "4EeZ-wfqEZlW",
        "colab": {
          "base_uri": "https://localhost:8080/",
          "height": 202
        },
        "outputId": "01816ef5-602c-4753-f689-a621b378eea5"
      },
      "source": [
        "df = pd.read_csv('drive/MyDrive/data_psyco/Text_Preprocessing_Depres_Suicide_Fix.csv').astype(str)\n",
        "#df.drop(['Unnamed: 0', 'Postingan', 'Postingan_Tokenkan', 'Postingan_Normalized'], axis=1, inplace=True)\n",
        "df.columns = ['Category', 'Message']\n",
        "df['Message'] = df['Message'].apply(remove_punct)\n",
        "df.head()"
      ],
      "execution_count": 8,
      "outputs": [
        {
          "output_type": "execute_result",
          "data": {
            "text/html": [
              "<div>\n",
              "<style scoped>\n",
              "    .dataframe tbody tr th:only-of-type {\n",
              "        vertical-align: middle;\n",
              "    }\n",
              "\n",
              "    .dataframe tbody tr th {\n",
              "        vertical-align: top;\n",
              "    }\n",
              "\n",
              "    .dataframe thead th {\n",
              "        text-align: right;\n",
              "    }\n",
              "</style>\n",
              "<table border=\"1\" class=\"dataframe\">\n",
              "  <thead>\n",
              "    <tr style=\"text-align: right;\">\n",
              "      <th></th>\n",
              "      <th>Category</th>\n",
              "      <th>Message</th>\n",
              "    </tr>\n",
              "  </thead>\n",
              "  <tbody>\n",
              "    <tr>\n",
              "      <th>0</th>\n",
              "      <td>1</td>\n",
              "      <td>persetan</td>\n",
              "    </tr>\n",
              "    <tr>\n",
              "      <th>1</th>\n",
              "      <td>1</td>\n",
              "      <td>maaf</td>\n",
              "    </tr>\n",
              "    <tr>\n",
              "      <th>2</th>\n",
              "      <td>1</td>\n",
              "      <td>juang keras hidup hapus tweet selesai sukses t...</td>\n",
              "    </tr>\n",
              "    <tr>\n",
              "      <th>3</th>\n",
              "      <td>1</td>\n",
              "      <td>pria sehat kondisi mental hidup pikir laku lel...</td>\n",
              "    </tr>\n",
              "    <tr>\n",
              "      <th>4</th>\n",
              "      <td>1</td>\n",
              "      <td>pergi orang coba komunikasi orang pegang pikir...</td>\n",
              "    </tr>\n",
              "  </tbody>\n",
              "</table>\n",
              "</div>"
            ],
            "text/plain": [
              "  Category                                            Message\n",
              "0        1                                           persetan\n",
              "1        1                                               maaf\n",
              "2        1  juang keras hidup hapus tweet selesai sukses t...\n",
              "3        1  pria sehat kondisi mental hidup pikir laku lel...\n",
              "4        1  pergi orang coba komunikasi orang pegang pikir..."
            ]
          },
          "metadata": {},
          "execution_count": 8
        }
      ]
    },
    {
      "cell_type": "code",
      "metadata": {
        "colab": {
          "base_uri": "https://localhost:8080/",
          "height": 315
        },
        "id": "ISu6vL3IuAhA",
        "outputId": "b21f025d-7b07-4da7-889a-2c5b92efb638"
      },
      "source": [
        "#check the distribution of lebels\n",
        "labels = df['Category']\n",
        "labels_count = labels.value_counts()\n",
        "labels_count.plot(kind=\"bar\")\n",
        "print(labels.value_counts())"
      ],
      "execution_count": 9,
      "outputs": [
        {
          "output_type": "stream",
          "name": "stdout",
          "text": [
            "0    839\n",
            "1    837\n",
            "Name: Category, dtype: int64\n"
          ]
        },
        {
          "output_type": "display_data",
          "data": {
            "image/png": "[encoded data removed]",
            "text/plain": [
              "<Figure size 432x288 with 1 Axes>"
            ]
          },
          "metadata": {
            "needs_background": "light"
          }
        }
      ]
    },
    {
      "cell_type": "code",
      "metadata": {
        "colab": {
          "base_uri": "https://localhost:8080/"
        },
        "id": "1y7TKJFdrhiQ",
        "outputId": "816dd287-3c88-4061-b4c9-282ca15cb5b2"
      },
      "source": [
        "mes = []\n",
        "for i in df['Message']:\n",
        "    mes.append(i.split())\n",
        "print(mes[:2])"
      ],
      "execution_count": 10,
      "outputs": [
        {
          "output_type": "stream",
          "name": "stdout",
          "text": [
            "[['persetan'], ['maaf']]\n"
          ]
        }
      ]
    },
    {
      "cell_type": "code",
      "metadata": {
        "colab": {
          "base_uri": "https://localhost:8080/"
        },
        "id": "_f6L44Cxrogw",
        "outputId": "0501344c-7fba-470a-ebde-4eb5830aab34"
      },
      "source": [
        "word2vec_model = Word2Vec(mes, size=500, window=3, min_count=1, workers=15)\n",
        "print(word2vec_model)"
      ],
      "execution_count": 11,
      "outputs": [
        {
          "output_type": "stream",
          "name": "stdout",
          "text": [
            "Word2Vec(vocab=4205, size=500, alpha=0.025)\n"
          ]
        }
      ]
    },
    {
      "cell_type": "code",
      "metadata": {
        "colab": {
          "base_uri": "https://localhost:8080/"
        },
        "id": "kqOfRnIqsBkV",
        "outputId": "c64de697-cf40-4923-82dd-1cf2fc3cba3e"
      },
      "source": [
        "token = Tokenizer(4205)\n",
        "token.fit_on_texts(df['Message'])\n",
        "text = token.texts_to_sequences(df['Message'])\n",
        "text = pad_sequences(text, 75)\n",
        "print(text[:2])"
      ],
      "execution_count": 12,
      "outputs": [
        {
          "output_type": "stream",
          "name": "stdout",
          "text": [
            "[[  0   0   0   0   0   0   0   0   0   0   0   0   0   0   0   0   0   0\n",
            "    0   0   0   0   0   0   0   0   0   0   0   0   0   0   0   0   0   0\n",
            "    0   0   0   0   0   0   0   0   0   0   0   0   0   0   0   0   0   0\n",
            "    0   0   0   0   0   0   0   0   0   0   0   0   0   0   0   0   0   0\n",
            "    0   0 445]\n",
            " [  0   0   0   0   0   0   0   0   0   0   0   0   0   0   0   0   0   0\n",
            "    0   0   0   0   0   0   0   0   0   0   0   0   0   0   0   0   0   0\n",
            "    0   0   0   0   0   0   0   0   0   0   0   0   0   0   0   0   0   0\n",
            "    0   0   0   0   0   0   0   0   0   0   0   0   0   0   0   0   0   0\n",
            "    0   0 102]]\n"
          ]
        }
      ]
    },
    {
      "cell_type": "code",
      "metadata": {
        "colab": {
          "base_uri": "https://localhost:8080/"
        },
        "id": "-hAACB-esQxi",
        "outputId": "ce1ff48d-c634-4aa8-ffb2-4c632b0c91e8"
      },
      "source": [
        "le = preprocessing.LabelEncoder()\n",
        "y = le.fit_transform(df['Category'])\n",
        "y = to_categorical(y)\n",
        "y[:2]"
      ],
      "execution_count": 13,
      "outputs": [
        {
          "output_type": "execute_result",
          "data": {
            "text/plain": [
              "array([[0., 1.],\n",
              "       [0., 1.]], dtype=float32)"
            ]
          },
          "metadata": {},
          "execution_count": 13
        }
      ]
    },
    {
      "cell_type": "code",
      "metadata": {
        "id": "2sDBJsoKstc5"
      },
      "source": [
        "x_train, x_test, y_train, y_test = train_test_split(np.array(text), y, test_size=0.2, stratify=y)"
      ],
      "execution_count": 14,
      "outputs": []
    },
    {
      "cell_type": "code",
      "metadata": {
        "id": "61YcjstLsy6s"
      },
      "source": [
        "keras_model = Sequential()\n",
        "keras_model.add(word2vec_model.wv.get_keras_embedding(True))\n",
        "keras_model.add(Dropout(0.2))\n",
        "keras_model.add(Conv1D(50, 3, activation='relu', padding='same', strides=1))\n",
        "keras_model.add(Conv1D(50, 3, activation='relu', padding='same', strides=1))\n",
        "keras_model.add(MaxPool1D())\n",
        "keras_model.add(Dropout(0.2))\n",
        "keras_model.add(Conv1D(100, 3, activation='relu', padding='same', strides=1))\n",
        "keras_model.add(Conv1D(100, 3, activation='relu', padding='same', strides=1))\n",
        "keras_model.add(MaxPool1D())\n",
        "keras_model.add(Dropout(0.2))\n",
        "keras_model.add(Conv1D(200, 3, activation='relu', padding='same', strides=1))\n",
        "keras_model.add(Conv1D(200, 3, activation='relu', padding='same', strides=1))\n",
        "keras_model.add(GlobalMaxPool1D())\n",
        "keras_model.add(Dropout(0.2))\n",
        "keras_model.add(Dense(200))\n",
        "keras_model.add(Activation('relu'))\n",
        "keras_model.add(Dropout(0.2))\n",
        "keras_model.add(Dense(2))\n",
        "keras_model.add(Activation('sigmoid'))\n",
        "keras_model.compile(loss='binary_crossentropy', metrics=['acc'], optimizer='adam')"
      ],
      "execution_count": 15,
      "outputs": []
    },
    {
      "cell_type": "code",
      "metadata": {
        "colab": {
          "base_uri": "https://localhost:8080/"
        },
        "id": "cM2S7ThAtz6E",
        "outputId": "90dbc761-899f-4b79-a948-dfe8613ee6df"
      },
      "source": [
        "history = keras_model.fit(x_train, y_train, batch_size=16, epochs=3, validation_data=(x_test, y_test))"
      ],
      "execution_count": 16,
      "outputs": [
        {
          "output_type": "stream",
          "name": "stdout",
          "text": [
            "Epoch 1/3\n",
            "84/84 [==============================] - 9s 90ms/step - loss: 0.6663 - acc: 0.5067 - val_loss: 0.4463 - val_acc: 0.8899\n",
            "Epoch 2/3\n",
            "84/84 [==============================] - 7s 87ms/step - loss: 0.3032 - acc: 0.9060 - val_loss: 0.2955 - val_acc: 0.8899\n",
            "Epoch 3/3\n",
            "84/84 [==============================] - 7s 86ms/step - loss: 0.1527 - acc: 0.9582 - val_loss: 0.2511 - val_acc: 0.9196\n"
          ]
        }
      ]
    },
    {
      "cell_type": "code",
      "metadata": {
        "colab": {
          "base_uri": "https://localhost:8080/"
        },
        "id": "zPYLJ_RVvIUc",
        "outputId": "9dc3f452-0f05-4e2e-f3c0-1946375f6512"
      },
      "source": [
        "#analyze the results\n",
        "score, acc = keras_model.evaluate(x_test, y_test, verbose = 2, batch_size=16)\n",
        "y_pred = keras_model.predict(x_test)\n",
        "#print(y_pred)"
      ],
      "execution_count": 17,
      "outputs": [
        {
          "output_type": "stream",
          "name": "stdout",
          "text": [
            "21/21 - 0s - loss: 0.2511 - acc: 0.9196\n"
          ]
        }
      ]
    },
    {
      "cell_type": "code",
      "metadata": {
        "id": "VNkDDiqFvaWX"
      },
      "source": [
        "#Other accuracy metrices\n",
        "#y_pred = (y_pred > 0.5)"
      ],
      "execution_count": 18,
      "outputs": []
    },
    {
      "cell_type": "code",
      "metadata": {
        "colab": {
          "base_uri": "https://localhost:8080/",
          "height": 455
        },
        "id": "A_aUR_BqvdcN",
        "outputId": "c9e43ba9-0ec8-4150-e94f-b91b96f5203d"
      },
      "source": [
        "from sklearn.metrics import confusion_matrix, classification_report\n",
        "import seaborn as sns\n",
        "\n",
        "cm=confusion_matrix(y_test.argmax(axis=1),y_pred.argmax(axis=1))\n",
        "ax=sns.heatmap(cm,annot=True,cmap='Blues',fmt='')\n",
        "ax.set_title('Confusion Matrix')\n",
        "ax.set_xlabel('y_test')\n",
        "ax.set_ylabel('y_pred')\n",
        "\n",
        "#F1 Score, Recall and Precision\n",
        "print(classification_report(y_test.argmax(axis=1), y_pred.argmax(axis=1), target_names=['mengidap', 'non']))"
      ],
      "execution_count": 19,
      "outputs": [
        {
          "output_type": "stream",
          "name": "stdout",
          "text": [
            "              precision    recall  f1-score   support\n",
            "\n",
            "    mengidap       0.88      0.97      0.92       168\n",
            "         non       0.97      0.87      0.92       168\n",
            "\n",
            "    accuracy                           0.92       336\n",
            "   macro avg       0.92      0.92      0.92       336\n",
            "weighted avg       0.92      0.92      0.92       336\n",
            "\n"
          ]
        },
        {
          "output_type": "display_data",
          "data": {
            "image/png": "[encoded data removed]",
            "text/plain": [
              "<Figure size 432x288 with 2 Axes>"
            ]
          },
          "metadata": {
            "needs_background": "light"
          }
        }
      ]
    },
    {
      "cell_type": "code",
      "metadata": {
        "id": "K3Y-pmHYwlaF"
      },
      "source": [
        "import matplotlib.pyplot as plt"
      ],
      "execution_count": 20,
      "outputs": []
    },
    {
      "cell_type": "code",
      "metadata": {
        "colab": {
          "base_uri": "https://localhost:8080/",
          "height": 336
        },
        "id": "N0z2R2VJwn9a",
        "outputId": "eab27150-1536-4168-fb5c-ea381c3c9539"
      },
      "source": [
        "plt.style.use('ggplot')\n",
        "\n",
        "def plot_history(history):\n",
        "    accuracy = history.history['acc']\n",
        "    val_accuracy = history.history['val_acc']\n",
        "    loss = history.history['loss']\n",
        "    val_loss = history.history['val_loss']\n",
        "    x = range(1, len(accuracy) + 1)\n",
        "\n",
        "    plt.figure(figsize=(12, 5))\n",
        "    plt.subplot(1, 2, 1)\n",
        "    plt.plot(x, accuracy, 'b', label='Training accuracy')\n",
        "    plt.plot(x, val_accuracy, 'r', label='Validation accuracy')\n",
        "    plt.title('Training and validation accuracy')\n",
        "    plt.legend()\n",
        "    plt.subplot(1, 2, 2)\n",
        "    plt.plot(x, loss, 'b', label='Training loss')\n",
        "    plt.plot(x, val_loss, 'r', label='Validation loss')\n",
        "    plt.title('Training and validation loss')\n",
        "    plt.legend()\n",
        "\n",
        "%matplotlib inline\n",
        "plot_history(history)"
      ],
      "execution_count": 21,
      "outputs": [
        {
          "output_type": "display_data",
          "data": {
            "image/png": "[encoded data removed]",
            "text/plain": [
              "<Figure size 864x360 with 2 Axes>"
            ]
          },
          "metadata": {
            "needs_background": "light"
          }
        }
      ]
    },
    {
      "cell_type": "code",
      "metadata": {
        "id": "bT21pR2Gw0mi"
      },
      "source": [
        "keras_model.save('drive/MyDrive/data_psyco/otw_sidang_sigmoid/98_depresi_1000_and_suicide_cnn_3.h5')"
      ],
      "execution_count": 26,
      "outputs": []
    },
    {
      "cell_type": "markdown",
      "metadata": {
        "id": "JoBQ6DRp4QM8"
      },
      "source": [
        "# Import Libraries"
      ]
    },
    {
      "cell_type": "code",
      "metadata": {
        "id": "RB6JItCcrB8K"
      },
      "source": [
        "def text_preprocessing(text):\n",
        "  df['preprocess_awal'] = text.apply(preprocessTweets)\n",
        "  df['tokenkan'] = df['preprocess_awal'].apply(tokenkan)\n",
        "  df['normalized'] = df['tokenkan'].apply(normalized_term)\n",
        "  df['normalized'] = df['normalized'].apply(stopwords_removal)\n",
        "\n",
        "  # create stemmer\n",
        "  factory = StemmerFactory()\n",
        "  stemmer = factory.create_stemmer()\n",
        "\n",
        "  # stemmed\n",
        "  def stemmed_wrapper(term):\n",
        "      return stemmer.stem(term)\n",
        "\n",
        "  term_dict = {}\n",
        "\n",
        "  for document in df['normalized']:\n",
        "      for term in document:\n",
        "          if term not in term_dict:\n",
        "              term_dict[term] = ' '\n",
        "              \n",
        "  #print(len(term_dict))\n",
        "  print(\"------------------------\")\n",
        "\n",
        "  for term in term_dict:\n",
        "      term_dict[term] = stemmed_wrapper(term)\n",
        "      print(term,\":\" ,term_dict[term])\n",
        "      \n",
        "  #print(term_dict)\n",
        "  print(\"------------------------\")\n",
        "\n",
        "\n",
        "  # apply stemmed term to dataframe\n",
        "  def get_stemmed_term(document):\n",
        "      return [term_dict[term] for term in document]\n",
        "\n",
        "  df['stemmed'] = df['normalized'].swifter.apply(get_stemmed_term)\n",
        "  #print(df['stemmed'])\n",
        "\n",
        "  def remove_punct(text):\n",
        "    text_nopunct = ''\n",
        "    text_nopunct = re.sub('['+string.punctuation+']', '', text)\n",
        "    return text_nopunct\n",
        "\n",
        "  df['stemmed'] = df['stemmed'].astype(str)\n",
        "  df['stemmed'] = df['stemmed'].apply(remove_punct)"
      ],
      "execution_count": 23,
      "outputs": []
    },
    {
      "cell_type": "code",
      "metadata": {
        "colab": {
          "base_uri": "https://localhost:8080/",
          "height": 235,
          "referenced_widgets": [
            "2a1eda5cf2284287b5d3b94d24cfb86f",
            "a88a40f7ce894824aa19ba4fec20ada0",
            "39777e99c75b4866ad507036fd9cf119",
            "51b0b9818a7840cdab5bf2b1898ead2a",
            "ea4aab354eaa4d53bf078dded86178bf",
            "7f6ad904acd04c9b82103e29b7fc2bb4",
            "7fdc2ba4bdd24dfb90cc6b072c0aaf0c",
            "8cf5e567d29d43f88e4bc238c8a46882",
            "75059a3d5c5641d58a0afab71ec93b64",
            "ef3dae1715de4066bcd5e20aeb7ca5dd",
            "d24f6218a9b349bea9dda2909c141ca6"
          ]
        },
        "id": "nfaIMv6NLeRR",
        "outputId": "96598816-cbcf-4b1a-b950-b7a7e46bf7a3"
      },
      "source": [
        "Xo = 'Aku ingin ice cream'\n",
        "Yo = 'lelah dengan hidup ini. Nak mati aku dah penat #depresi'\n",
        "datax = {'Postingan':[Yo]}\n",
        "df = pd.DataFrame(datax)\n",
        "text_preprocessing(df['Postingan'])\n",
        "df.head()"
      ],
      "execution_count": 24,
      "outputs": [
        {
          "output_type": "stream",
          "name": "stdout",
          "text": [
            "------------------------\n",
            "lelah : lelah\n",
            "hidup : hidup\n",
            "mati : mati\n",
            "penat : penat\n",
            "depresi : depresi\n",
            "------------------------\n"
          ]
        },
        {
          "output_type": "display_data",
          "data": {
            "application/vnd.jupyter.widget-view+json": {
              "model_id": "2a1eda5cf2284287b5d3b94d24cfb86f",
              "version_minor": 0,
              "version_major": 2
            },
            "text/plain": [
              "Pandas Apply:   0%|          | 0/1 [00:00<?, ?it/s]"
            ]
          },
          "metadata": {}
        },
        {
          "output_type": "execute_result",
          "data": {
            "text/html": [
              "<div>\n",
              "<style scoped>\n",
              "    .dataframe tbody tr th:only-of-type {\n",
              "        vertical-align: middle;\n",
              "    }\n",
              "\n",
              "    .dataframe tbody tr th {\n",
              "        vertical-align: top;\n",
              "    }\n",
              "\n",
              "    .dataframe thead th {\n",
              "        text-align: right;\n",
              "    }\n",
              "</style>\n",
              "<table border=\"1\" class=\"dataframe\">\n",
              "  <thead>\n",
              "    <tr style=\"text-align: right;\">\n",
              "      <th></th>\n",
              "      <th>Postingan</th>\n",
              "      <th>preprocess_awal</th>\n",
              "      <th>tokenkan</th>\n",
              "      <th>normalized</th>\n",
              "      <th>stemmed</th>\n",
              "    </tr>\n",
              "  </thead>\n",
              "  <tbody>\n",
              "    <tr>\n",
              "      <th>0</th>\n",
              "      <td>lelah dengan hidup ini. Nak mati aku dah penat...</td>\n",
              "      <td>lelah dengan hidup ini nak mati aku dah penat ...</td>\n",
              "      <td>[lelah, dengan, hidup, ini, nak, mati, aku, da...</td>\n",
              "      <td>[lelah, hidup, mati, penat, depresi]</td>\n",
              "      <td>lelah hidup mati penat depresi</td>\n",
              "    </tr>\n",
              "  </tbody>\n",
              "</table>\n",
              "</div>"
            ],
            "text/plain": [
              "                                           Postingan  ...                         stemmed\n",
              "0  lelah dengan hidup ini. Nak mati aku dah penat...  ...  lelah hidup mati penat depresi\n",
              "\n",
              "[1 rows x 5 columns]"
            ]
          },
          "metadata": {},
          "execution_count": 24
        }
      ]
    },
    {
      "cell_type": "code",
      "metadata": {
        "id": "gb56dTejLmNq",
        "colab": {
          "base_uri": "https://localhost:8080/"
        },
        "outputId": "aaa6921e-6051-4029-d216-50e2aabda666"
      },
      "source": [
        "X_sample = token.texts_to_sequences(df['stemmed'])\n",
        "print(X_sample)\n",
        "X_sample = pad_sequences(X_sample, 75)\n",
        "print(X_sample)\n",
        "y_sample = keras_model.predict(X_sample)\n",
        "print(y_sample)\n",
        "hasil = np.argmax(y_sample)\n",
        "\n",
        "print(hasil)\n",
        "if (hasil == 0) :\n",
        "  print('tidak mengidap gangguan psikologis')\n",
        "else:\n",
        "  print('mengidap gangguan psikologis')"
      ],
      "execution_count": 25,
      "outputs": [
        {
          "output_type": "stream",
          "name": "stdout",
          "text": [
            "[[48, 4, 2, 726, 1]]\n",
            "[[  0   0   0   0   0   0   0   0   0   0   0   0   0   0   0   0   0   0\n",
            "    0   0   0   0   0   0   0   0   0   0   0   0   0   0   0   0   0   0\n",
            "    0   0   0   0   0   0   0   0   0   0   0   0   0   0   0   0   0   0\n",
            "    0   0   0   0   0   0   0   0   0   0   0   0   0   0   0   0  48   4\n",
            "    2 726   1]]\n",
            "[[1.2258087e-04 9.9990994e-01]]\n",
            "1\n",
            "mengidap gangguan psikologis\n"
          ]
        }
      ]
    }
  ]
}